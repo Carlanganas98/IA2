{
 "cells": [
  {
   "cell_type": "markdown",
   "metadata": {
    "id": "jpd0gkGnpzXT"
   },
   "source": [
    "# Práctica 2: Procesamiento del Lenguaje Natural\n",
    "\n",
    "__Fecha de entrega: 17 de abril de 2022__\n",
    "\n",
    "El objetivo de esta práctica es aplicar los conceptos teóricos vistos en clase en el módulo de PLN. La práctica consta de 2 notebooks que se entregarán simultáneamente en la tarea de entrega habilitada en el Campus  Virtual.\n",
    "\n",
    "Lo más importante en esta práctica no es el código Python, sino el análisis de los datos y modelos que construyas y las explicaciones razonadas de cada una de las decisiones que tomes. __No se valorarán trozos de código o gráficas sin ningún tipo de contexto o explicación__.\n",
    "\n",
    "Finalmente, recuerda establecer el parámetro `random_state` en todas las funciones que tomen decisiones aleatorias para que los resultados sean reproducibles (los resultados no varíen entre ejecuciones)."
   ]
  },
  {
   "cell_type": "code",
   "execution_count": 2,
   "metadata": {
    "id": "IBx1oG6bpzXY"
   },
   "outputs": [],
   "source": [
    "RANDOM_STATE = 33"
   ]
  },
  {
   "cell_type": "markdown",
   "metadata": {
    "id": "TkJPtLPRpzXa"
   },
   "source": [
    "# Apartado 2: Recuperación de información"
   ]
  },
  {
   "cell_type": "markdown",
   "metadata": {
    "id": "RWQ9sB-ApzXc"
   },
   "source": [
    "__Número de grupo: 14__\n",
    "\n",
    "__Nombres de los estudiantes: Javier Fernández Parrondo y Carlos Murcia Morilla__"
   ]
  },
  {
   "cell_type": "markdown",
   "metadata": {
    "id": "W1iFIS_EpzXc"
   },
   "source": [
    "## 1) Carga del conjunto de datos\n",
    "\n",
    "El fichero `BBC News.csv` contiene noticias clasificadas en 5 categorías diferentes. \n",
    "\n",
    "Carga los datos en un dataframe teniendo en cuenta que la columna `ArticleId` es un identificador de la noticia y por lo tanto no lo vamos a usar. \n",
    "\n",
    "Estudia el tamaño del conjunto de datos y la proporción de noticias que pertenecen a cada una de las categorías.\n",
    "\n",
    "Crea una partición estratificada de los datos dejando el 80% para entrenamiento y el 20% restante para test usando la función `train_test_split` de sklearn. "
   ]
  },
  {
   "cell_type": "code",
   "execution_count": 3,
   "metadata": {
    "id": "ufbBvGcnpzXe"
   },
   "outputs": [
    {
     "data": {
      "text/html": [
       "<div>\n",
       "<style scoped>\n",
       "    .dataframe tbody tr th:only-of-type {\n",
       "        vertical-align: middle;\n",
       "    }\n",
       "\n",
       "    .dataframe tbody tr th {\n",
       "        vertical-align: top;\n",
       "    }\n",
       "\n",
       "    .dataframe thead th {\n",
       "        text-align: right;\n",
       "    }\n",
       "</style>\n",
       "<table border=\"1\" class=\"dataframe\">\n",
       "  <thead>\n",
       "    <tr style=\"text-align: right;\">\n",
       "      <th></th>\n",
       "      <th>ArticleId</th>\n",
       "      <th>Text</th>\n",
       "      <th>Category</th>\n",
       "    </tr>\n",
       "  </thead>\n",
       "  <tbody>\n",
       "    <tr>\n",
       "      <th>0</th>\n",
       "      <td>1833</td>\n",
       "      <td>worldcom ex-boss launches defence lawyers defe...</td>\n",
       "      <td>business</td>\n",
       "    </tr>\n",
       "    <tr>\n",
       "      <th>1</th>\n",
       "      <td>154</td>\n",
       "      <td>german business confidence slides german busin...</td>\n",
       "      <td>business</td>\n",
       "    </tr>\n",
       "    <tr>\n",
       "      <th>2</th>\n",
       "      <td>1101</td>\n",
       "      <td>bbc poll indicates economic gloom citizens in ...</td>\n",
       "      <td>business</td>\n",
       "    </tr>\n",
       "    <tr>\n",
       "      <th>3</th>\n",
       "      <td>1976</td>\n",
       "      <td>lifestyle  governs mobile choice  faster  bett...</td>\n",
       "      <td>tech</td>\n",
       "    </tr>\n",
       "    <tr>\n",
       "      <th>4</th>\n",
       "      <td>917</td>\n",
       "      <td>enron bosses in $168m payout eighteen former e...</td>\n",
       "      <td>business</td>\n",
       "    </tr>\n",
       "  </tbody>\n",
       "</table>\n",
       "</div>"
      ],
      "text/plain": [
       "  ArticleId                                               Text  Category\n",
       "0      1833  worldcom ex-boss launches defence lawyers defe...  business\n",
       "1       154  german business confidence slides german busin...  business\n",
       "2      1101  bbc poll indicates economic gloom citizens in ...  business\n",
       "3      1976  lifestyle  governs mobile choice  faster  bett...      tech\n",
       "4       917  enron bosses in $168m payout eighteen former e...  business"
      ]
     },
     "execution_count": 3,
     "metadata": {},
     "output_type": "execute_result"
    }
   ],
   "source": [
    "import pandas as pd\n",
    "import numpy as np\n",
    "from sklearn.model_selection import train_test_split\n",
    "\n",
    "df = pd.read_csv(\"BBC_News.csv\")\n",
    "\n",
    "df[\"ArticleId\"] = df[\"ArticleId\"].astype(\"category\")\n",
    "\n",
    "df.head()"
   ]
  },
  {
   "cell_type": "code",
   "execution_count": 4,
   "metadata": {},
   "outputs": [
    {
     "name": "stdout",
     "output_type": "stream",
     "text": [
      "Training text:  1490\n"
     ]
    }
   ],
   "source": [
    "print(\"Training text: \", len(df))"
   ]
  },
  {
   "cell_type": "code",
   "execution_count": 5,
   "metadata": {},
   "outputs": [
    {
     "data": {
      "text/html": [
       "<div>\n",
       "<style scoped>\n",
       "    .dataframe tbody tr th:only-of-type {\n",
       "        vertical-align: middle;\n",
       "    }\n",
       "\n",
       "    .dataframe tbody tr th {\n",
       "        vertical-align: top;\n",
       "    }\n",
       "\n",
       "    .dataframe thead th {\n",
       "        text-align: right;\n",
       "    }\n",
       "</style>\n",
       "<table border=\"1\" class=\"dataframe\">\n",
       "  <thead>\n",
       "    <tr style=\"text-align: right;\">\n",
       "      <th></th>\n",
       "      <th>ArticleId</th>\n",
       "      <th>Text</th>\n",
       "    </tr>\n",
       "    <tr>\n",
       "      <th>Category</th>\n",
       "      <th></th>\n",
       "      <th></th>\n",
       "    </tr>\n",
       "  </thead>\n",
       "  <tbody>\n",
       "    <tr>\n",
       "      <th>business</th>\n",
       "      <td>336</td>\n",
       "      <td>336</td>\n",
       "    </tr>\n",
       "    <tr>\n",
       "      <th>entertainment</th>\n",
       "      <td>273</td>\n",
       "      <td>273</td>\n",
       "    </tr>\n",
       "    <tr>\n",
       "      <th>politics</th>\n",
       "      <td>274</td>\n",
       "      <td>274</td>\n",
       "    </tr>\n",
       "    <tr>\n",
       "      <th>sport</th>\n",
       "      <td>346</td>\n",
       "      <td>346</td>\n",
       "    </tr>\n",
       "    <tr>\n",
       "      <th>tech</th>\n",
       "      <td>261</td>\n",
       "      <td>261</td>\n",
       "    </tr>\n",
       "  </tbody>\n",
       "</table>\n",
       "</div>"
      ],
      "text/plain": [
       "               ArticleId  Text\n",
       "Category                      \n",
       "business             336   336\n",
       "entertainment        273   273\n",
       "politics             274   274\n",
       "sport                346   346\n",
       "tech                 261   261"
      ]
     },
     "execution_count": 5,
     "metadata": {},
     "output_type": "execute_result"
    }
   ],
   "source": [
    "frec = df.groupby(['Category']).count()\n",
    "frec"
   ]
  },
  {
   "cell_type": "code",
   "execution_count": 6,
   "metadata": {},
   "outputs": [
    {
     "data": {
      "text/html": [
       "<div>\n",
       "<style scoped>\n",
       "    .dataframe tbody tr th:only-of-type {\n",
       "        vertical-align: middle;\n",
       "    }\n",
       "\n",
       "    .dataframe tbody tr th {\n",
       "        vertical-align: top;\n",
       "    }\n",
       "\n",
       "    .dataframe thead th {\n",
       "        text-align: right;\n",
       "    }\n",
       "</style>\n",
       "<table border=\"1\" class=\"dataframe\">\n",
       "  <thead>\n",
       "    <tr style=\"text-align: right;\">\n",
       "      <th></th>\n",
       "      <th>ArticleId</th>\n",
       "      <th>Text</th>\n",
       "      <th>Category</th>\n",
       "    </tr>\n",
       "  </thead>\n",
       "  <tbody>\n",
       "    <tr>\n",
       "      <th>1305</th>\n",
       "      <td>1004</td>\n",
       "      <td>microsoft releases bumper patches microsoft ha...</td>\n",
       "      <td>tech</td>\n",
       "    </tr>\n",
       "    <tr>\n",
       "      <th>600</th>\n",
       "      <td>530</td>\n",
       "      <td>newcastle line up babayaro newcastle manager g...</td>\n",
       "      <td>sport</td>\n",
       "    </tr>\n",
       "    <tr>\n",
       "      <th>237</th>\n",
       "      <td>495</td>\n",
       "      <td>arnesen denies rift with santini tottenham spo...</td>\n",
       "      <td>sport</td>\n",
       "    </tr>\n",
       "    <tr>\n",
       "      <th>1352</th>\n",
       "      <td>2148</td>\n",
       "      <td>charity single for quake relief singers includ...</td>\n",
       "      <td>entertainment</td>\n",
       "    </tr>\n",
       "    <tr>\n",
       "      <th>661</th>\n",
       "      <td>130</td>\n",
       "      <td>williams battles to aussie title serena willia...</td>\n",
       "      <td>sport</td>\n",
       "    </tr>\n",
       "    <tr>\n",
       "      <th>...</th>\n",
       "      <td>...</td>\n",
       "      <td>...</td>\n",
       "      <td>...</td>\n",
       "    </tr>\n",
       "    <tr>\n",
       "      <th>1225</th>\n",
       "      <td>1650</td>\n",
       "      <td>us trade gap ballooned in october the us trade...</td>\n",
       "      <td>business</td>\n",
       "    </tr>\n",
       "    <tr>\n",
       "      <th>658</th>\n",
       "      <td>1589</td>\n",
       "      <td>pre-poll clash on tax and spend labour and the...</td>\n",
       "      <td>politics</td>\n",
       "    </tr>\n",
       "    <tr>\n",
       "      <th>578</th>\n",
       "      <td>773</td>\n",
       "      <td>redford s vision of sundance despite sporting ...</td>\n",
       "      <td>entertainment</td>\n",
       "    </tr>\n",
       "    <tr>\n",
       "      <th>391</th>\n",
       "      <td>339</td>\n",
       "      <td>aids and climate top davos agenda climate chan...</td>\n",
       "      <td>business</td>\n",
       "    </tr>\n",
       "    <tr>\n",
       "      <th>1044</th>\n",
       "      <td>637</td>\n",
       "      <td>end bush  denial  blair tells eu tony blair is...</td>\n",
       "      <td>politics</td>\n",
       "    </tr>\n",
       "  </tbody>\n",
       "</table>\n",
       "<p>1192 rows × 3 columns</p>\n",
       "</div>"
      ],
      "text/plain": [
       "     ArticleId                                               Text  \\\n",
       "1305      1004  microsoft releases bumper patches microsoft ha...   \n",
       "600        530  newcastle line up babayaro newcastle manager g...   \n",
       "237        495  arnesen denies rift with santini tottenham spo...   \n",
       "1352      2148  charity single for quake relief singers includ...   \n",
       "661        130  williams battles to aussie title serena willia...   \n",
       "...        ...                                                ...   \n",
       "1225      1650  us trade gap ballooned in october the us trade...   \n",
       "658       1589  pre-poll clash on tax and spend labour and the...   \n",
       "578        773  redford s vision of sundance despite sporting ...   \n",
       "391        339  aids and climate top davos agenda climate chan...   \n",
       "1044       637  end bush  denial  blair tells eu tony blair is...   \n",
       "\n",
       "           Category  \n",
       "1305           tech  \n",
       "600           sport  \n",
       "237           sport  \n",
       "1352  entertainment  \n",
       "661           sport  \n",
       "...             ...  \n",
       "1225       business  \n",
       "658        politics  \n",
       "578   entertainment  \n",
       "391        business  \n",
       "1044       politics  \n",
       "\n",
       "[1192 rows x 3 columns]"
      ]
     },
     "execution_count": 6,
     "metadata": {},
     "output_type": "execute_result"
    }
   ],
   "source": [
    "x_train, x_test = train_test_split(df, test_size = 0.2, random_state = RANDOM_STATE)\n",
    "x_train"
   ]
  },
  {
   "cell_type": "code",
   "execution_count": 7,
   "metadata": {},
   "outputs": [
    {
     "data": {
      "text/html": [
       "<div>\n",
       "<style scoped>\n",
       "    .dataframe tbody tr th:only-of-type {\n",
       "        vertical-align: middle;\n",
       "    }\n",
       "\n",
       "    .dataframe tbody tr th {\n",
       "        vertical-align: top;\n",
       "    }\n",
       "\n",
       "    .dataframe thead th {\n",
       "        text-align: right;\n",
       "    }\n",
       "</style>\n",
       "<table border=\"1\" class=\"dataframe\">\n",
       "  <thead>\n",
       "    <tr style=\"text-align: right;\">\n",
       "      <th></th>\n",
       "      <th>ArticleId</th>\n",
       "      <th>Text</th>\n",
       "      <th>Category</th>\n",
       "    </tr>\n",
       "  </thead>\n",
       "  <tbody>\n",
       "    <tr>\n",
       "      <th>46</th>\n",
       "      <td>593</td>\n",
       "      <td>china  ripe  for media explosion asia is set t...</td>\n",
       "      <td>tech</td>\n",
       "    </tr>\n",
       "    <tr>\n",
       "      <th>462</th>\n",
       "      <td>2118</td>\n",
       "      <td>wales stars need a rest - ruddock wales coach ...</td>\n",
       "      <td>sport</td>\n",
       "    </tr>\n",
       "    <tr>\n",
       "      <th>729</th>\n",
       "      <td>245</td>\n",
       "      <td>swiss cement firm in buying spree swiss cement...</td>\n",
       "      <td>business</td>\n",
       "    </tr>\n",
       "    <tr>\n",
       "      <th>393</th>\n",
       "      <td>123</td>\n",
       "      <td>safety alert as gm recalls cars the world s bi...</td>\n",
       "      <td>business</td>\n",
       "    </tr>\n",
       "    <tr>\n",
       "      <th>899</th>\n",
       "      <td>2088</td>\n",
       "      <td>cyber criminals step up the pace so-called phi...</td>\n",
       "      <td>tech</td>\n",
       "    </tr>\n",
       "    <tr>\n",
       "      <th>...</th>\n",
       "      <td>...</td>\n",
       "      <td>...</td>\n",
       "      <td>...</td>\n",
       "    </tr>\n",
       "    <tr>\n",
       "      <th>231</th>\n",
       "      <td>140</td>\n",
       "      <td>rich grab half colombia poor fund half of the ...</td>\n",
       "      <td>business</td>\n",
       "    </tr>\n",
       "    <tr>\n",
       "      <th>854</th>\n",
       "      <td>1179</td>\n",
       "      <td>bbc web search aids odd queries the bbc s onli...</td>\n",
       "      <td>tech</td>\n",
       "    </tr>\n",
       "    <tr>\n",
       "      <th>368</th>\n",
       "      <td>295</td>\n",
       "      <td>china net cafe culture crackdown chinese autho...</td>\n",
       "      <td>tech</td>\n",
       "    </tr>\n",
       "    <tr>\n",
       "      <th>361</th>\n",
       "      <td>949</td>\n",
       "      <td>saudi ncci s shares soar shares in saudi arabi...</td>\n",
       "      <td>business</td>\n",
       "    </tr>\n",
       "    <tr>\n",
       "      <th>489</th>\n",
       "      <td>563</td>\n",
       "      <td>cable offers video-on-demand cable firms ntl a...</td>\n",
       "      <td>tech</td>\n",
       "    </tr>\n",
       "  </tbody>\n",
       "</table>\n",
       "<p>298 rows × 3 columns</p>\n",
       "</div>"
      ],
      "text/plain": [
       "    ArticleId                                               Text  Category\n",
       "46        593  china  ripe  for media explosion asia is set t...      tech\n",
       "462      2118  wales stars need a rest - ruddock wales coach ...     sport\n",
       "729       245  swiss cement firm in buying spree swiss cement...  business\n",
       "393       123  safety alert as gm recalls cars the world s bi...  business\n",
       "899      2088  cyber criminals step up the pace so-called phi...      tech\n",
       "..        ...                                                ...       ...\n",
       "231       140  rich grab half colombia poor fund half of the ...  business\n",
       "854      1179  bbc web search aids odd queries the bbc s onli...      tech\n",
       "368       295  china net cafe culture crackdown chinese autho...      tech\n",
       "361       949  saudi ncci s shares soar shares in saudi arabi...  business\n",
       "489       563  cable offers video-on-demand cable firms ntl a...      tech\n",
       "\n",
       "[298 rows x 3 columns]"
      ]
     },
     "execution_count": 7,
     "metadata": {},
     "output_type": "execute_result"
    }
   ],
   "source": [
    "x_test"
   ]
  },
  {
   "cell_type": "markdown",
   "metadata": {
    "id": "3Fx5hJC7pzXf"
   },
   "source": [
    "## 2) Representación basada en bolsa de palabras y tf-idf\n",
    "\n",
    "La primera vectorización que vamos a usar representará los mensajes usando el modelo de bolsa de palabras, monogramas y el valor tf-idf de cada palabra. Usa como _stop words_ las que vienen configuradas por defecto para el inglés.\n",
    "\n",
    "Aplica la vectorización a los conjuntos de mensajes de entrenamiento y test. Muestra algún mensaje tanto en su formato de texto original como en la versión vectorizada. ¿Qué palabras se han eliminado y por qué?\n",
    "\n",
    "Calcula la precisión@5 de cada una de las clases usando como consultas los documentos de la partición de test y la similitud del coseno. Vamos a considerar que un documento recuperado es relevante cuando pertenezca a la misma clase que la consulta.\n",
    "\n",
    "Dibuja los resultados en un diagrama de barras y comenta las clases en las que se comporta mejor y peor. ¿Crees que los resultados son buenos?"
   ]
  },
  {
   "cell_type": "code",
   "execution_count": 8,
   "metadata": {
    "id": "wKdL2-VSpzXg"
   },
   "outputs": [],
   "source": [
    "from sklearn.feature_extraction.text import CountVectorizer\n",
    "from sklearn.feature_extraction.text import TfidfTransformer"
   ]
  },
  {
   "cell_type": "code",
   "execution_count": 9,
   "metadata": {},
   "outputs": [],
   "source": [
    "vectorizer = CountVectorizer(stop_words='english', binary = False, ngram_range = (1,1)) \n",
    "train_vector_data=vectorizer.fit_transform(x_train.Text)"
   ]
  },
  {
   "cell_type": "code",
   "execution_count": 10,
   "metadata": {},
   "outputs": [
    {
     "name": "stdout",
     "output_type": "stream",
     "text": [
      "22064\n",
      "['00', '000', '0001', '000bn', '000m', '000th', '001', '001and', '001st', '0051', '007', '01', '0100', '028', '03', '033', '04', '041', '04bn', '04secs', '05', '050', '050505', '0530', '0530gmt', '056', '05bn', '05m', '06', '060', '0630', '069', '07', '070', '0710', '072', '08', '0800', '0870', '088', '09', '0900', '0950', '09bn', '09secs', '10', '100', '1000th', '100bn', '100m', '100ml', '101', '102', '103', '104', '105', '105m', '106', '106m', '108', '1080', '109', '10bn', '10ft', '10m', '10secs', '10th', '11', '110', '1100', '110m', '111', '1115', '112', '113', '1130', '113bn', '115', '116', '116i', '117', '117m', '118', '119', '119bn', '119m', '11bn', '11m', '11pm', '11th', '12', '120', '1200', '1200m', '120bn', '120gb', '120m', '121', '1215', '1230', '124bn', '125', '125m', '127th', '128', '129', '12bn', '12cm', '12m', '12th', '13', '130', '1300', '130m', '132', '133', '1330', '1337', '133m', '134', '135', '136', '137', '138m', '139', '13bn', '13m', '13secs', '13th', '14', '140', '140bn', '142bn', '1430', '143m', '144', '144m', '145m', '146', '146m', '148', '149', '1497', '14bn', '14m', '14th', '15', '150', '1500', '1500m', '150bn', '150m', '151', '152', '152m', '153', '154m', '155', '155bn', '155m', '157', '158', '159', '15bn', '15m', '15mbps', '15s', '15th', '16', '160', '1600', '1600s', '1606', '160bn', '160gb', '160m', '161', '162', '162bn', '162m', '163', '163m', '164', '1642', '165', '1650', '165bn', '166', '166bn', '167', '1670', '168', '1689', '168m', '169', '16bn', '16k', '16m', '16th', '17', '170', '1701', '170bn', '170m', '171', '1727', '1728', '173', '1731', '173m', '174', '175', '175m', '1761', '177', '1774', '1776', '178', '178m', '17bn', '17m', '17th', '18', '180', '1800', '1800gmt', '1800s', '1801', '180bn', '1812', '1815', '182', '1830', '1831', '1834', '184', '1848', '184m', '185', '1857', '186', '1865', '186m', '187', '1875', '187th', '189', '1891', '18bn', '18m', '18s', '18th', '19', '190', '1900', '1908', '190m', '191', '1911', '1912', '1915', '1917', '1920', '1920s', '1922', '1925', '193', '1930s', '1936', '1937', '1940s', '1942', '1945', '1946', '1947', '1948', '1949', '194m', '195', '1950', '1950s', '1951', '1952', '1953', '1954', '1955', '1956', '1957', '1958', '1959', '196', '1960', '1960s', '1961', '1964', '1965', '1966', '1967', '1968', '1969', '196m', '1970', '1970s', '1971', '1972', '1973', '1974', '1975', '1976', '1977', '1978', '1979', '197bn', '198', '1980', '1980s', '1981', '1982', '1983', '1984', '1985', '1986', '1987', '1988', '1989', '198m', '1990', '1990s', '1991', '1992', '1993', '1994', '1995', '1996', '1997', '1998', '1999', '19bn', '19m', '19secs', '19th', '1bn', '1m', '1p', '1st', '1xtra', '20', '200', '2000', '2001', '2001alleging', '2001fetched', '2002', '2003', '2004', '2005', '2006', '2007', '2008', '2009', '200bn', '200lr', '200m', '2010', '2011', '2012', '2013', '2014', '2015', '2018', '2020', '2025', '2048', '205', '2050', '206', '206bn', '20bn', '20c', '20gb', '20m', '20mbps', '20s', '20th', '21', '210', '2100', '2100gmt', '211', '216', '217', '219', '21bn', '21m', '21st', '22', '220', '2200', '220m', '2230gmt', '225', '226', '229', '22bn', '22m', '22nd', '23', '230', '2300', '230bn', '230m', '231m', '233', '234', '2340', '234m', '23bn', '23m', '23rd', '24', '242', '246', '246bn', '247p', '24bn', '24m', '25', '250', '2500', '250m', '253m', '256mb', '258', '258bn', '25bn', '25gbps', '25lb', '25m', '25p', '25s', '25th', '26', '260', '264th', '265', '266m', '267', '268', '26bn', '26m', '26th', '27', '270', '271', '271st', '272', '275', '276', '277th', '27bn', '27m', '28', '280', '280bn', '280m', '281m', '282', '283', '284m', '285m', '2871', '28bn', '28p', '28th', '29', '290', '291', '291m', '293', '2940', '2944', '296', '2974', '29a', '29bn', '29m', '2am', '2bn', '2d', '2d3', '2ft', '2g', '2gb', '2k', '2km', '2kw', '2m', '2mbps', '2nd', '30', '300', '3000', '3006', '300bn', '300m', '300p', '301', '305m', '30bn', '30gb', '30m', '30mg', '30mph', '31', '311bn', '312', '313', '318', '3187', '31bn', '31m', '31p', '32', '320m', '3218', '322', '322m', '325', '327', '327m', '3280', '328m', '329', '32bn', '32m', '33', '331bn', '336m', '337', '339', '33bn', '33rd', '34', '340', '348bn', '349', '34bn', '34th', '35', '350', '3509', '350m', '3516', '354', '35bn', '35m', '35mm', '36', '360', '364', '3652', '365m', '3667', '367', '368bn', '36bn', '36m', '36th', '37', '370', '370m', '371m', '374m', '377bn', '378', '379m', '37bn', '38', '382m', '385', '386', '38mph', '39', '390', '392', '399', '39bn', '39m', '3bn', '3c', '3d', '3g', '3gp', '3gsm', '3km', '3m', '40', '400', '400m', '400th', '401', '402', '404', '407th', '40bn', '40gb', '40m', '40mbps', '40mph', '40s', '40th', '41', '412bn', '413', '415m', '418bn', '41bn', '41m', '42', '420', '420bn', '425', '426m', '427bn', '428m', '42m', '42nd', '43', '433', '434m', '436', '43m', '44', '440', '443m', '444', '449', '44bn', '44th', '45', '450', '451m', '455', '456m', '458', '458m', '45bn', '45m', '45secs', '45th', '46', '464', '466', '469', '46m', '46secs', '47', '472bn', '474', '475m', '479m', '47bn', '47m', '48', '480', '484bn', '4850', '486', '488', '48bn', '48m', '48th', '49', '492m', '496', '499', '4bn', '4cast', '4cm', '4ghz', '4in', '4km', '4m', '4p', '4pm', '4th', '4x100m', '50', '500', '5000m', '500m', '506m', '508m', '50gb', '50m', '50mg', '50p', '50th', '51', '512', '512kbps', '512m', '512mb', '514', '514m', '51bn', '51secs', '52', '520', '521', '525', '529', '52m', '52nd', '53', '530', '530m', '532m', '535', '537bn', '537m', '538', '53bn', '53m', '53p', '54', '540bn', '540m', '542', '546', '546m', '548p', '54bn', '54m', '55', '550', '550m', '556', '55bn', '55m', '55s', '55th', '56', '560', '560m', '568m', '569', '56bn', '56m', '57', '572', '575', '57bn', '58', '581m', '584m', '58bn', '59', '590', '593', '599', '59th', '5bn', '5g', '5gb', '5k', '5m', '5p', '60', '600', '600m', '601', '603', '605', '607', '60bn', '60gb', '60m', '60p', '60s', '60secs', '60th', '61', '610m', '611', '61km', '61st', '62', '62secs', '63', '630', '639m', '63m', '63rd', '63secs', '64', '642', '644m', '645', '648m', '64secs', '65', '650', '659', '65bn', '65s', '66', '660', '6600', '661', '666', '6661', '667', '66bn', '66m', '66secs', '67', '6709', '671', '674', '67th', '68', '680', '680m', '684bn', '68m', '69', '690', '690m', '691m', '692', '6bn', '6ft', '6ghz', '6km', '6m', '6pm', '70', '700', '701m', '705m', '70p', '70s', '70th', '71', '717', '717m', '719m', '72', '725m', '73', '730', '732m', '733', '737', '738', '73m', '74', '740', '745', '74m', '74th', '75', '750', '750m', '755', '75bn', '75m', '75s', '76', '767', '76m', '77', '775', '775m', '777', '77bn', '77m', '78', '780', '784m', '785m', '787', '78bn', '79', '796', '798m', '799', '79m', '79p', '7bn', '7m', '80', '800', '800m', '803', '805', '808m', '80bn', '80gb', '80m', '80mg', '80p', '80s', '81', '813', '81st', '82', '820', '82bn', '83', '830bn', '831', '833', '836m', '838th', '84', '840', '84th', '85', '850bn', '850m', '855bn', '857m', '85m', '86', '861m', '865', '86th', '87', '870', '873p', '874', '874m', '875', '87th', '88', '881', '885', '88m', '88th', '89', '8923', '89bn', '89m', '89secs', '8am', '8bn', '8gb', '8ghz', '8m', '8mbps', '90', '900', '900m', '901m', '902', '907', '9094', '90m', '90s', '90th', '91', '910m', '911', '912km', '915', '91m', '92', '920', '922', '925p', '9276', '93', '931m', '932', '933m', '93rd', '94', '940', '943', '94m', '95', '950m', '950p', '953', '95bn', '95m', '96', '961', '966m', '96bn', '97', '971', '97bn', '97m', '98', '981', '984m', '98m', '98th', '99', '997', '999', '999th', '9bn', '9km', '9m', '9p', 'a300s', 'a320', 'a380', 'a380s', 'a4', 'aa', 'aaa', 'aaas', 'aac', 'aadc', 'aaltra', 'aaron', 'abacus', 'abandon', 'abandoned', 'abandoning', 'abandonment', 'abating', 'abba', 'abbas', 'abbasi', 'abbott', 'abbreviated', 'abc', 'abd', 'abdellatif', 'abdication', 'abdomen', 'abducted', 'abduction', 'abdullah', 'abdullatif', 'abebe', 'aberdeen', 'aberration', 'aberystwyth', 'abeyance', 'abeyie', 'abi', 'abide', 'abided', 'abiding', 'abilities', 'ability', 'abish', 'able', 'abn', 'abnormal', 'abnormality', 'abolish', 'abolishing', 'abolition', 'aborted', 'abortion', 'abortionist', 'abramovich', 'abroad', 'abrupt', 'absa', 'absence', 'absent', 'absentee', 'absolute', 'absolutely', 'absolution', 'absorb', 'absorbed', 'absorbing', 'absorbs', 'abstain', 'abstentions', 'absurd', 'abtahi', 'abu', 'abundance', 'abundantly', 'abuse', 'abused', 'abuses', 'abusing', 'abusive', 'abut', 'abuzz', 'abysmal', 'ac', 'academic', 'academie', 'academies', 'academy', 'accelerate', 'accelerated', 'accelerating', 'acceleration', 'accent', 'accept', 'acceptable', 'acceptance', 'acceptances', 'accepted', 'accepting', 'access', 'accessed', 'accessible', 'accessing', 'accession', 'accessories', 'accident', 'accidental', 'accidentally', 'accidents', 'acclaim', 'acclaimed', 'acclimate', 'acclimatise', 'accolade', 'accolades', 'accommodate', 'accommodated', 'accommodating', 'accommodation', 'accompanied', 'accompaniment', 'accompany', 'accompanying', 'accomplices', 'accomplish', 'accomplished', 'accomplishment', 'accord', 'accordance', 'according', 'accordingly', 'accosiation', 'account', 'accountability', 'accountable', 'accountant', 'accountants', 'accounting', 'accounts', 'accredited', 'accretive', 'accumulate', 'accumulated', 'accumulates', 'accuracy', 'accurate', 'accurately', 'accusation', 'accusations', 'accuse', 'accused', 'accuses', 'accusing', 'accustomed', 'ace', 'aceh', 'aces', 'achievable', 'achieve', 'achieved', 'achievement', 'achievements', 'achieving', 'achike', 'achilles', 'achtung', 'acknowledge', 'acknowledged', 'acknowledges', 'acne', 'acoustic', 'acpo', 'acquiescent', 'acquire', 'acquired', 'acquiring', 'acquisition', 'acquisitions', 'acquittal', 'acquitted', 'acre', 'acres', 'acrimonious', 'acrimony', 'acrobatic', 'acrobatically', 'act', 'acted', 'acting', 'action', 'actionaid', 'actions', 'activated', 'active', 'actively', 'activision', 'activison', 'activist', 'activists', 'activities', 'activity', 'actor', 'actors', 'actress', 'actresses', 'acts', 'actual', 'actually', 'acute', 'ad', 'adage', 'adam', 'adams', 'adapt', 'adaptation', 'adaptations', 'adapted', 'adapters', 'adapting', 'adaptor', 'adaptors', 'adb', 'add', 'addaction', 'added', 'addicks', 'addiction', 'addictive', 'adding', 'addison', 'addition', 'additional', 'additives', 'address', 'addressed', 'addresses', 'addressing', 'adds', 'adelaide', 'adept', 'adequate', 'adequately', 'adera', 'adere', 'ades', 'adhere', 'adheres', 'adhi', 'adidas', 'adjudged', 'adjudicator', 'adjust', 'adjusted', 'adjustment', 'adjustments', 'adjusts', 'administer', 'administered', 'administering', 'administration', 'administrations', 'administrative', 'administrator', 'administrators', 'admirable', 'admiration', 'admire', 'admirer', 'admissibility', 'admission', 'admissions', 'admit', 'admits', 'admitted', 'admittedly', 'admitting', 'admonished', 'adnan', 'ado', 'adolescent', 'adolf', 'adopt', 'adopted', 'adopting', 'adoption', 'adornments', 'adrian', 'adriano', 'adriatic', 'adrien', 'ads', 'adsense', 'adsl', 'adulation', 'adult', 'adultery', 'adulthood', 'adults', 'advance', 'advanced', 'advancement', 'advances', 'advancing', 'advanta', 'advantage', 'advantages', 'advent', 'adventure', 'adventures', 'adverse', 'adversely', 'adversity', 'advert', 'advertise', 'advertised', 'advertisements', 'advertiser', 'advertisers', 'advertising', 'adverts', 'advice', 'advise', 'advised', 'adviser', 'advisers', 'advises', 'advising', 'advisor', 'advisors', 'advisory', 'advocate', 'advocates', 'adware', 'ae', 'aer', 'aero', 'aeroplane', 'aerospace', 'aesthetic', 'aesthetically', 'aesthetics', 'affable', 'affair', 'affairs', 'affect', 'affected', 'affecting', 'affection', 'affectionately', 'affects', 'afficiandos', 'affiliate', 'affiliates', 'afflicting', 'afford', 'affordability', 'affordable', 'afforded', 'afful', 'afghanistan', 'afi', 'afield', 'afoot', 'afraid', 'africa', 'african', 'africans', 'aftenposten', 'afterlife', 'aftermath', 'afternoon', 'aftewards', 'afzal', 'ag', 'agassi', 'age', 'aged', 'ageing', 'ageism', 'agence', 'agencies', 'agency', 'agenda', 'agendas', 'agent', 'agents', 'ages', 'aggravated', 'aggravating', 'aggregator', 'aggression', 'aggressive', 'aggressively', 'aggressors', 'aggrieved', 'agility', 'aging', 'agio', 'agitated', 'agm', 'agnelli', 'agnetha', 'agnostic', 'ago', 'agoa', 'agonising', 'agonisingly', 'agony', 'agrarian', 'agree', 'agreed', 'agreeing', 'agreement', 'agreements', 'agrees', 'agricultural', 'agriculture', 'agrochemical', 'agroflora', 'aguilera', 'ah', 'ahead', 'ahern', 'ahmed', 'ahold', 'ai', 'aid', 'aide', 'aiden', 'aides', 'aids', 'aig', 'ailing', 'aim', 'aimed', 'aiming', 'aimlessly', 'aims', 'aiport', 'air', 'airbrushes', 'airbus', 'aircraft', 'aired', 'aires', 'airing', 'airline', 'airliner', 'airliners', 'airlines', 'airplane', 'airplanes', 'airplay', 'airport', 'airports', 'airs', 'airtime', 'airway', 'airways', 'aishwariya', 'aishwarya', 'aisle', 'aitken', 'aiyegbeni', 'aj', 'ajax', 'ak', 'aka', 'akaev', 'akamai', 'akin', 'al', 'alabama', 'alain', 'alan', 'alarm', 'alarmed', 'alarming', 'alarmingly', 'alarms', 'alasdair', 'alastair', 'albacete', 'albania', 'albanian', 'albany', 'albee', 'albeit', 'albert', 'alberto', 'albion', 'album', 'albums', 'alcatel', 'alcobev', 'alcock', 'alcohol', 'alcoholism', 'alcorn', 'alda', 'aldershot', 'ale', 'alegre', 'alencar', 'alert', 'alerted', 'alerting', 'alerts', 'alessandro', 'alex', 'alexander', 'alexandra', 'alexandria', 'alexei', 'alexis', 'alfa', 'alfie', 'alfred', 'algemeen', 'algeria', 'algerian', 'algorithm', 'algorithms', 'ali', 'alias', 'aliases', 'alice', 'alicia', 'alien', 'alienated', 'aliens', 'alight', 'align', 'aligned', 'alike', 'alison', 'alistair', 'alive', 'allahgreen', 'allaire', 'allan', 'allawi', 'allay', 'allaying', 'allegation', 'allegations', 'allege', 'alleged', 'allegedly', 'alleges', 'allegiance', 'allegiances', 'alleging', 'allen', 'allende', 'alleviate', 'alley', 'alleyne', 'alli', 'alliance', 'alliances', 'allianz', 'allied', 'allies', 'allister', 'allocated', 'allocating', 'allocation', 'allocations', 'allotting', 'allow', 'allowance', 'allowances', 'alloway', 'allowed', 'allowing', 'allows', 'allsop', 'alludes', 'alluding', 'allure', 'ally', 'almagro', 'almeria', 'almunia', 'alois', 'alongside', 'alonso', 'aloud', 'alphabet', 'alphabetically', 'alphabets', 'alright', 'altavista', 'alter', 'altered', 'altering', 'alternative', 'alternatively', 'alternatives', 'alto', 'altogether', 'alton', 'altria', 'aluminium', 'alumnia', 'alva', 'alvin', 'alwaleed', 'alyn', 'alyona', 'alzheimer', 'am3d', 'amadeo', 'amalgamated', 'amalric', 'amanda', 'amassed', 'amateur', 'amateurish', 'amateurs', 'amaya', 'amazed', 'amazes', 'amazing', 'amazingly', 'amazon', 'ambassador', 'ambassadors', 'ambev', 'ambition', 'ambitions', 'ambitious', 'ambitous', 'ambo', 'amd', 'amelia', 'amelie', 'amend', 'amended', 'amending', 'amendment', 'amendments', 'amends', 'amenity', 'ameobi', 'america', 'american', 'americanised', 'americans', 'americas', 'amey', 'amibitions', 'amicable', 'amicably', 'amicus', 'amid', 'amidst', 'amiga', 'amin', 'amma', 'amman', 'ammunition', 'amnesty', 'amoah', 'amor', 'amos', 'amounted', 'amounting', 'amounts', 'ampadu', 'ampas', 'amplification', 'amplified', 'amplifier', 'amplifies', 'amplify', 'amply', 'amputated', 'amputators', 'amputee', 'amputees', 'amritsar', 'amro', 'amstel', 'amsterdam', 'amuro', 'amy', 'anabolic', 'analgesic', 'analogue', 'analogy', 'analyse', 'analysed', 'analysis', 'analyst', 'analysts', 'analyzing', 'anastacia', 'anastasia', 'anatoly', 'anatomical', 'ancestors', 'anchor', 'ancic', 'ancient', 'ancram', 'anderlecht', 'anders', 'andersen', 'anderson', 'andersson', 'andhra', 'andi', 'andrade', 'andre', 'andrea', 'andreas', 'andreev', 'andrei', 'andrew', 'andrews', 'andy', 'anecdotal', 'anelka', 'anew', 'anfield', 'angadias', 'angel', 'angela', 'angeles', 'angelina', 'angels', 'anger', 'angered', 'angering', 'angle', 'angled', 'anglers', 'anglesea', 'anglia', 'anglian', 'anglicans', 'angling', 'anglo', 'angola', 'angolan', 'angrily', 'angry', 'angst', 'angus', 'anheuser', 'animal', 'animals', 'animated', 'animation', 'animations', 'animators', 'animosity', 'aniston', 'anita', 'anjelica', 'ankara', 'ankle', 'ann', 'anna', 'annadale', 'annals', 'annan', 'anne', 'annette', 'anni', 'annie', 'anniversary', 'annoucement', 'announce', 'announced', 'announcement', 'announcements', 'announces', 'announcing', 'annoyingly', 'annoys', 'annual', 'annually', 'annuity', 'annum', 'annus', 'anoeta', 'anomalies', 'anomaly', 'anonymity', 'anonymous', 'anonymously', 'anselmo', 'ansheng', 'anshuman', 'anson', 'answer', 'answered', 'answers', 'ant', 'antagonistic', 'ante', 'antenna', 'anthemic', 'anthony', 'anti', 'anticipate', 'anticipated', 'anticipating', 'anticipation', 'antics', 'antique', 'antiseptics', 'antithesis', 'antitrust', 'antoine', 'antoinette', 'anton', 'antonio', 'antony', 'antrim', 'anurag', 'anxiety', 'anxious', 'anybody', 'anyhting', 'anymore', 'aol', 'ap', 'apace', 'apache', 'apacs', 'apalling', 'apart', 'apartheid', 'apathetic', 'apathy', 'apcom', 'aplomb', 'apocalypse', 'apollo', 'apologies', 'apologise', 'apologised', 'apologising', 'apology', 'apparatus', 'apparel', 'apparent', 'apparently', 'appeal', 'appealed', 'appealing', 'appeals', 'appear', 'appearance', 'appearances', 'appeared', 'appearing', 'appears', 'appetite', 'applaud', 'applauded', 'applauds', 'applause', 'apple', 'appleford', 'applegate', 'apples', 'appleton', 'appliances', 'applicant', 'applicants', 'application', 'applications', 'applied', 'applies', 'apply', 'applying', 'appoint', 'appointed', 'appointment', 'appointments', 'appoints', 'appraising', 'appreciably', 'appreciate', 'appreciated', 'appreciation', 'apprehended', 'apprehension', 'apprenticeship', 'approach', 'approached', 'approaches', 'approaching', 'appropriate', 'appropriately', 'approval', 'approvals', 'approve', 'approved', 'approves', 'approximately', 'approximation', 'apps', 'april', 'apurva', 'aquarius', 'aquatic', 'arab', 'arabia', 'arabian', 'arabic', 'arabs', 'arafat', 'aragones', 'aramaic', 'aramburu', 'arash', 'arbitrarily', 'arbitrary', 'arbitration', 'arbor', 'arbuckle', 'arc', 'arcade', 'arcades', 'arcelor', 'arch', 'archaeological', 'archangel', 'archbishop', 'archer', 'archibald', 'architect', 'architecture', 'archive', 'archived', 'archives', 'archivists', 'arcleor', 'arcy', 'ard', 'ardent', 'arditti', 'area', 'areas', 'areen', 'aren', 'arena', 'arenas', 'aretha', 'argentina', 'argentine', 'argonaut', 'arguably', 'argue', 'argued', 'argues', 'arguing', 'argument', 'argumentative', 'arguments', 'aria', 'ariel', 'aries', 'arise', 'arisen', 'arising', 'arizona', 'arjan', 'arjen', 'arkansas', 'arling', 'arm', 'armagh', 'armand', 'armando', 'armani', 'armed', 'armenians', 'armes', 'armistead', 'arms', 'army', 'arnaud', 'arnesen', 'arnold', 'arnoldo', 'aroused', 'arouses', 'arquette', 'arrange', 'arranged', 'arrangement', 'arrangements', 'array', 'arrese', 'arrest', 'arrested', 'arrests', 'arrival', 'arrivals', 'arrive', 'arrived', 'arrives', 'arriving', 'arrogance', 'arrogant', 'arsenal', 'arsene', 'arsenic', 'arsenide', 'art', 'artell', 'artery', 'arteta', 'artgarden', 'arthritis', 'arthur', 'artic', 'article', 'articles', 'articulate', 'articulated', 'artificial', 'artificially', 'artist', 'artistic', 'artists', 'artois', 'arts', 'artwork', 'artworks', 'aru', 'arvind', 'asagoe', 'asahi', 'asante', 'asbestos', 'asbestosis', 'asbos', 'ascend', 'ascending', 'ascii', 'asha', 'ashamed', 'ashanti', 'ashburton', 'ashcroft', 'ashdown', 'asher', 'ashes', 'ashfield', 'ashley', 'ashvin', 'asi', 'asia', 'asian', 'aside', 'asif', 'asimo', 'ask', 'askar', 'asked', 'asking', 'asks', 'asleep', 'aspect', 'aspects', 'aspersions', 'aspic', 'aspiration', 'aspiring', 'asplin', 'ass', 'assad', 'assassin', 'assassinated', 'assassination', 'assault', 'assaulted', 'assaulting', 'assaults', 'assembled', 'assemblies', 'assembling', 'assembly', 'assert', 'assertions', 'assertiveness', 'asserts', 'asses', 'assess', 'assessed', 'assesses', 'assessing', 'assessment', 'assessments', 'assessor', 'asset', 'assets', 'assigned', 'assignment', 'assigns', 'assist', 'assistance', 'assistant', 'assistants', 'assisted', 'assisting', 'associate', 'associated', 'associates', 'association', 'associations', 'assortment', 'assume', 'assumed', 'assumes', 'assuming', 'assumption', 'assumptions', 'assurance', 'assurances', 'assure', 'assured', 'aston', 'astonished', 'astonishing', 'astonishingly', 'astonishment', 'astounded', 'astra', 'astrazeneca', 'astro', 'astronaut', 'astronauts', 'astronomical', 'asylum', 'asymmetric', 'asymmetry', 'atari', 'ate', 'athens', 'athlete', 'athletes', 'athletic', 'athleticism', 'athletico', 'athletics', 'athlon', 'atinc', 'atkinson', 'atlanta', 'atlantic', 'atlas', 'atletico', 'atmosphere', 'atmospheric', 'atms', 'atomic', 'atoms', 'aton', 'atp', 'att', 'attach', 'attached', 'attachment', 'attachments', 'attack', 'attacked', 'attacker', 'attackers', 'attacking', 'attacks', 'attain', 'attained', 'attaining', 'attainment', 'attallah', 'attempt', 'attempted', 'attempting', 'attempts', 'attend', 'attendance', 'attendances', 'attendant', 'attendants', 'attended', 'attendees', 'attending', 'attends', 'attention', 'attentions', 'attentive', 'atticus', 'attitude', 'attitudes', 'attlee', 'attorney', 'attract', 'attracted', 'attracting', 'attraction', 'attractions', 'attractive', 'attracts', 'attribute', 'attributed', 'attributes', 'atwood', 'au', 'auckland', 'auction', 'auctioned', 'auctioneer', 'auctions', 'audi', 'audience', 'audiences', 'audio', 'audiophile', 'audiovisuel', 'audit', 'audition', 'auditions', 'auditor', 'auditorium', 'auditors', 'audrey', 'auf', 'augment', 'augmented', 'august', 'augusto', 'aulis', 'aunt', 'aura', 'aurelien', 'auric', 'aurora', 'auschwitz', 'aussie', 'aussies', 'austin', 'australasia', 'australia', 'australian', 'austria', 'austrian', 'auteuil', 'authenti', 'authentic', 'authentication', 'author', 'authorial', 'authorise', 'authorised', 'authoritarian', 'authoritative', 'authorities', 'authority', 'authors', 'autistic', 'auto', 'autobiographical', 'autobiography', 'autocycle', 'autographs', 'automaker', 'automated', 'automatic', 'automatically', 'automobile', 'automobiles', 'automotive', 'automotives', 'autos', 'autosport', 'autumn', 'auxiliary', 'availability', 'available', 'avalon', 'avatar', 'avatars', 'avenue', 'avenues', 'average', 'averages', 'avert', 'averting', 'avery', 'avi', 'aviation', 'aviator', 'aviv', 'avoid', 'avoided', 'avoiding', 'avoids', 'avonex', 'avril', 'await', 'awaited', 'awaiting', 'awaits', 'awakening', 'award', 'awarded', 'awarding', 'awards', 'aware', 'awareness', 'away', 'awesome', 'awful', 'awfully', 'awol', 'axa', 'axe', 'axed', 'axing', 'ayaan', 'aycock', 'aymone', 'azim', 'azkaban', 'aznavour', 'aztrazeneca', 'azzam', 'azzurri', 'baa', 'baas', 'baathist', 'babayaro', 'babies', 'babinet', 'baby', 'babyshamblers', 'babyshambles', 'babysitter', 'babysitting', 'bac', 'baccanello', 'baccarat', 'bach', 'backbench', 'backbencher', 'backbenchers', 'backbenches', 'backbone', 'backdated', 'backdoor', 'backed', 'backer', 'backers', 'backfired', 'backfires', 'backfiring', 'background', 'backgrounds', 'backhand', 'backhands', 'backing', 'backlash', 'backley', 'backline', 'backpack', 'backroom', 'backs', 'backside', 'backsides', 'backsliding', 'backstage', 'backstreet', 'backtrack', 'backtracking', 'backup', 'backward', 'backwards', 'backyard', 'bacon', 'bad', 'baddeley', 'badge', 'badly', 'bae', 'bafin', 'bafta', 'baftas', 'bag', 'baggage', 'bagged', 'baghdad', 'bagle', 'baglihar', 'bagpuss', 'bags', 'baha', 'bahamas', 'baikal', 'bail', 'bailed', 'bailey', 'bailiffs', 'bailin', 'bailout', 'bailouts', 'bainivalu', 'baiting', 'baker', 'bakersfield', 'bakley', 'balado', 'balamory', 'balance', 'balanced', 'balances', 'balancing', 'balco', 'balde', 'baldini', 'balfour', 'balkan', 'balkans', 'balked', 'ball', 'ballad', 'ballantine', 'ballet', 'balloch', 'balloon', 'ballooned', 'ballooning', 'ballot', 'balloted', 'balloting', 'ballots', 'ballroom', 'balls', 'ballykissangel', 'ballymena', 'balmer', 'balmy', 'baltacha', 'baltasar', 'bamboozled', 'ban', 'bana', 'banana', 'banca', 'band', 'bandaid', 'banded', 'banderas', 'bandmates', 'bands', 'bandstand', 'bandwagon', 'bandwidth', 'bang', 'bangaldesh', 'bangalore', 'banging', 'bangkok', 'bangladesh', 'bangladeshi', 'bangor', 'bangs', 'banished', 'bank', 'bankable', 'bankash', 'banked', 'banker', 'bankers', 'banking', 'bankroll', 'bankrupt', 'bankruptcies', 'bankruptcy', 'banks', 'bannatyne', 'banned', 'banner', 'banning', 'banos', 'banque', 'banques', 'bans', 'banter', 'banton', 'baoshan', 'bar', 'barbados', 'barbara', 'barbarians', 'barber', 'barbini', 'barbra', 'barca', 'barcelona', 'barclay', 'barclays', 'barcode', 'bare', 'barely', 'baretta', 'bargain', 'bargains', 'barged', 'baring', 'barings', 'bark', 'barker', 'barking', 'barkley', 'barley', 'barlow', 'barn', 'barnard', 'barnet', 'barnett', 'barney', 'barnsley', 'barometer', 'baron', 'baroness', 'baros', 'barosso', 'barras', 'barred', 'barrel', 'barrels', 'barrick', 'barrier', 'barriers', 'barring', 'barrioneuvo', 'barrionuevo', 'barrister', 'barron', 'barroso', 'barrow', 'barry', 'barrymore', 'bars', 'barstow', 'bartlett', 'bartoli', 'barton', 'barwick', 'bas', 'base', 'baseball', 'based', 'basel', 'baseline', 'basement', 'bases', 'bash', 'bashing', 'basic', 'basically', 'basics', 'basildon', 'basing', 'basingstoke', 'basis', 'basketball', 'baskin', 'basking', 'basque', 'basquiat', 'basra', 'bass', 'bassist', 'bastille', 'bat', 'batches', 'bateman', 'bates', 'bath', 'bathroom', 'batistuta', 'batman', 'baton', 'battalion', 'battered', 'batteries', 'battering', 'battery', 'battle', 'battled', 'battlefield', 'battlefronts', 'battleground', 'battlegrounds', 'battles', 'battleship', 'battlestar', 'battling', 'bautista', 'bay', 'bayer', 'bayern', 'baying', 'bayleaf', 'bb', 'bbc', 'bbc1', 'bbc2', 'bbci', 'bcc', 'bdb', 'bdo', 'beach', 'beaches', 'beacon', 'beads', 'beagles', 'beam', 'bear', 'beard', 'bearded', 'bearer', 'bearing', 'bears', 'beast', 'beastie', 'beat', 'beatable', 'beaten', 'beating', 'beatle', 'beatles', 'beats', 'beattie', 'beatty', 'beaudoin', 'beautiful', 'beautifully', 'beauty', 'beauvillain', 'beauvillian', 'bebo', 'bechtel', 'bechtler', 'beck', 'beckett', 'beckham', 'beckinsale', 'beckon', 'beckons', 'bed', 'bedding', 'bedford', 'bedfordshire', 'bedingfield', 'bedroom', 'beds', 'bedsits', 'bedwellty', 'bee', 'beef', 'beeks', 'beenie', 'beer', 'beermaker', 'beers', 'bees', 'beetle', 'began', 'begg', 'beggared', 'begin', 'beginning', 'beginnings', 'begins', 'begrudge', 'begun', 'beh', 'behalf', 'behave', 'behaved', 'behaving', 'behaviour', 'behavioural', 'beige', 'beijing', 'beileve', 'beings', 'beirut', 'beith', 'bejewelled', 'bekele', 'belafonte', 'belarus', 'belfast', 'belgian', 'belgians', 'belgium', 'belgrade', 'belgrave', 'belief', 'beliefs', 'believable', 'believe', 'believed', 'believer', 'believes', 'believing', 'belisha', 'bell', 'bellahouston', 'bellamy', 'bellicose', 'bellion', 'bells', 'belly', 'belmar', 'belmarsh', 'beloned', 'belong', 'belonged', 'belonging', 'belongings', 'belongs', 'beloved', 'belsen', 'belt', 'bemand', 'bemoaning', 'ben', 'benazir', 'bench', 'benches', 'benchmark', 'benchmarking', 'benchmarks', 'benckiser', 'bend', 'bending', 'benefactors', 'beneficial', 'beneficiaries', 'benefit', 'benefited', 'benefiting', 'benefits', 'benesova', 'benign', 'bening', 'benita', 'benitez', 'benjamin', 'benmosche', 'benn', 'bennett', 'bennington', 'benny', 'benoit', 'bent', 'benz', 'berated', 'berbatov', 'berdych', 'bergamasco', 'berger', 'bergerac', 'bergh', 'bergkamp', 'bergman', 'berhane', 'berhanu', 'beringer', 'berkeley', 'berkovic', 'berlin', 'berlinale', 'berlusconi', 'berman', 'bernabeu', 'bernal', 'bernard', 'bernardo', 'bernd', 'bernie', 'berry', 'bershawn', 'berson', 'bert', 'berta', 'bertelsmann', 'berth', 'berthinussen', 'berti', 'bertie', 'bertolucci', 'beset', 'bespoke', 'best', 'bestow', 'bests', 'bestseller', 'bestsellers', 'bestselling', 'bet', 'beta', 'betamax', 'beth', 'bethan', 'bethnal', 'betray', 'betrayal', 'betrayed', 'betraying', 'bets', 'betsen', 'better', 'betting', 'betts', 'bevan', 'beverley', 'beverly', 'bewildered', 'bewildering', 'bewilderment', 'bewlay', 'bex', 'beynon', 'beyonce', 'bez', 'bharti', 'bhp', 'bhutto', 'bi', 'biarritz', 'bias', 'biased', 'bible', 'biblical', 'bibliographies', 'bickering', 'bicycles', 'bid', 'bidder', 'bidders', 'bidding', 'bide', 'bids', 'bifa', 'big', 'bigger', 'biggest', 'bigley', 'bigoted', 'bigotry', 'bigots', 'bike', 'bilateral', 'biljon', 'billboard', 'billboards', 'billed', 'billing', 'billingsgate', 'billion', 'billionaire', 'billions', 'billiton', 'bills', 'billy', 'bin', 'binding', 'binge', 'bingham', 'bingley', 'bingo', 'binned', 'binoche', 'bins', 'bio', 'biogen', 'biographer', 'biography', 'biological', 'biometric', 'biometrics', 'biopic', 'biotech', 'bipedal', 'birch', 'birchfield', 'bird', 'birkenhead', 'birkett', 'birmingham', 'birth', 'birthday', 'birthdays', 'birthistle', 'biscan', 'biscuit', 'bisected', 'bisexual', 'bisexuality', 'bishop', 'bishops', 'bisset', 'bit', 'bite', 'biting', 'bits', 'bitter', 'bitterly', 'bittersweet', 'bittorrent', 'biz', 'bizarre', 'bizet', 'bjorgo', 'bjorkman', 'bjorn', 'black', 'blackberries', 'blackberry', 'blackboard', 'blackburn', 'blackmail', 'blackman', 'blackpool', 'blacks', 'blackwatch', 'blade', 'blair', 'blairite', 'blairs', 'blaisdon', 'blake', 'blame', 'blamed', 'blames', 'blaming', 'blanchard', 'blanche', 'blanchett', 'bland', 'blank', 'blass', 'blast', 'blasted', 'blasters', 'blasting', 'blasts', 'blatant', 'blatantly', 'blaze', 'blazed', 'blazers', 'blazin', 'blazing', 'bleached', 'bleak', 'bleakest', 'bleakly', 'blears', 'bled', 'blend', 'blending', 'blessed', 'blessing', 'bleus', 'blew', 'blewitt', 'blige', 'blight', 'blighted', 'blighting', 'blind', 'blinked', 'blinkx', 'blip', 'blistering']\n"
     ]
    }
   ],
   "source": [
    "feature_names = vectorizer.get_feature_names()\n",
    "\n",
    "print(len(feature_names))\n",
    "print(feature_names[:3000])"
   ]
  },
  {
   "cell_type": "code",
   "execution_count": 11,
   "metadata": {},
   "outputs": [
    {
     "name": "stdout",
     "output_type": "stream",
     "text": [
      "  (0, 12929)\t8\n",
      "  (0, 14634)\t1\n",
      "  (0, 20968)\t1\n",
      "  (0, 20894)\t1\n",
      "  (0, 11622)\t1\n",
      "  (0, 17692)\t4\n",
      "  (0, 21675)\t5\n",
      "  (0, 15574)\t1\n",
      "  (0, 14635)\t1\n",
      "  (0, 11738)\t1\n",
      "  (0, 13866)\t1\n",
      "  (0, 10352)\t1\n",
      "  (0, 10701)\t4\n",
      "  (0, 7671)\t4\n",
      "  (0, 16475)\t2\n",
      "  (0, 20895)\t1\n",
      "  (0, 21293)\t1\n",
      "  (0, 12374)\t1\n",
      "  (0, 5666)\t1\n",
      "  (0, 17307)\t4\n",
      "  (0, 8215)\t2\n",
      "  (0, 5097)\t3\n",
      "  (0, 18440)\t1\n",
      "  (0, 4716)\t1\n",
      "  (0, 15008)\t1\n",
      "  :\t:\n",
      "  (0, 21485)\t1\n",
      "  (0, 19018)\t1\n",
      "  (0, 2578)\t1\n",
      "  (0, 15185)\t1\n",
      "  (0, 19251)\t1\n",
      "  (0, 17478)\t1\n",
      "  (0, 347)\t1\n",
      "  (0, 12985)\t1\n",
      "  (0, 19893)\t1\n",
      "  (0, 7664)\t1\n",
      "  (0, 2228)\t1\n",
      "  (0, 18209)\t1\n",
      "  (0, 6921)\t1\n",
      "  (0, 19011)\t1\n",
      "  (0, 19359)\t1\n",
      "  (0, 355)\t1\n",
      "  (0, 8177)\t1\n",
      "  (0, 16397)\t1\n",
      "  (0, 12109)\t1\n",
      "  (0, 12343)\t1\n",
      "  (0, 14382)\t1\n",
      "  (0, 4630)\t1\n",
      "  (0, 4675)\t1\n",
      "  (0, 11619)\t1\n",
      "  (0, 356)\t1\n"
     ]
    }
   ],
   "source": [
    "print(train_vector_data[10])"
   ]
  },
  {
   "cell_type": "code",
   "execution_count": 12,
   "metadata": {},
   "outputs": [
    {
     "name": "stdout",
     "output_type": "stream",
     "text": [
      "  (0, 21945)\t0.04832467617480551\n",
      "  (0, 21909)\t0.057833891513201195\n",
      "  (0, 21675)\t0.2309943357289166\n",
      "  (0, 21485)\t0.03460299360351135\n",
      "  (0, 21293)\t0.053778014688626447\n",
      "  (0, 21110)\t0.1202370066742738\n",
      "  (0, 20968)\t0.03480107974091294\n",
      "  (0, 20967)\t0.2545016214262999\n",
      "  (0, 20895)\t0.058887815180457485\n",
      "  (0, 20894)\t0.05252600488396856\n",
      "  (0, 20571)\t0.047824338859308514\n",
      "  (0, 20452)\t0.035527006054487685\n",
      "  (0, 20271)\t0.057833891513201195\n",
      "  (0, 19893)\t0.05601012477709102\n",
      "  (0, 19715)\t0.04789837112794151\n",
      "  (0, 19359)\t0.04907655754914979\n",
      "  (0, 19251)\t0.043719756284278675\n",
      "  (0, 19018)\t0.053778014688626447\n",
      "  (0, 19017)\t0.061401719200711344\n",
      "  (0, 19016)\t0.04718356546371161\n",
      "  (0, 19011)\t0.04950228235341084\n",
      "  (0, 19000)\t0.057833891513201195\n",
      "  (0, 18930)\t0.20963177769892044\n",
      "  (0, 18440)\t0.03728644444635709\n",
      "  (0, 18209)\t0.04301336713131976\n",
      "  :\t:\n",
      "  (0, 5396)\t0.060066001601665774\n",
      "  (0, 5097)\t0.10594250324178034\n",
      "  (0, 4879)\t0.057833891513201195\n",
      "  (0, 4829)\t0.03991088023274399\n",
      "  (0, 4716)\t0.027867512512971718\n",
      "  (0, 4675)\t0.06699956882960699\n",
      "  (0, 4640)\t0.028275855865326098\n",
      "  (0, 4630)\t0.05252600488396856\n",
      "  (0, 4536)\t0.04447984506366591\n",
      "  (0, 4017)\t0.06987725923297347\n",
      "  (0, 3822)\t0.08602673426263951\n",
      "  (0, 3723)\t0.05252600488396856\n",
      "  (0, 3518)\t0.043719756284278675\n",
      "  (0, 3450)\t0.057833891513201195\n",
      "  (0, 2578)\t0.04684444746068522\n",
      "  (0, 2228)\t0.05252600488396856\n",
      "  (0, 2197)\t0.05090032428525997\n",
      "  (0, 1444)\t0.04214299032120856\n",
      "  (0, 1307)\t0.05252600488396856\n",
      "  (0, 1148)\t0.043966757057318735\n",
      "  (0, 588)\t0.04447984506366591\n",
      "  (0, 356)\t0.03974553724423601\n",
      "  (0, 355)\t0.02991380258826382\n",
      "  (0, 353)\t0.02955220816813915\n",
      "  (0, 347)\t0.04173464696885418\n"
     ]
    }
   ],
   "source": [
    "tfidfer = TfidfTransformer()\n",
    "train_preprocessed = tfidfer.fit_transform(train_vector_data)\n",
    "\n",
    "print(train_preprocessed[10])"
   ]
  },
  {
   "cell_type": "code",
   "execution_count": 13,
   "metadata": {},
   "outputs": [],
   "source": [
    "test_vector_data = vectorizer.transform(x_test.Text)\n",
    "test_preprocessed = tfidfer.transform(test_vector_data)"
   ]
  },
  {
   "cell_type": "code",
   "execution_count": 14,
   "metadata": {},
   "outputs": [],
   "source": [
    "import numpy as np\n",
    "import numpy.ma as ma\n",
    "\n",
    "def write_terms (feature_names, data, vector_data, index):\n",
    "    '''\n",
    "    Escribe los términos presentes en un mensaje representado como bolsa de palabras.\n",
    "    \n",
    "    - feature_names: terminos usados para vectorizar\n",
    "    - data: lista de mensajes original (si data==None no se muestra el mensaje original)\n",
    "    - vector_data: matriz (dispersa) de mensaje vectorizados\n",
    "    - index: posición del mensaje a mostrar\n",
    "    '''\n",
    "    # máscara para seleccionar sólo el mensaje en posición index\n",
    "    mask=vector_data[index,:]>0\n",
    "    \n",
    "    # términos que aparecen en ese mensaje vectorizado\n",
    "    terminos = ma.array(feature_names, mask = ~(mask[0].toarray()))\n",
    "    \n",
    "    # mostrar mensaje original\n",
    "    if data is not None:\n",
    "        print('Mensaje', index, ':', data[index])\n",
    "    \n",
    "    # mostrar términos que aparecen en el mensaje vectorizado\n",
    "    print('Mensaje', index, 'vectorizado:', terminos.compressed(),'\\n')"
   ]
  },
  {
   "cell_type": "code",
   "execution_count": 15,
   "metadata": {},
   "outputs": [
    {
     "name": "stdout",
     "output_type": "stream",
     "text": [
      "Mensaje 0 : microsoft releases bumper patches microsoft has warned pc users to update their systems with the latest security fixes for flaws in windows programs.  in its monthly security bulletin  it flagged up eight  critical  security holes which could leave pcs open to attack if left unpatched. the number of holes considered  critical  is more than usual. they affect windows programs  including internet explorer (ie)  media player and instant messaging. four other important fixes were also released. these were considered to be less critical  however. if not updated  either automatically or manually  pc users running the programs could be vulnerable to viruses or other malicious attacks designed to exploit the holes. many of the flaws could be used by virus writers to take over computers remotely  install programs  change  and delete or see data.  one of the critical patches microsoft has made available is an important one that fixes some ie flaws. stephen toulouse  a microsoft security manager  said the flaws were known about  and although the firm had not seen any attacks exploiting the flaw  he did not rule them out. often  when a critical flaw is announced  spates of viruses follow because home users and businesses leave the flaw unpatched. a further patch fixes a hole in media player  windows messenger and msn messenger which an attacker could use to take control of unprotected machines through .png files. microsoft announces any vulnerabilities in its software every month. the most important ones are those which are classed as  critical . its latest releases came the week that the company announced it was to buy security software maker sybari software as part of microsoft s plans to make its own security programs.\n",
      "Mensaje 0 vectorizado: ['affect' 'announced' 'announces' 'attack' 'attacker' 'attacks'\n",
      " 'automatically' 'available' 'bulletin' 'bumper' 'businesses' 'buy' 'came'\n",
      " 'change' 'classed' 'company' 'computers' 'considered' 'control'\n",
      " 'critical' 'data' 'delete' 'designed' 'did' 'exploit' 'exploiting'\n",
      " 'explorer' 'files' 'firm' 'fixes' 'flagged' 'flaw' 'flaws' 'follow'\n",
      " 'hole' 'holes' 'home' 'important' 'including' 'install' 'instant'\n",
      " 'internet' 'known' 'latest' 'leave' 'left' 'machines' 'make' 'maker'\n",
      " 'malicious' 'manager' 'manually' 'media' 'messaging' 'messenger'\n",
      " 'microsoft' 'month' 'monthly' 'msn' 'number' 'ones' 'open' 'patch'\n",
      " 'patches' 'pc' 'pcs' 'plans' 'player' 'png' 'programs' 'released'\n",
      " 'releases' 'remotely' 'rule' 'running' 'said' 'security' 'seen'\n",
      " 'software' 'spates' 'stephen' 'sybari' 'systems' 'toulouse' 'unpatched'\n",
      " 'unprotected' 'update' 'updated' 'use' 'used' 'users' 'usual' 'virus'\n",
      " 'viruses' 'vulnerabilities' 'vulnerable' 'warned' 'week' 'windows'\n",
      " 'writers'] \n",
      "\n"
     ]
    }
   ],
   "source": [
    "write_terms(feature_names, x_train.Text.tolist(), train_preprocessed, 0)"
   ]
  },
  {
   "cell_type": "code",
   "execution_count": 56,
   "metadata": {},
   "outputs": [
    {
     "data": {
      "text/plain": [
       "\" Se han descartado la mayoría de palabras genéricas que no son específicas de\\nuna categoría en concreto como 'to', 'a', 'in'... mientras que se queda con palabras\\nmás específicas determinates de la categoría tech como 'pc', 'microsoft'... \""
      ]
     },
     "execution_count": 56,
     "metadata": {},
     "output_type": "execute_result"
    }
   ],
   "source": [
    "\"\"\" Se han descartado la mayoría de palabras genéricas que no son específicas de\n",
    "una categoría en concreto como 'to', 'a', 'in'... mientras que se queda con palabras\n",
    "más específicas determinates de la categoría tech como 'pc', 'microsoft'... \"\"\""
   ]
  },
  {
   "cell_type": "code",
   "execution_count": 17,
   "metadata": {},
   "outputs": [],
   "source": [
    "from sklearn.metrics.pairwise import cosine_similarity\n",
    "\n",
    "def knn(query, X_train, k):\n",
    "    '''Devuelve los índices de los k documentos de entrenamiento más similares a la consulta usando \n",
    "    la similitud del coseno.\n",
    "    \n",
    "    Parámetros:\n",
    "    - query: documento consulta vectorizado\n",
    "    - X_train: documentos de entrenamiento vectorizados\n",
    "    - k: número de documentos a recuperar\n",
    "    \n",
    "    Devuelve:\n",
    "    - índices de los k documentos más similares a la consulta.\n",
    "    '''\n",
    "    \n",
    "    # Necesitamos un vector de dimensión (1, X). Si se pasa un vector de dimensión X, transformarlo\n",
    "    if len(query.shape) == 1:\n",
    "        query = query.reshape(1, -1)\n",
    "\n",
    "    simil = cosine_similarity(query, X_train)\n",
    "    simil_idx = np.argsort(simil.flatten())\n",
    "    simil_idx = simil_idx[::-1]\n",
    "    return simil_idx[:k]"
   ]
  },
  {
   "cell_type": "code",
   "execution_count": 18,
   "metadata": {},
   "outputs": [],
   "source": [
    "def precision_at_k(y_selected, y_real, k):\n",
    "    '''Devuelve la precisión @k de los documentos seleccionados.\n",
    "    \n",
    "    Parametros:\n",
    "    - y_selected: etiquetas de los documentos seleccionados (se usan los k primeros)\n",
    "    - y_real: etiqueta de la categoría correcta\n",
    "    - k: número de documentos que se tienen en cuenta\n",
    "    \n",
    "    Devuelve:\n",
    "    - Precisión@k\n",
    "    '''\n",
    "    \n",
    "    return np.sum(y_selected[:k] == y_real) / k * 100"
   ]
  },
  {
   "cell_type": "code",
   "execution_count": 19,
   "metadata": {},
   "outputs": [],
   "source": [
    "def mean_precisions_per_class(X_train, y_train, X_test, y_test, k):\n",
    "    '''Devuelve las precision@k media para cada una de las classes.\n",
    "    \n",
    "    Parámetros:\n",
    "    - X_train: documentos de entrenamiento vectorizados.\n",
    "    - y_train: etiquetas de los documentos de entrenamiento.\n",
    "    - X_test: documentos vectorizados que se usan como consultas\n",
    "    - y_test: etiquetas de los documentos que se usan como consultas\n",
    "    - k: número de documentos considerados a recuperar por la consulta\n",
    "    \n",
    "    Devuelve:\n",
    "    - Diccionario clase -> precisión en tanto por ciento.\n",
    "    '''\n",
    "    \n",
    "    # diccionario categoría -> lista de precisiones\n",
    "    y_precisions = {y: [] for y in np.unique(y_test)}\n",
    "    \n",
    "    # Calcular precision@k para cada consulta\n",
    "    for x_query, y_query in zip(X_test, y_test):\n",
    "        idx = knn(x_query, X_train, k)\n",
    "        y_selected = np.take(y_train, idx)\n",
    "        precision = precision_at_k(y_selected, y_query, k)\n",
    "        y_precisions[y_query].append(precision)\n",
    "        \n",
    "    # Calcular medias\n",
    "    for y in y_precisions:\n",
    "        y_precisions[y] = np.mean(y_precisions[y])\n",
    "    \n",
    "    return y_precisions"
   ]
  },
  {
   "cell_type": "code",
   "execution_count": 20,
   "metadata": {},
   "outputs": [
    {
     "data": {
      "text/plain": [
       "{'business': 78.18181818181819,\n",
       " 'entertainment': 88.08510638297872,\n",
       " 'politics': 90.34482758620689,\n",
       " 'sport': 93.87755102040816,\n",
       " 'tech': 87.09677419354838}"
      ]
     },
     "execution_count": 20,
     "metadata": {},
     "output_type": "execute_result"
    }
   ],
   "source": [
    "p5 = mean_precisions_per_class(train_preprocessed, x_train.Category, test_preprocessed[:200,], x_test.Category[:200], 5)\n",
    "    \n",
    "p5"
   ]
  },
  {
   "cell_type": "code",
   "execution_count": 22,
   "metadata": {},
   "outputs": [],
   "source": [
    "target_names = ['business', 'entertainment', 'politic', 'sport', 'tech'];"
   ]
  },
  {
   "cell_type": "code",
   "execution_count": 23,
   "metadata": {},
   "outputs": [
    {
     "data": {
      "text/plain": [
       "<AxesSubplot:xlabel='target'>"
      ]
     },
     "execution_count": 23,
     "metadata": {},
     "output_type": "execute_result"
    },
    {
     "data": {
      "image/png": "[encoded data removed]",
      "text/plain": [
       "<Figure size 432x288 with 1 Axes>"
      ]
     },
     "metadata": {
      "needs_background": "light"
     },
     "output_type": "display_data"
    }
   ],
   "source": [
    "df_p5 = pd.DataFrame.from_dict(p5, orient='index', columns=['precision@5'])\n",
    "\n",
    "df_p5[\"target\"] =  target_names\n",
    "\n",
    "d = df_p5.set_index(\"target\")\n",
    "\n",
    "d.plot.bar()"
   ]
  },
  {
   "cell_type": "code",
   "execution_count": 59,
   "metadata": {},
   "outputs": [
    {
     "data": {
      "text/plain": [
       "' Sport es la clase que mejor se comporta al tener un 93.8% de precisión media\\nmientras que la clase que peor resultado de precisión media es la de business \\ncon un 78.18%. Los resultados son buenos y los resultados excepto en esta última\\nson buenos. '"
      ]
     },
     "execution_count": 59,
     "metadata": {},
     "output_type": "execute_result"
    }
   ],
   "source": [
    "\"\"\" Sport es la clase que mejor se comporta al tener un 93.8% de precisión media\n",
    "mientras que la clase que peor resultado de precisión media es la de business \n",
    "con un 78.18%. Los resultados son buenos y los resultados excepto en esta última\n",
    "son buenos. \"\"\""
   ]
  },
  {
   "cell_type": "markdown",
   "metadata": {
    "id": "lH7sldldpzXi"
   },
   "source": [
    "## 3) Representación basada en word-embeddings y tf-idf\n",
    "\n",
    "La segunda vectorización que vamos a usar representará los mensajes usando usando word-embeddings usando como los pesos tf-idf de cada palabra. Al igual que en el apartado anterior, usaremos monogramas y las _stop words_ que vienen configuradas por defecto para el inglés. Recuerda usar como vocabulario para vectorizar el vocabulario del fichero con las word-embeddings.\n",
    "\n",
    "Aplica la vectorización a los conjuntos de mensajes de entrenamiento y test.\n",
    "\n",
    "Calcula la precisión@5 de cada una de las clases usando como consultas los documentos de la partición de test y la similitud del coseno. Vamos a considerar que un documento recuperado es relevante cuando pertenezca a la misma clase que la consulta.\n",
    "\n",
    "Dibuja los resultados en un diagrama de barras y compara los resultados con los del apartado anterior."
   ]
  },
  {
   "cell_type": "code",
   "execution_count": 25,
   "metadata": {},
   "outputs": [],
   "source": [
    "from gensim.scripts.glove2word2vec import glove2word2vec\n",
    "from gensim.models import KeyedVectors\n",
    "\n",
    "model = KeyedVectors.load_word2vec_format('words.txt', binary=False, no_header=True)"
   ]
  },
  {
   "cell_type": "code",
   "execution_count": 26,
   "metadata": {},
   "outputs": [],
   "source": [
    "we_vocabulary = list(model.key_to_index.keys())"
   ]
  },
  {
   "cell_type": "code",
   "execution_count": 27,
   "metadata": {},
   "outputs": [],
   "source": [
    "vectorizer2 = CountVectorizer(vocabulary = we_vocabulary, stop_words='english', binary=False,ngram_range=(1,1))"
   ]
  },
  {
   "cell_type": "code",
   "execution_count": 28,
   "metadata": {},
   "outputs": [],
   "source": [
    "train_data_vector2 = vectorizer2.fit_transform(x_train.Text)\n",
    "test_data_vector2 = vectorizer2.transform(x_test.Text)\n",
    "\n",
    "we_feature_names = vectorizer2.get_feature_names()"
   ]
  },
  {
   "cell_type": "code",
   "execution_count": 29,
   "metadata": {},
   "outputs": [],
   "source": [
    "train_preprocessed2 = tfidfer.fit_transform(train_data_vector2)\n",
    "test_preprocessed2 = tfidfer.transform(test_data_vector2)"
   ]
  },
  {
   "cell_type": "code",
   "execution_count": 30,
   "metadata": {},
   "outputs": [
    {
     "data": {
      "text/plain": [
       "{'business': 80.45454545454545,\n",
       " 'entertainment': 87.23404255319149,\n",
       " 'politics': 91.72413793103448,\n",
       " 'sport': 97.55102040816327,\n",
       " 'tech': 87.09677419354838}"
      ]
     },
     "execution_count": 30,
     "metadata": {},
     "output_type": "execute_result"
    }
   ],
   "source": [
    "p5_2 = mean_precisions_per_class(train_preprocessed2, x_train.Category, test_preprocessed2[:200,], x_test.Category[:200], 5)\n",
    "    \n",
    "p5_2"
   ]
  },
  {
   "cell_type": "code",
   "execution_count": 31,
   "metadata": {},
   "outputs": [
    {
     "data": {
      "text/plain": [
       "<AxesSubplot:xlabel='target'>"
      ]
     },
     "execution_count": 31,
     "metadata": {},
     "output_type": "execute_result"
    },
    {
     "data": {
      "image/png": "[encoded data removed]",
      "text/plain": [
       "<Figure size 432x288 with 1 Axes>"
      ]
     },
     "metadata": {
      "needs_background": "light"
     },
     "output_type": "display_data"
    }
   ],
   "source": [
    "df_p5_2 = pd.DataFrame.from_dict(p5_2, orient='index', columns=['precision@5_2'])\n",
    "\n",
    "df_p5_2[\"target\"] =  target_names\n",
    "\n",
    "d2 = df_p5_2.set_index(\"target\")\n",
    "\n",
    "d2.plot.bar()"
   ]
  },
  {
   "cell_type": "code",
   "execution_count": 62,
   "metadata": {},
   "outputs": [
    {
     "data": {
      "text/plain": [
       "\" {'business': 78.18181818181819 -> 80.45454545454545\\n 'entertainment': 88.08510638297872 -> 87.23404255319149\\n 'politics': 90.34482758620689 -> 91.72413793103448\\n 'sport': 93.87755102040816 -> 97.55102040816327\\n 'tech': 87.09677419354838 -> 87.09677419354838} \""
      ]
     },
     "execution_count": 62,
     "metadata": {},
     "output_type": "execute_result"
    }
   ],
   "source": [
    "\"\"\" {'business': 78.18181818181819 -> 80.45454545454545\n",
    " 'entertainment': 88.08510638297872 -> 87.23404255319149\n",
    " 'politics': 90.34482758620689 -> 91.72413793103448\n",
    " 'sport': 93.87755102040816 -> 97.55102040816327\n",
    " 'tech': 87.09677419354838 -> 87.09677419354838} \"\"\""
   ]
  },
  {
   "cell_type": "code",
   "execution_count": 63,
   "metadata": {},
   "outputs": [
    {
     "data": {
      "text/plain": [
       "' En conclusión comparando con los datos del apartado anterior vemos que mejoran\\nen todos menos en entertainment que la precisión disminuye ligeramente y en tech que no\\naumenta ni disminuye. Sin embargo, en la clase Sport aumenta considerablemente \\nla precisión media y en business y politics también mejora la precisión. \\nEn conjunto la predicción basada en word-embedings ha mejorado con respecto a la\\ntf-idf pura. '"
      ]
     },
     "execution_count": 63,
     "metadata": {},
     "output_type": "execute_result"
    }
   ],
   "source": [
    "\"\"\" En conclusión comparando con los datos del apartado anterior vemos que mejoran\n",
    "en todos menos en entertainment que la precisión disminuye ligeramente y en tech que no\n",
    "aumenta ni disminuye. Sin embargo, en la clase Sport aumenta considerablemente \n",
    "la precisión media y en business y politics también mejora la precisión. \n",
    "En conjunto la predicción basada en word-embedings ha mejorado con respecto a la\n",
    "tf-idf pura. \"\"\""
   ]
  },
  {
   "cell_type": "markdown",
   "metadata": {
    "id": "d-J6GYut4DGu"
   },
   "source": [
    "## 4) Análisis de errores\n",
    "\n",
    "Vamos a investigar los resultados para entender mejor dónde están fallando los procesos de recuperación. Sigue los siguientes pasos.\n",
    "\n",
    "\n",
    "1. Identifica la categoría de noticias donde la precisión media haya mejorado más al incorporar word-embeddings\n",
    "2. Para dicha categoría, identifica la consulta donde la precisión haya mejorado más al usar word-embeddings\n",
    "3. Muestra el texto original de la consulta y los términos que aparecen en las dos vectorizaciones tf-idf que usamos (recuerda que usamos diccionarios distintos para las vectorizaciones bolsa de palabras y word-embeddings).\n",
    "4. Identifica las noticias recuperadas para dicha consulta para las dos aproximaciones y sus categorías (TF-IDF puro y con word-embeddings)\n",
    "5. Muestra la intersección de términos entre la consulta y la primera noticia mal recuperada usando TF-IDF puro.\n",
    "6. Muestra la intersección de términos entre la consulta y la última noticia bien recuperada usando word-embeddings.\n",
    "7. A la luz de todo lo anterior, razona sobre por qué crees que el TF-IDF no fue capaz de clasificar bien la noticia y el word-embedding sí.\n",
    "\n",
    "\n",
    "Puedes usar el código que calcula la intersección de términos que ponemos a continuación"
   ]
  },
  {
   "cell_type": "code",
   "execution_count": 36,
   "metadata": {},
   "outputs": [],
   "source": [
    "def no_mean_precisions_per_class(X_train, y_train, X_test, y_test, k):\n",
    "    '''Devuelve las precision@k media para cada una de las classes.\n",
    "    \n",
    "    Parámetros:\n",
    "    - X_train: documentos de entrenamiento vectorizados.\n",
    "    - y_train: etiquetas de los documentos de entrenamiento.\n",
    "    - X_test: documentos vectorizados que se usan como consultas\n",
    "    - y_test: etiquetas de los documentos que se usan como consultas\n",
    "    - k: número de documentos considerados a recuperar por la consulta\n",
    "    \n",
    "    Devuelve:\n",
    "    - Diccionario clase -> precisión en tanto por ciento.\n",
    "    '''\n",
    "    \n",
    "    # diccionario categoría -> lista de precisiones\n",
    "    y_precisions = {y: [] for y in np.unique(y_test)}\n",
    "    \n",
    "    i = 0\n",
    "    # Calcular precision@k para cada consulta\n",
    "    for x_query, y_query in zip(X_test, y_test):\n",
    "        idx = knn(x_query, X_train, k)\n",
    "        y_selected = np.take(y_train, idx)\n",
    "        precision = precision_at_k(y_selected, y_query, k)\n",
    "        y_precisions[y_query].append((i,precision))\n",
    "        i+=1\n",
    "    \n",
    "    return y_precisions"
   ]
  },
  {
   "cell_type": "code",
   "execution_count": 55,
   "metadata": {},
   "outputs": [
    {
     "data": {
      "text/plain": [
       "' La categoría Sport ha mejorado considerablemente con respecto al resto de\\ncategorías por lo que la hemos elegido para este ejercicio.'"
      ]
     },
     "execution_count": 55,
     "metadata": {},
     "output_type": "execute_result"
    }
   ],
   "source": [
    "\"\"\" La categoría Sport ha mejorado considerablemente con respecto al resto de\n",
    "categorías por lo que la hemos elegido para este ejercicio.\"\"\""
   ]
  },
  {
   "cell_type": "code",
   "execution_count": 37,
   "metadata": {},
   "outputs": [
    {
     "data": {
      "text/plain": [
       "[(1, 100.0),\n",
       " (8, 100.0),\n",
       " (9, 100.0),\n",
       " (19, 100.0),\n",
       " (27, 80.0),\n",
       " (28, 20.0),\n",
       " (32, 100.0),\n",
       " (36, 100.0),\n",
       " (37, 100.0),\n",
       " (38, 100.0),\n",
       " (40, 100.0),\n",
       " (42, 100.0),\n",
       " (44, 100.0),\n",
       " (45, 100.0),\n",
       " (52, 100.0),\n",
       " (65, 100.0),\n",
       " (66, 100.0),\n",
       " (68, 100.0),\n",
       " (69, 100.0),\n",
       " (77, 100.0),\n",
       " (78, 100.0),\n",
       " (81, 100.0),\n",
       " (83, 100.0),\n",
       " (88, 80.0),\n",
       " (91, 100.0),\n",
       " (92, 100.0),\n",
       " (93, 100.0),\n",
       " (98, 100.0),\n",
       " (104, 100.0),\n",
       " (110, 100.0),\n",
       " (112, 100.0),\n",
       " (117, 100.0),\n",
       " (121, 100.0),\n",
       " (123, 100.0),\n",
       " (128, 100.0),\n",
       " (137, 100.0),\n",
       " (140, 100.0),\n",
       " (145, 100.0),\n",
       " (154, 100.0),\n",
       " (155, 100.0),\n",
       " (162, 100.0),\n",
       " (163, 100.0),\n",
       " (167, 100.0),\n",
       " (170, 100.0),\n",
       " (171, 100.0),\n",
       " (174, 100.0),\n",
       " (182, 100.0),\n",
       " (185, 100.0),\n",
       " (191, 100.0)]"
      ]
     },
     "execution_count": 37,
     "metadata": {},
     "output_type": "execute_result"
    }
   ],
   "source": [
    "precisiones = no_mean_precisions_per_class(train_preprocessed2, x_train.Category, test_preprocessed2[:200,], x_test.Category[:200], 5)\n",
    "precisiones['sport']"
   ]
  },
  {
   "cell_type": "code",
   "execution_count": 38,
   "metadata": {},
   "outputs": [
    {
     "data": {
      "text/plain": [
       "[(1, 100.0),\n",
       " (8, 100.0),\n",
       " (9, 100.0),\n",
       " (19, 100.0),\n",
       " (27, 100.0),\n",
       " (28, 80.0),\n",
       " (32, 100.0),\n",
       " (36, 100.0),\n",
       " (37, 100.0),\n",
       " (38, 100.0),\n",
       " (40, 100.0),\n",
       " (42, 100.0),\n",
       " (44, 100.0),\n",
       " (45, 20.0),\n",
       " (52, 100.0),\n",
       " (65, 100.0),\n",
       " (66, 100.0),\n",
       " (68, 100.0),\n",
       " (69, 100.0),\n",
       " (77, 100.0),\n",
       " (78, 100.0),\n",
       " (81, 100.0),\n",
       " (83, 100.0),\n",
       " (88, 100.0),\n",
       " (91, 0.0),\n",
       " (92, 100.0),\n",
       " (93, 100.0),\n",
       " (98, 100.0),\n",
       " (104, 100.0),\n",
       " (110, 100.0),\n",
       " (112, 100.0),\n",
       " (117, 100.0),\n",
       " (121, 100.0),\n",
       " (123, 100.0),\n",
       " (128, 100.0),\n",
       " (137, 100.0),\n",
       " (140, 100.0),\n",
       " (145, 100.0),\n",
       " (154, 60.0),\n",
       " (155, 80.0),\n",
       " (162, 100.0),\n",
       " (163, 100.0),\n",
       " (167, 100.0),\n",
       " (170, 100.0),\n",
       " (171, 60.0),\n",
       " (174, 100.0),\n",
       " (182, 100.0),\n",
       " (185, 100.0),\n",
       " (191, 100.0)]"
      ]
     },
     "execution_count": 38,
     "metadata": {},
     "output_type": "execute_result"
    }
   ],
   "source": [
    "precisionesAntes = no_mean_precisions_per_class(train_preprocessed, x_train.Category, test_preprocessed[:200,], x_test.Category[:200], 5)\n",
    "precisionesAntes['sport']"
   ]
  },
  {
   "cell_type": "code",
   "execution_count": 53,
   "metadata": {},
   "outputs": [
    {
     "data": {
      "text/plain": [
       "' Consulta 91 ha pasado de 0.0 a 100.0, por lo que la tomamos al pasar de un 0% a un 100%.'"
      ]
     },
     "execution_count": 53,
     "metadata": {},
     "output_type": "execute_result"
    }
   ],
   "source": [
    "\"\"\" Consulta 91 ha pasado de 0.0 a 100.0, por lo que la tomamos al pasar de un 0% a un 100%.\"\"\""
   ]
  },
  {
   "cell_type": "code",
   "execution_count": 42,
   "metadata": {},
   "outputs": [
    {
     "name": "stdout",
     "output_type": "stream",
     "text": [
      "Mensaje 91 : tevez - an argentine in brazil some 65 years ago bernardo gandulla left boca juniors in his native argentina and headed for brazil.  he arrived at the vasco da gama club with considerable prestige - which he failed to live up to. he left an impression  but not for reasons he would have wanted. the only thing of note he did was to throw the ball back when it went out of play. even today   gandula  is the term used in brazil for ballboy. brazilians delighted in the failure of gandulla then  and many will delight now if history is repeated. another boca juniors player is coming to brazil.  the new maradona  - carlos tevez - is joining corinthians for nearly $20m in a strong candidate for the strangest move of the year. corinthians - or the london-based company who have just entered into partnership with them - appear to have paid well above the odds for tevez. it is particularly strange as - until last week - tevez was not even an especially big name in brazil  where the argentine championship is not shown.  presumably there is some financial logic behind the move. what is harder to work out is why tevez should be interested in heading north  rather than across the atlantic. argentina s brightest new star hit top form in august as he spearheaded the charge towards the olympic gold medal. but the subsequent months have not been easy for tevez. boca re-signed martin palermo  forcing tevez to vacate his favoured centre forward role. and off the pitch he gave the press plenty to report - atletico madrid gave up on him after declaring his private life to be  disorganized.  hounded by the press  tevez grew tired of his life in buenos aires. so now he says that he is heading for corinthians in search of  tranquillity.  anyone acquainted with the city of s&#227;o paulo will relish the nonsense of this declaration. brazil s biggest city is a sprawling  ugly  restless metropolis. once it shared with buenos aires the same melancholy air of a city of italian immigrants.  but that world now lies buried under skyscrapers. the most turbulent place in this frenetic city is sport club corinthians. it is the most passionately supported club in brazil. pel&#233; scored reams of goals against them  reasoning that unless he did something special the corinthians fans were capable of winning the game on their own. that passion can also be turned against the team - especially nowadays  when the level of urban violence gives a hysterical edge to life in brazil s big cities. corinthians fans have invaded the dressing room or ambushed the team coach to attack the players. tevez  then  can kiss tranquillity goodbye. he can also say farewell to the copa libertadores  south america s champions league. corinthians have not qualified. indeed  he will have a long wait for a worthwhile match. next year s brazilian championship only gets underway at the end of april. until then he will have to make do with the foolish s&#227;o paulo state championship  an appalling waste of his talent. there will be matches in small towns on poor pitches with plenty of defenders keen to kick him all the way back to argentina. like so many of the top south american players  tevez has the gift of being able to surprise - to feint right and go left  to pass when he was expected to dribble  to shoot and catch the goalkeeper unawares. but his choice of destination is the biggest surprise of all.\n",
      "Mensaje 91 vectorizado: ['20m' '233' '65' 'able' 'ago' 'air' 'aires' 'america' 'american' 'appear'\n",
      " 'april' 'argentina' 'argentine' 'arrived' 'atlantic' 'atletico' 'attack'\n",
      " 'august' 'ball' 'based' 'bernardo' 'big' 'biggest' 'brazil' 'brazilian'\n",
      " 'brazilians' 'brightest' 'buenos' 'buried' 'candidate' 'capable' 'carlos'\n",
      " 'catch' 'centre' 'champions' 'championship' 'charge' 'choice' 'cities'\n",
      " 'city' 'club' 'coach' 'coming' 'company' 'considerable' 'da'\n",
      " 'declaration' 'declaring' 'defenders' 'delight' 'delighted' 'destination'\n",
      " 'did' 'dressing' 'easy' 'edge' 'end' 'entered' 'especially' 'expected'\n",
      " 'failed' 'failure' 'fans' 'farewell' 'favoured' 'financial' 'foolish'\n",
      " 'forcing' 'form' 'forward' 'game' 'gave' 'gets' 'gift' 'gives'\n",
      " 'goalkeeper' 'goals' 'gold' 'goodbye' 'grew' 'harder' 'headed' 'heading'\n",
      " 'history' 'hit' 'immigrants' 'impression' 'interested' 'italian'\n",
      " 'joining' 'juniors' 'just' 'keen' 'kick' 'kiss' 'league' 'left' 'level'\n",
      " 'lies' 'life' 'like' 'live' 'logic' 'london' 'long' 'madrid' 'make'\n",
      " 'martin' 'match' 'matches' 'medal' 'melancholy' 'months' 'native'\n",
      " 'nearly' 'new' 'nonsense' 'north' 'note' 'nowadays' 'odds' 'olympic'\n",
      " 'paid' 'particularly' 'partnership' 'pass' 'passion' 'paulo' 'pitch'\n",
      " 'pitches' 'place' 'play' 'player' 'players' 'plenty' 'poor' 'press'\n",
      " 'presumably' 'private' 'qualified' 'reasoning' 'reasons' 'relish'\n",
      " 'repeated' 'report' 'right' 'role' 'room' 'say' 'says' 'scored' 'search'\n",
      " 'shared' 'shoot' 'shown' 'signed' 'skyscrapers' 'small' 'south' 'special'\n",
      " 'sport' 'star' 'state' 'strange' 'strong' 'subsequent' 'supported'\n",
      " 'surprise' 'talent' 'team' 'term' 'thing' 'throw' 'tired' 'today' 'towns'\n",
      " 'turbulent' 'turned' 'ugly' 'underway' 'unless' 'urban' 'used' 'violence'\n",
      " 'wait' 'wanted' 'waste' 'way' 'week' 'went' 'winning' 'work' 'world'\n",
      " 'worthwhile' 'year' 'years'] \n",
      "\n"
     ]
    }
   ],
   "source": [
    "write_terms(feature_names, x_test.Text.tolist(), test_preprocessed, 91)"
   ]
  },
  {
   "cell_type": "code",
   "execution_count": 43,
   "metadata": {},
   "outputs": [
    {
     "name": "stdout",
     "output_type": "stream",
     "text": [
      "Mensaje 91 vectorizado: ['able' 'acquainted' 'ago' 'ambushed' 'appalling' 'appear' 'arrived'\n",
      " 'attack' 'based' 'big' 'biggest' 'brazilians' 'brightest' 'buried'\n",
      " 'candidate' 'capable' 'catch' 'champions' 'championship' 'charge'\n",
      " 'choice' 'cities' 'club' 'coach' 'coming' 'company' 'considerable' 'copa'\n",
      " 'declaration' 'declaring' 'defenders' 'delighted' 'destination'\n",
      " 'disorganized' 'dressing' 'dribble' 'easy' 'end' 'entered' 'especially'\n",
      " 'expected' 'failed' 'failure' 'fans' 'favoured' 'feint' 'financial'\n",
      " 'foolish' 'forcing' 'form' 'frenetic' 'game' 'gave' 'gets' 'gift' 'gives'\n",
      " 'goalkeeper' 'goals' 'goodbye' 'harder' 'headed' 'heading' 'hysterical'\n",
      " 'history' 'hit' 'hounded' 'year' 'years' 'immigrants' 'impression'\n",
      " 'interested' 'invaded' 'joining' 'juniors' 'kick' 'league' 'left' 'level'\n",
      " 'lies' 'like' 'live' 'logic' 'long' 'make' 'match' 'matches' 'medal'\n",
      " 'melancholy' 'months' 'native' 'nearly' 'nonsense' 'note' 'nowadays'\n",
      " 'paid' 'particularly' 'partnership' 'passionately' 'pitch' 'pitches'\n",
      " 'place' 'play' 'players' 'poor' 'presumably' 'private' 'qualified'\n",
      " 'reams' 'reasoning' 'reasons' 'relish' 'repeated' 'report' 'restless'\n",
      " 'right' 'role' 'room' 'says' 'scored' 'search' 'shared' 'shoot' 'shown'\n",
      " 'signed' 'skyscrapers' 'spearheaded' 'special' 'sport' 'sprawling'\n",
      " 'strange' 'strangest' 'subsequent' 'supported' 'surprise' 'talent' 'team'\n",
      " 'thing' 'throw' 'tired' 'today' 'towns' 'turbulent' 'turned' 'ugly'\n",
      " 'unawares' 'underway' 'unless' 'used' 'vacate' 'violence' 'way' 'wanted'\n",
      " 'waste' 'week' 'went' 'winning' 'world' 'worthwhile'] \n",
      "\n"
     ]
    }
   ],
   "source": [
    "write_terms(we_vocabulary, None, test_preprocessed2, 91)"
   ]
  },
  {
   "cell_type": "code",
   "execution_count": 45,
   "metadata": {},
   "outputs": [
    {
     "data": {
      "text/plain": [
       "'tevez - an argentine in brazil some 65 years ago bernardo gandulla left boca juniors in his native argentina and headed for brazil.  he arrived at the vasco da gama club with considerable prestige - which he failed to live up to. he left an impression  but not for reasons he would have wanted. the only thing of note he did was to throw the ball back when it went out of play. even today   gandula  is the term used in brazil for ballboy. brazilians delighted in the failure of gandulla then  and many will delight now if history is repeated. another boca juniors player is coming to brazil.  the new maradona  - carlos tevez - is joining corinthians for nearly $20m in a strong candidate for the strangest move of the year. corinthians - or the london-based company who have just entered into partnership with them - appear to have paid well above the odds for tevez. it is particularly strange as - until last week - tevez was not even an especially big name in brazil  where the argentine championship is not shown.  presumably there is some financial logic behind the move. what is harder to work out is why tevez should be interested in heading north  rather than across the atlantic. argentina s brightest new star hit top form in august as he spearheaded the charge towards the olympic gold medal. but the subsequent months have not been easy for tevez. boca re-signed martin palermo  forcing tevez to vacate his favoured centre forward role. and off the pitch he gave the press plenty to report - atletico madrid gave up on him after declaring his private life to be  disorganized.  hounded by the press  tevez grew tired of his life in buenos aires. so now he says that he is heading for corinthians in search of  tranquillity.  anyone acquainted with the city of s&#227;o paulo will relish the nonsense of this declaration. brazil s biggest city is a sprawling  ugly  restless metropolis. once it shared with buenos aires the same melancholy air of a city of italian immigrants.  but that world now lies buried under skyscrapers. the most turbulent place in this frenetic city is sport club corinthians. it is the most passionately supported club in brazil. pel&#233; scored reams of goals against them  reasoning that unless he did something special the corinthians fans were capable of winning the game on their own. that passion can also be turned against the team - especially nowadays  when the level of urban violence gives a hysterical edge to life in brazil s big cities. corinthians fans have invaded the dressing room or ambushed the team coach to attack the players. tevez  then  can kiss tranquillity goodbye. he can also say farewell to the copa libertadores  south america s champions league. corinthians have not qualified. indeed  he will have a long wait for a worthwhile match. next year s brazilian championship only gets underway at the end of april. until then he will have to make do with the foolish s&#227;o paulo state championship  an appalling waste of his talent. there will be matches in small towns on poor pitches with plenty of defenders keen to kick him all the way back to argentina. like so many of the top south american players  tevez has the gift of being able to surprise - to feint right and go left  to pass when he was expected to dribble  to shoot and catch the goalkeeper unawares. but his choice of destination is the biggest surprise of all.'"
      ]
     },
     "execution_count": 45,
     "metadata": {},
     "output_type": "execute_result"
    }
   ],
   "source": [
    "x_test.Text[151]"
   ]
  },
  {
   "cell_type": "code",
   "execution_count": 46,
   "metadata": {},
   "outputs": [
    {
     "data": {
      "text/plain": [
       "'sport'"
      ]
     },
     "execution_count": 46,
     "metadata": {},
     "output_type": "execute_result"
    }
   ],
   "source": [
    "x_test.Category[151]"
   ]
  },
  {
   "cell_type": "code",
   "execution_count": 39,
   "metadata": {},
   "outputs": [
    {
     "data": {
      "text/plain": [
       "502    business\n",
       "261    business\n",
       "484    business\n",
       "474    business\n",
       "711    business\n",
       "Name: Category, dtype: object"
      ]
     },
     "execution_count": 39,
     "metadata": {},
     "output_type": "execute_result"
    }
   ],
   "source": [
    "idx = knn(test_preprocessed[91,], train_preprocessed, 5)\n",
    "y_selected = np.take(x_train.Category, idx)\n",
    "y_selected"
   ]
  },
  {
   "cell_type": "code",
   "execution_count": 40,
   "metadata": {},
   "outputs": [
    {
     "data": {
      "text/plain": [
       "1111    sport\n",
       "389     sport\n",
       "59      sport\n",
       "169     sport\n",
       "1003    sport\n",
       "Name: Category, dtype: object"
      ]
     },
     "execution_count": 40,
     "metadata": {},
     "output_type": "execute_result"
    }
   ],
   "source": [
    "idx = knn(test_preprocessed2[91,], train_preprocessed2, 5)\n",
    "y_selected = np.take(x_train.Category, idx)\n",
    "y_selected"
   ]
  },
  {
   "cell_type": "code",
   "execution_count": 50,
   "metadata": {},
   "outputs": [
    {
     "data": {
      "text/plain": [
       "' En la consulta 91 del TF-IDF puro lo califica como bussines \\nmientras que el que usa word_embeddings lo califica correctamente como sport '"
      ]
     },
     "execution_count": 50,
     "metadata": {},
     "output_type": "execute_result"
    }
   ],
   "source": [
    "\"\"\" En la consulta 91 del TF-IDF puro lo califica como bussines \n",
    "mientras que el que usa word_embeddings lo califica correctamente como sport \"\"\""
   ]
  },
  {
   "cell_type": "code",
   "execution_count": 49,
   "metadata": {},
   "outputs": [],
   "source": [
    "def terms_in_message(feature_names,vector_data,index):\n",
    "    '''\n",
    "    Devuelve un conjunto los términos presentes en un mensaje representado como bolsa de palabras.\n",
    "\n",
    "    - feature_names: terminos usados para vectorizar\n",
    "    - vector_data: matriz (dispersa) de mensaje vectorizados\n",
    "    - index: posición del mensaje a mostrar\n",
    "    '''\n",
    "    mensaje=vector_data[index,:]>0\n",
    "    terminos_presentes = ma.array(feature_names, mask = ~(mensaje[0].toarray()))\n",
    "\n",
    "    return set(terminos_presentes.compressed())"
   ]
  },
  {
   "cell_type": "code",
   "execution_count": 51,
   "metadata": {},
   "outputs": [
    {
     "name": "stdout",
     "output_type": "stream",
     "text": [
      "say\n",
      "centre\n",
      "says\n",
      "months\n",
      "used\n",
      "world\n",
      "gets\n",
      "small\n",
      "especially\n",
      "way\n"
     ]
    }
   ],
   "source": [
    "cons = terms_in_message(feature_names,test_preprocessed,91)\n",
    "rec = terms_in_message(feature_names,train_preprocessed,502)\n",
    "\n",
    "for elem in cons:\n",
    "    if elem in rec:\n",
    "        print(elem)"
   ]
  },
  {
   "cell_type": "code",
   "execution_count": 52,
   "metadata": {},
   "outputs": [
    {
     "name": "stdout",
     "output_type": "stream",
     "text": [
      "level\n",
      "ago\n",
      "big\n",
      "match\n",
      "coming\n",
      "like\n",
      "year\n",
      "history\n",
      "game\n",
      "week\n",
      "world\n",
      "wanted\n"
     ]
    }
   ],
   "source": [
    "cons = terms_in_message(we_feature_names,test_preprocessed2,91)\n",
    "rec = terms_in_message(we_feature_names,train_preprocessed2,1003)\n",
    "\n",
    "for elem in cons:\n",
    "    if elem in rec:\n",
    "        print(elem)"
   ]
  },
  {
   "cell_type": "code",
   "execution_count": 64,
   "metadata": {},
   "outputs": [
    {
     "data": {
      "text/plain": [
       "\" Con el TF-IDF puro no hemos encontrado ninguna palabra muy determinante para\\nencontrar la categoría correcta de la noticia al ser palabras muy genéricas.\\n\\nMientras que con el word-embedding hemos encontrado palabras como 'level', 'match'\\no 'game' que guardan mayor relación con la temática de 'sport' \""
      ]
     },
     "execution_count": 64,
     "metadata": {},
     "output_type": "execute_result"
    }
   ],
   "source": [
    "\"\"\" Con el TF-IDF puro no hemos encontrado ninguna palabra muy determinante para\n",
    "encontrar la categoría correcta de la noticia al ser palabras muy genéricas.\n",
    "\n",
    "Mientras que con el word-embedding hemos encontrado palabras como 'level', 'match'\n",
    "o 'game' que guardan mayor relación con la temática de 'sport' \"\"\""
   ]
  }
 ],
 "metadata": {
  "colab": {
   "name": "P2_recuperacion_informacion_2122_enunciado.ipynb",
   "provenance": []
  },
  "kernelspec": {
   "display_name": "Python 3",
   "language": "python",
   "name": "python3"
  },
  "language_info": {
   "codemirror_mode": {
    "name": "ipython",
    "version": 3
   },
   "file_extension": ".py",
   "mimetype": "text/x-python",
   "name": "python",
   "nbconvert_exporter": "python",
   "pygments_lexer": "ipython3",
   "version": "3.8.8"
  }
 },
 "nbformat": 4,
 "nbformat_minor": 1
}
