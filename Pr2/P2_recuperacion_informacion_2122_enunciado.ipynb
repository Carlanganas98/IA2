{
 "cells": [
  {
   "cell_type": "markdown",
   "metadata": {
    "id": "jpd0gkGnpzXT"
   },
   "source": [
    "# Práctica 2: Procesamiento del Lenguaje Natural\n",
    "\n",
    "__Fecha de entrega: 17 de abril de 2022__\n",
    "\n",
    "El objetivo de esta práctica es aplicar los conceptos teóricos vistos en clase en el módulo de PLN. La práctica consta de 2 notebooks que se entregarán simultáneamente en la tarea de entrega habilitada en el Campus  Virtual.\n",
    "\n",
    "Lo más importante en esta práctica no es el código Python, sino el análisis de los datos y modelos que construyas y las explicaciones razonadas de cada una de las decisiones que tomes. __No se valorarán trozos de código o gráficas sin ningún tipo de contexto o explicación__.\n",
    "\n",
    "Finalmente, recuerda establecer el parámetro `random_state` en todas las funciones que tomen decisiones aleatorias para que los resultados sean reproducibles (los resultados no varíen entre ejecuciones)."
   ]
  },
  {
   "cell_type": "code",
   "execution_count": 2,
   "metadata": {
    "id": "IBx1oG6bpzXY"
   },
   "outputs": [],
   "source": [
    "RANDOM_STATE = 33"
   ]
  },
  {
   "cell_type": "markdown",
   "metadata": {
    "id": "TkJPtLPRpzXa"
   },
   "source": [
    "# Apartado 2: Recuperación de información"
   ]
  },
  {
   "cell_type": "markdown",
   "metadata": {
    "id": "RWQ9sB-ApzXc"
   },
   "source": [
    "__Número de grupo: XX__\n",
    "\n",
    "__Nombres de los estudiantes: XXX y XXX__"
   ]
  },
  {
   "cell_type": "markdown",
   "metadata": {
    "id": "W1iFIS_EpzXc"
   },
   "source": [
    "## 1) Carga del conjunto de datos\n",
    "\n",
    "El fichero `BBC News.csv` contiene noticias clasificadas en 5 categorías diferentes. \n",
    "\n",
    "Carga los datos en un dataframe teniendo en cuenta que la columna `ArticleId` es un identificador de la noticia y por lo tanto no lo vamos a usar. \n",
    "\n",
    "Estudia el tamaño del conjunto de datos y la proporción de noticias que pertenecen a cada una de las categorías.\n",
    "\n",
    "Crea una partición estratificada de los datos dejando el 80% para entrenamiento y el 20% restante para test usando la función `train_test_split` de sklearn. "
   ]
  },
  {
   "cell_type": "code",
   "execution_count": 3,
   "metadata": {
    "id": "ufbBvGcnpzXe"
   },
   "outputs": [
    {
     "data": {
      "text/html": [
       "<div>\n",
       "<style scoped>\n",
       "    .dataframe tbody tr th:only-of-type {\n",
       "        vertical-align: middle;\n",
       "    }\n",
       "\n",
       "    .dataframe tbody tr th {\n",
       "        vertical-align: top;\n",
       "    }\n",
       "\n",
       "    .dataframe thead th {\n",
       "        text-align: right;\n",
       "    }\n",
       "</style>\n",
       "<table border=\"1\" class=\"dataframe\">\n",
       "  <thead>\n",
       "    <tr style=\"text-align: right;\">\n",
       "      <th></th>\n",
       "      <th>ArticleId</th>\n",
       "      <th>Text</th>\n",
       "      <th>Category</th>\n",
       "    </tr>\n",
       "  </thead>\n",
       "  <tbody>\n",
       "    <tr>\n",
       "      <th>0</th>\n",
       "      <td>1833</td>\n",
       "      <td>worldcom ex-boss launches defence lawyers defe...</td>\n",
       "      <td>business</td>\n",
       "    </tr>\n",
       "    <tr>\n",
       "      <th>1</th>\n",
       "      <td>154</td>\n",
       "      <td>german business confidence slides german busin...</td>\n",
       "      <td>business</td>\n",
       "    </tr>\n",
       "    <tr>\n",
       "      <th>2</th>\n",
       "      <td>1101</td>\n",
       "      <td>bbc poll indicates economic gloom citizens in ...</td>\n",
       "      <td>business</td>\n",
       "    </tr>\n",
       "    <tr>\n",
       "      <th>3</th>\n",
       "      <td>1976</td>\n",
       "      <td>lifestyle  governs mobile choice  faster  bett...</td>\n",
       "      <td>tech</td>\n",
       "    </tr>\n",
       "    <tr>\n",
       "      <th>4</th>\n",
       "      <td>917</td>\n",
       "      <td>enron bosses in $168m payout eighteen former e...</td>\n",
       "      <td>business</td>\n",
       "    </tr>\n",
       "  </tbody>\n",
       "</table>\n",
       "</div>"
      ],
      "text/plain": [
       "  ArticleId                                               Text  Category\n",
       "0      1833  worldcom ex-boss launches defence lawyers defe...  business\n",
       "1       154  german business confidence slides german busin...  business\n",
       "2      1101  bbc poll indicates economic gloom citizens in ...  business\n",
       "3      1976  lifestyle  governs mobile choice  faster  bett...      tech\n",
       "4       917  enron bosses in $168m payout eighteen former e...  business"
      ]
     },
     "execution_count": 3,
     "metadata": {},
     "output_type": "execute_result"
    }
   ],
   "source": [
    "import pandas as pd\n",
    "import numpy as np\n",
    "from sklearn.model_selection import train_test_split\n",
    "\n",
    "df = pd.read_csv(\"BBC_News.csv\")\n",
    "\n",
    "df[\"ArticleId\"] = df[\"ArticleId\"].astype(\"category\")\n",
    "\n",
    "df.head()"
   ]
  },
  {
   "cell_type": "code",
   "execution_count": 4,
   "metadata": {},
   "outputs": [
    {
     "name": "stdout",
     "output_type": "stream",
     "text": [
      "Training text:  1490\n"
     ]
    }
   ],
   "source": [
    "print(\"Training text: \", len(df))"
   ]
  },
  {
   "cell_type": "code",
   "execution_count": 5,
   "metadata": {},
   "outputs": [
    {
     "data": {
      "text/html": [
       "<div>\n",
       "<style scoped>\n",
       "    .dataframe tbody tr th:only-of-type {\n",
       "        vertical-align: middle;\n",
       "    }\n",
       "\n",
       "    .dataframe tbody tr th {\n",
       "        vertical-align: top;\n",
       "    }\n",
       "\n",
       "    .dataframe thead th {\n",
       "        text-align: right;\n",
       "    }\n",
       "</style>\n",
       "<table border=\"1\" class=\"dataframe\">\n",
       "  <thead>\n",
       "    <tr style=\"text-align: right;\">\n",
       "      <th></th>\n",
       "      <th>ArticleId</th>\n",
       "      <th>Text</th>\n",
       "    </tr>\n",
       "    <tr>\n",
       "      <th>Category</th>\n",
       "      <th></th>\n",
       "      <th></th>\n",
       "    </tr>\n",
       "  </thead>\n",
       "  <tbody>\n",
       "    <tr>\n",
       "      <th>business</th>\n",
       "      <td>336</td>\n",
       "      <td>336</td>\n",
       "    </tr>\n",
       "    <tr>\n",
       "      <th>entertainment</th>\n",
       "      <td>273</td>\n",
       "      <td>273</td>\n",
       "    </tr>\n",
       "    <tr>\n",
       "      <th>politics</th>\n",
       "      <td>274</td>\n",
       "      <td>274</td>\n",
       "    </tr>\n",
       "    <tr>\n",
       "      <th>sport</th>\n",
       "      <td>346</td>\n",
       "      <td>346</td>\n",
       "    </tr>\n",
       "    <tr>\n",
       "      <th>tech</th>\n",
       "      <td>261</td>\n",
       "      <td>261</td>\n",
       "    </tr>\n",
       "  </tbody>\n",
       "</table>\n",
       "</div>"
      ],
      "text/plain": [
       "               ArticleId  Text\n",
       "Category                      \n",
       "business             336   336\n",
       "entertainment        273   273\n",
       "politics             274   274\n",
       "sport                346   346\n",
       "tech                 261   261"
      ]
     },
     "execution_count": 5,
     "metadata": {},
     "output_type": "execute_result"
    }
   ],
   "source": [
    "frec = df.groupby(['Category']).count()\n",
    "frec"
   ]
  },
  {
   "cell_type": "code",
   "execution_count": 6,
   "metadata": {},
   "outputs": [
    {
     "data": {
      "text/html": [
       "<div>\n",
       "<style scoped>\n",
       "    .dataframe tbody tr th:only-of-type {\n",
       "        vertical-align: middle;\n",
       "    }\n",
       "\n",
       "    .dataframe tbody tr th {\n",
       "        vertical-align: top;\n",
       "    }\n",
       "\n",
       "    .dataframe thead th {\n",
       "        text-align: right;\n",
       "    }\n",
       "</style>\n",
       "<table border=\"1\" class=\"dataframe\">\n",
       "  <thead>\n",
       "    <tr style=\"text-align: right;\">\n",
       "      <th></th>\n",
       "      <th>ArticleId</th>\n",
       "      <th>Text</th>\n",
       "      <th>Category</th>\n",
       "    </tr>\n",
       "  </thead>\n",
       "  <tbody>\n",
       "    <tr>\n",
       "      <th>1305</th>\n",
       "      <td>1004</td>\n",
       "      <td>microsoft releases bumper patches microsoft ha...</td>\n",
       "      <td>tech</td>\n",
       "    </tr>\n",
       "    <tr>\n",
       "      <th>600</th>\n",
       "      <td>530</td>\n",
       "      <td>newcastle line up babayaro newcastle manager g...</td>\n",
       "      <td>sport</td>\n",
       "    </tr>\n",
       "    <tr>\n",
       "      <th>237</th>\n",
       "      <td>495</td>\n",
       "      <td>arnesen denies rift with santini tottenham spo...</td>\n",
       "      <td>sport</td>\n",
       "    </tr>\n",
       "    <tr>\n",
       "      <th>1352</th>\n",
       "      <td>2148</td>\n",
       "      <td>charity single for quake relief singers includ...</td>\n",
       "      <td>entertainment</td>\n",
       "    </tr>\n",
       "    <tr>\n",
       "      <th>661</th>\n",
       "      <td>130</td>\n",
       "      <td>williams battles to aussie title serena willia...</td>\n",
       "      <td>sport</td>\n",
       "    </tr>\n",
       "    <tr>\n",
       "      <th>...</th>\n",
       "      <td>...</td>\n",
       "      <td>...</td>\n",
       "      <td>...</td>\n",
       "    </tr>\n",
       "    <tr>\n",
       "      <th>1225</th>\n",
       "      <td>1650</td>\n",
       "      <td>us trade gap ballooned in october the us trade...</td>\n",
       "      <td>business</td>\n",
       "    </tr>\n",
       "    <tr>\n",
       "      <th>658</th>\n",
       "      <td>1589</td>\n",
       "      <td>pre-poll clash on tax and spend labour and the...</td>\n",
       "      <td>politics</td>\n",
       "    </tr>\n",
       "    <tr>\n",
       "      <th>578</th>\n",
       "      <td>773</td>\n",
       "      <td>redford s vision of sundance despite sporting ...</td>\n",
       "      <td>entertainment</td>\n",
       "    </tr>\n",
       "    <tr>\n",
       "      <th>391</th>\n",
       "      <td>339</td>\n",
       "      <td>aids and climate top davos agenda climate chan...</td>\n",
       "      <td>business</td>\n",
       "    </tr>\n",
       "    <tr>\n",
       "      <th>1044</th>\n",
       "      <td>637</td>\n",
       "      <td>end bush  denial  blair tells eu tony blair is...</td>\n",
       "      <td>politics</td>\n",
       "    </tr>\n",
       "  </tbody>\n",
       "</table>\n",
       "<p>1192 rows × 3 columns</p>\n",
       "</div>"
      ],
      "text/plain": [
       "     ArticleId                                               Text  \\\n",
       "1305      1004  microsoft releases bumper patches microsoft ha...   \n",
       "600        530  newcastle line up babayaro newcastle manager g...   \n",
       "237        495  arnesen denies rift with santini tottenham spo...   \n",
       "1352      2148  charity single for quake relief singers includ...   \n",
       "661        130  williams battles to aussie title serena willia...   \n",
       "...        ...                                                ...   \n",
       "1225      1650  us trade gap ballooned in october the us trade...   \n",
       "658       1589  pre-poll clash on tax and spend labour and the...   \n",
       "578        773  redford s vision of sundance despite sporting ...   \n",
       "391        339  aids and climate top davos agenda climate chan...   \n",
       "1044       637  end bush  denial  blair tells eu tony blair is...   \n",
       "\n",
       "           Category  \n",
       "1305           tech  \n",
       "600           sport  \n",
       "237           sport  \n",
       "1352  entertainment  \n",
       "661           sport  \n",
       "...             ...  \n",
       "1225       business  \n",
       "658        politics  \n",
       "578   entertainment  \n",
       "391        business  \n",
       "1044       politics  \n",
       "\n",
       "[1192 rows x 3 columns]"
      ]
     },
     "execution_count": 6,
     "metadata": {},
     "output_type": "execute_result"
    }
   ],
   "source": [
    "x_train, x_test = train_test_split(df, test_size = 0.2, random_state = RANDOM_STATE)\n",
    "x_train"
   ]
  },
  {
   "cell_type": "code",
   "execution_count": 7,
   "metadata": {},
   "outputs": [
    {
     "data": {
      "text/html": [
       "<div>\n",
       "<style scoped>\n",
       "    .dataframe tbody tr th:only-of-type {\n",
       "        vertical-align: middle;\n",
       "    }\n",
       "\n",
       "    .dataframe tbody tr th {\n",
       "        vertical-align: top;\n",
       "    }\n",
       "\n",
       "    .dataframe thead th {\n",
       "        text-align: right;\n",
       "    }\n",
       "</style>\n",
       "<table border=\"1\" class=\"dataframe\">\n",
       "  <thead>\n",
       "    <tr style=\"text-align: right;\">\n",
       "      <th></th>\n",
       "      <th>ArticleId</th>\n",
       "      <th>Text</th>\n",
       "      <th>Category</th>\n",
       "    </tr>\n",
       "  </thead>\n",
       "  <tbody>\n",
       "    <tr>\n",
       "      <th>46</th>\n",
       "      <td>593</td>\n",
       "      <td>china  ripe  for media explosion asia is set t...</td>\n",
       "      <td>tech</td>\n",
       "    </tr>\n",
       "    <tr>\n",
       "      <th>462</th>\n",
       "      <td>2118</td>\n",
       "      <td>wales stars need a rest - ruddock wales coach ...</td>\n",
       "      <td>sport</td>\n",
       "    </tr>\n",
       "    <tr>\n",
       "      <th>729</th>\n",
       "      <td>245</td>\n",
       "      <td>swiss cement firm in buying spree swiss cement...</td>\n",
       "      <td>business</td>\n",
       "    </tr>\n",
       "    <tr>\n",
       "      <th>393</th>\n",
       "      <td>123</td>\n",
       "      <td>safety alert as gm recalls cars the world s bi...</td>\n",
       "      <td>business</td>\n",
       "    </tr>\n",
       "    <tr>\n",
       "      <th>899</th>\n",
       "      <td>2088</td>\n",
       "      <td>cyber criminals step up the pace so-called phi...</td>\n",
       "      <td>tech</td>\n",
       "    </tr>\n",
       "    <tr>\n",
       "      <th>...</th>\n",
       "      <td>...</td>\n",
       "      <td>...</td>\n",
       "      <td>...</td>\n",
       "    </tr>\n",
       "    <tr>\n",
       "      <th>231</th>\n",
       "      <td>140</td>\n",
       "      <td>rich grab half colombia poor fund half of the ...</td>\n",
       "      <td>business</td>\n",
       "    </tr>\n",
       "    <tr>\n",
       "      <th>854</th>\n",
       "      <td>1179</td>\n",
       "      <td>bbc web search aids odd queries the bbc s onli...</td>\n",
       "      <td>tech</td>\n",
       "    </tr>\n",
       "    <tr>\n",
       "      <th>368</th>\n",
       "      <td>295</td>\n",
       "      <td>china net cafe culture crackdown chinese autho...</td>\n",
       "      <td>tech</td>\n",
       "    </tr>\n",
       "    <tr>\n",
       "      <th>361</th>\n",
       "      <td>949</td>\n",
       "      <td>saudi ncci s shares soar shares in saudi arabi...</td>\n",
       "      <td>business</td>\n",
       "    </tr>\n",
       "    <tr>\n",
       "      <th>489</th>\n",
       "      <td>563</td>\n",
       "      <td>cable offers video-on-demand cable firms ntl a...</td>\n",
       "      <td>tech</td>\n",
       "    </tr>\n",
       "  </tbody>\n",
       "</table>\n",
       "<p>298 rows × 3 columns</p>\n",
       "</div>"
      ],
      "text/plain": [
       "    ArticleId                                               Text  Category\n",
       "46        593  china  ripe  for media explosion asia is set t...      tech\n",
       "462      2118  wales stars need a rest - ruddock wales coach ...     sport\n",
       "729       245  swiss cement firm in buying spree swiss cement...  business\n",
       "393       123  safety alert as gm recalls cars the world s bi...  business\n",
       "899      2088  cyber criminals step up the pace so-called phi...      tech\n",
       "..        ...                                                ...       ...\n",
       "231       140  rich grab half colombia poor fund half of the ...  business\n",
       "854      1179  bbc web search aids odd queries the bbc s onli...      tech\n",
       "368       295  china net cafe culture crackdown chinese autho...      tech\n",
       "361       949  saudi ncci s shares soar shares in saudi arabi...  business\n",
       "489       563  cable offers video-on-demand cable firms ntl a...      tech\n",
       "\n",
       "[298 rows x 3 columns]"
      ]
     },
     "execution_count": 7,
     "metadata": {},
     "output_type": "execute_result"
    }
   ],
   "source": [
    "x_test"
   ]
  },
  {
   "cell_type": "markdown",
   "metadata": {
    "id": "3Fx5hJC7pzXf"
   },
   "source": [
    "## 2) Representación basada en bolsa de palabras y tf-idf\n",
    "\n",
    "La primera vectorización que vamos a usar representará los mensajes usando el modelo de bolsa de palabras, monogramas y el valor tf-idf de cada palabra. Usa como _stop words_ las que vienen configuradas por defecto para el inglés.\n",
    "\n",
    "Aplica la vectorización a los conjuntos de mensajes de entrenamiento y test. Muestra algún mensaje tanto en su formato de texto original como en la versión vectorizada. ¿Qué palabras se han eliminado y por qué?\n",
    "\n",
    "Calcula la precisión@5 de cada una de las clases usando como consultas los documentos de la partición de test y la similitud del coseno. Vamos a considerar que un documento recuperado es relevante cuando pertenezca a la misma clase que la consulta.\n",
    "\n",
    "Dibuja los resultados en un diagrama de barras y comenta las clases en las que se comporta mejor y peor. ¿Crees que los resultados son buenos?"
   ]
  },
  {
   "cell_type": "code",
   "execution_count": 8,
   "metadata": {
    "id": "wKdL2-VSpzXg"
   },
   "outputs": [],
   "source": [
    "from sklearn.feature_extraction.text import CountVectorizer\n",
    "from sklearn.feature_extraction.text import TfidfTransformer"
   ]
  },
  {
   "cell_type": "code",
   "execution_count": 9,
   "metadata": {},
   "outputs": [],
   "source": [
    "with open('words.txt') as f:\n",
    "    dictionary = f.read().splitlines()\n",
    "vectorizer = CountVectorizer(vocabulary=dictionary, stop_words='english', ngram_range = (1,1))  "
   ]
  },
  {
   "cell_type": "code",
   "execution_count": 10,
   "metadata": {},
   "outputs": [
    {
     "name": "stdout",
     "output_type": "stream",
     "text": [
      "466551\n",
      "['2', '1080', '&c', '10-point', '10th', '11-point', '12-point', '16-point', '18-point', '1st', '2,4,5-t', '2,4-d', '20-point', '2D', '2nd', '30-30', '3D', '3-D', '3M', '3rd', '48-point', '4-D', '4GL', '4H', '4th', '5-point', '5-T', '5th', '6-point', '6th', '7-point', '7th', '8-point', '8th', '9-point', '9th', 'a', \"a'\", 'a-', 'A&M', 'A&P', 'A.', 'A.A.A.', 'A.B.', 'A.B.A.', 'A.C.', 'A.D.', 'A.D.C.', 'A.F.', 'A.F.A.M.', 'A.G.', 'A.H.', 'A.I.', 'A.I.A.', 'A.I.D.', 'A.L.', 'A.L.P.', 'A.M.', 'A.M.A.', 'A.M.D.G.', 'A.N.', 'a.p.', 'a.r.', 'A.R.C.S.', 'A.U.', 'A.U.C.', 'A.V.', 'a.w.', 'A.W.O.L.', 'A/C', 'A/F', 'A/O', 'A/P', 'A/V', 'A1', 'A-1', 'A4', 'A5', 'AA', 'AAA', 'AAAA', 'AAAAAA', 'AAAL', 'AAAS', 'Aaberg', 'Aachen', 'AAE', 'AAEE', 'AAF', 'AAG', 'aah', 'aahed', 'aahing', 'aahs', 'AAII', 'aal', 'Aalborg', 'Aalesund', 'aalii', 'aaliis', 'aals', 'Aalst', 'Aalto', 'AAM', 'AAMSI', 'Aandahl', 'A-and-R', 'Aani', 'AAO', 'AAP', 'AAPSS', 'Aaqbiye', 'Aar', 'Aara', 'Aarau', 'AARC', 'aardvark', 'aardvarks', 'aardwolf', 'aardwolves', 'Aaren', 'Aargau', 'aargh', 'Aarhus', 'Aarika', 'Aaron', 'Aaronic', 'Aaronical', 'Aaronite', 'Aaronitic', \"Aaron's-beard\", 'Aaronsburg', 'Aaronson', 'AARP', 'aarrgh', 'aarrghh', 'Aaru', 'AAS', \"A'asia\", 'aasvogel', 'aasvogels', 'AAU', 'AAUP', 'AAUW', 'AAVSO', 'AAX', 'A-axes', 'A-axis', 'AB', 'ab-', 'ABA', 'Ababa', 'Ababdeh', 'Ababua', 'abac', 'abaca', 'abacay', 'abacas', 'abacate', 'abacaxi', 'abaci', 'abacinate', 'abacination', 'abacisci', 'abaciscus', 'abacist', 'aback', 'abacli', 'Abaco', 'abacot', 'abacterial', 'abactinal', 'abactinally', 'abaction', 'abactor', 'abaculi', 'abaculus', 'abacus', 'abacuses', 'Abad', 'abada', 'Abadan', 'Abaddon', 'abadejo', 'abadengo', 'abadia', 'Abadite', 'abaff', 'abaft', 'Abagael', 'Abagail', 'Abagtha', 'abay', 'abayah', 'Abailard', 'abaisance', 'abaised', 'abaiser', 'abaisse', 'abaissed', 'abaka', 'Abakan', 'abakas', 'Abakumov', 'abalation', 'abalienate', 'abalienated', 'abalienating', 'abalienation', 'abalone', 'abalones', 'Abama', 'abamp', 'abampere', 'abamperes', 'abamps', 'Abana', 'aband', 'abandon', 'abandonable', 'abandoned', 'abandonedly', 'abandonee', 'abandoner', 'abandoners', 'abandoning', 'abandonment', 'abandonments', 'abandons', 'abandum', 'abanet', 'abanga', 'Abanic', 'abannition', 'Abantes', 'abapical', 'abaptiston', 'abaptistum', 'Abarambo', 'Abarbarea', 'Abaris', 'abarthrosis', 'abarticular', 'abarticulation', 'Abas', 'abase', 'abased', 'abasedly', 'abasedness', 'abasement', 'abasements', 'abaser', 'abasers', 'abases', 'Abasgi', 'abash', 'abashed', 'abashedly', 'abashedness', 'abashes', 'abashing', 'abashless', 'abashlessly', 'abashment', 'abashments', 'abasia', 'abasias', 'abasic', 'abasing', 'abasio', 'abask', 'abassi', 'Abassieh', 'Abassin', 'abastard', 'abastardize', 'abastral', 'abatable', 'abatage', 'Abate', 'abated', 'abatement', 'abatements', 'abater', 'abaters', 'abates', 'abatic', 'abating', 'abatis', 'abatised', 'abatises', 'abatjour', 'abatjours', 'abaton', 'abator', 'abators', 'ABATS', 'abattage', 'abattis', 'abattised', 'abattises', 'abattoir', 'abattoirs', 'abattu', 'abattue', 'Abatua', 'abature', 'abaue', 'abave', 'abaxial', 'abaxile', 'abaze', 'abb', 'Abba', 'abbacy', 'abbacies', 'abbacomes', 'Abbadide', 'Abbai', 'abbaye', 'abbandono', 'abbas', 'abbasi', 'Abbasid', 'abbassi', 'Abbassid', 'Abbasside', 'Abbate', 'abbatial', 'abbatical', 'abbatie', 'Abbe', 'Abbey', 'abbeys', \"abbey's\", 'abbeystead', 'abbeystede', 'abbes', 'abbess', 'abbesses', 'abbest', 'Abbevilean', 'Abbeville', 'Abbevillian', 'Abbi', 'Abby', 'Abbie', 'Abbye', 'Abbyville', 'abboccato', 'abbogada', 'Abbot', 'abbotcy', 'abbotcies', 'abbotnullius', 'abbotric', 'abbots', \"abbot's\", 'Abbotsen', 'Abbotsford', 'abbotship', 'abbotships', 'Abbotson', 'Abbotsun', 'Abbott', 'Abbottson', 'Abbottstown', 'Abboud', 'abbozzo', 'ABBR', 'abbrev', 'abbreviatable', 'abbreviate', 'abbreviated', 'abbreviately', 'abbreviates', 'abbreviating', 'abbreviation', 'abbreviations', 'abbreviator', 'abbreviatory', 'abbreviators', 'abbreviature', 'abbroachment', 'ABC', 'abcess', 'abcissa', 'abcoulomb', 'ABCs', 'abd', 'abdal', 'abdali', 'abdaria', 'abdat', 'Abdel', 'Abd-el-Kadir', 'Abd-el-Krim', 'Abdella', 'Abderhalden', 'Abderian', 'Abderite', 'Abderus', 'abdest', 'Abdias', 'abdicable', 'abdicant', 'abdicate', 'abdicated', 'abdicates', 'abdicating', 'abdication', 'abdications', 'abdicative', 'abdicator', 'Abdiel', 'abditive', 'abditory', 'abdom', 'abdomen', 'abdomens', \"abdomen's\", 'abdomina', 'abdominal', 'Abdominales', 'abdominalia', 'abdominalian', 'abdominally', 'abdominals', 'abdominoanterior', 'abdominocardiac', 'abdominocentesis', 'abdominocystic', 'abdominogenital', 'abdominohysterectomy', 'abdominohysterotomy', 'abdominoposterior', 'abdominoscope', 'abdominoscopy', 'abdominothoracic', 'abdominous', 'abdomino-uterotomy', 'abdominovaginal', 'abdominovesical', 'Abdon', 'Abdu', 'abduce', 'abduced', 'abducens', 'abducent', 'abducentes', 'abduces', 'abducing', 'abduct', 'abducted', 'abducting', 'abduction', 'abductions', \"abduction's\", 'abductor', 'abductores', 'abductors', \"abductor's\", 'abducts', 'Abdul', 'Abdul-Aziz', 'Abdul-baha', 'Abdulla', 'Abe', 'a-be', 'abeam', 'abear', 'abearance', 'Abebi', 'abecedaire', 'abecedary', 'abecedaria', 'abecedarian', 'abecedarians', 'abecedaries', 'abecedarium', 'abecedarius', 'abed', 'abede', 'abedge', 'Abednego', 'abegge', 'Abey', 'abeyance', 'abeyances', 'abeyancy', 'abeyancies', 'abeyant', 'abeigh', 'ABEL', 'Abelard', 'abele', 'abeles', 'Abelia', 'Abelian', 'Abelicea', 'Abelite', 'Abell', 'Abelmoschus', 'abelmosk', 'abelmosks', 'abelmusk', 'Abelonian', 'Abelson', 'abeltree', 'Abencerrages', 'abend', 'abends', 'Abenezra', 'abenteric', 'Abeokuta', 'abepithymia', 'ABEPP', 'Abercromby', 'Abercrombie', 'Aberdare', 'aberdavine', 'Aberdeen', 'Aberdeenshire', 'aberdevine', 'Aberdonian', 'aberduvine', 'Aberfan', 'Aberglaube', 'Aberia', 'Aberystwyth', 'Abernant', 'Abernathy', 'abernethy', 'Abernon', 'aberr', 'aberrance', 'aberrancy', 'aberrancies', 'aberrant', 'aberrantly', 'aberrants', 'aberrate', 'aberrated', 'aberrating', 'aberration', 'aberrational', 'aberrations', 'aberrative', 'aberrator', 'aberrometer', 'aberroscope', 'Abert', 'aberuncate', 'aberuncator', 'abesse', 'abessive', 'abet', 'abetment', 'abetments', 'abets', 'abettal', 'abettals', 'abetted', 'abetter', 'abetters', 'abetting', 'abettor', 'abettors', 'Abeu', 'abevacuation', 'abfarad', 'abfarads', 'ABFM', 'Abgatha', 'ABHC', 'abhenry', 'abhenries', 'abhenrys', 'abhinaya', 'abhiseka', 'abhominable', 'abhor', 'abhorred', 'abhorrence', 'abhorrences', 'abhorrency', 'abhorrent', 'abhorrently', 'abhorrer', 'abhorrers', 'abhorrible', 'abhorring', 'abhors', 'Abhorson', 'ABI', 'aby', 'Abia', 'Abiathar', 'Abib', 'abichite', 'abidal', 'abidance', 'abidances', 'abidden', 'abide', 'abided', 'abider', 'abiders', 'abides', 'abidi', 'abiding', 'abidingly', 'abidingness', 'Abidjan', 'Abydos', 'Abie', 'abye', 'abied', 'abyed', 'abiegh', 'abience', 'abient', 'Abies', 'abyes', 'abietate', 'abietene', 'abietic', 'abietin', 'Abietineae', 'abietineous', 'abietinic', 'abietite', 'Abiezer', 'Abigael', 'Abigail', 'abigails', 'abigailship', 'Abigale', 'abigeat', 'abigei', 'abigeus', 'Abihu', 'abying', 'Abijah', 'Abyla', 'abilao', 'Abilene', 'abiliment', 'Abilyne', 'abilitable', 'ability', 'abilities', \"ability's\", 'abilla', 'abilo', 'abime', 'Abimelech', 'Abineri', 'Abingdon', 'Abinger', 'Abington', 'Abinoam', 'Abinoem', 'abintestate', 'abiogeneses', 'abiogenesis', 'abiogenesist', 'abiogenetic', 'abiogenetical', 'abiogenetically', 'abiogeny', 'abiogenist', 'abiogenous', 'abiology', 'abiological', 'abiologically', 'abioses', 'abiosis', 'abiotic', 'abiotical', 'abiotically', 'abiotrophy', 'abiotrophic', 'Abipon', 'Abiquiu', 'abir', 'abirritant', 'abirritate', 'abirritated', 'abirritating', 'abirritation', 'abirritative', 'abys', 'Abisag', 'Abisha', 'Abishag', 'Abisia', 'abysm', 'abysmal', 'abysmally', 'abysms', 'Abyss', 'abyssa', 'abyssal', 'abysses', 'Abyssinia', 'Abyssinian', 'abyssinians', 'abyssobenthonic', 'abyssolith', 'abyssopelagic', \"abyss's\", 'abyssus', 'abiston', 'abit', 'Abitibi', 'Abiu', 'abiuret', 'Abixah', 'abject', 'abjectedness', 'abjection', 'abjections', 'abjective', 'abjectly', 'abjectness', 'abjectnesses', 'abjoint', 'abjudge', 'abjudged', 'abjudging', 'abjudicate', 'abjudicated', 'abjudicating', 'abjudication', 'abjudicator', 'abjugate', 'abjunct', 'abjunction', 'abjunctive', 'abjuration', 'abjurations', 'abjuratory', 'abjure', 'abjured', 'abjurement', 'abjurer', 'abjurers', 'abjures', 'abjuring', 'abkar', 'abkari', 'abkary', 'Abkhas', 'Abkhasia', 'Abkhasian', 'Abkhaz', 'Abkhazia', 'Abkhazian', 'abl', 'abl.', 'ablach', 'ablactate', 'ablactated', 'ablactating', 'ablactation', 'ablaqueate', 'ablare', 'A-blast', 'ablastemic', 'ablastin', 'ablastous', 'ablate', 'ablated', 'ablates', 'ablating', 'ablation', 'ablations', 'ablatitious', 'ablatival', 'ablative', 'ablatively', 'ablatives', 'ablator', 'ablaut', 'ablauts', 'ablaze', 'able', 'able-bodied', 'able-bodiedness', 'ableeze', 'ablegate', 'ablegates', 'ablegation', 'able-minded', 'able-mindedness', 'ablend', 'ableness', 'ablepharia', 'ablepharon', 'ablepharous', 'Ablepharus', 'ablepsy', 'ablepsia', 'ableptical', 'ableptically', 'abler', 'ables', 'ablesse', 'ablest', 'ablet', 'ablewhackets', 'ably', 'ablings', 'ablins', 'ablock', 'abloom', 'ablow', 'ABLS', 'ablude', 'abluent', 'abluents', 'ablush', 'ablute', 'abluted', 'ablution', 'ablutionary', 'ablutions', 'abluvion', 'ABM', 'abmho', 'abmhos', 'abmodality', 'abmodalities', 'abn', 'Abnaki', 'Abnakis', 'abnegate', 'abnegated', 'abnegates', 'abnegating', 'abnegation', 'abnegations', 'abnegative', 'abnegator', 'abnegators', 'Abner', 'abnerval', 'abnet', 'abneural', 'abnormal', 'abnormalcy', 'abnormalcies', 'abnormalise', 'abnormalised', 'abnormalising', 'abnormalism', 'abnormalist', 'abnormality', 'abnormalities', 'abnormalize', 'abnormalized', 'abnormalizing', 'abnormally', 'abnormalness', 'abnormals', 'abnormity', 'abnormities', 'abnormous', 'abnumerable', 'Abo', 'aboard', 'aboardage', 'Abobra', 'abococket', 'abodah', 'abode', 'aboded', 'abodement', 'abodes', \"abode's\", 'abody', 'aboding', 'abogado', 'abogados', 'abohm', 'abohms', 'aboideau', 'aboideaus', 'aboideaux', 'aboil', 'aboiteau', 'aboiteaus', 'aboiteaux', 'abolete', 'abolish', 'abolishable', 'abolished', 'abolisher', 'abolishers', 'abolishes', 'abolishing', 'abolishment', 'abolishments', \"abolishment's\", 'abolition', 'abolitionary', 'abolitionise', 'abolitionised', 'abolitionising', 'abolitionism', 'abolitionist', 'abolitionists', 'abolitionize', 'abolitionized', 'abolitionizing', 'abolitions', 'abolla', 'abollae', 'aboma', 'abomas', 'abomasa', 'abomasal', 'abomasi', 'abomasum', 'abomasus', 'abomasusi', 'A-bomb', 'abominability', 'abominable', 'abominableness', 'abominably', 'abominate', 'abominated', 'abominates', 'abominating', 'abomination', 'abominations', 'abominator', 'abominators', 'abomine', 'abondance', 'Abongo', 'abonne', 'abonnement', 'aboon', 'aborad', 'aboral', 'aborally', 'abord', 'Aboriginal', 'aboriginality', 'aboriginally', 'aboriginals', 'aboriginary', 'Aborigine', 'aborigines', \"aborigine's\", 'Abor-miri', 'Aborn', 'aborning', 'a-borning', 'aborsement', 'aborsive', 'abort', 'aborted', 'aborter', 'aborters', 'aborticide', 'abortient', 'abortifacient', 'abortin', 'aborting', 'abortion', 'abortional', 'abortionist', 'abortionists', 'abortions', \"abortion's\", 'abortive', 'abortively', 'abortiveness', 'abortogenic', 'aborts', 'abortus', 'abortuses', 'abos', 'abote', 'Abott', 'abouchement', 'aboudikro', 'abought', 'Aboukir', 'aboulia', 'aboulias', 'aboulic', 'abound', 'abounded', 'abounder', 'abounding', 'aboundingly', 'abounds', 'Abourezk', 'about', 'about-face', 'about-faced', 'about-facing', 'abouts', 'about-ship', 'about-shipped', 'about-shipping', 'about-sledge', 'about-turn', 'above', 'aboveboard', 'above-board', 'above-cited', 'abovedeck', 'above-found', 'above-given', 'aboveground', 'abovementioned', 'above-mentioned', 'above-named', 'aboveproof', 'above-quoted', 'above-reported', 'aboves', 'abovesaid', 'above-said', 'abovestairs', 'above-water', 'above-written', 'abow', 'abox', 'Abp', 'ABPC', 'Abqaiq', 'abr', 'abr.', 'Abra', 'abracadabra', 'abrachia', 'abrachias', 'abradable', 'abradant', 'abradants', 'abrade', 'abraded', 'abrader', 'abraders', 'abrades', 'abrading', 'Abraham', 'Abrahamic', 'Abrahamidae', 'Abrahamite', 'Abrahamitic', 'Abraham-man', 'Abrahams', 'Abrahamsen', 'Abrahan', 'abray', 'abraid', 'Abram', 'Abramis', 'Abramo', 'Abrams', 'Abramson', 'Abran', 'abranchial', 'abranchialism', 'abranchian', 'Abranchiata', 'abranchiate', 'abranchious', 'abrasax', 'abrase', 'abrased', 'abraser', 'abrash', 'abrasing', 'abrasiometer', 'abrasion', 'abrasions', \"abrasion's\", 'abrasive', 'abrasively', 'abrasiveness', 'abrasivenesses', 'abrasives', 'abrastol', 'abraum', 'abraxas', 'abrazite', 'abrazitic', 'abrazo', 'abrazos', 'abreact', 'abreacted', 'abreacting', 'abreaction', 'abreactions', 'abreacts', 'abreast', 'abreed', 'abrege', 'abreid', 'abrenounce', 'abrenunciate', 'abrenunciation', 'abreption', 'abret', 'abreuvoir', 'abri', 'abrico', 'abricock', 'abricot', 'abridgable', 'abridge', 'abridgeable', 'abridged', 'abridgedly', 'abridgement', 'abridgements', 'abridger', 'abridgers', 'abridges', 'abridging', 'abridgment', 'abridgments', 'abrim', 'abrin', 'abrine', 'abris', 'abristle', 'abroach', 'abroad', 'Abrocoma', 'abrocome', 'abrogable', 'abrogate', 'abrogated', 'abrogates', 'abrogating', 'abrogation', 'abrogations', 'abrogative', 'abrogator', 'abrogators', 'Abroma', 'Abroms', 'Abronia', 'abrood', 'abrook', 'abrosia', 'abrosias', 'abrotanum', 'abrotin', 'abrotine', 'abrupt', 'abruptedly', 'abrupter', 'abruptest', 'abruptio', 'abruption', 'abruptiones', 'abruptly', 'abruptness', 'Abrus', 'Abruzzi', 'ABS', 'abs-', 'Absa', 'Absalom', 'absampere', 'Absaraka', 'Absaroka', 'Absarokee', 'absarokite', 'ABSBH', 'abscam', 'abscess', 'abscessed', 'abscesses', 'abscessing', 'abscession', 'abscessroot', 'abscind', 'abscise', 'abscised', 'abscises', 'abscisin', 'abscising', 'abscisins', 'abscision', 'absciss', 'abscissa', 'abscissae', 'abscissas', \"abscissa's\", 'abscisse', 'abscissin', 'abscission', 'abscissions', 'absconce', 'abscond', 'absconded', 'abscondedly', 'abscondence', 'absconder', 'absconders', 'absconding', 'absconds', 'absconsa', 'abscoulomb', 'abscound', 'Absecon', 'absee', 'absey', 'abseil', 'abseiled', 'abseiling', 'abseils', 'absence', 'absences', \"absence's\", 'absent', 'absentation', 'absented', 'absentee', 'absenteeism', 'absentees', \"absentee's\", 'absenteeship', 'absenter', 'absenters', 'absentia', 'absenting', 'absently', 'absentment', 'absentminded', 'absent-minded', 'absentmindedly', 'absent-mindedly', 'absentmindedness', 'absent-mindedness', 'absentmindednesses', 'absentness', 'absents', 'absfarad', 'abshenry', 'Abshier', 'Absi', 'absinth', 'absinthe', 'absinthes', 'absinthial', 'absinthian', 'absinthiate', 'absinthiated', 'absinthiating', 'absinthic', 'absinthiin', 'absinthin', 'absinthine', 'absinthism', 'absinthismic', 'absinthium', 'absinthol', 'absinthole', 'absinths', 'Absyrtus', 'absis', 'absist', 'absistos', 'absit', 'absmho', 'absohm', 'absoil', 'absolent', 'Absolute', 'absolutely', 'absoluteness', 'absoluter', 'absolutes', 'absolutest', 'absolution', 'absolutions', 'absolutism', 'absolutist', 'absolutista', 'absolutistic', 'absolutistically', 'absolutists', 'absolutive', 'absolutization', 'absolutize', 'absolutory', 'absolvable', 'absolvatory', 'absolve', 'absolved', 'absolvent', 'absolver', 'absolvers', 'absolves', 'absolving', 'absolvitor', 'absolvitory', 'absonant', 'absonous', 'absorb', 'absorbability', 'absorbable', 'absorbance', 'absorbancy', 'absorbant', 'absorbed', 'absorbedly', 'absorbedness', 'absorbefacient', 'absorbency', 'absorbencies', 'absorbent', 'absorbents', 'absorber', 'absorbers', 'absorbing', 'absorbingly', 'absorbition', 'absorbs', 'absorbtion', 'absorpt', 'absorptance', 'absorptiometer', 'absorptiometric', 'absorption', 'absorptional', 'absorptions', \"absorption's\", 'absorptive', 'absorptively', 'absorptiveness', 'absorptivity', 'absquatulate', 'absquatulation', 'abstain', 'abstained', 'abstainer', 'abstainers', 'abstaining', 'abstainment', 'abstains', 'abstemious', 'abstemiously', 'abstemiousness', 'abstention', 'abstentionism', 'abstentionist', 'abstentions', 'abstentious', 'absterge', 'absterged', 'abstergent', 'absterges', 'absterging', 'absterse', 'abstersion', 'abstersive', 'abstersiveness', 'abstertion', 'abstinence', 'abstinences', 'abstinency', 'abstinent', 'abstinential', 'abstinently', 'abstort', 'abstr', 'abstract', 'abstractable', 'abstracted', 'abstractedly', 'abstractedness', 'abstracter', 'abstracters', 'abstractest', 'abstracting', 'abstraction', 'abstractional', 'abstractionism', 'abstractionist', 'abstractionists', 'abstractions', \"abstraction's\", 'abstractitious', 'abstractive', 'abstractively', 'abstractiveness', 'abstractly', 'abstractness', 'abstractnesses', 'abstractor', 'abstractors', \"abstractor's\", 'abstracts', 'abstrahent', 'abstrict', 'abstricted', 'abstricting', 'abstriction', 'abstricts', 'abstrude', 'abstruse', 'abstrusely', 'abstruseness', 'abstrusenesses', 'abstruser', 'abstrusest', 'abstrusion', 'abstrusity', 'abstrusities', 'absume', 'absumption', 'absurd', 'absurder', 'absurdest', 'absurdism', 'absurdist', 'absurdity', 'absurdities', \"absurdity's\", 'absurdly', 'absurdness', 'absurds', 'absurdum', 'absvolt', 'abt', 'abterminal', 'abthain', 'abthainry', 'abthainrie', 'abthanage', 'abtruse', 'Abu', 'abubble', 'Abu-Bekr', 'Abucay', 'abucco', 'abuilding', 'Abukir', 'abuleia', 'Abulfeda', 'abulia', 'abulias', 'abulic', 'abulyeit', 'abulomania', 'abumbral', 'abumbrellar', 'Abuna', 'abundance', 'abundances', 'abundancy', 'abundant', 'Abundantia', 'abundantly', 'abune', 'abura', 'aburabozu', 'aburagiri', 'aburban', 'Abury', 'aburst', 'aburton', 'abusable', 'abusage', 'abuse', 'abused', 'abusedly', 'abusee', 'abuseful', 'abusefully', 'abusefulness', 'abuser', 'abusers', 'abuses', 'abush', 'abusing', 'abusion', 'abusious', 'abusive', 'abusively', 'abusiveness', 'abusivenesses', 'abut', 'Abuta', 'Abutilon', 'abutilons', 'abutment', 'abutments', 'abuts', 'abuttal', 'abuttals', 'abutted', 'abutter', 'abutters', \"abutter's\", 'abutting', 'abuzz', 'abv', 'abvolt', 'abvolts', 'abwab', 'abwatt', 'abwatts', 'ac', 'ac-', 'a-c', 'AC/DC', 'ACAA', 'Acacallis', 'acacatechin', 'acacatechol', 'Acacea', 'Acaceae', 'acacetin', 'Acacia', 'Acacian', 'acacias', 'acaciin', 'acacin', 'acacine', 'acad', 'academe', 'academes', 'Academy', 'academia', 'academial', 'academian', 'academias', 'Academic', 'academical', 'academically', 'academicals', 'academician', 'academicians', 'academicianship', 'academicism', 'academics', 'academie', 'academies', \"academy's\", 'academise', 'academised', 'academising', 'academism', 'academist', 'academite', 'academization', 'academize', 'academized', 'academizing', 'Academus', 'Acadia', 'acadialite', 'Acadian', 'Acadie', 'Acaena', 'acajou', 'acajous', 'acal', 'acalculia', 'acale', 'acaleph', 'Acalepha', 'Acalephae', 'acalephan', 'acalephe', 'acalephes', 'acalephoid', 'acalephs', 'Acalia', 'acalycal', 'acalycine', 'acalycinous', 'acalyculate', 'Acalypha', 'Acalypterae', 'Acalyptrata', 'Acalyptratae', 'acalyptrate', 'Acamar', 'Acamas', 'Acampo', 'acampsia', 'acana', 'acanaceous', 'acanonical', 'acanth', 'acanth-', 'acantha', 'Acanthaceae', 'acanthaceous', 'acanthad', 'Acantharia', 'acanthi', 'Acanthia', 'acanthial', 'acanthin', 'acanthine', 'acanthion', 'acanthite', 'acantho-', 'acanthocarpous', 'Acanthocephala', 'acanthocephalan', 'Acanthocephali', 'acanthocephalous', 'Acanthocereus', 'acanthocladous', 'Acanthodea', 'acanthodean', 'Acanthodei', 'Acanthodes', 'acanthodian', 'Acanthodidae', 'Acanthodii', 'Acanthodini', 'acanthoid', 'Acantholimon', 'acantholysis', 'acanthology', 'acanthological', 'acanthoma', 'acanthomas', 'Acanthomeridae', 'acanthon', 'Acanthopanax', 'Acanthophis', 'acanthophorous', 'acanthopod', 'acanthopodous', 'acanthopomatous', 'acanthopore', 'acanthopteran', 'Acanthopteri', 'acanthopterygian', 'Acanthopterygii', 'acanthopterous', 'acanthoses', 'acanthosis', 'acanthotic', 'acanthous', 'Acanthuridae', 'Acanthurus', 'acanthus', 'acanthuses', 'acanthuthi', 'acapnia', 'acapnial', 'acapnias', 'acappella', 'acapsular', 'acapu', 'Acapulco', 'acara', 'Acarapis', 'acarari', 'acardia', 'acardiac', 'acardite', 'acari', 'acarian', 'acariasis', 'acariatre', 'acaricidal', 'acaricide', 'acarid', 'Acarida', 'acaridae', 'acaridan', 'acaridans', 'Acaridea', 'acaridean', 'acaridomatia', 'acaridomatium', 'acarids', 'acariform', 'Acarina', 'acarine', 'acarines', 'acarinosis', 'Acarnan', 'acarocecidia', 'acarocecidium', 'acarodermatitis', 'acaroid', 'acarol', 'acarology', 'acarologist', 'acarophilous', 'acarophobia', 'acarotoxic', 'acarpellous', 'acarpelous', 'acarpous', 'Acarus', 'ACAS', 'acast', 'Acastus', 'acatalectic', 'acatalepsy', 'acatalepsia', 'acataleptic', 'acatallactic', 'acatamathesia', 'acataphasia', 'acataposis', 'acatastasia', 'acatastatic', 'acate', 'acategorical', 'acater', 'acatery', 'acates', 'acatharsy', 'acatharsia', 'acatholic', 'acaudal', 'acaudate', 'acaudelescent', 'acaulescence', 'acaulescent', 'acauline', 'acaulose', 'acaulous', 'ACAWS', 'ACB', 'ACBL', 'ACC', 'acc.', 'acca', 'accable', 'Accad', 'accademia', 'Accadian', 'Accalia', 'acce', 'accede', 'acceded', 'accedence', 'acceder', 'acceders', 'accedes', 'acceding', 'accel', 'accel.', 'accelerable', 'accelerando', 'accelerant', 'accelerate', 'accelerated', 'acceleratedly', 'accelerates', 'accelerating', 'acceleratingly', 'acceleration', 'accelerations', 'accelerative', 'accelerator', 'acceleratorh', 'acceleratory', 'accelerators', 'accelerograph', 'accelerometer', 'accelerometers', \"accelerometer's\", 'accend', 'accendibility', 'accendible', 'accensed', 'accension', 'accensor', 'accent', 'accented', 'accenting', 'accentless', 'accentor', 'accentors', 'accents', 'accentuable', 'accentual', 'accentuality', 'accentually', 'accentuate', 'accentuated', 'accentuates', 'accentuating', 'accentuation', 'accentuations', 'accentuator', 'accentus', 'accept', 'acceptability', 'acceptabilities', 'acceptable', 'acceptableness', 'acceptably', 'acceptance', 'acceptances', \"acceptance's\", 'acceptancy', 'acceptancies', 'acceptant', 'acceptation', 'acceptavit', 'accepted', 'acceptedly', 'acceptee', 'acceptees', 'accepter', 'accepters', 'acceptilate', 'acceptilated', 'acceptilating', 'acceptilation', 'accepting', 'acceptingly', 'acceptingness', 'acception', 'acceptive', 'acceptor', 'acceptors', \"acceptor's\", 'acceptress', 'accepts', 'accerse', 'accersition', 'accersitor', 'access', 'accessability', 'accessable', 'accessary', 'accessaries', 'accessarily', 'accessariness', 'accessaryship', 'accessed', 'accesses', 'accessibility', 'accessibilities', 'accessible', 'accessibleness', 'accessibly', 'accessing', 'accession', 'accessional', 'accessioned', 'accessioner', 'accessioning', 'accessions', \"accession's\", 'accessit', 'accessive', 'accessively', 'accessless', 'accessor', 'accessory', 'accessorial', 'accessories', 'accessorii', 'accessorily', 'accessoriness', \"accessory's\", 'accessorius', 'accessoriusorii', 'accessorize', 'accessorized', 'accessorizing', 'accessors', \"accessor's\", 'acciaccatura', 'acciaccaturas', 'acciaccature', 'accidence', 'accidency', 'accidencies', 'accident', 'accidental', 'accidentalism', 'accidentalist', 'accidentality', 'accidentally', 'accidentalness', 'accidentals', 'accidentary', 'accidentarily', 'accidented', 'accidential', 'accidentiality', 'accidently', 'accident-prone', 'accidents', 'accidia', 'accidias', 'accidie', 'accidies', 'accinge', 'accinged', 'accinging', 'accipenser', 'accipient', 'Accipiter', 'accipitral', 'accipitrary', 'Accipitres', 'accipitrine', 'accipter', 'accise', 'accismus', 'accite', 'Accius', 'acclaim', 'acclaimable', 'acclaimed', 'acclaimer', 'acclaimers', 'acclaiming', 'acclaims', 'acclamation', 'acclamations', 'acclamator', 'acclamatory', 'acclimatable', 'acclimatation', 'acclimate', 'acclimated', 'acclimatement', 'acclimates', 'acclimating', 'acclimation', 'acclimations', 'acclimatisable', 'acclimatisation', 'acclimatise', 'acclimatised', 'acclimatiser', 'acclimatising', 'acclimatizable', 'acclimatization', 'acclimatizations', 'acclimatize', 'acclimatized', 'acclimatizer', 'acclimatizes', 'acclimatizing', 'acclimature', 'acclinal', 'acclinate', 'acclivity', 'acclivities', 'acclivitous', 'acclivous', 'accloy', 'accoast', 'accoy', 'accoyed', 'accoying', 'accoil', 'Accokeek', 'accolade', 'accoladed', 'accolades', 'accolated', 'accolent', 'accoll', 'accolle', 'accolled', 'accollee', 'Accomac', 'accombination', 'accommodable', 'accommodableness', 'accommodate', 'accommodated', 'accommodately', 'accommodateness', 'accommodates', 'accommodating', 'accommodatingly', 'accommodatingness', 'accommodation', 'accommodational', 'accommodationist', 'accommodations', 'accommodative', 'accommodatively', 'accommodativeness', 'accommodator', 'accommodators', 'accomodate', 'accompanable', 'accompany', 'accompanied', 'accompanier', 'accompanies', 'accompanying', 'accompanyist', 'accompaniment', 'accompanimental', 'accompaniments', \"accompaniment's\", 'accompanist', 'accompanists', \"accompanist's\", 'accomplement', 'accompletive', 'accompli', 'accomplice', 'accomplices', 'accompliceship', 'accomplicity', 'accomplis', 'accomplish', 'accomplishable', 'accomplished', 'accomplisher', 'accomplishers', 'accomplishes', 'accomplishing', 'accomplishment', 'accomplishments', \"accomplishment's\", 'accomplisht', 'accompt', 'accord', 'accordable', 'accordance', 'accordances', 'accordancy', 'accordant', 'accordantly', 'accordatura', 'accordaturas', 'accordature', 'accorded', 'accorder', 'accorders', 'according', 'accordingly', 'accordion', 'accordionist', 'accordionists', 'accordions', \"accordion's\", 'accords', 'accorporate', 'accorporation', 'accost', 'accostable', 'accosted', 'accosting', 'accosts', 'accouche', 'accouchement', 'accouchements', 'accoucheur', 'accoucheurs', 'accoucheuse', 'accoucheuses', 'accounsel', 'account', 'accountability', 'accountabilities', 'accountable', 'accountableness', 'accountably', 'accountancy', 'accountancies', 'accountant', 'accountants', \"accountant's\", 'accountantship', 'accounted', 'accounter', 'accounters', 'accounting', 'accountings', 'accountment', 'accountrement', 'accounts', 'accouple', 'accouplement', 'accourage', 'accourt', 'accouter', 'accoutered', 'accoutering', 'accouterment', 'accouterments', 'accouters', 'accoutre', 'accoutred', 'accoutrement', 'accoutrements', 'accoutres', 'accoutring', 'Accoville', 'ACCRA', 'accrease', 'accredit', 'accreditable', 'accreditate', 'accreditation', 'accreditations', 'accredited', 'accreditee', 'accrediting', 'accreditment', 'accredits', 'accrementitial', 'accrementition', 'accresce', 'accrescence', 'accrescendi', 'accrescendo', 'accrescent', 'accretal', 'accrete', 'accreted', 'accretes', 'accreting', 'accretion', 'accretionary', 'accretions', \"accretion's\", 'accretive', 'accriminate', 'Accrington', 'accroach', 'accroached', 'accroaching', 'accroachment', 'accroides', 'accruable', 'accrual', 'accruals', 'accrue', 'accrued', 'accruement', 'accruer', 'accrues', 'accruing', 'ACCS', 'ACCT', 'acct.', 'accts', 'accubation', 'accubita', 'accubitum', 'accubitus', 'accueil', 'accultural', 'acculturate', 'acculturated', 'acculturates', 'acculturating', 'acculturation', 'acculturational', 'acculturationist', 'acculturative', 'acculturize', 'acculturized', 'acculturizing', 'accum', 'accumb', 'accumbency', 'accumbent', 'accumber', 'accumulable', 'accumulate', 'accumulated', 'accumulates', 'accumulating', 'accumulation', 'accumulations', 'accumulativ', 'accumulative', 'accumulatively', 'accumulativeness', 'accumulator', 'accumulators', \"accumulator's\", 'accupy', 'accur', 'accuracy', 'accuracies', 'accurate', 'accurately', 'accurateness', 'accuratenesses', 'accurre', 'accurse', 'accursed', 'accursedly', 'accursedness', 'accursing', 'accurst', 'accurtation', 'accus', 'accusable', 'accusably', 'accusal', 'accusals', 'accusant', 'accusants', 'accusation', 'accusations', \"accusation's\", 'accusatival', 'accusative', 'accusative-dative', 'accusatively', 'accusativeness', 'accusatives', 'accusator', 'accusatory', 'accusatorial', 'accusatorially', 'accusatrix', 'accusatrixes', 'accuse', 'accused', 'accuser', 'accusers', 'accuses', 'accusing', 'accusingly', 'accusive', 'accusor', 'accustom', 'accustomation', 'accustomed', 'accustomedly', 'accustomedness', 'accustoming', 'accustomize', 'accustomized', 'accustomizing', 'accustoms', 'Accutron', 'ACD', 'ACDA', 'AC-DC', 'ACE', 'acea', 'aceacenaphthene', 'aceae', 'acean', 'aceanthrene', 'aceanthrenequinone', 'acecaffin', 'acecaffine', 'aceconitic', 'aced', 'acedy', 'acedia', 'acediamin', 'acediamine', 'acedias', 'acediast', 'ace-high', 'Acey', 'acey-deucy', 'aceite', 'aceituna', 'Aceldama', 'aceldamas', 'acellular', 'Acemetae', 'Acemetic', 'acemila', 'acenaphthene', 'acenaphthenyl', 'acenaphthylene', 'acenesthesia', 'acensuada', 'acensuador', 'acentric', 'acentrous', 'aceology', 'aceologic', 'aceous', 'acephal', 'Acephala', 'acephalan', 'Acephali', 'acephalia', 'Acephalina', 'acephaline', 'acephalism', 'acephalist', 'Acephalite', 'acephalocyst', 'acephalous', 'acephalus', 'acepots', 'acequia', 'acequiador', 'acequias', 'Acer', 'Aceraceae', 'aceraceous', 'Acerae', 'Acerata', 'acerate', 'acerated', 'Acerates', 'acerathere', 'Aceratherium', 'aceratosis', 'acerb', 'Acerbas', 'acerbate', 'acerbated', 'acerbates', 'acerbating', 'acerber', 'acerbest', 'acerbic', 'acerbically', 'acerbity', 'acerbityacerose', 'acerbities', 'acerbitude', 'acerbly', 'acerbophobia', 'acerdol', 'aceric', 'acerin', 'acerli', 'acerola', 'acerolas', 'acerose', 'acerous', 'acerra', 'acers', 'acertannin', 'acerval', 'acervate', 'acervately', 'acervatim', 'acervation', 'acervative', 'acervose', 'acervuli', 'acervuline', 'acervulus', 'aces', \"ace's\", 'acescence', 'acescency', 'acescent', 'acescents', 'aceship', 'Acesius', 'acesodyne', 'acesodynous', 'Acessamenus', 'Acestes', 'acestoma', 'acet-', 'aceta', 'acetable', 'acetabula', 'acetabular', 'Acetabularia', 'acetabuliferous', 'acetabuliform', 'acetabulous', 'acetabulum', 'acetabulums', 'acetacetic', 'acetal', 'acetaldehydase', 'acetaldehyde', 'acetaldehydrase', 'acetaldol', 'acetalization', 'acetalize', 'acetals', 'acetamid', 'acetamide', 'acetamidin', 'acetamidine', 'acetamido', 'acetamids', 'acetaminol', 'Acetaminophen', 'acetanilid', 'acetanilide', 'acetanion', 'acetaniside', 'acetanisidide', 'acetanisidine', 'acetannin', 'acetary', 'acetarious', 'acetars', 'acetarsone', 'acetate', 'acetated', 'acetates', 'acetation', 'acetazolamide', 'acetbromamide', 'acetenyl', 'Acetes', 'acethydrazide', 'acetiam', 'acetic', 'acetify', 'acetification', 'acetified', 'acetifier', 'acetifies', 'acetifying', 'acetyl', 'acetylacetonates', 'acetylacetone', 'acetylamine', 'acetylaminobenzene', 'acetylaniline', 'acetylasalicylic', 'acetylate', 'acetylated', 'acetylating', 'acetylation', 'acetylative', 'acetylator', 'acetylbenzene', 'acetylbenzoate', 'acetylbenzoic', 'acetylbiuret', 'acetylcarbazole', 'acetylcellulose', 'acetylcholine', 'acetylcholinesterase', 'acetylcholinic', 'acetylcyanide', 'acetylenation', 'acetylene', 'acetylenediurein', 'acetylenes', 'acetylenic', 'acetylenyl', 'acetylenogen', 'acetylfluoride', 'acetylglycin', 'acetylglycine', 'acetylhydrazine', 'acetylic', 'acetylid', 'acetylide', 'acetyliodide', 'acetylizable', 'acetylization', 'acetylize', 'acetylized', 'acetylizer', 'acetylizing', 'acetylmethylcarbinol', 'acetylperoxide', 'acetylphenylhydrazine', 'acetylphenol', 'acetylrosaniline', 'acetyls', 'acetylsalicylate', 'acetylsalicylic', 'acetylsalol', 'acetyltannin', 'acetylthymol', 'acetyltropeine', 'acetylurea', 'acetimeter', 'acetimetry', 'acetimetric', 'acetin', 'acetine', 'acetins', 'acetite', 'acetize', 'acetla', 'acetmethylanilide', 'acetnaphthalide', 'aceto-', 'acetoacetanilide', 'acetoacetate', 'acetoacetic', 'acetoamidophenol', 'acetoarsenite', 'Acetobacter', 'acetobenzoic', 'acetobromanilide', 'acetochloral', 'acetocinnamene', 'acetoin', 'acetol', 'acetolysis', 'acetolytic', 'acetometer', 'acetometry', 'acetometric', 'acetometrical', 'acetometrically', 'acetomorphin', 'acetomorphine', 'acetonaemia', 'acetonaemic', 'acetonaphthone', 'acetonate', 'acetonation', 'acetone', 'acetonemia', 'acetonemic', 'acetones', 'acetonic', 'acetonyl', 'acetonylacetone', 'acetonylidene', 'acetonitrile', 'acetonization', 'acetonize', 'acetonuria', 'acetonurometer', 'acetophenetide', 'acetophenetidin', 'acetophenetidine', 'acetophenin', 'acetophenine', 'acetophenone', 'acetopiperone', 'acetopyrin', 'acetopyrine', 'acetosalicylic', 'acetose', 'acetosity', 'acetosoluble', 'acetostearin', 'acetothienone', 'acetotoluid', 'acetotoluide', 'acetotoluidine', 'acetous', 'acetoveratrone', 'acetoxyl', 'acetoxyls', 'acetoxim', 'acetoxime', 'acetoxyphthalide', 'acetphenetid', 'acetphenetidin', 'acetract', 'acettoluide', 'acetum', 'aceturic', 'ACF', 'ACGI', 'ac-globulin', 'ACH', 'Achab', 'Achad', 'Achaea', 'Achaean', 'Achaemenes', 'Achaemenian', 'Achaemenid', 'Achaemenidae', 'Achaemenides', 'Achaemenidian', 'Achaemenids', 'achaenocarp', 'Achaenodon', 'Achaeta', 'achaetous', 'Achaeus', 'achafe', 'achage', 'Achagua', 'Achaia', 'Achaian', 'Achakzai', 'achalasia', 'Achamoth', 'Achan', 'Achango', 'achape', 'achaque', 'achar', 'acharya', 'Achariaceae', 'Achariaceous', 'acharne', 'acharnement', 'Acharnians', 'achate', 'Achates', 'Achatina', 'Achatinella', 'Achatinidae', 'achatour', 'Achaz', 'ache', 'acheat', 'achech', 'acheck', 'ached', 'acheer', 'ACHEFT', 'acheilary', 'acheilia', 'acheilous', 'acheiria', 'acheirous', 'acheirus', 'Achelous', 'Achen', 'achene', 'achenes', 'achenia', 'achenial', 'achenium', 'achenocarp', 'achenodia', 'achenodium', 'acher', 'Acherman', 'Achernar', 'Acheron', 'Acheronian', 'Acherontic', 'Acherontical', 'aches', 'Acheson', 'achesoun', 'achete', 'Achetidae', 'Acheulean', 'Acheulian', 'acheweed', 'achy', 'achier', 'achiest', 'achievability', 'achievable', 'achieve', 'achieved', 'achievement', 'achievements', \"achievement's\", 'achiever', 'achievers', 'achieves', 'achieving', 'ach-y-fi', 'achigan', 'achilary', 'achylia', 'Achill', 'Achille', 'Achillea', 'Achillean', 'achilleas', 'Achilleid', 'achillein', 'achilleine', 'Achilles', 'Achillize', 'achillobursitis', 'achillodynia', 'achilous', 'achylous', 'Achimaas', 'achime', 'Achimelech', 'Achimenes', 'achymia', 'achymous', 'Achinese', 'achiness', 'achinesses', 'aching', 'achingly', 'achiote', 'achiotes', 'achira', 'Achyranthes', 'achirite', 'Achyrodes', 'Achish', 'Achitophel', 'achkan', 'achlamydate', 'Achlamydeae', 'achlamydeous', 'achlorhydria', 'achlorhydric', 'achlorophyllous', 'achloropsia', 'achluophobia', 'Achmed', 'Achmetha', 'achoke', 'acholia', 'acholias', 'acholic', 'Acholoe', 'acholous', 'acholuria', 'acholuric', 'Achomawi', 'achondrite', 'achondritic', 'achondroplasia', 'achondroplastic', 'achoo', 'achor', 'achordal', 'Achordata', 'achordate', 'Achorion', 'Achorn', 'Achras', 'achree', 'achroacyte', 'Achroanthes', 'achrodextrin', 'achrodextrinase', 'achroglobin', 'achroiocythaemia', 'achroiocythemia', 'achroite', 'achroma', 'achromacyte', 'achromasia', 'achromat', 'achromat-', 'achromate', 'Achromatiaceae', 'achromatic', 'achromatically', 'achromaticity', 'achromatin', 'achromatinic', 'achromatisation', 'achromatise', 'achromatised', 'achromatising', 'achromatism', 'Achromatium', 'achromatizable', 'achromatization', 'achromatize', 'achromatized', 'achromatizing', 'achromatocyte', 'achromatolysis', 'achromatope', 'achromatophil', 'achromatophile', 'achromatophilia', 'achromatophilic', 'achromatopia', 'achromatopsy', 'achromatopsia', 'achromatosis', 'achromatous', 'achromats', 'achromaturia', 'achromia', 'achromic', 'Achromycin', 'Achromobacter', 'Achromobacterieae', 'achromoderma', 'achromophilous', 'achromotrichia', 'achromous', 'achronical', 'achronychous', 'achronism', 'achroo-', 'achroodextrin', 'achroodextrinase', 'achroous', 'achropsia', 'Achsah', 'achtehalber', 'achtel', 'achtelthaler', 'achter', 'achterveld', 'Achuas', 'achuete', 'acy', 'acyanoblepsia', 'acyanopsia', 'acichlorid', 'acichloride', 'acyclic', 'acyclically', 'acicula', 'aciculae', 'acicular', 'acicularity', 'acicularly', 'aciculas', 'aciculate', 'aciculated', 'aciculum', 'aciculums', 'acid', 'acidaemia', 'Acidalium', 'Acidanthera', 'Acidaspis', 'acid-binding', 'acidemia', 'acidemias', 'acider', 'acid-fast', 'acid-fastness', 'acid-forming', 'acidhead', 'acid-head', 'acidheads', 'acidy', 'acidic', 'acidiferous', 'acidify', 'acidifiable', 'acidifiant', 'acidific', 'acidification', 'acidified', 'acidifier', 'acidifiers', 'acidifies', 'acidifying', 'acidyl', 'acidimeter', 'acidimetry', 'acidimetric', 'acidimetrical', 'acidimetrically', 'acidite', 'acidity', 'acidities', 'acidize', 'acidized', 'acidizing', 'acidly', 'acidness', 'acidnesses', 'acidogenic', 'acidoid', 'acidolysis', 'acidology', 'acidometer', 'acidometry', 'acidophil', 'acidophile', 'acidophilic', 'acidophilous', 'acidophilus', 'acidoproteolytic', 'acidoses', 'acidosis', 'acidosteophyte', 'acidotic', 'acidproof', 'acids', 'acid-treat', 'acidulant', 'acidulate', 'acidulated', 'acidulates', 'acidulating', 'acidulation', 'acidulent', 'acidulous', 'acidulously', 'acidulousness', 'aciduria', 'acidurias', 'aciduric', 'Acie', 'acier', 'acierage', 'Acieral', 'acierate', 'acierated', 'acierates', 'acierating', 'acieration', 'acies', 'acyesis', 'acyetic', 'aciform', 'acyl', 'acylal', 'acylamido', 'acylamidobenzene', 'acylamino', 'acylase', 'acylate', 'acylated', 'acylates', 'acylating', 'acylation', 'aciliate', 'aciliated', 'Acilius', 'acylogen', 'acyloin', 'acyloins', 'acyloxy', 'acyloxymethane', 'acyls', 'Acima', 'acinaceous', 'acinaces', 'acinacifoliate', 'acinacifolious', 'acinaciform', 'acinacious', 'acinacity', 'acinar', 'acinary', 'acinarious', 'Acineta', 'Acinetae', 'acinetan', 'Acinetaria', 'acinetarian', 'acinetic', 'acinetiform', 'Acinetina', 'acinetinan', 'acing', 'acini', 'acinic', 'aciniform', 'acinose', 'acinotubular', 'acinous', 'acinuni', 'acinus', 'acious', 'Acipenser', 'Acipenseres', 'acipenserid', 'Acipenseridae', 'acipenserine', 'acipenseroid', 'Acipenseroidei', 'acyrology', 'acyrological', 'Acis', 'acystia', 'acitate', 'acity', 'aciurgy', 'ACK', 'ack-ack', 'ackee', 'ackees', 'ackey', 'ackeys', 'Acker', 'Ackerley', 'Ackerly', 'Ackerman', 'Ackermanville', 'Ackley', 'Ackler', 'ackman', 'ackmen', 'acknew', 'acknow', 'acknowing', 'acknowledge', 'acknowledgeable', 'acknowledged', 'acknowledgedly', 'acknowledgement', 'acknowledgements', 'acknowledger']\n"
     ]
    }
   ],
   "source": [
    "feature_names = vectorizer.get_feature_names()\n",
    "\n",
    "print(len(feature_names))\n",
    "print(feature_names[:3000])"
   ]
  },
  {
   "cell_type": "code",
   "execution_count": 11,
   "metadata": {},
   "outputs": [
    {
     "name": "stdout",
     "output_type": "stream",
     "text": [
      "  (0, 2092)\t1\n",
      "  (0, 5283)\t1\n",
      "  (0, 8042)\t1\n",
      "  (0, 27971)\t1\n",
      "  (0, 28288)\t1\n",
      "  (0, 52289)\t1\n",
      "  (0, 53325)\t1\n",
      "  (0, 57547)\t1\n",
      "  (0, 59997)\t2\n",
      "  (0, 63853)\t1\n",
      "  (0, 77020)\t1\n",
      "  (0, 79375)\t1\n",
      "  (0, 79494)\t1\n",
      "  (0, 79843)\t1\n",
      "  (0, 80208)\t1\n",
      "  (0, 81110)\t1\n",
      "  (0, 81894)\t1\n",
      "  (0, 83943)\t3\n",
      "  (0, 90277)\t1\n",
      "  (0, 90292)\t1\n",
      "  (0, 90913)\t2\n",
      "  (0, 90918)\t1\n",
      "  (0, 93475)\t1\n",
      "  (0, 102898)\t1\n",
      "  (0, 103349)\t1\n",
      "  :\t:\n",
      "  (0, 354749)\t2\n",
      "  (0, 354770)\t4\n",
      "  (0, 359221)\t1\n",
      "  (0, 360399)\t1\n",
      "  (0, 366735)\t1\n",
      "  (0, 367476)\t2\n",
      "  (0, 368667)\t1\n",
      "  (0, 373967)\t1\n",
      "  (0, 385115)\t1\n",
      "  (0, 385533)\t1\n",
      "  (0, 385568)\t1\n",
      "  (0, 385571)\t1\n",
      "  (0, 385593)\t1\n",
      "  (0, 391000)\t1\n",
      "  (0, 394394)\t1\n",
      "  (0, 404244)\t1\n",
      "  (0, 413764)\t1\n",
      "  (0, 416393)\t1\n",
      "  (0, 443612)\t1\n",
      "  (0, 443613)\t1\n",
      "  (0, 445172)\t5\n",
      "  (0, 445173)\t1\n",
      "  (0, 448800)\t3\n",
      "  (0, 452372)\t1\n",
      "  (0, 460371)\t5\n"
     ]
    }
   ],
   "source": [
    "train_vector_data = vectorizer.fit_transform(x_train.Text)\n",
    "\n",
    "print(train_vector_data[10])"
   ]
  },
  {
   "cell_type": "code",
   "execution_count": 12,
   "metadata": {},
   "outputs": [
    {
     "name": "stdout",
     "output_type": "stream",
     "text": [
      "  (0, 460371)\t0.27930700143324166\n",
      "  (0, 452372)\t0.06502573311295595\n",
      "  (0, 448800)\t0.14538468092529963\n",
      "  (0, 445173)\t0.04207975575851631\n",
      "  (0, 445172)\t0.3077308563267049\n",
      "  (0, 443613)\t0.07120425281038406\n",
      "  (0, 443612)\t0.06351186437154059\n",
      "  (0, 416393)\t0.042957510190313256\n",
      "  (0, 413764)\t0.06992990009384673\n",
      "  (0, 404244)\t0.06772469096276908\n",
      "  (0, 394394)\t0.059340962134263306\n",
      "  (0, 391000)\t0.05286378123784166\n",
      "  (0, 385593)\t0.06502573311295595\n",
      "  (0, 385571)\t0.07424394203727526\n",
      "  (0, 385568)\t0.057052049111993\n",
      "  (0, 385533)\t0.059855727650650045\n",
      "  (0, 385115)\t0.06992990009384673\n",
      "  (0, 373967)\t0.04508493664814761\n",
      "  (0, 368667)\t0.05200965018075175\n",
      "  (0, 367476)\t0.09348881342905811\n",
      "  (0, 366735)\t0.052287712174076406\n",
      "  (0, 360399)\t0.0393807979087032\n",
      "  (0, 359221)\t0.06282052398187829\n",
      "  (0, 354770)\t0.1822372704245252\n",
      "  (0, 354749)\t0.11025627108606964\n",
      "  :\t:\n",
      "  (0, 103349)\t0.0547775265304506\n",
      "  (0, 102898)\t0.04931069233093862\n",
      "  (0, 93475)\t0.040180769667256824\n",
      "  (0, 90918)\t0.05791635700098752\n",
      "  (0, 90913)\t0.1004479371242881\n",
      "  (0, 90292)\t0.06675656128604993\n",
      "  (0, 90277)\t0.07262885794365986\n",
      "  (0, 83943)\t0.12810046969947808\n",
      "  (0, 81894)\t0.06992990009384673\n",
      "  (0, 81110)\t0.04825827545594442\n",
      "  (0, 80208)\t0.033696026930010545\n",
      "  (0, 79843)\t0.08101258677216562\n",
      "  (0, 79494)\t0.034189775648746\n",
      "  (0, 79375)\t0.06351186437154059\n",
      "  (0, 77020)\t0.05378284324481158\n",
      "  (0, 63853)\t0.08449214861978062\n",
      "  (0, 59997)\t0.1040193003615035\n",
      "  (0, 57547)\t0.06351186437154059\n",
      "  (0, 53325)\t0.05286378123784166\n",
      "  (0, 52289)\t0.06992990009384673\n",
      "  (0, 28288)\t0.06351186437154059\n",
      "  (0, 27971)\t0.061546171265340975\n",
      "  (0, 8042)\t0.050957233305757535\n",
      "  (0, 5283)\t0.06351186437154059\n",
      "  (0, 2092)\t0.05316244243683519\n"
     ]
    }
   ],
   "source": [
    "tfidfer = TfidfTransformer()\n",
    "train_preprocessed = tfidfer.fit_transform(train_vector_data)\n",
    "\n",
    "print(train_preprocessed[10])"
   ]
  },
  {
   "cell_type": "code",
   "execution_count": 13,
   "metadata": {},
   "outputs": [],
   "source": [
    "test_vector_data = vectorizer.transform(x_test.Text)\n",
    "test_preprocessed = tfidfer.transform(test_vector_data)"
   ]
  },
  {
   "cell_type": "code",
   "execution_count": 14,
   "metadata": {},
   "outputs": [],
   "source": [
    "import numpy as np\n",
    "import numpy.ma as ma\n",
    "\n",
    "def write_terms (feature_names, data, vector_data, index):\n",
    "    '''\n",
    "    Escribe los términos presentes en un mensaje representado como bolsa de palabras.\n",
    "    \n",
    "    - feature_names: terminos usados para vectorizar\n",
    "    - data: lista de mensajes original (si data==None no se muestra el mensaje original)\n",
    "    - vector_data: matriz (dispersa) de mensaje vectorizados\n",
    "    - index: posición del mensaje a mostrar\n",
    "    '''\n",
    "    # máscara para seleccionar sólo el mensaje en posición index\n",
    "    mask=vector_data[index,:]>0\n",
    "    \n",
    "    # términos que aparecen en ese mensaje vectorizado\n",
    "    terminos = ma.array(feature_names, mask = ~(mask[0].toarray()))\n",
    "    \n",
    "    # mostrar mensaje original\n",
    "    if data is not None:\n",
    "        print('Mensaje', index, ':', data[index])\n",
    "    \n",
    "    # mostrar términos que aparecen en el mensaje vectorizado\n",
    "    print('Mensaje', index, 'vectorizado:', terminos.compressed(),'\\n')"
   ]
  },
  {
   "cell_type": "code",
   "execution_count": 15,
   "metadata": {},
   "outputs": [
    {
     "name": "stdout",
     "output_type": "stream",
     "text": [
      "Mensaje 0 : microsoft releases bumper patches microsoft has warned pc users to update their systems with the latest security fixes for flaws in windows programs.  in its monthly security bulletin  it flagged up eight  critical  security holes which could leave pcs open to attack if left unpatched. the number of holes considered  critical  is more than usual. they affect windows programs  including internet explorer (ie)  media player and instant messaging. four other important fixes were also released. these were considered to be less critical  however. if not updated  either automatically or manually  pc users running the programs could be vulnerable to viruses or other malicious attacks designed to exploit the holes. many of the flaws could be used by virus writers to take over computers remotely  install programs  change  and delete or see data.  one of the critical patches microsoft has made available is an important one that fixes some ie flaws. stephen toulouse  a microsoft security manager  said the flaws were known about  and although the firm had not seen any attacks exploiting the flaw  he did not rule them out. often  when a critical flaw is announced  spates of viruses follow because home users and businesses leave the flaw unpatched. a further patch fixes a hole in media player  windows messenger and msn messenger which an attacker could use to take control of unprotected machines through .png files. microsoft announces any vulnerabilities in its software every month. the most important ones are those which are classed as  critical . its latest releases came the week that the company announced it was to buy security software maker sybari software as part of microsoft s plans to make its own security programs.\n",
      "Mensaje 0 vectorizado: ['affect' 'announced' 'announces' 'attack' 'attacker' 'attacks'\n",
      " 'automatically' 'available' 'buy' 'bulletin' 'bumper' 'businesses'\n",
      " 'change' 'classed' 'company' 'computers' 'considered' 'control'\n",
      " 'critical' 'delete' 'designed' 'exploit' 'exploiting' 'firm' 'fixes'\n",
      " 'flagged' 'flaw' 'flaws' 'follow' 'holes' 'important' 'including'\n",
      " 'install' 'instant' 'internet' 'known' 'latest' 'leave' 'left' 'machines'\n",
      " 'make' 'malicious' 'manager' 'manually' 'messaging' 'messenger' 'month'\n",
      " 'monthly' 'number' 'ones' 'open' 'patch' 'patches' 'plans' 'programs'\n",
      " 'released' 'releases' 'remotely' 'rule' 'running' 'said' 'security'\n",
      " 'software' 'spates' 'unpatched' 'unprotected' 'update' 'updated' 'used'\n",
      " 'users' 'usual' 'virus' 'viruses' 'vulnerabilities' 'vulnerable' 'warned'\n",
      " 'week' 'windows' 'writers'] \n",
      "\n"
     ]
    }
   ],
   "source": [
    "write_terms(feature_names, x_train.Text.tolist(), train_preprocessed, 0)"
   ]
  },
  {
   "cell_type": "code",
   "execution_count": 16,
   "metadata": {},
   "outputs": [
    {
     "data": {
      "text/plain": [
       "' Texto, palabras que no están, por qué '"
      ]
     },
     "execution_count": 16,
     "metadata": {},
     "output_type": "execute_result"
    }
   ],
   "source": [
    "\"\"\" Texto, palabras que no están, por qué \"\"\""
   ]
  },
  {
   "cell_type": "code",
   "execution_count": 17,
   "metadata": {},
   "outputs": [],
   "source": [
    "from sklearn.metrics.pairwise import cosine_similarity\n",
    "\n",
    "def knn(query, X_train, k):\n",
    "    '''Devuelve los índices de los k documentos de entrenamiento más similares a la consulta usando \n",
    "    la similitud del coseno.\n",
    "    \n",
    "    Parámetros:\n",
    "    - query: documento consulta vectorizado\n",
    "    - X_train: documentos de entrenamiento vectorizados\n",
    "    - k: número de documentos a recuperar\n",
    "    \n",
    "    Devuelve:\n",
    "    - índices de los k documentos más similares a la consulta.\n",
    "    '''\n",
    "    \n",
    "    # Necesitamos un vector de dimensión (1, X). Si se pasa un vector de dimensión X, transformarlo\n",
    "    if len(query.shape) == 1:\n",
    "        query = query.reshape(1, -1)\n",
    "\n",
    "    simil = cosine_similarity(query, X_train)\n",
    "    simil_idx = np.argsort(simil.flatten())\n",
    "    simil_idx = simil_idx[::-1]\n",
    "    return simil_idx[:k]"
   ]
  },
  {
   "cell_type": "code",
   "execution_count": 18,
   "metadata": {},
   "outputs": [],
   "source": [
    "def precision_at_k(y_selected, y_real, k):\n",
    "    '''Devuelve la precisión @k de los documentos seleccionados.\n",
    "    \n",
    "    Parametros:\n",
    "    - y_selected: etiquetas de los documentos seleccionados (se usan los k primeros)\n",
    "    - y_real: etiqueta de la categoría correcta\n",
    "    - k: número de documentos que se tienen en cuenta\n",
    "    \n",
    "    Devuelve:\n",
    "    - Precisión@k\n",
    "    '''\n",
    "    \n",
    "    return np.sum(y_selected[:k] == y_real) / k * 100"
   ]
  },
  {
   "cell_type": "code",
   "execution_count": 19,
   "metadata": {},
   "outputs": [],
   "source": [
    "def mean_precisions_per_class(X_train, y_train, X_test, y_test, k):\n",
    "    '''Devuelve las precision@k media para cada una de las classes.\n",
    "    \n",
    "    Parámetros:\n",
    "    - X_train: documentos de entrenamiento vectorizados.\n",
    "    - y_train: etiquetas de los documentos de entrenamiento.\n",
    "    - X_test: documentos vectorizados que se usan como consultas\n",
    "    - y_test: etiquetas de los documentos que se usan como consultas\n",
    "    - k: número de documentos considerados a recuperar por la consulta\n",
    "    \n",
    "    Devuelve:\n",
    "    - Diccionario clase -> precisión en tanto por ciento.\n",
    "    '''\n",
    "    \n",
    "    # diccionario categoría -> lista de precisiones\n",
    "    y_precisions = {y: [] for y in np.unique(y_test)}\n",
    "    \n",
    "    # Calcular precision@k para cada consulta\n",
    "    for x_query, y_query in zip(X_test, y_test):\n",
    "        idx = knn(x_query, X_train, k)\n",
    "        y_selected = np.take(y_train, idx)\n",
    "        precision = precision_at_k(y_selected, y_query, k)\n",
    "        y_precisions[y_query].append(precision)\n",
    "        \n",
    "    # Calcular medias\n",
    "    for y in y_precisions:\n",
    "        y_precisions[y] = np.mean(y_precisions[y])\n",
    "    \n",
    "    return y_precisions"
   ]
  },
  {
   "cell_type": "code",
   "execution_count": 20,
   "metadata": {},
   "outputs": [
    {
     "data": {
      "text/plain": [
       "{'business': 80.45454545454545,\n",
       " 'entertainment': 87.23404255319149,\n",
       " 'politics': 91.72413793103448,\n",
       " 'sport': 97.55102040816327,\n",
       " 'tech': 87.09677419354838}"
      ]
     },
     "execution_count": 20,
     "metadata": {},
     "output_type": "execute_result"
    }
   ],
   "source": [
    "p5 = mean_precisions_per_class(train_preprocessed, x_train.Category, test_preprocessed[:200,], x_test.Category[:200], 5)\n",
    "    \n",
    "p5"
   ]
  },
  {
   "cell_type": "code",
   "execution_count": 21,
   "metadata": {},
   "outputs": [],
   "source": [
    "target_names = ['business', 'entertainment', 'politic', 'sport', 'tech'];"
   ]
  },
  {
   "cell_type": "code",
   "execution_count": 22,
   "metadata": {},
   "outputs": [
    {
     "data": {
      "text/plain": [
       "<AxesSubplot:xlabel='target'>"
      ]
     },
     "execution_count": 22,
     "metadata": {},
     "output_type": "execute_result"
    },
    {
     "data": {
      "image/png": "[encoded data removed]",
      "text/plain": [
       "<Figure size 432x288 with 1 Axes>"
      ]
     },
     "metadata": {
      "needs_background": "light"
     },
     "output_type": "display_data"
    }
   ],
   "source": [
    "df_p5 = pd.DataFrame.from_dict(p5, orient='index', columns=['precision@5'])\n",
    "\n",
    "df_p5[\"target\"] =  target_names\n",
    "\n",
    "d = df_p5.set_index(\"target\")\n",
    "\n",
    "d.plot.bar()"
   ]
  },
  {
   "cell_type": "code",
   "execution_count": 23,
   "metadata": {},
   "outputs": [
    {
     "data": {
      "text/plain": [
       "' Gud resultados, mejores clases y peores '"
      ]
     },
     "execution_count": 23,
     "metadata": {},
     "output_type": "execute_result"
    }
   ],
   "source": [
    "\"\"\" Gud resultados, mejores clases y peores \"\"\""
   ]
  },
  {
   "cell_type": "markdown",
   "metadata": {
    "id": "lH7sldldpzXi"
   },
   "source": [
    "## 3) Representación basada en word-embeddings y tf-idf\n",
    "\n",
    "La segunda vectorización que vamos a usar representará los mensajes usando usando word-embeddings usando como los pesos tf-idf de cada palabra. Al igual que en el apartado anterior, usaremos monogramas y las _stop words_ que vienen configuradas por defecto para el inglés. Recuerda usar como vocabulario para vectorizar el vocabulario del fichero con las word-embeddings.\n",
    "\n",
    "Aplica la vectorización a los conjuntos de mensajes de entrenamiento y test.\n",
    "\n",
    "Calcula la precisión@5 de cada una de las clases usando como consultas los documentos de la partición de test y la similitud del coseno. Vamos a considerar que un documento recuperado es relevante cuando pertenezca a la misma clase que la consulta.\n",
    "\n",
    "Dibuja los resultados en un diagrama de barras y compara los resultados con los del apartado anterior."
   ]
  },
  {
   "cell_type": "code",
   "execution_count": 24,
   "metadata": {},
   "outputs": [],
   "source": [
    "from gensim.scripts.glove2word2vec import glove2word2vec\n",
    "from gensim.models import KeyedVectors\n",
    "\n",
    "model = KeyedVectors.load_word2vec_format('words.txt', binary=False, no_header=True)"
   ]
  },
  {
   "cell_type": "code",
   "execution_count": 25,
   "metadata": {},
   "outputs": [],
   "source": [
    "we_vocabulary = list(model.key_to_index.keys())"
   ]
  },
  {
   "cell_type": "code",
   "execution_count": 26,
   "metadata": {},
   "outputs": [],
   "source": [
    "vectorizer2 = CountVectorizer(vocabulary = we_vocabulary, stop_words='english', binary=False,ngram_range=(1,1))"
   ]
  },
  {
   "cell_type": "code",
   "execution_count": 27,
   "metadata": {},
   "outputs": [],
   "source": [
    "train_data_vector2 = vectorizer2.fit_transform(x_train.Text)\n",
    "test_data_vector2 = vectorizer2.transform(x_test.Text)\n",
    "\n",
    "we_feature_names = vectorizer2.get_feature_names()"
   ]
  },
  {
   "cell_type": "code",
   "execution_count": 28,
   "metadata": {},
   "outputs": [],
   "source": [
    "train_preprocessed2 = tfidfer.fit_transform(train_data_vector2)\n",
    "test_preprocessed2 = tfidfer.transform(test_data_vector2)"
   ]
  },
  {
   "cell_type": "code",
   "execution_count": 29,
   "metadata": {},
   "outputs": [
    {
     "data": {
      "text/plain": [
       "{'business': 80.45454545454545,\n",
       " 'entertainment': 87.23404255319149,\n",
       " 'politics': 91.72413793103448,\n",
       " 'sport': 97.55102040816327,\n",
       " 'tech': 87.09677419354838}"
      ]
     },
     "execution_count": 29,
     "metadata": {},
     "output_type": "execute_result"
    }
   ],
   "source": [
    "p5_2 = mean_precisions_per_class(train_preprocessed2, x_train.Category, test_preprocessed2[:200,], x_test.Category[:200], 5)\n",
    "    \n",
    "p5_2"
   ]
  },
  {
   "cell_type": "code",
   "execution_count": 30,
   "metadata": {},
   "outputs": [
    {
     "data": {
      "text/plain": [
       "<AxesSubplot:xlabel='target'>"
      ]
     },
     "execution_count": 30,
     "metadata": {},
     "output_type": "execute_result"
    },
    {
     "data": {
      "image/png": "[encoded data removed]",
      "text/plain": [
       "<Figure size 432x288 with 1 Axes>"
      ]
     },
     "metadata": {
      "needs_background": "light"
     },
     "output_type": "display_data"
    }
   ],
   "source": [
    "df_p5_2 = pd.DataFrame.from_dict(p5_2, orient='index', columns=['precision@5'])\n",
    "\n",
    "df_p5_2[\"target\"] =  target_names\n",
    "\n",
    "d2 = df_p5_2.set_index(\"target\")\n",
    "\n",
    "d2.plot.bar()"
   ]
  },
  {
   "cell_type": "markdown",
   "metadata": {
    "id": "d-J6GYut4DGu"
   },
   "source": [
    "## 4) Análisis de errores\n",
    "\n",
    "Vamos a investigar los resultados para entender mejor dónde están fallando los procesos de recuperación. Sigue los siguientes pasos.\n",
    "\n",
    "\n",
    "1. Identifica la categoría de noticias donde la precisión media haya mejorado más al incorporar word-embeddings\n",
    "2. Para dicha categoría, identifica la consulta donde la precisión haya mejorado más al usar word-embeddings\n",
    "3. Muestra el texto original de la consulta y los términos que aparecen en las dos vectorizaciones tf-idf que usamos (recuerda que usamos diccionarios distintos para las vectorizaciones bolsa de palabras y word-embeddings).\n",
    "4. Identifica las noticias recuperadas para dicha consulta para las dos aproximaciones y sus categorías (TF-IDF puro y con word-embeddings)\n",
    "5. Muestra la intersección de términos entre la consulta y la primera noticia mal recuperada usando TF-IDF puro.\n",
    "6. Muestra la intersección de términos entre la consulta y la última noticia bien recuperada usando word-embeddings.\n",
    "7. A la luz de todo lo anterior, razona sobre por qué crees que el TF-IDF no fue capaz de clasificar bien la noticia y el word-embedding sí.\n",
    "\n",
    "\n",
    "Puedes usar el código que calcula la intersección de términos que ponemos a continuación"
   ]
  },
  {
   "cell_type": "code",
   "execution_count": 31,
   "metadata": {
    "id": "RUat8DCRLYs1"
   },
   "outputs": [],
   "source": [
    "def terms_in_message(feature_names,vector_data,index):\n",
    "    '''\n",
    "    Devuelve un conjunto los términos presentes en un mensaje representado como bolsa de palabras.\n",
    "    \n",
    "    - feature_names: terminos usados para vectorizar\n",
    "    - vector_data: matriz (dispersa) de mensaje vectorizados\n",
    "    - index: posición del mensaje a mostrar\n",
    "    '''\n",
    "    mensaje=vector_data[index,:]>0\n",
    "    terminos_presentes = ma.array(feature_names, mask = ~(mensaje[0].toarray()))\n",
    "\n",
    "    return set(terminos_presentes.compressed())"
   ]
  },
  {
   "cell_type": "code",
   "execution_count": null,
   "metadata": {},
   "outputs": [],
   "source": []
  },
  {
   "cell_type": "code",
   "execution_count": null,
   "metadata": {},
   "outputs": [],
   "source": []
  }
 ],
 "metadata": {
  "colab": {
   "name": "P2_recuperacion_informacion_2122_enunciado.ipynb",
   "provenance": []
  },
  "kernelspec": {
   "display_name": "Python 3",
   "language": "python",
   "name": "python3"
  },
  "language_info": {
   "codemirror_mode": {
    "name": "ipython",
    "version": 3
   },
   "file_extension": ".py",
   "mimetype": "text/x-python",
   "name": "python",
   "nbconvert_exporter": "python",
   "pygments_lexer": "ipython3",
   "version": "3.8.8"
  }
 },
 "nbformat": 4,
 "nbformat_minor": 1
}
