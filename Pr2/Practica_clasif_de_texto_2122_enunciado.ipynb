{
 "cells": [
  {
   "cell_type": "markdown",
   "metadata": {},
   "source": [
    "# Práctica 2: Procesamiento del Lenguaje Natural\n",
    "\n",
    "__Fecha de entrega: 3 de abril de 2022__\n",
    "\n",
    "El objetivo de esta práctica es aplicar los conceptos teóricos vistos en clase en el módulo de PLN. La práctica consta de 2 notebooks que se entregarán simultáneamente en la tarea de entrega habilitada en el Campus  Virtual.\n",
    "\n",
    "Lo más importante en esta práctica no es el código Python, sino el análisis de los datos y modelos que construyas y las explicaciones razonadas de cada una de las decisiones que tomes. __No se valorarán trozos de código o gráficas sin ningún tipo de contexto o explicación__.\n",
    "\n",
    "Finalmente, recuerda establecer el parámetro `random_state` en todas las funciones que tomen decisiones aleatorias para que los resultados sean reproducibles (los resultados no varíen entre ejecuciones)."
   ]
  },
  {
   "cell_type": "code",
   "execution_count": 1,
   "metadata": {},
   "outputs": [],
   "source": [
    "RANDOM_STATE = 23"
   ]
  },
  {
   "cell_type": "markdown",
   "metadata": {},
   "source": [
    "# Apartado 1: Clasificador de noticias"
   ]
  },
  {
   "cell_type": "markdown",
   "metadata": {},
   "source": [
    "## 1) Carga del conjunto de datos\n",
    "\n",
    "El fichero `BBC News.csv` contiene noticias clasificadas en 5 categorías diferentes. \n",
    "\n",
    "Carga los datos en un dataframe teniendo en cuenta que la columna `ArticleId` es un identificador de la noticia y por lo tanto no debes usarlo para clasificar. \n",
    "\n",
    "Estudia el tamaño del conjunto de datos y la proporción de noticias que pertenecen a cada una de las categorías. Indica si debemos tenerlo en cuenta de alguna forma al analizar los modelos que construyamos.\n",
    "\n",
    "Muestra un mensaje cualquiera y explica si lo habrías clasificado en la clase correcta tras leerlo.\n",
    "\n",
    "Crea una partición de los datos dejando el 80% para entrenamiento y el 20% restante para test usando la función `train_test_split` de sklearn. "
   ]
  },
  {
   "cell_type": "code",
   "execution_count": 2,
   "metadata": {},
   "outputs": [
    {
     "data": {
      "text/html": [
       "<div>\n",
       "<style scoped>\n",
       "    .dataframe tbody tr th:only-of-type {\n",
       "        vertical-align: middle;\n",
       "    }\n",
       "\n",
       "    .dataframe tbody tr th {\n",
       "        vertical-align: top;\n",
       "    }\n",
       "\n",
       "    .dataframe thead th {\n",
       "        text-align: right;\n",
       "    }\n",
       "</style>\n",
       "<table border=\"1\" class=\"dataframe\">\n",
       "  <thead>\n",
       "    <tr style=\"text-align: right;\">\n",
       "      <th></th>\n",
       "      <th>ArticleId</th>\n",
       "      <th>Text</th>\n",
       "      <th>Category</th>\n",
       "    </tr>\n",
       "  </thead>\n",
       "  <tbody>\n",
       "    <tr>\n",
       "      <th>0</th>\n",
       "      <td>1833</td>\n",
       "      <td>worldcom ex-boss launches defence lawyers defe...</td>\n",
       "      <td>business</td>\n",
       "    </tr>\n",
       "    <tr>\n",
       "      <th>1</th>\n",
       "      <td>154</td>\n",
       "      <td>german business confidence slides german busin...</td>\n",
       "      <td>business</td>\n",
       "    </tr>\n",
       "    <tr>\n",
       "      <th>2</th>\n",
       "      <td>1101</td>\n",
       "      <td>bbc poll indicates economic gloom citizens in ...</td>\n",
       "      <td>business</td>\n",
       "    </tr>\n",
       "    <tr>\n",
       "      <th>3</th>\n",
       "      <td>1976</td>\n",
       "      <td>lifestyle  governs mobile choice  faster  bett...</td>\n",
       "      <td>tech</td>\n",
       "    </tr>\n",
       "    <tr>\n",
       "      <th>4</th>\n",
       "      <td>917</td>\n",
       "      <td>enron bosses in $168m payout eighteen former e...</td>\n",
       "      <td>business</td>\n",
       "    </tr>\n",
       "  </tbody>\n",
       "</table>\n",
       "</div>"
      ],
      "text/plain": [
       "  ArticleId                                               Text  Category\n",
       "0      1833  worldcom ex-boss launches defence lawyers defe...  business\n",
       "1       154  german business confidence slides german busin...  business\n",
       "2      1101  bbc poll indicates economic gloom citizens in ...  business\n",
       "3      1976  lifestyle  governs mobile choice  faster  bett...      tech\n",
       "4       917  enron bosses in $168m payout eighteen former e...  business"
      ]
     },
     "execution_count": 2,
     "metadata": {},
     "output_type": "execute_result"
    }
   ],
   "source": [
    "import pandas as pd\n",
    "import numpy as np\n",
    "from sklearn.model_selection import train_test_split\n",
    "\n",
    "df = pd.read_csv(\"BBC_News.csv\")\n",
    "\n",
    "df[\"ArticleId\"] = df[\"ArticleId\"].astype(\"category\")\n",
    "\n",
    "df.head()"
   ]
  },
  {
   "cell_type": "code",
   "execution_count": 3,
   "metadata": {},
   "outputs": [
    {
     "name": "stdout",
     "output_type": "stream",
     "text": [
      "Training text:  1490\n"
     ]
    }
   ],
   "source": [
    "print(\"Training text: \", len(df))"
   ]
  },
  {
   "cell_type": "code",
   "execution_count": 4,
   "metadata": {},
   "outputs": [
    {
     "data": {
      "text/html": [
       "<div>\n",
       "<style scoped>\n",
       "    .dataframe tbody tr th:only-of-type {\n",
       "        vertical-align: middle;\n",
       "    }\n",
       "\n",
       "    .dataframe tbody tr th {\n",
       "        vertical-align: top;\n",
       "    }\n",
       "\n",
       "    .dataframe thead th {\n",
       "        text-align: right;\n",
       "    }\n",
       "</style>\n",
       "<table border=\"1\" class=\"dataframe\">\n",
       "  <thead>\n",
       "    <tr style=\"text-align: right;\">\n",
       "      <th></th>\n",
       "      <th>ArticleId</th>\n",
       "      <th>Text</th>\n",
       "    </tr>\n",
       "    <tr>\n",
       "      <th>Category</th>\n",
       "      <th></th>\n",
       "      <th></th>\n",
       "    </tr>\n",
       "  </thead>\n",
       "  <tbody>\n",
       "    <tr>\n",
       "      <th>business</th>\n",
       "      <td>336</td>\n",
       "      <td>336</td>\n",
       "    </tr>\n",
       "    <tr>\n",
       "      <th>entertainment</th>\n",
       "      <td>273</td>\n",
       "      <td>273</td>\n",
       "    </tr>\n",
       "    <tr>\n",
       "      <th>politics</th>\n",
       "      <td>274</td>\n",
       "      <td>274</td>\n",
       "    </tr>\n",
       "    <tr>\n",
       "      <th>sport</th>\n",
       "      <td>346</td>\n",
       "      <td>346</td>\n",
       "    </tr>\n",
       "    <tr>\n",
       "      <th>tech</th>\n",
       "      <td>261</td>\n",
       "      <td>261</td>\n",
       "    </tr>\n",
       "  </tbody>\n",
       "</table>\n",
       "</div>"
      ],
      "text/plain": [
       "               ArticleId  Text\n",
       "Category                      \n",
       "business             336   336\n",
       "entertainment        273   273\n",
       "politics             274   274\n",
       "sport                346   346\n",
       "tech                 261   261"
      ]
     },
     "execution_count": 4,
     "metadata": {},
     "output_type": "execute_result"
    }
   ],
   "source": [
    "frec = df.groupby(['Category']).count()\n",
    "frec"
   ]
  },
  {
   "cell_type": "code",
   "execution_count": 1,
   "metadata": {},
   "outputs": [
    {
     "data": {
      "text/plain": [
       "' La conclusion es que hay una diferencia un poco considerable de noticias de business y de sports \\ncomparados con las otras que pueden hacer que el predictor de categorias tienda mas a predecir estas que \\nlas que son menos numerosas '"
      ]
     },
     "execution_count": 1,
     "metadata": {},
     "output_type": "execute_result"
    }
   ],
   "source": [
    "\"\"\" La conclusion es que hay una diferencia un poco considerable de noticias de business y de sports \n",
    "comparados con las otras que pueden hacer que el predictor de categorias tienda mas a predecir estas que \n",
    "las que son menos numerosas \"\"\""
   ]
  },
  {
   "cell_type": "code",
   "execution_count": 6,
   "metadata": {},
   "outputs": [
    {
     "name": "stdout",
     "output_type": "stream",
     "text": [
      "blair rejects iraq advice calls tony blair has rejected calls for the publication of advice on the legality of the iraq war amid growing calls for an investigation.  the prime minister told his monthly press conference the matter had been dealt with by the attorney general. earlier  conservative mp michael mates joined calls for a probe into claims lord goldsmith s statement to parliament was drawn up at number 10. mr blair said the statement was a  fair summary  of lord goldsmith s opinion.   that s what he (lord goldsmith) said and that s what i say. he has dealt with this time and time and time again   mr blair told his monthly news conference in downing street. he refused to answer further questions on the issue  saying it had been dealt with  literally scores of times and the position has not changed . lord goldsmith has denied being  leaned on  and says the words written were his.  the government refuses to publish his advice on the legality of the war - saying such papers have always been kept confidential. mr mates  who is a member of the commons intelligence and security committee and was part of the butler inquiry into pre-war intelligence  told the bbc on friday:  that  as a general rule  is right  but it s not an absolute rule.  he said there had been other occasions when advice had been published  most recently regarding prince charles s marriage plans. the government could not pick and choose when to use the convention  he said.  mr mates added:  we discovered that there were two or three occasions in the past when law officers  advice to the government has been published.  and this may be one of those special occasions... when it would be in the public interest to see the advice which the attorney general gave to the prime minister.  this is argument was rejected by mr blair  who said:  firstly  we haven t broken the precedent  and secondly peter goldsmith has made his statement and i have got absolutely nothing to add to it.  in a book published this week  philippe sands qc  a member of cherie blair s matrix chambers  says lord goldsmith warned tony blair on 7 march 2003 that the iraq war could be illegal without a second un resolution sanctioning military action.  but a short statement about lord goldsmith s position was presented in a written parliamentary answer on 17 march 2003 - just before a crucial commons vote on the military action. mr sands  book suggests it was actually written by home office minister lord falconer and downing street adviser baroness morgan. former minister clare short  who resigned from the government over the iraq war  said it was the same statement that was earlier shown to the cabinet as it discussed military action. she told the bbc the full advice should have been attached  according to the ministerial code.   my view is we need the house of lords to set up a special committee  summon the attorney  get all the papers out  look at exactly what happened   she said. the conservatives and liberal democrats say they want the publication of the full legal advice given by the attorney general. on thursday  lord goldsmith said his statement had not been  written by or at number 10 .  in my parliamentary answer on march 17 2003  i explained my genuinely held independent view  that military action was lawful under the existing security council resolutions   he said.\n"
     ]
    }
   ],
   "source": [
    "print(df.Text[10])"
   ]
  },
  {
   "cell_type": "code",
   "execution_count": 7,
   "metadata": {},
   "outputs": [
    {
     "name": "stdout",
     "output_type": "stream",
     "text": [
      "politics\n"
     ]
    }
   ],
   "source": [
    "print(df.Category[10])"
   ]
  },
  {
   "cell_type": "code",
   "execution_count": 2,
   "metadata": {},
   "outputs": [
    {
     "data": {
      "text/plain": [
       "' Habriamos predicho que era de categoria politics desde las 2 primeras lineas, tiene muchas palabras clave\\nde esa categoria y consideramos que no debera costarle al predictor predecir correctamente '"
      ]
     },
     "execution_count": 2,
     "metadata": {},
     "output_type": "execute_result"
    }
   ],
   "source": [
    "\"\"\" Habriamos predicho que era de categoria politics desde las 2 primeras lineas, tiene muchas palabras clave\n",
    "de esa categoria y consideramos que no debera costarle al predictor predecir correctamente \"\"\""
   ]
  },
  {
   "cell_type": "code",
   "execution_count": 9,
   "metadata": {},
   "outputs": [],
   "source": [
    "x_train, x_test = train_test_split(df, test_size = 0.2, random_state = RANDOM_STATE)"
   ]
  },
  {
   "cell_type": "code",
   "execution_count": 10,
   "metadata": {},
   "outputs": [
    {
     "data": {
      "text/html": [
       "<div>\n",
       "<style scoped>\n",
       "    .dataframe tbody tr th:only-of-type {\n",
       "        vertical-align: middle;\n",
       "    }\n",
       "\n",
       "    .dataframe tbody tr th {\n",
       "        vertical-align: top;\n",
       "    }\n",
       "\n",
       "    .dataframe thead th {\n",
       "        text-align: right;\n",
       "    }\n",
       "</style>\n",
       "<table border=\"1\" class=\"dataframe\">\n",
       "  <thead>\n",
       "    <tr style=\"text-align: right;\">\n",
       "      <th></th>\n",
       "      <th>ArticleId</th>\n",
       "      <th>Text</th>\n",
       "      <th>Category</th>\n",
       "    </tr>\n",
       "  </thead>\n",
       "  <tbody>\n",
       "    <tr>\n",
       "      <th>1186</th>\n",
       "      <td>1397</td>\n",
       "      <td>bellamy fined after row newcastle have fined t...</td>\n",
       "      <td>sport</td>\n",
       "    </tr>\n",
       "    <tr>\n",
       "      <th>462</th>\n",
       "      <td>2118</td>\n",
       "      <td>wales stars need a rest - ruddock wales coach ...</td>\n",
       "      <td>sport</td>\n",
       "    </tr>\n",
       "    <tr>\n",
       "      <th>1040</th>\n",
       "      <td>1508</td>\n",
       "      <td>mexican in us send $16bn home mexican labourer...</td>\n",
       "      <td>business</td>\n",
       "    </tr>\n",
       "    <tr>\n",
       "      <th>1344</th>\n",
       "      <td>2114</td>\n",
       "      <td>gadget show heralds mp3 christmas partners of ...</td>\n",
       "      <td>tech</td>\n",
       "    </tr>\n",
       "    <tr>\n",
       "      <th>789</th>\n",
       "      <td>2009</td>\n",
       "      <td>half of uk s mobiles  go online  multimedia mo...</td>\n",
       "      <td>tech</td>\n",
       "    </tr>\n",
       "    <tr>\n",
       "      <th>...</th>\n",
       "      <td>...</td>\n",
       "      <td>...</td>\n",
       "      <td>...</td>\n",
       "    </tr>\n",
       "    <tr>\n",
       "      <th>31</th>\n",
       "      <td>1407</td>\n",
       "      <td>rapper snoop dogg sued for  rape  us rapper sn...</td>\n",
       "      <td>entertainment</td>\n",
       "    </tr>\n",
       "    <tr>\n",
       "      <th>950</th>\n",
       "      <td>30</td>\n",
       "      <td>halloween writer debra hill dies screenwriter ...</td>\n",
       "      <td>entertainment</td>\n",
       "    </tr>\n",
       "    <tr>\n",
       "      <th>1064</th>\n",
       "      <td>2075</td>\n",
       "      <td>apple sues  tiger  file sharers apple has take...</td>\n",
       "      <td>tech</td>\n",
       "    </tr>\n",
       "    <tr>\n",
       "      <th>742</th>\n",
       "      <td>1874</td>\n",
       "      <td>bank voted 8-1 for no rate change the decision...</td>\n",
       "      <td>business</td>\n",
       "    </tr>\n",
       "    <tr>\n",
       "      <th>595</th>\n",
       "      <td>331</td>\n",
       "      <td>yangtze electric s profits double yangtze elec...</td>\n",
       "      <td>business</td>\n",
       "    </tr>\n",
       "  </tbody>\n",
       "</table>\n",
       "<p>1192 rows × 3 columns</p>\n",
       "</div>"
      ],
      "text/plain": [
       "     ArticleId                                               Text  \\\n",
       "1186      1397  bellamy fined after row newcastle have fined t...   \n",
       "462       2118  wales stars need a rest - ruddock wales coach ...   \n",
       "1040      1508  mexican in us send $16bn home mexican labourer...   \n",
       "1344      2114  gadget show heralds mp3 christmas partners of ...   \n",
       "789       2009  half of uk s mobiles  go online  multimedia mo...   \n",
       "...        ...                                                ...   \n",
       "31        1407  rapper snoop dogg sued for  rape  us rapper sn...   \n",
       "950         30  halloween writer debra hill dies screenwriter ...   \n",
       "1064      2075  apple sues  tiger  file sharers apple has take...   \n",
       "742       1874  bank voted 8-1 for no rate change the decision...   \n",
       "595        331  yangtze electric s profits double yangtze elec...   \n",
       "\n",
       "           Category  \n",
       "1186          sport  \n",
       "462           sport  \n",
       "1040       business  \n",
       "1344           tech  \n",
       "789            tech  \n",
       "...             ...  \n",
       "31    entertainment  \n",
       "950   entertainment  \n",
       "1064           tech  \n",
       "742        business  \n",
       "595        business  \n",
       "\n",
       "[1192 rows x 3 columns]"
      ]
     },
     "execution_count": 10,
     "metadata": {},
     "output_type": "execute_result"
    }
   ],
   "source": [
    "x_train"
   ]
  },
  {
   "cell_type": "code",
   "execution_count": 11,
   "metadata": {},
   "outputs": [
    {
     "data": {
      "text/html": [
       "<div>\n",
       "<style scoped>\n",
       "    .dataframe tbody tr th:only-of-type {\n",
       "        vertical-align: middle;\n",
       "    }\n",
       "\n",
       "    .dataframe tbody tr th {\n",
       "        vertical-align: top;\n",
       "    }\n",
       "\n",
       "    .dataframe thead th {\n",
       "        text-align: right;\n",
       "    }\n",
       "</style>\n",
       "<table border=\"1\" class=\"dataframe\">\n",
       "  <thead>\n",
       "    <tr style=\"text-align: right;\">\n",
       "      <th></th>\n",
       "      <th>ArticleId</th>\n",
       "      <th>Text</th>\n",
       "      <th>Category</th>\n",
       "    </tr>\n",
       "  </thead>\n",
       "  <tbody>\n",
       "    <tr>\n",
       "      <th>1185</th>\n",
       "      <td>1815</td>\n",
       "      <td>disputed nirvana box set on sale a box set fea...</td>\n",
       "      <td>entertainment</td>\n",
       "    </tr>\n",
       "    <tr>\n",
       "      <th>1265</th>\n",
       "      <td>182</td>\n",
       "      <td>blogger grounded by her airline a us airline a...</td>\n",
       "      <td>tech</td>\n",
       "    </tr>\n",
       "    <tr>\n",
       "      <th>881</th>\n",
       "      <td>689</td>\n",
       "      <td>lions blow to world cup winners british and ir...</td>\n",
       "      <td>sport</td>\n",
       "    </tr>\n",
       "    <tr>\n",
       "      <th>520</th>\n",
       "      <td>492</td>\n",
       "      <td>new york rockers top talent poll new york elec...</td>\n",
       "      <td>entertainment</td>\n",
       "    </tr>\n",
       "    <tr>\n",
       "      <th>274</th>\n",
       "      <td>203</td>\n",
       "      <td>ferguson fears milan cutting edge manchester u...</td>\n",
       "      <td>sport</td>\n",
       "    </tr>\n",
       "    <tr>\n",
       "      <th>...</th>\n",
       "      <td>...</td>\n",
       "      <td>...</td>\n",
       "      <td>...</td>\n",
       "    </tr>\n",
       "    <tr>\n",
       "      <th>1075</th>\n",
       "      <td>1211</td>\n",
       "      <td>us adds more jobs than expected the us economy...</td>\n",
       "      <td>business</td>\n",
       "    </tr>\n",
       "    <tr>\n",
       "      <th>253</th>\n",
       "      <td>1387</td>\n",
       "      <td>adriano s chelsea link rejected adriano s agen...</td>\n",
       "      <td>sport</td>\n",
       "    </tr>\n",
       "    <tr>\n",
       "      <th>9</th>\n",
       "      <td>1866</td>\n",
       "      <td>fockers fuel festive film chart comedy meet th...</td>\n",
       "      <td>entertainment</td>\n",
       "    </tr>\n",
       "    <tr>\n",
       "      <th>879</th>\n",
       "      <td>450</td>\n",
       "      <td>nasdaq planning $100m-share sale the owner of ...</td>\n",
       "      <td>business</td>\n",
       "    </tr>\n",
       "    <tr>\n",
       "      <th>1120</th>\n",
       "      <td>2169</td>\n",
       "      <td>mci shareholder sues to stop bid a shareholder...</td>\n",
       "      <td>business</td>\n",
       "    </tr>\n",
       "  </tbody>\n",
       "</table>\n",
       "<p>298 rows × 3 columns</p>\n",
       "</div>"
      ],
      "text/plain": [
       "     ArticleId                                               Text  \\\n",
       "1185      1815  disputed nirvana box set on sale a box set fea...   \n",
       "1265       182  blogger grounded by her airline a us airline a...   \n",
       "881        689  lions blow to world cup winners british and ir...   \n",
       "520        492  new york rockers top talent poll new york elec...   \n",
       "274        203  ferguson fears milan cutting edge manchester u...   \n",
       "...        ...                                                ...   \n",
       "1075      1211  us adds more jobs than expected the us economy...   \n",
       "253       1387  adriano s chelsea link rejected adriano s agen...   \n",
       "9         1866  fockers fuel festive film chart comedy meet th...   \n",
       "879        450  nasdaq planning $100m-share sale the owner of ...   \n",
       "1120      2169  mci shareholder sues to stop bid a shareholder...   \n",
       "\n",
       "           Category  \n",
       "1185  entertainment  \n",
       "1265           tech  \n",
       "881           sport  \n",
       "520   entertainment  \n",
       "274           sport  \n",
       "...             ...  \n",
       "1075       business  \n",
       "253           sport  \n",
       "9     entertainment  \n",
       "879        business  \n",
       "1120       business  \n",
       "\n",
       "[298 rows x 3 columns]"
      ]
     },
     "execution_count": 11,
     "metadata": {},
     "output_type": "execute_result"
    }
   ],
   "source": [
    "x_test"
   ]
  },
  {
   "cell_type": "markdown",
   "metadata": {},
   "source": [
    "## 2) Representación basada en bolsa de palabras y frecuencia de aparición\n",
    "\n",
    "La primera vectorización que vamos a usar representará los mensajes usando el modelo de bolsa de palabras, monogramas y la frecuencia de aparición de cada palabra. Usa como _stop words_ las que vienen configuradas por defecto para el inglés.\n",
    "\n",
    "Aplica la vectorización a los conjuntos de mensajes de entrenamiento y test. Muestra algún mensaje tanto en su formato de texto original como en la versión vectorizada. ¿Qué palabras se han eliminado y por qué?\n",
    "\n",
    "Entrena un clasificador Naive Bayes Multinomial y calcula su tasa de aciertos sobre el conjunto de entrenamiento y el conjunto de test. A continuación calcula los valores de precisión, exhaustividad y puntuación F1 para cada una de las clases. Dibuja la matriz de confusión. Analiza los resultados obtenidos.\n",
    "\n",
    "A continuación, entrena un clasificador k-NN con la configuración por defecto y usando la misma vectorización. Analiza los resultados, ¿a qué crees que se deben?"
   ]
  },
  {
   "cell_type": "code",
   "execution_count": 12,
   "metadata": {},
   "outputs": [],
   "source": [
    "from sklearn.feature_extraction.text import CountVectorizer\n",
    "from sklearn.feature_extraction.text import TfidfTransformer"
   ]
  },
  {
   "cell_type": "code",
   "execution_count": 38,
   "metadata": {},
   "outputs": [],
   "source": [
    "vectorizer = CountVectorizer(stop_words='english', binary=False, ngram_range = (1,1))\n",
    "train_vector_data=vectorizer.fit_transform(x_train.Text)"
   ]
  },
  {
   "cell_type": "code",
   "execution_count": 39,
   "metadata": {},
   "outputs": [
    {
     "name": "stdout",
     "output_type": "stream",
     "text": [
      "22159\n",
      "['00', '000', '0001', '000bn', '000m', '000th', '001', '001and', '001st', '0051', '007', '01', '0100', '0130', '028', '03', '04', '0400', '041', '04secs', '05', '050', '050505', '0530', '056', '05bn', '05m', '06', '060', '0630', '069', '07', '070', '0700', '0710', '072', '0730', '08', '080', '0800', '0845', '0870', '088', '09', '0900', '093', '0950', '09bn', '09secs', '10', '100', '1000m', '1000th', '100bn', '100m', '100ml', '101', '102', '103', '104', '105', '105m', '106', '106m', '107', '108', '109m', '10bn', '10ft', '10m', '10secs', '10th', '11', '110', '1100', '110m', '110th', '111', '1115', '111m', '112', '113', '1130', '1130p', '113bn', '115', '116', '116i', '117', '117m', '118', '119', '119bn', '119m', '11bn', '11m', '11pm', '11th', '12', '120', '1200m', '120gb', '120m', '1215', '1230', '124bn', '125', '125m', '126', '127th', '128', '129', '12a', '12bn', '12cm', '12m', '12th', '13', '130', '1300', '130m', '132', '133', '1330', '1337', '134', '135', '136', '137', '137m', '138m', '138p', '139', '13bn', '13m', '13s', '13secs', '13th', '14', '140', '140bn', '142', '142bn', '1430', '144', '1441', '144m', '145m', '146', '146m', '148', '149', '1497', '14bn', '14m', '14th', '15', '150', '1500', '1500m', '150bn', '150m', '150th', '151', '152', '152m', '153', '154m', '155', '155bn', '155m', '156m', '157', '158', '158th', '159', '15bn', '15m', '15mbps', '15s', '15th', '16', '1600s', '1606', '160gb', '160m', '161', '162', '162bn', '162m', '163', '163m', '164', '1642', '1650', '165bn', '166', '167', '1670', '168', '1689', '168m', '16bn', '16k', '16m', '16s', '16th', '17', '170', '1700', '1701', '170bn', '170m', '171', '1727', '1728', '173', '1731', '173m', '174', '175', '1761', '177', '178', '178m', '17bn', '17m', '17th', '18', '180', '1800gmt', '1801', '180bn', '1812', '1815', '182', '1830', '1834', '184', '1848', '184m', '185', '1857', '186', '187', '1870', '1875', '187m', '188', '1888', '189', '1891', '1893', '18bn', '18m', '18s', '18th', '19', '190', '1900', '1903', '1905', '1908', '190m', '1910', '1912', '1915', '1917', '191m', '192', '1920', '1920s', '1921', '1922', '1924', '1925', '1927', '1928', '1929', '193', '1930', '1930s', '1934', '1935', '1936', '1937', '1938', '1939', '193bn', '1940', '1942', '1944', '1945', '1946', '1947', '1948', '1949', '194m', '195', '1950', '1950s', '1951', '1952', '1953', '1954', '1955', '1956', '1957', '1958', '1959', '196', '1960', '1960s', '1961', '1962', '1963', '1964', '1965', '1966', '1967', '1968', '1969', '196m', '1970', '1970s', '1971', '1972', '1973', '1974', '1975', '1976', '1977', '1978', '1979', '197bn', '1980', '1980s', '1981', '1982', '1983', '1984', '1985', '1986', '1987', '1988', '1989', '1990', '1990s', '1991', '1992', '1993', '1994', '1995', '1996', '1997', '1998', '1999', '19bn', '19m', '19secs', '19th', '1bn', '1m', '1p', '1st', '1xtra', '20', '200', '2000', '2001', '2001alleging', '2002', '2003', '2004', '2005', '2006', '2007', '2008', '2009', '200bn', '200m', '2010', '2011', '2012', '2013', '2014', '2015', '2018', '2019', '2020', '2022', '2025', '203', '204', '204m', '205', '2050', '206', '206bn', '206m', '20bn', '20c', '20gb', '20m', '20p', '20s', '20th', '21', '210', '211', '216', '217', '219', '21bn', '21m', '21st', '22', '220', '2200', '220m', '222', '224', '225', '226', '229', '22bn', '22m', '22nd', '23', '230', '2300', '230m', '231m', '233', '234', '23bn', '23m', '23rd', '24', '240', '242', '245m', '246', '247p', '24bn', '24m', '24th', '25', '250', '2500', '250m', '256mb', '258', '258bn', '25bn', '25gbps', '25lb', '25m', '25p', '25s', '25th', '26', '260', '261bn', '262', '263', '264th', '265', '265m', '266m', '267', '268', '26bn', '26m', '26th', '27', '270', '271', '271st', '272', '273', '274', '275', '276', '277', '277th', '27bn', '27m', '27th', '28', '280', '280bn', '280m', '281m', '282', '283', '284m', '285m', '2871', '28bn', '28p', '28th', '29', '290', '291', '291m', '292', '293', '294', '296', '297', '2974', '29a', '29bn', '29m', '2bn', '2d', '2d3', '2ft', '2g', '2gb', '2km', '2kw', '2m', '2mbps', '30', '300', '3000', '300bn', '300m', '300p', '301', '3040', '305', '305m', '306', '308m', '30bn', '30ft', '30gb', '30m', '30mg', '30mph', '30s', '31', '311bn', '312', '313', '314', '318', '3187', '31bn', '31m', '31p', '32', '320', '320kg', '320m', '3218', '322', '322m', '3230', '324', '325', '325m', '327', '327m', '3280', '329', '32bn', '32m', '32nd', '33', '336m', '337', '339', '339m', '33bn', '33rd', '34', '340', '345m', '348bn', '349', '349m', '34bn', '34th', '35', '350', '3509', '350m', '3516', '357', '35bn', '35m', '35th', '36', '360', '3652', '365m', '3667', '367', '368bn', '36bn', '36m', '36th', '37', '370m', '371m', '372', '374m', '375', '377bn', '378', '379m', '37bn', '38', '380m', '382m', '385', '386', '387m', '38mph', '39', '390', '398m', '399', '39bn', '39m', '3ami', '3bn', '3c', '3d', '3g', '3gp', '3gsm', '3km', '3m', '3rds', '3x', '40', '400', '40052308090', '400m', '400th', '401', '402', '404', '40bn', '40gb', '40m', '40mbps', '40mph', '40s', '40th', '41', '412bn', '413', '418bn', '41bn', '41m', '42', '420', '420bn', '424m', '425', '426m', '428m', '429m', '42m', '42nd', '43', '431m', '433', '434m', '436', '43m', '44', '440', '443m', '444', '449', '44bn', '44th', '45', '450', '451m', '456m', '458', '458m', '45bn', '45m', '45pm', '45secs', '45th', '46', '464', '465', '466', '469', '46m', '46secs', '47', '472bn', '474', '475m', '479m', '47bn', '47m', '48', '480', '480m', '481', '484bn', '488', '48bn', '48m', '48th', '49', '496', '499', '499m', '49m', '4bn', '4cast', '4cm', '4ghz', '4in', '4km', '4m', '4p', '4pm', '4th', '4x100m', '50', '500', '5000', '5000m', '500m', '505', '506m', '508m', '50gb', '50m', '50mg', '50p', '50pc', '50th', '51', '512', '512kbps', '512mb', '514', '514m', '51bn', '51secs', '52', '520', '521', '522', '525', '527', '529', '52m', '52nd', '53', '530', '532m', '535', '537bn', '537m', '538', '53bn', '53m', '53p', '54', '540bn', '540m', '542', '544', '546', '548p', '54bn', '54m', '54th', '55', '550', '550m', '555', '556', '55bn', '55m', '55s', '55th', '56', '560', '560m', '563', '568m', '569', '569m', '56m', '57', '572', '575', '57bn', '58', '581m', '584m', '58bn', '59', '590', '593', '599', '59th', '5bn', '5g', '5gb', '5ive', '5k', '5m', '5p', '60', '600', '600m', '601', '603', '605', '607', '60bn', '60gb', '60m', '60p', '60secs', '60th', '61', '611', '61km', '61m', '61st', '62', '625', '62secs', '63', '630', '630m', '639m', '63rd', '63secs', '64', '642', '644m', '645', '648m', '64secs', '65', '650', '659', '65bn', '65s', '66', '660', '6600', '660m', '661', '666', '6661', '667', '66bn', '66m', '66secs', '67', '671', '674', '67th', '68', '680', '680m', '68m', '68seconds', '69', '690', '690m', '691m', '6bn', '6ft', '6ghz', '6km', '6m', '6pm', '70', '700', '701m', '70p', '70s', '70th', '71', '713', '717', '717m', '72', '720', '73', '730', '732m', '733', '737', '738', '73m', '74', '740', '745', '74m', '74th', '75', '750', '750m', '755', '75bn', '75m', '75p', '75s', '76', '761m', '768m', '76m', '77', '7710', '775', '775m', '77bn', '77m', '77th', '78', '780', '784m', '785m', '787', '78bn', '79', '797p', '798m', '799', '79m', '79p', '79th', '7bn', '7m', '7p', '80', '800', '800m', '803', '805', '808', '808m', '80m', '80mg', '80p', '80s', '80th', '81', '813', '814', '815', '81st', '82', '820', '825', '82bn', '83', '831', '833', '836m', '838m', '838th', '84', '84th', '85', '850bn', '850m', '855bn', '857m', '85m', '86', '861m', '865', '86bn', '86m', '86th', '87', '870', '874', '874m', '87bn', '87th', '88', '881', '885', '88m', '88th', '89', '8923', '895', '89bn', '89m', '89secs', '89th', '8am', '8bn', '8gb', '8ghz', '8m', '8mbps', '90', '900', '900m', '901m', '906', '907', '9094', '90m', '90s', '90th', '91', '910m', '911', '91m', '92', '920', '922', '924', '925p', '9276', '93', '933m', '93rd', '94', '943', '95', '950', '950m', '95bn', '95m', '96', '960m', '96bn', '97', '971', '975', '97bn', '97m', '98', '980m', '981', '984m', '98bn', '98m', '98th', '99', '997', '999th', '9bn', '9m', '9p', 'a300s', 'a320', 'a380', 'a380s', 'a4', 'aa', 'aaa', 'aaas', 'aac', 'aaliyah', 'aaltra', 'aaron', 'abacus', 'abandon', 'abandoned', 'abandoning', 'abandonment', 'abba', 'abbas', 'abbasi', 'abbott', 'abbreviated', 'abc', 'abd', 'abdellatif', 'abdication', 'abdomen', 'abdominal', 'abducted', 'abduction', 'abdullah', 'abdullatif', 'aberdeen', 'aberration', 'aberystwyth', 'abeyance', 'abeyie', 'abi', 'abide', 'abided', 'abiding', 'abigail', 'abilities', 'ability', 'abish', 'able', 'abn', 'abnormal', 'abnormality', 'abolish', 'abolishing', 'abolition', 'aborted', 'abortion', 'abortionist', 'abortive', 'abramovich', 'abroad', 'abrupt', 'absa', 'absence', 'absent', 'absentee', 'absolute', 'absolutely', 'absolution', 'absorb', 'absorbed', 'absorbing', 'abstain', 'abstentions', 'absurd', 'abtahi', 'abu', 'abundance', 'abundantly', 'abuse', 'abused', 'abuses', 'abusing', 'abut', 'abysmal', 'ac', 'academic', 'academics', 'academie', 'academy', 'acc', 'accelerate', 'accelerated', 'accelerating', 'accelerator', 'accent', 'accept', 'acceptable', 'acceptance', 'accepted', 'accepting', 'accepts', 'access', 'accessed', 'accessible', 'accessing', 'accession', 'accessories', 'accessory', 'accident', 'accidental', 'accidentally', 'accidently', 'accidents', 'acclaim', 'acclaimed', 'acclimate', 'accolade', 'accolades', 'accommodate', 'accommodation', 'accompanied', 'accompaniment', 'accompany', 'accompanying', 'accomplice', 'accomplices', 'accomplish', 'accomplished', 'accomplishment', 'accord', 'accordance', 'according', 'accordingly', 'accosiation', 'account', 'accountability', 'accountable', 'accountancy', 'accountant', 'accountants', 'accounted', 'accounting', 'accounts', 'accoustic', 'accra', 'accredited', 'accretive', 'accumulate', 'accumulated', 'accumulates', 'accumulator', 'accuracy', 'accurate', 'accurately', 'accusation', 'accusations', 'accuse', 'accused', 'accuses', 'accusing', 'accustomed', 'ace', 'aceh', 'aces', 'achievable', 'achieve', 'achieved', 'achievement', 'achievements', 'achieving', 'achike', 'achilles', 'achtung', 'acknowledge', 'acknowledged', 'acknowledges', 'acne', 'acoustic', 'acpo', 'acquire', 'acquired', 'acquiring', 'acquisition', 'acquisitions', 'acquittal', 'acquitted', 'acre', 'acres', 'acrimonious', 'acrimony', 'acrobatic', 'acrobatically', 'act', 'acted', 'acting', 'action', 'actionaid', 'actions', 'activate', 'activated', 'active', 'actively', 'activision', 'activison', 'activist', 'activists', 'activities', 'activity', 'actor', 'actors', 'actress', 'actresses', 'acts', 'actual', 'actually', 'ad', 'adage', 'adair', 'adam', 'adamant', 'adamind', 'adams', 'adapt', 'adaptation', 'adaptations', 'adapted', 'adapter', 'adapting', 'adaptor', 'adb', 'add', 'addaction', 'added', 'addicks', 'addiction', 'addictive', 'addicts', 'adding', 'addink', 'addison', 'addition', 'additional', 'additionally', 'additives', 'address', 'addressed', 'addresses', 'addressing', 'adds', 'adelaide', 'adept', 'adequate', 'adequately', 'adere', 'ades', 'adhere', 'adhi', 'adidas', 'adjudged', 'adjudicator', 'adjust', 'adjusted', 'adjusting', 'adjustment', 'adjustments', 'adjusts', 'administer', 'administered', 'administering', 'administration', 'administrations', 'administrative', 'administrator', 'administrators', 'admirable', 'admiration', 'admire', 'admired', 'admirer', 'admissibility', 'admission', 'admissions', 'admit', 'admits', 'admittance', 'admitted', 'admittedly', 'admitting', 'admonished', 'adnan', 'ado', 'adolescent', 'adolf', 'adopt', 'adopted', 'adopters', 'adopting', 'adoption', 'adornments', 'adrian', 'adriano', 'adrien', 'ads', 'adsl', 'adulation', 'adult', 'adultery', 'adulthood', 'adults', 'advance', 'advanced', 'advancement', 'advances', 'advancing', 'advanta', 'advantage', 'advantages', 'advent', 'adventure', 'adventures', 'adventurous', 'adverse', 'adversity', 'advert', 'advertise', 'advertisements', 'advertiser', 'advertisers', 'advertising', 'adverts', 'advice', 'advise', 'advised', 'adviser', 'advisers', 'advises', 'advising', 'advisor', 'advisors', 'advisory', 'advocate', 'advocates', 'adware', 'ae', 'aer', 'aero', 'aeronautics', 'aeroplane', 'aerosmith', 'aerospace', 'aesthetic', 'aesthetically', 'aesthetics', 'affair', 'affairs', 'affect', 'affected', 'affecting', 'affection', 'affectionately', 'affects', 'affiliate', 'affiliates', 'afflicting', 'afford', 'affordability', 'affordable', 'afforded', 'afghanistan', 'afi', 'afield', 'afloat', 'afoot', 'afraid', 'africa', 'african', 'africans', 'aftenposten', 'afterlife', 'aftermath', 'afternoon', 'afzal', 'agassi', 'age', 'aged', 'ageing', 'ageism', 'agen', 'agence', 'agencies', 'agency', 'agenda', 'agendas', 'agent', 'agents', 'ages', 'aggravated', 'aggravating', 'aggregate', 'aggregates', 'aggregator', 'aggregators', 'aggression', 'aggressive', 'aggressively', 'aggressors', 'aggrieved', 'agility', 'aging', 'agio', 'agitated', 'agm', 'agnelli', 'agnetha', 'agnostic', 'ago', 'agoa', 'agonising', 'agonisingly', 'agony', 'agrarian', 'agree', 'agreeable', 'agreed', 'agreeing', 'agreement', 'agreements', 'agrees', 'agricultural', 'agriculture', 'agrochemical', 'agroflora', 'aguilera', 'agyemang', 'ah', 'ahead', 'ahern', 'ahmed', 'ahold', 'ai', 'aid', 'aidan', 'aide', 'aided', 'aiden', 'aides', 'aids', 'aig', 'ailing', 'aim', 'aimed', 'aiming', 'aimlessly', 'aims', 'aiport', 'air', 'airbus', 'aircraft', 'aired', 'aires', 'airing', 'airline', 'airliners', 'airlines', 'airplane', 'airplanes', 'airplay', 'airport', 'airports', 'airs', 'airtime', 'airway', 'airways', 'aishwariya', 'aishwarya', 'aitken', 'aiyegbeni', 'aizlewood', 'aj', 'ajax', 'ak', 'aka', 'akaev', 'akamai', 'akhmetov', 'akin', 'akon', 'al', 'aladdin', 'alain', 'alamos', 'alan', 'alarm', 'alarmed', 'alarming', 'alarmingly', 'alarms', 'alasdair', 'alastair', 'albania', 'albanian', 'albee', 'albeit', 'albert', 'alberto', 'album', 'albums', 'alcatel', 'alcobev', 'alcock', 'alcohol', 'alcoholism', 'alcorn', 'alda', 'aldershot', 'ale', 'alegre', 'alejandro', 'alert', 'alerted', 'alerting', 'alerts', 'alessandro', 'alex', 'alexander', 'alexandra', 'alexandria', 'alexei', 'alexis', 'alfa', 'alfie', 'alfred', 'algemeen', 'algerian', 'algorithm', 'algorithms', 'ali', 'alias', 'alice', 'alicia', 'alien', 'aliens', 'alight', 'align', 'aligned', 'alike', 'alison', 'alistair', 'alita', 'alive', 'allahgreen', 'allaire', 'allan', 'allander', 'allard', 'allay', 'allegation', 'allegations', 'allege', 'alleged', 'allegedly', 'alleges', 'allegiance', 'allegiances', 'alleging', 'allen', 'allende', 'alleviate', 'alley', 'alleyne', 'alli', 'alliance', 'alliances', 'allianz', 'allied', 'allies', 'allister', 'allocated', 'allocating', 'allocations', 'allotting', 'allow', 'allowance', 'allowances', 'alloway', 'allowed', 'allowing', 'allows', 'allsop', 'alltel', 'alludes', 'alluding', 'allure', 'ally', 'almagro', 'almeria', 'almodovar', 'almunia', 'alois', 'alongside', 'alonso', 'aloud', 'alphabet', 'alphabetically', 'alphabets', 'alright', 'altavista', 'alter', 'altered', 'altering', 'alternative', 'alternatively', 'alternatives', 'alto', 'altogether', 'altria', 'alun', 'alvin', 'alwaleed', 'alyona', 'alzheimer', 'am3d', 'amalric', 'amanda', 'amassed', 'amateur', 'amateurish', 'amateurs', 'amaya', 'amazed', 'amazes', 'amazing', 'amazingly', 'amazon', 'ambassador', 'ambassadors', 'amber', 'ambition', 'ambitions', 'ambitious', 'ambitous', 'ambuja', 'amd', 'amelia', 'amelie', 'amenabar', 'amend', 'amending', 'amendment', 'amendments', 'amends', 'america', 'american', 'americanised', 'americans', 'americas', 'ames', 'amey', 'amf', 'amibition', 'amibitions', 'amicable', 'amicus', 'amid', 'amidst', 'amiga', 'amin', 'amma', 'amman', 'ammunition', 'amnesty', 'amoah', 'amoeba', 'amor', 'amos', 'amounted', 'amounting', 'amounts', 'ampas', 'amplified', 'amplifier', 'amply', 'amputated', 'amputee', 'amputees', 'amr', 'amritsar', 'amro', 'amstel', 'amsterdam', 'amuro', 'amusing', 'amy', 'ana', 'anabolic', 'anakin', 'analgesic', 'analogue', 'analogy', 'analyse', 'analysed', 'analysing', 'analysis', 'analyst', 'analysts', 'analyzing', 'anastacia', 'anastasia', 'anatoly', 'anatomical', 'ancestors', 'anchor', 'ancient', 'ancillary', 'ancram', 'anderlecht', 'anders', 'andersen', 'anderson', 'andersson', 'anderton', 'andhra', 'andi', 'andrade', 'andre', 'andrea', 'andreas', 'andreev', 'andrei', 'andrew', 'andrews', 'andy', 'anecdotal', 'aneurysm', 'anfield', 'angadias', 'angel', 'angela', 'angeles', 'angelina', 'angels', 'anger', 'angered', 'angering', 'angle', 'angled', 'anglers', 'anglia', 'anglian', 'anglicans', 'angling', 'anglo', 'angola', 'angolan', 'angrily', 'angry', 'angst', 'angus', 'animal', 'animals', 'animate', 'animated', 'animation', 'animations', 'animator', 'animators', 'animosity', 'aniston', 'anita', 'ankara', 'ankle', 'ann', 'anna', 'annadale', 'annals', 'annan', 'anne', 'annette', 'anni', 'annie', 'anniversaries', 'anniversary', 'announce', 'announced', 'announcement', 'announcements', 'announces', 'announcing', 'annoyance', 'annoyingly', 'annoys', 'annual', 'annualised', 'annually', 'annuity', 'annul', 'annum', 'annus', 'anoeta', 'anomalies', 'anomaly', 'anonymity', 'anonymous', 'anonymously', 'anselmo', 'anshuman', 'anson', 'answer', 'answered', 'answers', 'ant', 'antagonistic', 'ante', 'antelope', 'antenna', 'anthem', 'anthemic', 'anthony', 'anti', 'anticipated', 'anticipating', 'anticipation', 'antique', 'antiques', 'antiseptics', 'antithesis', 'antitrust', 'antoine', 'antoinette', 'anton', 'antonio', 'antrim', 'antwerp', 'anurag', 'anxiety', 'anxious', 'anybody', 'anyhting', 'anymore', 'aol', 'ap', 'apache', 'apacs', 'apart', 'apartheid', 'apathetic', 'apathy', 'apcom', 'apiece', 'aplomb', 'apocalypse', 'apologies', 'apologise', 'apologised', 'apologising', 'apology', 'appalled', 'apparatus', 'apparel', 'apparent', 'apparently', 'appeal', 'appealed', 'appealing', 'appeals', 'appear', 'appearance', 'appearances', 'appeared', 'appearing', 'appears', 'appetite', 'applaud', 'applauded', 'applauds', 'applause', 'apple', 'applegate', 'apples', 'appleton', 'appliance', 'applicant', 'applicants', 'application', 'applications', 'applied', 'applies', 'apply', 'applying', 'appoint', 'appointed', 'appointment', 'appointments', 'appoints', 'appraisal', 'appraising', 'appreciably', 'appreciate', 'appreciated', 'appreciation', 'apprehended', 'apprehension', 'apprentices', 'apprenticeship', 'approach', 'approached', 'approaching', 'appropriate', 'appropriately', 'approval', 'approvals', 'approve', 'approved', 'approves', 'approximately', 'approximation', 'apps', 'april', 'aquarius', 'aquatic', 'aquilla', 'ar', 'arab', 'arabia', 'arabic', 'arafat', 'aragones', 'aramaic', 'aramburu', 'arash', 'arbitration', 'arbor', 'arbuckle', 'arc', 'arcade', 'arcades', 'arch', 'archaeological', 'archangel', 'archbishop', 'archer', 'archibald', 'architect', 'architecture', 'archive', 'archived', 'archives', 'archivists', 'archos', 'arcy', 'ard', 'ardent', 'arditti', 'area', 'areas', 'areen', 'aren', 'arena', 'arenas', 'aretha', 'argentina', 'argentine', 'argonaut', 'arguably', 'argue', 'argued', 'argues', 'arguing', 'argument', 'arguments', 'aria', 'ariel', 'aries', 'arise', 'arisen', 'arizona', 'arjan', 'arjen', 'arkansas', 'arling', 'arlington', 'arm', 'armagh', 'armand', 'armando', 'armani', 'armed', 'armentieres', 'armes', 'armistead', 'armour', 'arms', 'armstrong', 'army', 'arnaud', 'arne', 'arnesen', 'arnold', 'arnoldo', 'arnoud', 'aroused', 'arouses', 'arpey', 'arquette', 'arrange', 'arranged', 'arrangement', 'arrangements', 'array', 'arrese', 'arrest', 'arrested', 'arrests', 'arrival', 'arrivals', 'arrive', 'arrived', 'arrives', 'arriving', 'arrogance', 'arrogant', 'arsenal', 'arsene', 'arsenic', 'arses', 'art', 'artell', 'artery', 'arteta', 'artgarden', 'arthritis', 'arthur', 'artic', 'article', 'articles', 'articulate', 'articulated', 'artificial', 'artificially', 'artist', 'artistic', 'artists', 'arts', 'artwork', 'artworks', 'aru', 'arvind', 'asahi', 'asante', 'asbestos', 'asbestosis', 'asbos', 'ascend', 'ascenders', 'ascending', 'ascii', 'asha', 'ashamed', 'ashanti', 'ashburton', 'ashcroft', 'ashdown', 'asher', 'ashes', 'ashfield', 'ashford', 'ashley', 'ashton', 'ashvin', 'asi', 'asia', 'asian', 'asians', 'aside', 'asimo', 'ask', 'askar', 'asked', 'asking', 'asks', 'asleep', 'aspect', 'aspects', 'asphalt', 'aspic', 'aspiration', 'aspiring', 'asplin', 'ass', 'assad', 'assassin', 'assassinated', 'assassination', 'assault', 'assaulted', 'assaults', 'assembled', 'assemblies', 'assembly', 'assert', 'assertion', 'assertions', 'assertiveness', 'asserts', 'asses', 'assess', 'assessed', 'assesses', 'assessing', 'assessment', 'assessments', 'asset', 'assets', 'assigned', 'assignment', 'assigns', 'assist', 'assistance', 'assistant', 'assistants', 'assisted', 'assisting', 'associate', 'associated', 'associates', 'association', 'associations', 'assortment', 'assume', 'assumed', 'assumes', 'assuming', 'assumption', 'assumptions', 'assurance', 'assurances', 'assure', 'assured', 'asteroid', 'aston', 'astonished', 'astonishing', 'astonishingly', 'astonishment', 'astoria', 'astounded', 'astra', 'astro', 'astronaut', 'astronauts', 'astronomical', 'asylum', 'asymmetric', 'asymmetry', 'atari', 'ate', 'athens', 'athlete', 'athletes', 'athletic', 'athleticism', 'athletico', 'athletics', 'athlon', 'atinc', 'atkinson', 'atlanta', 'atlantic', 'atlas', 'atletico', 'atmosphere', 'atmospheric', 'atomic', 'atomstroieksport', 'atp', 'atr', 'att', 'attach', 'attached', 'attachment', 'attachments', 'attack', 'attacked', 'attacker', 'attackers', 'attacking', 'attacks', 'attain', 'attained', 'attallah', 'attempt', 'attempted', 'attempting', 'attempts', 'attend', 'attendance', 'attendances', 'attendant', 'attendants', 'attended', 'attendees', 'attending', 'attends', 'attention', 'attentions', 'attentive', 'atticus', 'attitude', 'attitudes', 'attlee', 'attorney', 'attract', 'attracted', 'attracting', 'attraction', 'attractions', 'attractive', 'attracts', 'attributable', 'attribute', 'attributed', 'attributes', 'atwood', 'au', 'auckland', 'auction', 'auctioned', 'auctions', 'audi', 'audience', 'audiences', 'audio', 'audiophile', 'audiovisuel', 'audit', 'audited', 'audition', 'auditions', 'auditor', 'auditorium', 'auditors', 'audrey', 'auf', 'augmented', 'august', 'augusto', 'aulis', 'aunt', 'aura', 'aurelien', 'auric', 'auschwitz', 'aussie', 'aussies', 'austin', 'australia', 'australian', 'austria', 'austrian', 'auteuil', 'authenti', 'authentic', 'authentication', 'author', 'authorial', 'authorise', 'authorised', 'authorises', 'authorising', 'authoritarian', 'authoritative', 'authorities', 'authority', 'authors', 'autistic', 'auto', 'autobiographical', 'autobiography', 'autocycle', 'autographs', 'autolink', 'autolinks', 'automaker', 'automated', 'automatic', 'automatically', 'automobile', 'automobiles', 'automotive', 'automotives', 'autos', 'autosport', 'autumn', 'auvergne', 'auxerre', 'auxiliary', 'av400', 'availability', 'available', 'avalanche', 'avalon', 'avatar', 'avatars', 'avenue', 'avenues', 'average', 'averaging', 'avert', 'averted', 'averting', 'avery', 'avg', 'avi', 'aviation', 'aviator', 'avid', 'avions', 'aviv', 'avoid', 'avoidance', 'avoided', 'avoiding', 'avoids', 'avonex', 'avril', 'await', 'awaited', 'awaiting', 'awaits', 'awakening', 'award', 'awarded', 'awarding', 'awards', 'aware', 'awareness', 'away', 'awe', 'awesome', 'awful', 'awfully', 'awkward', 'awol', 'axa', 'axe', 'axed', 'axing', 'ayaan', 'aycock', 'aymone', 'aynsley', 'azkaban', 'azmat', 'aznavour', 'azzam', 'azzurri', 'baa', 'baas', 'baathist', 'babacan', 'babayaro', 'babies', 'babinet', 'baby', 'babyshambles', 'babysitter', 'babysitting', 'bac', 'baccarat', 'bach', 'backbench', 'backbencher', 'backbenchers', 'backbenches', 'backbone', 'backdated', 'backdoor', 'backed', 'backer', 'backers', 'backfired', 'backfires', 'background', 'backgrounds', 'backhand', 'backhands', 'backing', 'backlash', 'backley', 'backline', 'backpack', 'backroom', 'backs', 'backside', 'backsides', 'backsliding', 'backstage', 'backstreet', 'backtrack', 'backtracking', 'backup', 'backwards', 'backyard', 'bacon', 'bad', 'baddeley', 'badge', 'badly', 'badminton', 'bae', 'baffled', 'bafin', 'bafta', 'baftas', 'baggage', 'bagged', 'baggins', 'baghdad', 'bagle', 'bagnato', 'bags', 'baha', 'bahamas', 'baht', 'baikal', 'bail', 'bailed', 'bailey', 'bailiffs', 'bailin', 'bailouts', 'baiting', 'baker', 'bakersfield', 'bakley', 'balado', 'balamory', 'balance', 'balanced', 'balances', 'balancing', 'balco', 'balde', 'balding', 'baldini', 'baldrick', 'balfour', 'balked', 'ball', 'ballad', 'ballerina', 'ballerinas', 'ballet', 'ballets', 'balloch', 'balloon', 'ballooned', 'ballooning', 'ballot', 'balloted', 'balloting', 'ballots', 'ballroom', 'balls', 'ballykissangel', 'ballymena', 'balmer', 'balmy', 'baltacha', 'baltasar', 'bamboozled', 'ban', 'bana', 'banca', 'band', 'bandaid', 'banded', 'banderas', 'bandmates', 'bands', 'bandstand', 'bandwagon', 'bandwidth', 'bang', 'bangaldesh', 'bangalore', 'banging', 'bangkok', 'bangladesh', 'bangor', 'bangs', 'banjo', 'bank', 'bankash', 'banked', 'banker', 'bankers', 'banking', 'bankrupt', 'bankruptcies', 'bankruptcy', 'banks', 'bannatyne', 'banned', 'banner', 'banning', 'banque', 'banques', 'banquet', 'bans', 'banter', 'banton', 'bar', 'barbados', 'barbara', 'barbarians', 'barbary', 'barber', 'barbini', 'barbra', 'barca', 'barcelona', 'barclay', 'barclays', 'barcode', 'bardem', 'bare', 'barely', 'baretta', 'bargain', 'barged', 'baring', 'barings', 'bark', 'barker', 'barkley', 'barley', 'barn', 'barnard', 'barnes', 'barnet', 'barnett', 'barney', 'barnsley', 'barometer', 'baron', 'baroness', 'baros', 'barosso', 'barr', 'barrage', 'barras', 'barratie', 'barred', 'barrel', 'barrels', 'barrick', 'barrier', 'barriers', 'barring', 'barrioneuvo', 'barrionuevo', 'barrister', 'barron', 'barroso', 'barrow', 'barry', 'barrymore', 'bars', 'bartering', 'bartlett', 'barton', 'barwick', 'base', 'baseball', 'based', 'basel', 'baseline', 'basement', 'bases', 'basic', 'basically', 'basics', 'basildon', 'basingstoke', 'basis', 'basketball', 'basking', 'basra', 'bass', 'bassist', 'bastille', 'bat', 'batch', 'batches', 'bateman', 'bates', 'bath', 'bathroom', 'batie', 'batistuta', 'batman', 'baton', 'batter', 'battered', 'batteries', 'battering', 'battery', 'battle', 'battled', 'battlefield', 'battlefronts', 'battleground', 'battlegrounds', 'battles', 'battleship', 'battling', 'bautista', 'baweja', 'bay', 'bayer', 'bayern', 'bayleaf', 'bays', 'baywatch', 'bb', 'bba', 'bbb', 'bbc', 'bbc1', 'bbc2', 'bcc', 'bdb', 'bdo', 'beach', 'beaches', 'beachgoer', 'beacon', 'beaded', 'beads', 'beagles', 'beam', 'bear', 'beardsley', 'bearer', 'bearing', 'bears', 'beast', 'beastie', 'beat', 'beaten', 'beating', 'beatings', 'beatle', 'beatles', 'beats', 'beattie', 'beatty', 'beaufort', 'beaumont', 'beautiful', 'beautifully', 'beauty', 'beauvillian', 'bebo', 'bechtel', 'bechtler', 'beck', 'beckham', 'beckhams', 'beckinsale', 'bed', 'bedding', 'bedell', 'bedford', 'bedfordshire', 'bedingfield', 'bedroom', 'beds', 'bedside', 'bedsits', 'bedwellty', 'bee', 'beef', 'beefing', 'beeks', 'beenie', 'beer', 'beers', 'beetle', 'began', 'begg', 'beggared', 'begging', 'begin', 'beginning', 'beginnings', 'begins', 'begrudge', 'begun', 'behalf', 'behave', 'behaved', 'behaving', 'behaviour', 'behavioural', 'behemoth', 'beige', 'beijing', 'beijingers', 'beileve', 'beings', 'beirut', 'beith', 'bejewelled', 'bekele', 'belafonte', 'belarus', 'beleaguered', 'belfast', 'belgian', 'belgium', 'belgrade', 'belgrave', 'belief', 'beliefs', 'believable', 'believe', 'believed', 'believer', 'believes', 'believing', 'belisha', 'bell', 'bellahouston', 'bellamy', 'belle', 'bellicose', 'bellion', 'bells', 'belly', 'belmar', 'belmarsh', 'beloned', 'belong', 'belonged', 'belonging', 'belongings', 'belongs', 'beloved', 'belsen', 'belt', 'ben', 'bench', 'benchmark', 'benchmarking', 'benchmarks', 'benckiser', 'bend', 'bending', 'benefactors', 'beneficial', 'beneficiaries', 'benefit', 'benefited', 'benefiting', 'benefits', 'benesova', 'benign', 'bening', 'benita', 'benitez', 'benjamin', 'benmosche', 'benn', 'bennallack', 'bennett', 'bennington', 'benny', 'benoit', 'bent', 'benz', 'berated', 'berbatov', 'bereft', 'bergamasco', 'berger', 'bergerac', 'bergh', 'bergkamp', 'berhane', 'berhanu', 'beringer', 'berkeley', 'berkovic', 'berlin', 'berlinale', 'berlusconi', 'berman', 'bernabeu', 'bernard', 'bernardo', 'bernd', 'bernie', 'berry', 'bershawn', 'berson', 'bert', 'bertelsmann', 'berth', 'berthinussen', 'berti', 'bertie', 'bertolucci', 'beset', 'bespoke', 'best', 'bests', 'bestseller', 'bestsellers', 'bestselling', 'bet', 'beta', 'betamax', 'beth', 'bethan', 'bethnal', 'betray', 'betrayal', 'betrayed', 'betraying', 'bets', 'betsen', 'better', 'bettered', 'betting', 'betts', 'bevan', 'beverley', 'beverly', 'bewildered', 'bewildering', 'bex', 'beynon', 'beyonce', 'bez', 'bhanu', 'bharti', 'bhp', 'bi', 'biarritz', 'biased', 'bible', 'biblical', 'bibliographies', 'bicester', 'bickering', 'bicycles', 'bid', 'bidder', 'bidders', 'bidding', 'bide', 'bids', 'bifa', 'big', 'bigger', 'biggest', 'bigoted', 'bigotry', 'bigots', 'bike', 'bilateral', 'billboard', 'billboards', 'billed', 'billing', 'billingsgate', 'billion', 'billionaire', 'billions', 'billiton', 'bills', 'billy', 'bin', 'binding', 'binge', 'bingham', 'bingley', 'bingo', 'binned', 'binoche', 'bins', 'bio', 'biogen', 'biography', 'biological', 'biometric', 'biometrics', 'biopic', 'biotech', 'bipedal', 'birch', 'birchfield', 'bird', 'birkenhead', 'birmingham', 'birth', 'birthday', 'birthdays', 'birthistle', 'biscan', 'bisexual', 'bisexuality', 'bishop', 'bishops', 'bisset', 'bit', 'bite', 'biting', 'bits', 'bitter', 'bitterly', 'bittersweet', 'bittorrent', 'biz', 'bizarre', 'bizet', 'bjorgo', 'bjorn', 'black', 'blackadder', 'blackberries', 'blackberry', 'blackboard', 'blackbuck', 'blackburn', 'blackground', 'blackmail', 'blackmailed', 'blackman', 'blackpool', 'blacks', 'blackwatch', 'blade', 'blair', 'blairite', 'blairs', 'blaisdon', 'blake', 'blame', 'blamed', 'blames', 'blaming', 'blanchard', 'blanche', 'blanchett', 'bland', 'blank', 'blass', 'blast', 'blasted', 'blasters', 'blasting', 'blasts', 'blatant', 'blatantly', 'blaze', 'blazed', 'blazers', 'blazin', 'blazing', 'blb', 'bleached', 'bleakest', 'bleakly', 'blears', 'bled', 'bleep', 'bleeps', 'blemish', 'blend', 'blending', 'blessed', 'blessing', 'blethyn', 'bleus', 'blew', 'blige', 'blight', 'blighted', 'blighting', 'blind', 'blindingly', 'blinkx', 'blinx', 'blip', 'blips', 'blistering', 'blitz', 'blizzard', 'bloc', 'block', 'blockbuster', 'blockbusters', 'blocked', 'blocking', 'blocks', 'blog', 'blogged', 'blogger', 'bloggers', 'blogging', 'bloglines', 'blogosphere', 'blogs', 'blogsphere', 'bloke', 'blom', 'blomefontein', 'blood', 'bloodline', 'bloody', 'bloom', 'bloomberg', 'bloomingdale', 'bloopers', 'blossoming', 'blow', 'blowers', 'blowing', 'blown', 'blows', 'blu', 'blue', 'bluegrass', 'bluephone', 'blueprint', 'blueprints', 'blues', 'bluetooth', 'bluewater', 'blume', 'blunkett', 'blunt', 'bluntly', 'blur', 'blurred', 'blurring', 'blurs', 'blushed', 'blushes', 'blythe', 'bmg', 'bmo', 'bmr', 'bmw', 'bn', 'bnp', 'bo', 'board', 'boarding', 'boardroom', 'boardrooms', 'boards', 'boast', 'boasted', 'boasts', 'boat', 'boateng', 'boats', 'bob', 'bobbitt', 'bobby', 'bode', 'bodes', 'bodied', 'bodies', 'bodinat', 'bodleian', 'body', 'bodyguard', 'boe', 'boeing', 'boerse', 'bofra', 'bogart', 'bogdanov', 'bogdanovic', 'bogota', 'boi', 'boil', 'boiled', 'boiler', 'boils', 'boingboing', 'boix', 'boks', 'bold', 'bolder', 'bollan', 'bollesan', 'bollywood', 'bolster', 'bolton', 'bolts', 'bomb', 'bombard', 'bombarded', 'bombardier', 'bombards', 'bombastic', 'bombay', 'bombing', 'bombings', 'bombs', 'bon', 'bona', 'bonar', 'bond', 'bondarenko', 'bonderman', 'bondholders', 'bondi', 'bonds', 'bondy', 'bone', 'bones', 'bonfire', 'bonham', 'bonhams', 'bonn', 'bonnaire', 'bonny', 'bono', 'bonus', 'bonuses', 'boo', 'boogeyman', 'book', 'booked', 'booker', 'bookies', 'booking', 'bookings', 'bookmaker', 'bookmakers', 'bookrunners', 'books', 'booksellers', 'bookshelves', 'boom', 'boomed', 'booming', 'booms', 'boost', 'boosted', 'boosting', 'boosts', 'boot', 'booted', 'booth', 'bootle', 'boots', 'booy', 'booz', 'booze', 'boramae', 'border', 'borders', 'bordesley', 'bore', 'bored', 'boring', 'boris', 'born', 'borne', 'boro', 'boroughs', 'borrell', 'borrow', 'borrowed', 'borrowers', 'borrowing', 'bortey', 'borthwick', 'bortolami', 'borussia', 'bosch', 'boscholt', 'boss', 'bosses', 'bossy', 'boston', 'bosvelt', 'bosworth', 'bot', 'botch', 'botha', 'bother', 'bothered', 'bots', 'bottle', 'bottled', 'bottlenecks', 'bottles', 'bouba', 'boudewijn', 'bought', 'boukar', 'boulevard', 'boulton', 'bounce', 'bounced', 'bouncers', 'bouncing', 'bound', 'boundaries', 'boundary', 'bounded', 'bounty', 'bouquets', 'bourgoin', 'bourn', 'bourne', 'bournemouth', 'bourse', 'bout', 'bovina', 'bow', 'bowden', 'bowe', 'bowers', 'bowie', 'bowl', 'bowles', 'bowman', 'bows', 'box', 'boxer', 'boxes', 'boxing', 'boy', 'boyd', 'boyfriend', 'boyfriends', 'boyko', 'boyle', 'boynton', 'boys', 'boyzone', 'bozell', 'bp', 'bpd', 'bpi', 'br', 'brabeck', 'brace', 'braced', 'bracing', 'brackets', 'brad', 'bradfield', 'bradford', 'bradley', 'bradshaw', 'brady', 'braff', 'bragging', 'braille', 'brain', 'brainchild', 'brains', 'brake', 'brakes', 'braking', 'branch', 'branches', 'brand', 'branded', 'branding', 'brando', 'brandon', 'brands', 'brankin', 'brannen', 'branson', 'brass', 'bratman', 'bravado', 'brave', 'braved', 'bravely', 'bravery', 'bravest', 'brawl', 'brawn', 'brazenly', 'brazil', 'brazilian', 'brazilians', 'brc', 'breach', 'breached', 'breaches', 'breaching', 'bread', 'breadline', 'breadth', 'break', 'breakdown', 'breakdowns', 'breaker', 'breakers', 'breakfast', 'breaking', 'breakneck', 'breaks', 'breakthrough', 'breast', 'breath', 'breathalysed', 'breathe', 'breathed', 'breathing', 'brebner', 'breed', 'breeding', 'breezes', 'bremen', 'bremner', 'brenda', 'brendan', 'brennan', 'brent', 'brett', 'breville', 'brewer', 'breweries', 'brewers', 'brewery', 'brewing', 'breyer', 'brian', 'bribe', 'bribery', 'bribes', 'bribing', 'brick', 'bricks', 'bride', 'bridge', 'bridgehead', 'bridgepoint', 'bridges', 'bridget', 'bridgewell', 'brie', 'brief', 'briefcase', 'briefed', 'briefing', 'briefings', 'briefly', 'brien', 'brigade', 'briggs', 'bright', 'brightcove', 'brighten', 'brighter', 'brightest', 'brightly', 'brighton', 'brigitte', 'brilliance', 'brilliant', 'brilliantly', 'brimming', 'brindley', 'bring', 'bringing', 'brings', 'brink', 'brisbane', 'bristol', 'brit', 'britain', 'britains', 'britannia', 'british', 'britishness', 'britney', 'britneys', 'briton', 'britons', 'britpop', 'brits', 'britton', 'britz', 'brive', 'brixton', 'brizzel', 'broad', 'broadband', 'broadcast', 'broadcaster', 'broadcasters', 'broadcasting', 'broadcasts', 'broaden', 'broadened', 'broader', 'broadly', 'broadsheet', 'broadside', 'broadus', 'broadway', 'broccoli', 'brockstein', 'brody', 'broes', 'brokaw', 'broke', 'broken', 'broker', 'brokerage', 'brokerages', 'brokered', 'brokers', 'broking', 'brolin', 'brom', 'bronze', 'bronzes', 'brooker', 'brookings', 'brooks', 'brookside', 'brookstein', 'broom', 'bros', 'brosnan', 'brothels', 'brother', 'brotherhood', 'brothers', 'brought', 'brown', 'browne', 'brownie', 'brownlees', 'brownsville', 'brownsword', 'browse', 'browsed', 'browser', 'browsers', 'browses', 'browsing', 'bruce', 'bruer', 'bruins', 'bruised', 'bruising', 'brunei', 'bruni', 'brunini', 'bruno', 'brunswick', 'brush', 'brushed', 'brushes', 'brussels', 'brutal', 'brutally', 'brute', 'bryan', 'bryce', 'bryn', 'bryson', 'bsa', 'bse', 'bskyb', 'bst', 'bt', 'bubble', 'bubbles', 'bubbling', 'buccaneers', 'bucharest', 'buck', 'buckfield', 'bucking', 'buckinghamshire', 'buckling', 'bucks', 'bud', 'budapest', 'budd', 'buddhist', 'buddy', 'budge', 'budget', 'budgetary', 'budgets', 'buds', 'buena', 'buenos', 'buerk', 'buffers', 'bug', 'bugs', 'buick', 'build', 'builder', 'builders', 'building', 'buildings', 'builds', 'buildyourown', 'built', 'bulb', 'bulbs', 'bulgaria', 'bulgarian', 'bulging', 'bulk', 'bull', 'bullet', 'bulletin', 'bullets', 'bullfighter', 'bullfrog', 'bullish', 'bulloch', 'bullock', 'bulls', 'bully', 'bullying', 'bump', 'bumper', 'bumping', 'bumps', 'bunch', 'bundesbank', 'bundle', 'bundled', 'bungalow', 'bungie', 'bunker', 'bunnymen', 'buoy', 'buoyant', 'buoyed', 'buoying', 'bupa', 'burchill', 'burden', 'burdened', 'burdens', 'burdensome', 'bureau', 'bureaucracy', 'bureaucratic', 'bureaucratism', 'bureaucrats', 'burgeoning', 'burger', 'burgess', 'burglar', 'burglars', 'burglary', 'burgle', 'buried', 'buries', 'burke', 'burma', 'burn', 'burner', 'burning', 'burnley', 'burnout', 'burns', 'burrell', 'burrow', 'bursary', 'burst', 'bursting', 'burstow', 'bursts', 'burt', 'bury', 'burying', 'bus', 'buscemi', 'bush', 'bushtucker', 'busier', 'busiest', 'business', 'businesses', 'businessman', 'bussell', 'bust', 'busted', 'busting', 'busy', 'butcher', 'butler', 'butlers', 'butragueno', 'buts', 'butt', 'butterflies', 'butters', 'butting', 'buttnumbathon', 'button', 'buttons', 'buxton', 'buy', 'buyback', 'buybacks', 'buyer', 'buyers', 'buying', 'buyout', 'buys', 'buzz', 'buzzing', 'buzzwords', 'bwv', 'bye', 'byline', 'byodkm', 'bypass', 'bypassed', 'bypassing', 'byrne', 'byron', 'bysshe', 'c180', 'c4', 'ca', 'caan', 'cab', 'caballeros', 'cabin', 'cabinet', 'cabinets', 'cabir', 'cable', 'cables', 'caborn', 'cabs', 'cache', 'cactus', 'cadbury', 'cadena', 'cadillac', 'cadle', 'cadmium', 'caf', 'cafe', 'cafes', 'cafod', 'cafu', 'cage', 'cagigal', 'cahill', 'caire', 'cairn', 'cairo', 'cake', 'calculate', 'calculated', 'calculations', 'calculator', 'calculators', 'calcutta', 'calder', 'caledonian', 'calendar', 'calf', 'calibre', 'calico', 'california', 'calisto', 'callaghan', 'called', 'callers', 'calling', 'calls', 'calm', 'calmer', 'calming', 'calum', 'calvin', 'calvisano', 'calyon', 'camara', 'camaraderie', 'camberley', 'cambiemos', 'cambodia', 'cambridge', 'camcorder', 'camcorders', 'camden', 'came', 'camels', 'cameo', 'camera', 'cameras', 'cameron', 'cameroon', 'cameroonians', 'camilla', 'camp', 'campaign', 'campaigned', 'campaigner', 'campaigners', 'campaigning', 'campaigns', 'campbell', 'camped', 'campell', 'camper', 'camps', 'canada', 'canadian', 'canal', 'canaries', 'canberra', 'cancel', 'cancellation', 'cancellations', 'cancelled', 'cancelling', 'cancels', 'cancer', 'candid', 'candidate', 'candidates', 'candidly', 'candillon', 'canio', 'cannabidiol', 'cannabis', 'canned', 'cannes', 'cannibalism', 'cannibals', 'cannings', 'cannisters', 'cannon', 'canny', 'canopy', 'cans', 'cantalupo', 'cantata', 'canterbury', 'cantonese', 'canvas', 'canvassers', 'canvassing', 'canyon', 'cao', 'caouette', 'cap', 'capabilities', 'capability', 'capable', 'capacities', 'capacity', 'cape', 'capella', 'caper', 'capgemini', 'capital', 'capitalisation', 'capitalise', 'capitalised', 'capitalising', 'capitol', 'capitulate', 'capped', 'capping', 'capra', 'capriati', 'caprice', 'caps', 'capt', 'captain', 'captaincy', 'captained', 'captaining', 'captains', 'caption', 'captioning', 'captivity', 'capture', 'captured', 'captures', 'capturing', 'car', 'cara', 'caramel', 'carat', 'carbon', 'carbonated', 'card', 'carded', 'carderplanet', 'cardiff', 'cards', 'cardwell', 'care', 'cared', 'career', 'careers', 'careful', 'carefully', 'carer', 'carers', 'cares', 'caretaker', 'carey', 'carfax', 'carib', 'caribbean', 'caribs', 'caring', 'carl', 'carla', 'carling', 'carlish', 'carlisle', 'carlo', 'carlos', 'carlsberg', 'carlsen', 'carly', 'carmaker', 'carmakers', 'carmaking', 'carmen', 'carnival', 'carol', 'carolina', 'caroline', 'carousing', 'carpenter', 'carpet', 'carpets', 'carr', 'carradine', 'carragher', 'carrey', 'carrick', 'carried', 'carrier', 'carriers', 'carries', 'carroll', 'carrow', 'carry', 'carrying', 'cars', 'carsley', 'carson', 'carsoni', 'carswell', 'carta', 'cartagena', 'carte', 'cartel', 'carter', 'carthy', 'cartilage', 'cartoon', 'cartridge', 'cartridges', 'carvalho', 'carve', 'carvel', 'carving', 'carwyn', 'cas', 'casablanca', 'casalme', 'case', 'cases', 'casey', 'cash', 'cashed', 'casino', 'casinos', 'casio', 'caspian', 'cassette', 'cast', 'castaignede', 'casting', 'castle', 'castor', 'castres', 'castro', 'castrogiovanni', 'casts', 'casual', 'casualties', 'casualty', 'cat', 'catalan', 'catalina', 'catalogue', 'catalogues', 'cataloguing', 'catalysed', 'catalyst', 'catapulted', 'catastrophe', 'catch', 'catches', 'catching', 'catchy', 'cate', 'categories', 'categorisation', 'categorise', 'category', 'catering', 'cates', 'cathal', 'catherina', 'catherine', 'catholic', 'catholics', 'cathy', 'cats', 'catsuit', 'cattle', 'cattrall', 'catwoman', 'caudwell', 'caught', 'cauldron', 'cause', 'caused', 'causes', 'causing', 'caustic', 'caution', 'cautioned', 'cautions', 'cautious', 'cautiously', 'cavalcade', 'cavalier', 'cavanagh', 'cave', 'cb', 'cbbc', 'cbi', 'cbo', 'cbs', 'ccf', 'cctv', 'cd', 'cdp', 'cds', 'cea', 'cease', 'ceased', 'ceasefire', 'cec', 'cech', 'cecil', 'cedric', 'cegetel', 'ceiling', 'celebrate', 'celebrated', 'celebrates', 'celebrating', 'celebration', 'celebrations', 'celebrities', 'celebrity', 'celeron', 'celestine', 'celine', 'cell', 'cellery', 'cellnet', 'cells', 'celltick', 'celta', 'celtic', 'celts', 'cement', 'cemented', 'cemetery', 'censor', 'censored', 'censors', 'censorship', 'cent', 'centenary', 'center', 'centimetres', 'centr', 'central', 'centralise', 'centrally', 'centre', 'centred', 'centrepiece', 'centres', 'centring', 'cents', 'centuries', 'century', 'ceo', 'cepes', 'ceplak', 'cept', 'ceremonies', 'ceremony', 'ceri', 'certain', 'certainly', 'certainty', 'certificate', 'certificates', 'certification', 'certified', 'certify', 'ces', 'cesar', 'cesc', 'cessna', 'cfca', 'cfx', 'cgi', 'chabal', 'chagrin', 'chain', 'chained', 'chains', 'chair', 'chaired', 'chairing', 'chairman', 'chairmanship', 'chairmen', 'chairs', 'chairwoman', 'chaiyasoot', 'chakrabarti', 'chalfont', 'chalk', 'challenge', 'challenged', 'challenger', 'challengers', 'challenges', 'challenging', 'chamber', 'chambers', 'chambre', 'champagne', 'champion', 'championing', 'champions', 'championship', 'championships', 'chan', 'chancay', 'chance', 'chancellor', 'chancellors', 'chances', 'chandler', 'chandon', 'chang', 'change', 'changeable', 'changed', 'changer', 'changes', 'changi', 'changing', 'chango', 'channel', 'channels', 'chanting', 'chaos', 'chaotic', 'chap', 'chapel', 'chaplin', 'chapter', 'chapters', 'character', 'characterised', 'characteristic', 'characteristically', 'characteristics', 'characters', 'charade', 'charbonnier', 'charcote', 'charge', 'charged', 'charges', 'charging', 'charismatic', 'charities', 'charity', 'charlene', 'charleroi', 'charles', 'charlie', 'charlize', 'charlotte', 'charlton', 'charly', 'charm', 'charming', 'charms', 'chart', 'charted', 'charter', 'chartered', 'chartering', 'charting', 'charts', 'charvis', 'chase', 'chased', 'chases', 'chasing', 'chassis', 'chat', 'chatham', 'chatrooms', 'chatshow', 'chatted', 'chatter', 'chauvinistic', 'chavez', 'cheadle', 'cheap', 'cheaper', 'cheapest', 'cheaply', 'cheapness', 'cheating', 'cheats', 'check', 'checked', 'checking', 'checkpoints', 'checks', 'cheeky', 'cheer', 'cheerful', 'cheering', 'cheerleader', 'cheese', 'cheeses', 'cheetham', 'chela', 'chelsea', 'chelsom', 'chemical', 'chemicals', 'chemistry', 'chen', 'cheney', 'chennai', 'chepkemei', 'cheque', 'cherie', 'cherish', 'cherished', 'cherkasova', 'cherney', 'chernin', 'cheshire', 'cheslea', 'chest', 'chester', 'cheung', 'chevrolet', 'chevrontexaco', 'chi', 'chic', 'chicago', 'chicken', 'chicoine', 'chidambaram', 'chides', 'chief', 'chiefly', 'chiefs', 'chieko', 'chiffon', 'chiffre', 'chihwaseon', 'child', 'childcare', 'childe', 'childhood', 'childlike', 'children', 'childrens', 'childs', 'chile', 'chilean', 'chill', 'chilly', 'chin', 'china', 'chinese', 'chino', 'chip', 'chipped', 'chipping', 'chips', 'chirac', 'chiropractor', 'chit', 'chittabrata', 'chocolate', 'choice', 'choices', 'choir', 'choking', 'cholesterol', 'chomsky', 'chong', 'chongqing', 'chook', 'choose', 'chooses', 'choosing', 'chop', 'chopin', 'chopped', 'chore', 'choreographed', 'choreographer', 'choreographers', 'choreography', 'choristes', 'chorus', 'chose', 'chosen', 'chris', 'chrissie', 'christ', 'christchurch', 'christian', 'christianity', 'christie', 'christina', 'christine', 'christmas', 'christmases', 'christophe', 'christopher', 'christos', 'chronic', 'chronically', 'chronicle', 'chronicles', 'chronology', 'chronometer', 'chrysler', 'chubb', 'chum', 'chung', 'chunk', 'church', 'churches', 'churchill', 'churlishly', 'churn', 'churning', 'cia', 'ciara', 'cibc', 'cicero', 'cigala', 'cigarette', 'cigarettes', 'cigars', 'cincinnati', 'cinema', 'cinemagoers', 'cinemas', 'cinematographer', 'cinematographically', 'cinematography', 'cips', 'circle', 'circles', 'circling', 'circuit', 'circuits', 'circular', 'circulate', 'circulated', 'circulating', 'circulation', 'circumstances', 'circumvent', 'circuses', 'cirkus', 'cis', 'cisco', 'cisse', 'cited', 'cites', 'citibank', 'cities', 'citigroup', 'citing', 'citizen', 'citizens', 'citizenship', 'citroen', 'citu', 'city', 'civic', 'civil', 'civilian', 'civilians', 'civilisation', 'civilly', 'cj', 'ckx', 'cl', 'claassens', 'claes', 'claim', 'claimant', 'claimed', 'claiming', 'claims', 'claire', 'clamour', 'clamp', 'clampdown', 'clampett', 'clamping', 'clamshell', 'clan', 'clancy', 'clank', 'clans', 'clapton', 'claquin', 'clara', 'clare', 'clarence', 'clarets', 'claridge', 'clarified', 'clarify', 'clarifying', 'clarity', 'clark', 'clarke', 'clarkson', 'clash', 'clashed', 'clashes', 'class', 'classed', 'classes', 'classic', 'classical', 'classics', 'classified', 'classifying', 'classroom', 'classy', 'claude', 'claudia', 'claudio', 'clause', 'clauses', 'clawed', 'claws', 'claxton', 'clay', 'clayton', 'clean', 'cleaned', 'cleaner', 'cleaners', 'cleaning', 'clear', 'clearance', 'cleared', 'clearer', 'clearest', 'clearing', 'clearly', 'clearskies', 'clearstream', 'clearswift', 'clearview', 'cleese', 'clem', 'clement', 'clergy', 'clergyman', 'clerical', 'clerk', 'clermont', 'clever', 'cleverly', 'cliche', 'clichy', 'click', 'clicked', 'clicking', 'clicks', 'client', 'clients', 'cliff', 'cliffhanger', 'clifford', 'clijsters', 'climan', 'climate', 'climax', 'climb', 'climbdown', 'climbed', 'climbing', 'climbs', 'clinch', 'clinched', 'clinching', 'cling', 'clinging', 'clinic', 'clinical', 'clint', 'clinton', 'clipped', 'clips', 'cliques', 'clitheroe', 'clive', 'clock', 'clocked', 'clocking', 'clockwork', 'cloete', 'clog', 'clogged', 'clones', 'cloning', 'clooney', 'close', 'closed', 'closely', 'closer', 'closes', 'closest', 'closet', 'closets', 'closing', 'closure', 'closures', 'clothe', 'clothes', 'clothing', 'cloud', 'clouded', 'clouding', 'clown', 'club', 'club2school', 'clubman', 'clubs', 'clue', 'cluedo', 'clues', 'cluley', 'clump', 'clumsy', 'clunes', 'clung', 'clutch', 'clutches', 'clutter', 'clutterbuck', 'clyde', 'cmf', 'cml', 'coach', 'coached', 'coaches', 'coaching', 'coachmen', 'coal', 'coalition', 'coarse', 'coast', 'coastal', 'coasted', 'coat', 'cobalt', 'cobblestones', 'cobh', 'cobham', 'cobhwoman', 'coby', 'cocaine', 'cochilco', 'cock', 'cockbain', 'cockerell', 'cocktail', 'coddled', 'code', 'coded', 'codelco', 'codemasters', 'codename', 'codenamed', 'coders', 'codes', 'coe', 'coffee', 'coffers', 'coghlan', 'cogniron', 'cohen', 'coherence', 'coherent', 'cohesion', 'cohorts', 'coin', 'coincide', 'coincidence', 'coincidental', 'coincidentally', 'coinciding', 'coined', 'coins', 'cojedes', 'col', 'cola', 'cold', 'coldplay', 'cole', 'coleman', 'colen', 'coleraine', 'colgan', 'colin', 'collaborate', 'collaborated', 'collaborating', 'collaboration', 'collaborations', 'collaborator', 'collapse', 'collapsed', 'collapses', 'collar', 'collateral', 'collating', 'colleague', 'colleagues', 'collect', 'collected', 'collecting', 'collection', 'collections', 'collective', 'collectively', 'collector', 'collectors', 'collects', 'college', 'colleges', 'collide', 'collided', 'collingwood', 'collins', 'collision', 'collison', 'colloquial', 'colluded', 'colludes', 'colombia', 'colombian', 'colon', 'colonel', 'colonial', 'colonisation', 'colony', 'colorado', 'colorectal', 'colosseum', 'colossus', 'colour', 'coloured', 'colourful', 'colours', 'coltrane', 'columbia', 'column', 'columnist', 'columns', 'com', 'coma', 'comair', 'comb', 'combat', 'combatant', 'combatants', 'combating', 'combats', 'combination', 'combine', 'combined', 'combines', 'combining', 'combs', 'come', 'comeback', 'comedian', 'comedians', 'comedic', 'comedies', 'comedy', 'comers', 'comes', 'comfort', 'comfortable', 'comfortably', 'comic', 'comics', 'coming', 'command', 'commanded', 'commandeered', 'commander', 'commanders', 'commanding', 'commands', 'commemoration', 'commences', 'commendable', 'comment', 'commentary', 'commentate', 'commentator', 'commentators', 'commented', 'commenting', 'comments', 'commerce', 'commercial', 'commercialisation', 'commercialised', 'commercially', 'commercials', 'commission', 'commissioned', 'commissioner', 'commissioners', 'commissions', 'commit', 'commited', 'commitment', 'commitments', 'committed', 'committee', 'committees', 'committing', 'commodities', 'commoditising', 'commodity', 'commodore', 'common', 'commonly', 'commonplace', 'commons', 'commonwealth', 'communicate', 'communicated', 'communicateresearch', 'communicating', 'communication', 'communications', 'communicator', 'communiqu', 'communism', 'communist', 'communities', 'community', 'commuters', 'compact', 'companies', 'companion', 'companions', 'company', 'comparable', 'comparatively', 'compare', 'compared', 'compares', 'comparing', 'comparison', 'comparisons', 'compass', 'compassion', 'compatibility', 'compatible', 'compatriot', 'compatriots', 'compelled', 'compelling', 'compensate', 'compensated', 'compensation', 'compete', 'competed', 'competences', 'competent', 'competes', 'competing', 'competition', 'competitions', 'competitive', 'competitiveness', 'competitor', 'competitors', 'compilation', 'compile', 'compiled', 'compiling', 'complacency', 'complacent', 'complain', 'complained', 'complaining', 'complains', 'complaint', 'complaints', 'complement', 'complete', 'completed', 'completely', 'completes', 'completing', 'completion', 'completions', 'complex', 'complexes', 'complexities', 'complexity', 'compliance', 'complicated', 'complied', 'complimentary', 'comply', 'complying', 'component', 'components', 'composed', 'composer', 'composers', 'composite', 'composition', 'compostable', 'composure', 'compounded', 'comprehensive', 'comprehensively', 'compress', 'compressed', 'compressing', 'compression', 'comprised', 'comprising', 'compromise', 'compromised', 'compromises', 'compromising', 'comptia', 'comptroller', 'compulsion', 'compulsive', 'compulsory', 'computational', 'computer', 'computeractive', 'computerandvideogames', 'computerised', 'computers', 'computing', 'conceal', 'concealed', 'concealing', 'conceals', 'concede', 'conceded', 'concedes', 'conceding', 'conceivable', 'conceived', 'concentrate', 'concentrated', 'concentrates', 'concentrating', 'concentration', 'concept', 'conceptually', 'concern', 'concerned', 'concerning', 'concerns', 'concert', 'concerted', 'concerts', 'concession', 'concessions', 'conchita', 'conciliation', 'conciliatory', 'concise', 'conclude', 'concluded', 'concludes', 'concluding', 'conclusions', 'conclusive', 'concrete', 'condemned', 'condemns', 'condition', 'conditions', 'condoleezza', 'condom', 'condoms', 'condone', 'conducive', 'conduct', 'conducted', 'conducting', 'conducts', 'confectionery', 'confederation', 'confer', 'conference', 'conferences', 'conferring', 'confess', 'confessed', 'confesses', 'confession', 'confessions', 'confided', 'confidence', 'confident', 'confidential', 'confidentiality', 'confifi', 'confined', 'confines', 'confirm', 'confirmation', 'confirmed', 'confirming', 'confirms', 'confiscatory', 'conflict', 'conflicting', 'conflicts', 'conform', 'conformity', 'confound', 'confounded', 'confounding', 'confront', 'confrontation', 'confrontational', 'confronted', 'confuse', 'confused', 'confusing', 'confusingly', 'confusion', 'congdon', 'congenial', 'congested', 'congestive', 'conglomerate', 'congratulate', 'congratulations', 'congress', 'congressional', 'congressionally', 'congressmen', 'conjoined', 'conjuction', 'conjunction', 'conjured', 'conleth', 'conlon', 'conman', 'conmen', 'connacht', 'connaught', 'connect', 'connected', 'connection', 'connections', 'connectivity', 'connectors', 'connects', 'connell', 'connery', 'connolly', 'connor', 'connors', 'conor', 'conquer', 'conquered', 'conquering', 'conqueror', 'conquerors', 'conrad', 'conscience', 'consciences', 'conscious', 'consciously', 'consciousness', 'consecutive', 'consecutively', 'conseil', 'consensus', 'consent', 'consenus', 'consequence', 'consequences', 'consequently', 'conservationists', 'conservative', 'conservatively', 'conservatives', 'conserve', 'consider', 'considerable', 'considerably', 'consideration', 'considerations', 'considered', 'considering', 'considers', 'considine', 'consigning', 'consist', 'consistency', 'consistent', 'consistently', 'consisting', 'consists', 'consob', 'consolation', 'console', 'consoles', 'consolidate', 'consolidated', 'consolidation', 'consort', 'consortium', 'conspicuously', 'conspiracy', 'conspired', 'conspiring', 'constable', 'constables', 'constant', 'constantine', 'constantly', 'constellation', 'constituencies', 'constituency', 'constituent', 'constituents', 'constitute', 'constitutes', 'constitution', 'constitutional', 'constrained', 'constraint', 'construct', 'constructed', 'construction', 'constructive', 'consulates', 'consult', 'consultancy', 'consultant', 'consultants', 'consultation', 'consultations', 'consultative', 'consulted', 'consulting', 'consults', 'consume', 'consumer', 'consumers', 'consumes', 'consuming', 'consumption', 'contact', 'contacted', 'contacting', 'contacts', 'contagion', 'contagious', 'contain', 'contained', 'containing', 'contains', 'contaminated', 'contamination', 'conte', 'contemplates', 'contemplating', 'contemporaries', 'contemporary', 'contempt', 'contend', 'contended', 'contender', 'contenders', 'contends', 'content', 'contented', 'contention', 'contentious', 'contents', 'contepomi', 'contest', 'contestant', 'contestants', 'contested', 'contesting', 'contests', 'context', 'conti', 'continent', 'continental', 'continents', 'contingency', 'contingent', 'continually', 'continuation', 'continue', 'continued', 'continues', 'continuing', 'continuously', 'continuum', 'contra', 'contraception', 'contraceptives', 'contrack', 'contract', 'contracted', 'contracting', 'contraction', 'contractor', 'contractors', 'contracts', 'contradict', 'contradictions', 'contradictory', 'contrary', 'contrast', 'contrasted', 'contravenes', 'contreras', 'contribute', 'contributed', 'contributes', 'contributing', 'contribution', 'contributions', 'contributor', 'contributors', 'contrived', 'control', 'controlled', 'controller', 'controllers', 'controlling', 'controls', 'controversial', 'controversially', 'controversies', 'controversy', 'convene', 'convened', 'convenience', 'convenient', 'conveniently', 'convention', 'conventional', 'conventions', 'converge', 'converged', 'convergence', 'conversation', 'conversations', 'conversion', 'conversions', 'convert', 'converted', 'convertible', 'converting', 'converts', 'convey', 'conveyed', 'convict', 'convicted', 'convicting', 'conviction', 'convictions', 'convince', 'convinced', 'convincing', 'convincingly', 'convoys', 'convulsed', 'coogan', 'cook', 'cooked', 'cooking', 'cool', 'cooled', 'cooling', 'coolly', 'cooper', 'cooperate', 'cooperation', 'cooperative', 'coordinate', 'coordinated', 'coordination', 'coordinator', 'cop', 'cope', 'copeland', 'copenhagen', 'copernic', 'copied', 'copies', 'coping', 'copper', 'coppers', 'coppin', 'coppinger', 'coppola', 'copy', 'copycat', 'copying', 'copyright', 'copyrighted', 'cor', 'coral', 'corbijn', 'cord', 'corden', 'cordless', 'cordon', 'cordoned', 'cords', 'corduroy', 'core', 'corelli', 'cores', 'corkman', 'corleone', 'cornell', 'corner', 'cornered', 'corners', 'cornwall', 'cornwell', 'coronation', 'corp', 'corporal', 'corporate', 'corporation', 'corporations', 'corpus', 'correct', 'corrected', 'correcting', 'correction', 'correctional', 'corrective', 'correctly', 'correspond', 'correspondent', 'corresponding', 'corridor', 'corrigan', 'corrosive', 'corrupt', 'corruption', 'corry', 'corsican', 'coruna', 'cory', 'cosby', 'cosgrave', 'cosh', 'cosiness', 'coslett', 'cosmetic', 'cosmetics', 'cosmic', 'cosmopolitan', 'cossins', 'cost', 'costa', 'costacurta', 'costantini', 'costas', 'costed', 'costello', 'costin', 'costing', 'costings', 'costliest', 'costly', 'costs', 'costume', 'costumes', 'cotis', 'cotonsport', 'cottage', 'cotterill', 'cotterills', 'cotton', 'couch', 'couched', 'cough', 'couldn', 'council', 'councillor', 'councillors', 'councils', 'counsel', 'counselling', 'count', 'countdown', 'counted', 'counter', 'counteract', 'counterbalancing', 'countered', 'counterfeit', 'counterfeiting', 'counterpart', 'counterparts', 'counterproductive', 'counterterrorism', 'counties', 'counting', 'countless', 'countries', 'country', 'countryside', 'counts', 'county', 'coup', 'coupes', 'couple', 'coupled', 'couples', 'coupling', 'courage', 'courageous', 'courageously', 'courier', 'course', 'courses', 'court', 'courteney', 'courteous', 'courters', 'courtesy', 'courting', 'courtrooms', 'courts', 'couture', 'cover', 'coverage', 'covered', 'covering', 'covers', 'coveted', 'cow', 'cowan', 'coward', 'cowboys', 'cowed', 'cowell', 'cowley', 'cox', 'cpl', 'cps', 'crabbe', 'crabs', 'crack', 'crackdown', 'crackdowns', 'cracked', 'cracking', 'crackled', 'cracknell', 'cracks', 'craft', 'crafted', 'cragg', 'craig', 'cram', 'crammed', 'crams', 'crane', 'cranes', 'craney', 'crank', 'cranked', 'crap', 'craphouse', 'crash', 'crashed', 'crashing', 'crass', 'crave', 'craved', 'craven', 'crawford', 'crawl', 'crawley', 'crawling', 'cray', 'craze', 'crazed', 'crazy', 'creaky', 'cream', 'create', 'created', 'creates', 'creating', 'creation', 'creations', 'creative', 'creatively', 'creatives', 'creativity', 'creator', 'creators', 'creature', 'creatures', 'credentials', 'credibility', 'credible', 'credit', 'credited', 'crediting', 'creditor', 'creditors', 'credits', 'creditworthiness', 'creek', 'creep', 'creepy', 'crept', 'crescendo', 'crescent', 'crescenzi', 'crespel', 'crest', 'crestfallen', 'crete', 'crew', 'crewman', 'crews', 'cricket', 'cricketers', 'cried', 'cries', 'crime', 'crimes', 'criminal', 'criminalist', 'criminality', 'criminally', 'criminals', 'crimson', 'cringe', 'cripple', 'crippled', 'crippling', 'crises', 'crisis', 'crisp', 'crisper', 'criss', 'cristian', 'cristiano', 'criteria', 'critic', 'critical', 'critically', 'criticise', 'criticised', 'criticises', 'criticising', 'criticism', 'criticisms', 'critics', 'critique', 'croatia', 'croatian', 'crockery', 'crockett', 'crohas', 'crooner', 'croooner', 'crop', 'crops', 'crosby', 'cross', 'crossbar', 'crosscourt', 'crossed', 'crosses', 'crosshair', 'crossing', 'crossroads', 'crotch', 'croucher', 'crouching', 'crowd', 'crowded', 'crowds', 'crown', 'crowned', 'crowning', 'crowns', 'crowther', 'croydon', 'crucial', 'crucially', 'crucified', 'crude', 'crue', 'cruel', 'cruelty', 'cruise', 'cruised', 'cruises', 'crumble', 'crumples', 'crunch', 'crusader', 'crush', 'crushed', 'crushing', 'cruyff', 'cruz', 'cryer', 'crying', 'crystal', 'crystalline', 'csa', 'csi', 'csos', 'cuba', 'cuban', 'cubans', 'cube', 'cubic', 'cuckoo', 'cudicini', 'cue', 'cues', 'cueto', 'cuisine', 'culled', 'cullen', 'cullum', 'cullumpton', 'culminated', 'culmination', 'culprit', 'cult', 'cultivated', 'cultivating', 'cultural', 'culturally', 'culture', 'cultured', 'cultures', 'cum', 'cumbersome', 'cumbria', 'cumming', 'cumulative', 'cunningham', 'cunningly', 'cup', 'cups', 'curable', 'curb', 'curbing', 'curbishley', 'curbs', 'cure', 'curfew', 'curfews', 'curiosity', 'curiously', 'curled', 'curnier', 'currencies', 'currency', 'current', 'currentily', 'currently', 'curriculum', 'curry', 'curse', 'cursed', 'cursing', 'curt', 'curtail', 'curtice', 'curtis', 'curve', 'cushion', 'cusiter', 'custody', 'custom', 'customary', 'customer', 'customers', 'customise', 'customised', 'customs', 'cut', 'cutbacks', 'cute', 'cuthbert', 'cuticle', 'cutler', 'cuts', 'cutting', 'cuyo', 'cvs', 'cyber', 'cyberathlete', 'cyberspace', 'cyborg', 'cycle', 'cyclical', 'cyclists', 'cygan', 'cylinder', 'cymru', 'cynical', 'cynicism', 'cynthia', 'cypriot', 'cyprus', 'cyril', 'cyrillic', 'czech', 'czechs', 'czink', 'd12', 'da', 'dab', 'dabbled', 'dacourt', 'dad', 'daddy', 'dado', 'daft', 'dagblad', 'daggers', 'dahaka', 'dai', 'daily', 'daimerchrysler', 'daimlerchrylser', 'daimlerchrysler', 'dainik', 'dainty', 'dairy', 'daisy', 'daiwa', 'dakota', 'dal', 'dale', 'dales', 'daley', 'dallaglio', 'dallas', 'dalton', 'daly', 'dam', 'damage', 'damaged', 'damages', 'damaging', 'dame', 'damian', 'damien', 'damme', 'damming', 'damn', 'damon', 'dampen', 'dampened', 'dampening', 'dams', 'dan', 'dana', 'dance', 'danced', 'dancehall', 'dancer', 'dancers', 'dancing', 'dandies', 'dandruff', 'dane', 'danes', 'danger', 'dangerous', 'dangerously', 'dangers', 'dangling', 'dani', 'daniel', 'daniela', 'danielli', 'danish', 'danniella', 'danny', 'danton', 'darcey', 'dare', 'daredevil', 'darfur', 'darin', 'dark', 'darkest', 'darkly', 'darkness', 'darkprofits', 'darling', 'darlington', 'darn', 'darren', 'dartford', 'darth', 'dartmoor', 'dash', 'dashed', 'dashing', 'dassault', 'data', 'database', 'datamonitor', 'date', 'dated', 'dates', 'dating', 'daub', 'daubed', 'daugher', 'daughter', 'daughters', 'daunting', 'dautenhahn', 'dave', 'davenport', 'daveport', 'davey', 'david', 'davidson', 'davies', 'davis', 'davos', 'davydenko', 'dawn', 'dawns', 'dawson', 'daxter', 'day', 'dayanidhi', 'daydreaming', 'days', 'daze', 'dazzling', 'db9', 'dbs', 'dc', 'dca', 'ddos', 'deacon', 'dead', 'deadliest', 'deadline', 'deadlock', 'deadly', 'deadwood', 'deaf', 'deafening', 'deakins', 'deal', 'dealers', 'dealing', 'dealings', 'deals', 'dealt', 'dean', 'deans', 'dear', 'dearly', 'death', 'deathmatch', 'deaths', 'deats', 'debacle', 'debate', 'debated', 'debates', 'debating', 'debbie', 'debit', 'deborah', 'debra', 'debris', 'debt', 'debtor', 'debts', 'debussy', 'debut', 'debutant', 'debuted', 'debuting', 'debuts', 'dec', 'decade', 'decades', 'decapitation', 'decathlete', 'deccan', 'deceitful', 'deceive', 'deceived', 'decelerate', 'december', 'decency', 'decent', 'decently', 'decentralise', 'decentralised', 'deception', 'deceptive', 'deceptively', 'dechy', 'decide', 'decided', 'decider', 'decides', 'deciding', 'decimating', 'decipher', 'decision', 'decisions', 'decisive', 'decisiveness', 'deck', 'deckchair', 'decked', 'decker', 'deckers', 'declan', 'declaration', 'declarations', 'declare', 'declared', 'declares', 'declaring', 'decline', 'declined', 'declines', 'declining', 'deco', 'decoded', 'decommissioning', 'decorated', 'decorating', 'decoration', 'decorum', 'decrease', 'decreases', 'decries', 'decryption', 'dedicate', 'dedicated', 'dedication', 'deductible', 'dee', 'deemed', 'deep', 'deepened', 'deepening', 'deeper', 'deeply', 'deer', 'deering', 'def', 'defaced', 'defacement', 'defamation', 'defar', 'default', 'defaulted', 'defaulting', 'defeat', 'defeated', 'defeating', 'defeatism', 'defeats', 'defected', 'defecting', 'defection', 'defective', 'defector', 'defects', 'defence', 'defences', 'defend', 'defendant', 'defendants', 'defended', 'defender', 'defenders', 'defending', 'defends', 'defense', 'defensive', 'defensively', 'defer', 'deferential', 'deferring', 'defiant', 'defibrillators', 'deficit', 'deficits', 'defied', 'defies', 'define', 'defined', 'defines', 'defining', 'definite', 'definitely', 'definition', 'definitive', 'deflation', 'deflected', 'deflection', 'deflects', 'defra', 'defraud', 'deft', 'defy', 'degenerative', 'degraded', 'degrading', 'degree', 'degrees', 'degroot', 'dehiba', 'dein', 'deirdre', 'dejene', 'del', 'delaigue', 'delaware', 'delay', 'delayed', 'delaying', 'delays', 'delegate', 'delegates', 'delegation', 'delegations', 'delete', 'deleted', 'deletion', 'deletions', 'delft', 'delgado', 'delhi', 'deliberate', 'deliberately', 'deliberation', 'delicate', 'delight', 'delighted', 'delightful', 'delights', 'delirious', 'delist', 'delisted', 'delisting', 'deliver', 'deliverable', 'delivered', 'deliveries', 'delivering', 'delivers', 'delivery', 'dell', 'della', 'dellape', 'deloitte', 'delray', 'delta', 'delude', 'deluges', 'delusion', 'dem', 'demand', 'demanded', 'demanding', 'demands', 'demean', 'demeaning', 'dementia', 'dementieva', 'demille', 'demise', 'demo', 'democracy', 'democrat', 'democratic', 'democratically', 'democratisation', 'democrats', 'demographic', 'demographics', 'demography', 'demolish', 'demolished', 'demonised', 'demons', 'demonstrate', 'demonstrated', 'demonstrates', 'demonstrating', 'demonstration', 'demonstrations', 'demonstrator', 'demos', 'demoted', 'dempsey', 'dems', 'demure', 'den', 'dench', 'denial', 'denials', 'denied', 'denies', 'denis', 'denise', 'denmark', 'dennis', 'denominated', 'denounce', 'densely', 'dent', 'dental', 'dented', 'deny', 'denying', 'denzel', 'deodorant', 'depardieu', 'depardon', 'departed', 'department', 'departmental', 'departments', 'departure', 'depeche', 'depend', 'dependability', 'dependable', 'dependant', 'dependence', 'dependency', 'dependent', 'depending', 'depends', 'depict', 'depiction', 'depicts', 'depletion', 'deploy', 'deployed', 'deployment', 'depor', 'deportivo', 'deposit', 'depository', 'deposits', 'depp', 'deppler', 'depreciates', 'depress', 'depressed', 'depressing', 'depression', 'deprive', 'deprived', 'depriving', 'depth', 'deputies', 'deputised', 'deputy', 'der', 'derail', 'derailed', 'derartu', 'derbies', 'derby', 'derbyshire', 'deregulation', 'derek', 'dergarabedian', 'derisory', 'derivatives', 'derive', 'derived', 'dermot', 'des', 'desai', 'desailly', 'descend', 'descended', 'descent', 'described', 'describes', 'describing', 'description', 'descriptions', 'desert', 'deserted', 'deserts', 'deserve', 'deserved', 'deserves', 'deshui', 'design', 'designated', 'designation', 'designed', 'designer', 'designers', 'designing', 'designs', 'desire', 'desk', 'desktop', 'desktops', 'despair', 'despaired', 'despairing', 'despatch', 'despatched', 'despatches', 'desperate', 'desperately', 'desperation', 'despite', 'desplechin', 'destatis', 'destination', 'destinations', 'destined', 'destiny', 'destitute', 'destroy', 'destroyed', 'destroying', 'destruction', 'detached', 'detaching', 'detailed', 'detailing', 'details', 'detain', 'detained', 'detainees', 'detaining', 'detakats', 'detect', 'detected', 'detecting', 'detection', 'detective', 'detectives', 'detector', 'detects', 'detention', 'detentions', 'deter', 'deteriorate', 'deteriorated', 'deteriorates', 'deteriorating', 'deterioration', 'determination', 'determine', 'determined', 'deterred', 'deterrent', 'deterrents', 'deterring', 'detonated', 'detrimental', 'detroit', 'deuce', 'deutsche', 'deutschland', 'devaluation', 'devalue', 'devastated', 'devastating', 'devastation', 'develop', 'developed', 'developer', 'developers', 'developing', 'development', 'developmental', 'developments', 'develops', 'device', 'devices', 'devil', 'devise', 'devised', 'devoid', 'devon', 'devonish', 'devos', 'devoted', 'devotion', 'dfes', 'di', 'diabetes', 'diaghilev', 'diagnosed', 'diagnosis', 'dial', 'dialled', 'dialler', 'diallers', 'dialling', 'dialog', 'dialogue', 'diamond', 'diamonds', 'diamound', 'diana', 'diane', 'diaries', 'diarrhoea', 'diary', 'diatribe', 'dibaba', 'dibley', 'dicaprio', 'dick', 'dictate', 'dictatorship', 'dictionaries', 'dictionary', 'did', 'didactic', 'diddley', 'didier', 'didn', 'dido', 'die', 'died', 'diego', 'diehard', 'diemont', 'dies', 'diesel', 'diet', 'dieter', 'dietmar', 'differ', 'differed', 'difference', 'differences', 'different', 'differential', 'differentiate', 'differentiating', 'differently', 'differing', 'difficult', 'difficulties', 'difficulty', 'diffuse', 'dig', 'digby', 'digest', 'digga', 'digging', 'digit', 'digital', 'digitally', 'digitise', 'digitised', 'digits', 'digney', 'dignitaries', 'dignity', 'digs', 'dilapidated', 'dilemma', 'diligence', 'diligent', 'dim', 'dimanche', 'dimbleby', 'dimech', 'dimension', 'dimensional', 'dimensions', 'diminishes', 'diminutive', 'dimitar', 'dimitrakopoulos', 'dimitri', 'dimmable', 'dimmed', 'din', 'dina', 'dinesh', 'dingolfing', 'dinked', 'dinkier', 'dinner', 'dinners', 'dinosaur', 'dint', 'dion', 'dionne', 'diop', 'dip', 'diphtheria', 'dipiazza', 'diploma', 'diplomatic', 'dipo', 'dipped', 'dipping', 'dire', 'direct', 'directed', 'directing', 'direction', 'directive', 'directly', 'director', 'directorate', 'directorial', 'directors', 'directs', 'directx', 'dirk', 'dirrty', 'dirty', 'disabilities', 'disable', 'disabled', 'disadvantage', 'disadvantaged', 'disaffection', 'disagree', 'disagreed', 'disagreement', 'disagreements', 'disallow', 'disallowed', 'disappear', 'disappearance', 'disappeared', 'disappearing', 'disappoint', 'disappointed', 'disappointing', 'disappointment', 'disappointments', 'disapproval', 'disapproved', 'disarray', 'disaster', 'disasters', 'disastrous', 'disbelief', 'disc', 'discarded', 'discernible', 'discharge', 'discharged', 'disciplinary', 'discipline', 'disciplined', 'disciplines', 'disclaimer', 'disclose', 'disclosed', 'disclosure', 'disclosures', 'disco', 'discomfort', 'disconcerted', 'disconnect', 'discontent', 'discount', 'discounted', 'discounting', 'discounts', 'discourage', 'discouraged', 'discouraging', 'discourse', 'discourtesies', 'discover', 'discovered', 'discoveries', 'discovering', 'discovery', 'discredit', 'discredited', 'discreet', 'discreetly', 'discrepancy', 'discretion', 'discriminate', 'discriminated', 'discrimination', 'discriminatorily', 'discriminatory', 'discs', 'discus', 'discuss', 'discussed', 'discussing', 'discussion', 'discussions', 'disdain', 'disease', 'diseases', 'disenchanted', 'disengage', 'disengaged', 'disgrace', 'disgraceful', 'disguise', 'disguises', 'disguising', 'disgust', 'disgusted', 'disgusting', 'disheartened', 'disheartening', 'dished', 'dishevelled', 'dishonest', 'disillusioned', 'disillusionment', 'disintegrating', 'disinterested', 'disk', 'disks', 'dislike', 'disliked', 'dismal', 'dismally', 'dismantle', 'dismantled', 'dismantles', 'dismayed', 'dismiss', 'dismissal', 'dismissed', 'dismisses', 'dismissing', 'dismissive', 'disney', 'disobeys', 'disorder', 'disorders', 'disparate', 'dispassionate', 'dispel', 'dispense', 'dispensed', 'dispenser', 'dispersal', 'dispiriting', 'displace', 'displaced', 'display', 'displayed', 'displaying', 'displays', 'disposable', 'disposal', 'disposed', 'disposing', 'dispossessed', 'disproportionate', 'dispute', 'disputed', 'disputes', 'disqualified', 'disquiet', 'disregard', 'disregarding', 'disrepair', 'disrepute', 'disrespect', 'disrupt', 'disrupted', 'disruption', 'disruptions', 'disruptive', 'dissatisfied', 'dissent', 'dissenting', 'disservice', 'dissidents', 'dissipated', 'dissolve', 'dissuading', 'distance', 'distances', 'distant', 'distilled', 'distin', 'distinct', 'distinction', 'distinctive', 'distinguish', 'distinguished', 'distinguishing', 'distort', 'distract', 'distracted', 'distraction', 'distracts', 'distressed', 'distribute', 'distributed', 'distributing', 'distribution', 'distributor', 'distributors', 'district', 'districts', 'distrusted', 'disturb', 'disturbances', 'disturbed', 'disturbing', 'disturbingly', 'disunity', 'ditch', 'ditched', 'dithers', 'ditto', 'diva', 'dive', 'dived', 'diverse', 'diversify', 'diversity', 'divert', 'diverted', 'diverting', 'diverts', 'divide', 'divided', 'dividend', 'dividends', 'divides', 'dividing', 'division', 'divisions', 'divo', 'divorce', 'divorced', 'divorcees', 'divorces', 'divulging', 'dixie', 'dixon', 'dixons', 'diy', 'dizzee', 'dizzy', 'dj', 'djibril', 'djimi', 'djs', 'dlf', 'dmitriy', 'doak', 'dobson', 'doc', 'dock', 'docked', 'docking', 'docklands', 'docomo', 'doctor', 'doctoring', 'doctorow', 'doctors', 'docu', 'document', 'documentaries', 'documentary', 'documentation', 'documented', 'documenting', 'documents', 'dodds', 'dodge', 'dodgy', 'does', 'doesn', 'dog', 'dogg', 'dogged', 'dogmatic', 'dogs', 'dogusoy', 'dogville', 'doha', 'doherty', 'doing', 'dokic', 'dolby', 'doldrums', 'dole', 'dolin', 'doling', 'dollar', 'dollars', 'dollops', 'dolls', 'dolores', 'dom', 'domain', 'domains', 'dome', 'domenico', 'domestic', 'dominance', 'dominant', 'dominate', 'dominated', 'dominates', 'dominating', 'domination', 'domineering', 'dominic', 'dominica', 'dominicans', 'dominici', 'don', 'donald', 'donate', 'donated', 'donating', 'donation', 'donations', 'doncaster', 'dongwon', 'donkey', 'donmar', 'donna', 'donnedieu', 'donnelly', 'donnie', 'donny', 'donoghue', 'donor', 'donors', 'doo', 'doom', 'doomed', 'door', 'doore', 'doors', 'doorstepping', 'doorways', 'dope', 'doping', 'doren', 'doriva', 'dorival', 'dormant', 'dornford', 'dorothy', 'dorset', 'dortmund', 'dos', 'dose', 'dosing', 'dossier', 'dossiers', 'dot', 'dotcom', 'dots', 'dotted', 'douala', 'double', 'doubleclick', 'doubled', 'doubles', 'doubling', 'doubly', 'doubt', 'doubted', 'doubters', 'doubtful', 'doubting', 'doubts', 'doug', 'doughnuts', 'dougie', 'douglas', 'dougray', 'dour', 'doves', 'dow', 'dowell', 'downdraft', 'downfall', 'downgrade', 'downgraded', 'downgrades', 'downhill', 'downing', 'downlights', 'download', 'downloadable', 'downloaded', 'downloaders', 'downloading', 'downloads', 'downright', 'downs', 'downshifting', 'downside', 'downstairs', 'downstream', 'downtown', 'downturn', 'downward', 'downwards', 'dowson', 'doyle', 'dozen', 'dozens', 'dr', 'drab', 'draconian', 'dracula', 'draft', 'drafted', 'drafting', 'drag', 'dragan', 'dragged', 'dragging', 'dragon', 'dragonhood', 'dragons', 'dragoon', 'drain', 'drainage', 'drake', 'drama', 'dramas', 'dramatic', 'dramatically', 'dramatisations', 'drastically', 'draw', 'drawback', 'drawbacks', 'drawing', 'drawings', 'drawn', 'draws', 'dre', 'dreadfully', 'dream', 'dreamed', 'dreaming', 'dreamliner', 'dreams', 'dreamt', 'dreamworks', 'dredd', 'dredge', 'dress', 'dressed', 'dresses', 'dressing', 'drew', 'dreyfuss', 'dries', 'drifted', 'drifting', 'drill', 'drilled', 'drilling', 'drink', 'drinkers', 'drinking', 'drinks', 'driscoll', 'drive', 'driven', 'driver', 'drivers', 'drives', 'driving', 'drm', 'drogba', 'drop', 'dropout', 'dropped', 'dropping', 'drops', 'dross', 'drove', 'drown', 'drowned', 'drowning', 'drug', 'drugged', 'drugs', 'drum', 'drummer', 'drumming', 'drums', 'drunk', 'drunken', 'drury', 'dry', 'ds', 'dsl', 'dti', 'dtt', 'du', 'dual', 'dually', 'dubai', 'dubbed', 'dubbing', 'dubious', 'dublin', 'dubliner', 'dubs', 'duchess', 'duchy', 'duck', 'ducking', 'dudas', 'dudek', 'dudley', 'duel', 'duet', 'duets', 'duff', 'duffy', 'dug', 'dugarry', 'duke', 'dukes', 'dull', 'dulled', 'duly', 'dumb', 'dumfriesshire', 'dummy', 'dump', 'dumped', 'dumpsite', 'dunbar', 'duncan', 'dundee', 'dunfermline', 'dungeon', 'dunk', 'dunking', 'dunn', 'dunne', 'dunwoody', 'duo', 'dup', 'duplicate', 'durables', 'duran', 'durban', 'durex', 'durham', 'dust', 'dustin', 'dusty', 'dutch', 'dutchman', 'duties', 'dutronc', 'duty', 'duvall', 'dvb', 'dvd', 'dvds', 'dvrs', 'dwain', 'dwarfed', 'dwarfs', 'dwayne', 'dwight', 'dwindle', 'dwindling', 'dwyer', 'dyer', 'dying', 'dylan', 'dynamic', 'dynamics', 'dynamite', 'dysfunctional', 'dysfunctions', 'dz', 'e17', 'e200', 'e3', 'ea', 'eaa', 'eads', 'eager', 'eagles', 'ealing', 'eamonn', 'ear', 'earl', 'earlier', 'earliest', 'earls', 'early', 'earmarked', 'earn', 'earned', 'earner', 'earners', 'earnest', 'earning', 'earnings', 'earns', 'earpiece', 'earpieces', 'earring', 'ears', 'earth', 'earthlink', 'earthquake', 'earthquakes', 'ease', 'eased', 'eases', 'easier', 'easily', 'easing', 'east', 'eastenders', 'easter', 'easterby', 'eastern', 'eastlands', 'eastwood', 'easy', 'easygroup', 'easyjet', 'easymobile', 'eat', 'eater', 'eating', 'eavesdrop', 'eavis', 'eb', 'ebay', 'ebber', 'ebbers', 'ebbs', 'ebu', 'ec', 'ecb', 'eccentricity', 'eccleshall', 'echo', 'echoed', 'echoes', 'eclectic', 'eclipsed', 'eclipses', 'ecofin', 'ecologists', 'ecology', 'economic', 'economically', 'economics', 'economies', 'economist', 'economists', 'economy', 'ecosystem', 'ecosystems', 'ecstatic', 'ed', 'eddie', 'edelman', 'edge', 'edged', 'edges', 'edgescape', 'edginess', 'edging', 'edgware', 'edgy', 'edinburgh', 'edit', 'edited', 'edith', 'editing', 'edition', 'editions', 'editor', 'editorial', 'editors', 'edits', 'edmondson', 'edu', 'eduard', 'eduardo', 'educate', 'educated', 'educates', 'educating', 'education', 'educational', 'educationalists', 'educations', 'edward', 'edwards', 'edwin', 'eef', 'eerdekens', 'eerie', 'eff', 'effect', 'effective', 'effectively', 'effectiveness', 'effects', 'efficiencies', 'efficiency', 'efficient', 'efficiently', 'effort', 'effortlessly', 'efforts', 'egalitarian', 'egeland', 'egelton', 'egg', 'egged', 'ego', 'egos', 'egotist', 'egypt', 'egyptian', 'ehud', 'eichel', 'eidur', 'eighteen', 'eighth', 'eighty', 'eileen', 'einar', 'eindhoven', 'eircom', 'ejecting', 'ekhayelitsha', 'el', 'elaborate', 'elan', 'elderly', 'eldest', 'eldin', 'eldridge', 'elect', 'elected', 'election', 'electioneering', 'elections', 'electoral', 'electorate', 'electors', 'electric', 'electrical', 'electrician', 'electricity', 'electrifying', 'electro', 'electronic', 'electronically', 'electronics', 'elegance', 'elegantly', 'element', 'elementary', 'elements', 'elena', 'elephant', 'elephants', 'elevated', 'elevator', 'elevators', 'elf', 'elgindy', 'elhorga', 'elicits', 'eligibility', 'eligible', 'eliminate', 'eliminating', 'elimination', 'eliot', 'elise', 'elite', 'elites', 'eliud', 'eliza', 'elizabeth', 'ella', 'elland', 'ellen', 'elliot', 'elliott', 'ellis', 'ellison', 'elloway', 'ellsmore', 'elsener', 'elson', 'elspa', 'elton', 'elude', 'elusive', 'elvis', 'em', 'email', 'emailed', 'emails', 'emanating', 'embankment', 'embargo', 'embargoes', 'embark', 'embarked', 'embarking', 'embarrass', 'embarrassed', 'embarrassing', 'embarrassment', 'embassies', 'embassy', 'embattled', 'embedded', 'embezzlement', 'embodiment', 'embrace', 'embraced', 'embracing', 'embroiled', 'embryo', 'embryos', 'embu', 'emcees', 'emenating', 'emerald', 'emerge', 'emerged', 'emergence', 'emergency', 'emerges', 'emerging', 'emi', 'emiew', 'emiews', 'emigrated', 'emilia', 'emilio', 'emily', 'emin', 'eminem', 'eminent', 'eminently', 'emirates', 'emissions', 'emma', 'emmanuelle', 'emmer', 'emmissions', 'emmy', 'emoticon', 'emotional', 'emotionally', 'emotions', 'emotive', 'empathy', 'emphasis', 'emphasise', 'emphasised', 'emphasises', 'emphatic', 'emphatically', 'emphysema', 'empire', 'employ', 'employed', 'employee', 'employees', 'employer', 'employers', 'employing', 'employment', 'employs', 'empower', 'empowerment', 'empress', 'empt', 'empted', 'emulate', 'emulating', 'emulators', 'en', 'enable', 'enabled', 'enables', 'enabling', 'enacted', 'encapsulate', 'encoder', 'encoding', 'encompass', 'encore', 'encounter', 'encountered', 'encourage', 'encouraged', 'encouragement', 'encourages', 'encouraging', 'encroachment', 'encryption', 'end', 'endacott', 'endangered', 'endeared', 'endearingly', 'endeavour', 'ended', 'endemol', 'endgame', 'endicott', 'ending', 'endless', 'endlessly', 'endogenous', 'endorphin', 'endorse', 'endorsed', 'endorses', 'endorsing', 'ends', 'endured', 'enduring', 'enel', 'enemies', 'enemy', 'energetic', 'energie', 'energies', 'energis', 'energise', 'energised', 'energy', 'enfance', 'enfish', 'enforce', 'enforceable', 'enforced', 'enforcement', 'enforcer', 'enforcing', 'eng', 'engage', 'engaged', 'engagement', 'engagements', 'engagers', 'engages', 'engaging', 'engendered', 'engine', 'engined', 'engineer', 'engineered', 'engineering', 'engineers', 'engines', 'england', 'english', 'englishman', 'enhance', 'enhanced', 'enhancement', 'enhancements', 'enhancing', 'enigma', 'enigmatic', 'enjoined', 'enjoy', 'enjoyable', 'enjoyed', 'enjoying', 'enjoyment', 'enjoys', 'enlarged', 'enlargement', 'enlightened', 'enlisted', 'enliven', 'eno', 'enoch', 'enormity', 'enormous', 'enormously', 'enquires', 'enquiries', 'enqvist', 'enraged', 'enrico', 'enron', 'enshrined', 'ensler', 'ensues', 'ensuing', 'ensure', 'ensured', 'ensures', 'ensuring', 'enter', 'entered', 'entering', 'enterprise', 'enterprises', 'enters', 'entertain', 'entertainers', 'entertaining', 'entertainment', 'enthralling', 'enthusiasm', 'enthusiast', 'enthusiastic', 'enthusiastically', 'enthusiasts', 'entire', 'entirely', 'entitled', 'entitles', 'entourage', 'entrance', 'entrants', 'entrenched', 'entrepreneur', 'entrepreneurial', 'entrepreneurs', 'entries', 'entry', 'envelope', 'envelopes', 'enveloping', 'environment', 'environmental', 'environmentalists', 'environmentally', 'environments', 'envisaged', 'envisages', 'envisional', 'envisioned', 'envoy', 'envoys', 'eoc', 'eolas', 'ep', 'ephedrine', 'ephemera', 'epic', 'epicentre', 'epidemic', 'epidemics', 'epipsodes', 'episode', 'episodes', 'epitome', 'epitomised', 'epitomises', 'epo', 'eponymous', 'epp', 'equal', 'equalise', 'equalised', 'equaliser', 'equality', 'equalled', 'equally', 'equating', 'equation', 'equatorial', 'equilibrium', 'equip', 'equipier', 'equipment', 'equipped', 'equities', 'equity', 'equivalent', 'er', 'era', 'eradicate', 'eras', 'erase', 'eraser', 'erasing', 'erasure', 'erdogan', 'erected', 'erfurt', 'eric', 'erich', 'ericsson', 'erik', 'eriksson', 'ernest', 'ernie', 'ernst', 'eroded', 'eroding', 'erosion', 'erotica', 'err', 'erratic', 'errera', 'erroneous', 'error', 'errors', 'ers', 'erupt', 'erupted', 'erupting', 'eruption', 'erupts', 'escalated', 'escalators', 'escape', 'escaped', 'escondida', 'escorts', 'espanol', 'espanyol', 'especially', 'espionage', 'esquive', 'essar', 'essay', 'essence', 'essential', 'essentially', 'essex', 'esson', 'establish', 'established', 'establishing', 'establishment', 'establishments', 'estaing', 'estate', 'estates', 'esteem', 'estefan', 'estelle', 'estimate', 'estimated', 'estimates', 'estimating', 'estimation', 'estonia', 'et', 'etat', 'eternal', 'ethel', 'ethernet', 'ethical', 'ethically', 'ethics', 'ethiopia', 'ethiopian', 'ethnic', 'ethnicities', 'ethos', 'etienne', 'eton', 'etsi', 'eu', 'euell', 'eulogy', 'euphoric', 'eurex', 'euro', 'euronext', 'europe', 'european', 'europeans', 'europhiles', 'euros', 'eurosceptic', 'euroscepticism', 'eurovision', 'eurozone', 'euskarians', 'eustace', 'euston', 'euthanasia', 'eva', 'evacuate', 'evacuating', 'evacuation', 'evade', 'evaded', 'evaluate', 'evaluated', 'evaluation', 'evaluations', 'evalution', 'evan', 'evanescence', 'evangelical', 'evans', 'evaporate', 'evaporated', 'evasion', 'eve', 'evening', 'evenings', 'event', 'events', 'eventual', 'eventuality', 'eventually', 'everest', 'evergreen', 'everton', 'everybody', 'everyday', 'evicted', 'eviction', 'evictions', 'evidence', 'evident', 'evidentiary', 'evil', 'evils', 'evocation', 'evokes', 'evolution', 'evolve', 'evolved', 'evolving', 'ewan', 'ewood', 'ex', 'exacerbated', 'exacerbating', 'exact', 'exactly', 'exaggerated', 'examination', 'examine', 'examined', 'examines', 'examining', 'example', 'examples', 'exams', 'exasperated', 'excavated', 'exceed', 'exceeded', 'exceeding', 'exceeds', 'excel', 'excellence', 'excellent', 'exception', 'exceptional', 'exceptionally', 'exceptions', 'excerpt', 'excess', 'excesses', 'excessive', 'excessively', 'exchange', 'exchanged', 'exchanges', 'exchanging', 'exchequer', 'excite', 'excited', 'excitement', 'exciting', 'exclaimed', 'exclude', 'excluded', 'excludes', 'excluding', 'exclusion', 'exclusions', 'exclusive', 'exclusively', 'excuse', 'excuses', 'execute', 'executed', 'execution', 'executive', 'executives', 'exeem', 'exempt', 'exempting', 'exemptions', 'exercise', 'exercised', 'exercises', 'exercising', 'exert', 'exerted', 'exerting', 'exeter', 'exhaust', 'exhausted', 'exhibit', 'exhibition', 'exhibitions', 'exhibitor', 'exhibitors', 'exhorting', 'exiles', 'exist', 'existed', 'existence', 'existing', 'exists', 'exit', 'exits', 'exodus', 'exonerated', 'exorbitant', 'exorcist', 'exotic', 'expand', 'expandable', 'expanded', 'expanding', 'expansion', 'expansions', 'expansive', 'expatriates', 'expect', 'expectancies', 'expectancy', 'expectation', 'expectations', 'expected', 'expecting', 'expects', 'expediency', 'expelled', 'expenditure', 'expense', 'expenses', 'expensive', 'experience', 'experienced', 'experiences', 'experiencing', 'experiment', 'experimental', 'experimentation', 'experimenting', 'experiments', 'expert', 'expertise', 'experts', 'expiration', 'expirations', 'expire', 'expired', 'expires', 'explain', 'explained', 'explaining', 'explains', 'explanation', 'explanations', 'expletive', 'explicit', 'explicitly', 'explode', 'exploded', 'explodes', 'exploding', 'exploit', 'exploitation', 'exploited', 'exploiting', 'exploits', 'exploration', 'explorations', 'explore', 'explored', 'explorer', 'explores', 'exploring', 'explosion', 'explosions', 'explosive', 'explosives', 'expo', 'exponential', 'exponentially', 'exponents', 'export', 'exported', 'exporter', 'exporters', 'exporting', 'exports', 'expose', 'exposed', 'exposing', 'exposure', 'express', 'expressed', 'expresses', 'expressing', 'expression', 'expressions', 'expropriation', 'expulsion', 'expunge', 'extend', 'extended', 'extending', 'extends', 'extension', 'extensions', 'extensive', 'extent', 'external', 'extort', 'extortion', 'extortionists', 'extra', 'extract', 'extracting', 'extracts', 'extraordinarily', 'extraordinary', 'extras', 'extravagant', 'extravaganza', 'extreme', 'extremely', 'extremists', 'exuberance', 'exxon', 'exxonmobil', 'eye', 'eyeballs', 'eyebrows', 'eyed', 'eyeing', 'eyelashes', 'eyes', 'eyetoy', 'eyre', 'eyton', 'fa', 'fabian', 'fabien', 'fable', 'fabregas', 'fabrication', 'fabrice', 'fabrics', 'fabulous', 'face', 'faced', 'faces', 'facey', 'facial', 'facilitate', 'facilitating', 'facilities', 'facility', 'facing', 'fact', 'factions', 'facto', 'factor', 'factored', 'factories', 'factors', 'factory', 'facts', 'factual', 'fad', 'fade', 'faded', 'fades', 'fading', 'fagin', 'fahrenheit', 'fai', 'fail', 'failed', 'failing', 'failings', 'fails', 'failure', 'failures', 'faint', 'fair', 'fairbanks', 'fairer', 'fairly', 'fairmont', 'fairness', 'fairs', 'fairway', 'faisal', 'faith', 'faiths', 'fake', 'faked', 'fakes', 'faking', 'falcon', 'falconer', 'falcons', 'falic', 'fall', 'fallen', 'fallible', 'falling', 'fallout', 'fallow', 'falls', 'false', 'falsehood', 'falsify', 'falsifying', 'faltered', 'faltering', 'faltskog', 'fame', 'famed', 'familiar', 'families', 'family', 'famine', 'famous', 'famously', 'fan', 'fanatics', 'fancied', 'fancy', 'fannie', 'fanning', 'fanolua', 'fans', 'fansite', 'fantasise', 'fantastic', 'fantasy', 'fao', 'far', 'farah', 'farce', 'fare', 'fared', 'faregas', 'fares', 'farewell', 'fargas', 'fargo', 'farm', 'farmer', 'farmers', 'farming', 'farmland', 'farms', 'farndon', 'farnham', 'faroe', 'farrell', 'fascinate', 'fascinated', 'fascinating', 'fascination', 'fashion', 'fashionable', 'fashioned', 'fast', 'faster', 'fastest', 'fastow', 'fat', 'fatal', 'fatboy', 'fate', 'fated', 'father', 'fathered', 'fathers', 'fathi', 'fathom', 'fatigue', 'fatigued', 'faulkner', 'fault', 'faulted', 'faultless', 'faults', 'faulty', 'fausto', 'fava', 'favour', 'favourable', 'favourably', 'favoured', 'favourite', 'favourites', 'favours', 'fawkes', 'fax', 'faye', 'fayetteville']\n"
     ]
    }
   ],
   "source": [
    "feature_names = vectorizer.get_feature_names()\n",
    "\n",
    "print(len(feature_names))\n",
    "print(feature_names[:8000])"
   ]
  },
  {
   "cell_type": "code",
   "execution_count": 40,
   "metadata": {},
   "outputs": [
    {
     "name": "stdout",
     "output_type": "stream",
     "text": [
      "  (0, 949)\t1\n",
      "  (0, 6288)\t1\n",
      "  (0, 20224)\t1\n",
      "  (0, 13268)\t2\n",
      "  (0, 17411)\t1\n",
      "  (0, 20076)\t1\n",
      "  (0, 9124)\t2\n",
      "  (0, 10795)\t1\n",
      "  (0, 3667)\t1\n",
      "  (0, 6069)\t1\n",
      "  (0, 1258)\t2\n",
      "  (0, 19733)\t1\n",
      "  (0, 14477)\t2\n",
      "  (0, 20164)\t1\n",
      "  (0, 22048)\t1\n",
      "  (0, 2555)\t2\n",
      "  (0, 18659)\t1\n",
      "  (0, 49)\t1\n",
      "  (0, 1194)\t1\n",
      "  (0, 2564)\t5\n",
      "  (0, 1714)\t1\n",
      "  (0, 13944)\t1\n",
      "  (0, 4780)\t1\n",
      "  (0, 13737)\t1\n",
      "  (0, 372)\t1\n",
      "  :\t:\n",
      "  (0, 723)\t1\n",
      "  (0, 9741)\t1\n",
      "  (0, 14082)\t1\n",
      "  (0, 1197)\t1\n",
      "  (0, 7858)\t1\n",
      "  (0, 7699)\t1\n",
      "  (0, 10877)\t1\n",
      "  (0, 8412)\t1\n",
      "  (0, 1922)\t1\n",
      "  (0, 20051)\t1\n",
      "  (0, 2939)\t1\n",
      "  (0, 20654)\t1\n",
      "  (0, 14217)\t1\n",
      "  (0, 3218)\t1\n",
      "  (0, 3166)\t1\n",
      "  (0, 2500)\t1\n",
      "  (0, 18051)\t1\n",
      "  (0, 7274)\t1\n",
      "  (0, 3243)\t1\n",
      "  (0, 9709)\t1\n",
      "  (0, 7711)\t1\n",
      "  (0, 14400)\t1\n",
      "  (0, 1649)\t1\n",
      "  (0, 5751)\t1\n",
      "  (0, 19125)\t1\n"
     ]
    }
   ],
   "source": [
    "print(train_vector_data[10])"
   ]
  },
  {
   "cell_type": "code",
   "execution_count": 41,
   "metadata": {},
   "outputs": [],
   "source": [
    "import numpy as np\n",
    "import numpy.ma as ma\n",
    "\n",
    "def write_terms (feature_names, data, vector_data, index):\n",
    "    '''\n",
    "    Escribe los términos presentes en un mensaje representado como bolsa de palabras.\n",
    "    \n",
    "    - feature_names: terminos usados para vectorizar\n",
    "    - data: lista de mensajes original (si data==None no se muestra el mensaje original)\n",
    "    - vector_data: matriz (dispersa) de mensaje vectorizados\n",
    "    - index: posición del mensaje a mostrar\n",
    "    '''\n",
    "    # máscara para seleccionar sólo el mensaje en posición index\n",
    "    mask=vector_data[index,:]>0\n",
    "    \n",
    "    # términos que aparecen en ese mensaje vectorizado\n",
    "    terminos = ma.array(feature_names, mask = ~(mask[0].toarray()))\n",
    "    \n",
    "    # mostrar mensaje original\n",
    "    if data is not None:\n",
    "        print('Mensaje', index, ':', data[index])\n",
    "    \n",
    "    # mostrar términos que aparecen en el mensaje vectorizado\n",
    "    print('Mensaje', index, 'vectorizado:', terminos.compressed(),'\\n')"
   ]
  },
  {
   "cell_type": "code",
   "execution_count": 42,
   "metadata": {},
   "outputs": [
    {
     "name": "stdout",
     "output_type": "stream",
     "text": [
      "Mensaje 0 : bellamy fined after row newcastle have fined their welsh striker craig bellamy two weeks  wages - about £80 000 - following his row with manager graeme souness.  but bellamy  25  has not been put on the transfer list  although he did not train with the first team on tuesday. magpies chairman freddy shepherd told the newcastle evening chronicle:  it is not about money. it is about a player thinking he is bigger than this club.  no individual is  be it the chairman  the manager or a player.  souness dropped bellamy for sunday s game against arsenal  claiming the welshman had feigned injury after being asked to play out of position.  when i heard what the manager was saying i was in shock   bellamy said.  i thought  not only has he gone behind my back  he s lying    he said in response to souness  remarks. and the wales international refused to apologise.  i won t apologise because i have done nothing wrong   he told the evening chronicle.  there s no doubt about it  i am out of here.  the difficult relationship between souness and bellamy boiled over at the weekend  and has led to a war of words in the media.  bellamy s claim that souness had lied about the background to the bust-up was strongly denied by shepherd  who accused the striker of  cheating  the club.  i wish to put the record straight regarding the bellamy situation   said shepherd.  craig walked off the training ground saying his hamstring was tight (on friday)  but what he failed to reveal was that he had told other members of the squad before training that he intended to feign injury.  when graeme discovered this he immediately ordered bellamy to attend a meeting in my office.  at that meeting bellamy admitted to graeme and i that he had told the players that he was going to  fake  an injury in training and walk off.  he also agreed at that meeting to apologise to his team-mates for his behaviour. he didn t do this which resulted in the action taken by the manager at the weekend  which i fully support.  in my book this is cheating on the club  the supporters  the manager and his own team-mates.  he is paid extremely well and i consider his behaviour to be totally unacceptable and totally unprofessional.   bellamy s latest outburst would appear to make his chances of a first-team recall remote. but even before newcastle said the player would not be sold  bellamy insisted he had no intention of handing in a transfer request.  i don t want the fans to think for one minute that i wouldn t play for this club   he said.  i d play anywhere for this club  even in goal.  it s a very difficult situation for me at the moment but i d never ask to leave this club.  this club means so much to me. i couldn t do it because i know i couldn t come back here and play against newcastle. it would hurt too much.\n",
      "Mensaje 0 vectorizado: ['000' '25' '80' 'accused' 'action' 'admitted' 'agreed' 'apologise'\n",
      " 'appear' 'arsenal' 'ask' 'asked' 'attend' 'background' 'behaviour'\n",
      " 'bellamy' 'bigger' 'boiled' 'book' 'bust' 'chairman' 'chances' 'cheating'\n",
      " 'chronicle' 'claim' 'claiming' 'club' 'come' 'consider' 'couldn' 'craig'\n",
      " 'denied' 'did' 'didn' 'difficult' 'discovered' 'don' 'doubt' 'dropped'\n",
      " 'evening' 'extremely' 'failed' 'fake' 'fans' 'feign' 'feigned' 'fined'\n",
      " 'following' 'freddy' 'friday' 'fully' 'game' 'goal' 'going' 'gone'\n",
      " 'graeme' 'ground' 'hamstring' 'handing' 'heard' 'hurt' 'immediately'\n",
      " 'individual' 'injury' 'insisted' 'intended' 'intention' 'international'\n",
      " 'know' 'latest' 'leave' 'led' 'lied' 'list' 'lying' 'magpies' 'make'\n",
      " 'manager' 'mates' 'means' 'media' 'meeting' 'members' 'minute' 'moment'\n",
      " 'money' 'newcastle' 'office' 'ordered' 'outburst' 'paid' 'play' 'player'\n",
      " 'players' 'position' 'recall' 'record' 'refused' 'regarding'\n",
      " 'relationship' 'remarks' 'remote' 'request' 'response' 'resulted'\n",
      " 'reveal' 'row' 'said' 'saying' 'shepherd' 'shock' 'situation' 'sold'\n",
      " 'souness' 'squad' 'straight' 'striker' 'strongly' 'sunday' 'support'\n",
      " 'supporters' 'taken' 'team' 'think' 'thinking' 'thought' 'tight' 'told'\n",
      " 'totally' 'train' 'training' 'transfer' 'tuesday' 'unacceptable'\n",
      " 'unprofessional' 'wages' 'wales' 'walk' 'walked' 'want' 'war' 'weekend'\n",
      " 'weeks' 'welsh' 'welshman' 'wish' 'won' 'words' 'wouldn' 'wrong'] \n",
      "\n"
     ]
    }
   ],
   "source": [
    "write_terms(feature_names, x_train.Text.tolist(), train_vector_data, 0)"
   ]
  },
  {
   "cell_type": "code",
   "execution_count": 3,
   "metadata": {},
   "outputs": [
    {
     "data": {
      "text/plain": [
       "' Elimina las palabras que considera menos importantes, las palabras que son de proposito general y se utilizan\\ndando igual la categoria que sea, como have, his, do, it... \\nLas elimina porque no le sirven para nada a la hora de decidir ninguna categoria y no tienen ninguna informacion \\nnecesaria en una prediccion '"
      ]
     },
     "execution_count": 3,
     "metadata": {},
     "output_type": "execute_result"
    }
   ],
   "source": [
    "\"\"\" Elimina las palabras que considera menos importantes, las palabras que son de proposito general y se utilizan\n",
    "dando igual la categoria que sea, como have, his, do, it... \n",
    "Las elimina porque no le sirven para nada a la hora de decidir ninguna categoria y no tienen ninguna informacion \n",
    "necesaria en una prediccion \"\"\""
   ]
  },
  {
   "cell_type": "code",
   "execution_count": 44,
   "metadata": {},
   "outputs": [
    {
     "name": "stdout",
     "output_type": "stream",
     "text": [
      "  (0, 1)\t2\n",
      "  (0, 49)\t1\n",
      "  (0, 156)\t1\n",
      "  (0, 366)\t1\n",
      "  (0, 1164)\t8\n",
      "  (0, 1268)\t1\n",
      "  (0, 1295)\t1\n",
      "  (0, 1393)\t2\n",
      "  (0, 1417)\t1\n",
      "  (0, 1489)\t1\n",
      "  (0, 1503)\t1\n",
      "  (0, 1512)\t1\n",
      "  (0, 1644)\t2\n",
      "  (0, 1804)\t1\n",
      "  (0, 1906)\t1\n",
      "  (0, 2028)\t1\n",
      "  (0, 2070)\t1\n",
      "  (0, 2270)\t1\n",
      "  (0, 2638)\t1\n",
      "  (0, 2691)\t3\n",
      "  (0, 2896)\t1\n",
      "  (0, 3365)\t1\n",
      "  (0, 3443)\t1\n",
      "  (0, 3753)\t1\n",
      "  (0, 3956)\t1\n",
      "  :\t:\n",
      "  (0, 18279)\t1\n",
      "  (0, 18594)\t1\n",
      "  (0, 18659)\t1\n",
      "  (0, 18810)\t1\n",
      "  (0, 18818)\t2\n",
      "  (0, 18963)\t1\n",
      "  (0, 19719)\t2\n",
      "  (0, 19720)\t2\n",
      "  (0, 19738)\t1\n",
      "  (0, 19795)\t1\n",
      "  (0, 19902)\t1\n",
      "  (0, 19914)\t1\n",
      "  (0, 20041)\t1\n",
      "  (0, 20164)\t1\n",
      "  (0, 20215)\t2\n",
      "  (0, 20224)\t3\n",
      "  (0, 20603)\t1\n",
      "  (0, 20767)\t1\n",
      "  (0, 21095)\t2\n",
      "  (0, 21406)\t1\n",
      "  (0, 21495)\t1\n",
      "  (0, 21637)\t1\n",
      "  (0, 21903)\t1\n",
      "  (0, 21978)\t2\n",
      "  (0, 22048)\t1\n"
     ]
    }
   ],
   "source": [
    "test_vector_data = vectorizer.transform(x_test.Text)\n",
    "\n",
    "print(test_vector_data[10])"
   ]
  },
  {
   "cell_type": "code",
   "execution_count": 45,
   "metadata": {},
   "outputs": [
    {
     "name": "stdout",
     "output_type": "stream",
     "text": [
      "Multinomial Naive Bayes, porcentaje de aciertos en entrenamiento: 0.9958053691275168\n",
      "Multinomial Naive Bayes, porcentaje de aciertos en test: 0.9798657718120806\n"
     ]
    }
   ],
   "source": [
    "from sklearn.naive_bayes import MultinomialNB\n",
    "\n",
    "mnb_classifier = MultinomialNB()\n",
    "\n",
    "mnb_classifier.fit(train_vector_data, x_train.Category)\n",
    "\n",
    "mnb_train_predictions = mnb_classifier.predict(train_vector_data)\n",
    "mnb_test_predictions = mnb_classifier.predict(test_vector_data)\n",
    "\n",
    "print(\"Multinomial Naive Bayes, porcentaje de aciertos en entrenamiento:\", np.mean(mnb_train_predictions == x_train.Category))\n",
    "print(\"Multinomial Naive Bayes, porcentaje de aciertos en test:\", np.mean(mnb_test_predictions == x_test.Category))"
   ]
  },
  {
   "cell_type": "code",
   "execution_count": 46,
   "metadata": {},
   "outputs": [],
   "source": [
    "from sklearn.metrics import confusion_matrix\n",
    "from sklearn.utils.multiclass import unique_labels\n",
    "import numpy as np\n",
    "import matplotlib.pyplot as plt\n",
    "\n",
    "def plot_confusion_matrix(y_true, y_pred, classes,\n",
    "                          normalize=False,\n",
    "                          title=None,\n",
    "                          cmap=plt.cm.Blues):\n",
    "    \"\"\"\n",
    "    This function prints and plots the confusion matrix.\n",
    "    Normalization can be applied by setting `normalize=True`.\n",
    "    \"\"\"\n",
    "    if not title:\n",
    "        if normalize:\n",
    "            title = 'Normalized confusion matrix'\n",
    "        else:\n",
    "            title = 'Confusion matrix, MultinomialNB'\n",
    "\n",
    "    # Compute confusion matrix\n",
    "    cm = confusion_matrix(y_true, y_pred)\n",
    "    # Only use the labels that appear in the data\n",
    "    #classes = classes[unique_labels(y_true, y_pred)]\n",
    "    if normalize:\n",
    "        cm = cm.astype('float') / cm.sum(axis=1)[:, np.newaxis]\n",
    "        print(\"Normalized confusion matrix\")\n",
    "    else:\n",
    "        print('Confusion matrix, MultinomialNB')\n",
    "\n",
    "    print(cm)\n",
    "\n",
    "    fig, ax = plt.subplots()\n",
    "    im = ax.imshow(cm, interpolation='nearest', cmap=cmap)\n",
    "    ax.figure.colorbar(im, ax=ax)\n",
    "    # We want to show all ticks...\n",
    "    ax.set(xticks=np.arange(cm.shape[1]),\n",
    "           yticks=np.arange(cm.shape[0]),\n",
    "           # ... and label them with the respective list entries\n",
    "           xticklabels=classes, yticklabels=classes,\n",
    "           title=title,\n",
    "           ylabel='True label',\n",
    "           xlabel='Predicted label')\n",
    "\n",
    "    # Rotate the tick labels and set their alignment.\n",
    "    plt.setp(ax.get_xticklabels(), rotation=45, ha=\"right\",\n",
    "             rotation_mode=\"anchor\")\n",
    "\n",
    "    # Loop over data dimensions and create text annotations.\n",
    "    fmt = '.2f' if normalize else 'd'\n",
    "    thresh = cm.max() / 2.\n",
    "    for i in range(cm.shape[0]):\n",
    "        for j in range(cm.shape[1]):\n",
    "            ax.text(j, i, format(cm[i, j], fmt),\n",
    "                    ha=\"center\", va=\"center\",\n",
    "                    color=\"white\" if cm[i, j] > thresh else \"black\")\n",
    "    fig.tight_layout()\n",
    "    return ax"
   ]
  },
  {
   "cell_type": "code",
   "execution_count": 50,
   "metadata": {},
   "outputs": [],
   "source": [
    "target_names = ['business', 'entertainment', 'politic', 'sport', 'tech'];"
   ]
  },
  {
   "cell_type": "code",
   "execution_count": 54,
   "metadata": {},
   "outputs": [
    {
     "name": "stdout",
     "output_type": "stream",
     "text": [
      "Confusion matrix, MultinomialNB\n",
      "[[59  0  1  0  1]\n",
      " [ 1 42  0  0  0]\n",
      " [ 0  0 68  0  1]\n",
      " [ 1  0  0 74  0]\n",
      " [ 0  1  0  0 49]]\n"
     ]
    },
    {
     "data": {
      "text/plain": [
       "<AxesSubplot:title={'center':'Confusion matrix, MultinomialNB'}, xlabel='Predicted label', ylabel='True label'>"
      ]
     },
     "execution_count": 54,
     "metadata": {},
     "output_type": "execute_result"
    },
    {
     "data": {
      "image/png": "[encoded data removed]",
      "text/plain": [
       "<Figure size 432x288 with 2 Axes>"
      ]
     },
     "metadata": {
      "needs_background": "light"
     },
     "output_type": "display_data"
    }
   ],
   "source": [
    "plot_confusion_matrix(x_test['Category'], mnb_test_predictions,target_names, normalize=False)"
   ]
  },
  {
   "cell_type": "code",
   "execution_count": 55,
   "metadata": {
    "scrolled": true
   },
   "outputs": [
    {
     "name": "stdout",
     "output_type": "stream",
     "text": [
      "               precision    recall  f1-score   support\n",
      "\n",
      "     business       0.97      0.97      0.97        61\n",
      "entertainment       0.98      0.98      0.98        43\n",
      "      politic       0.99      0.99      0.99        69\n",
      "        sport       1.00      0.99      0.99        75\n",
      "         tech       0.96      0.98      0.97        50\n",
      "\n",
      "     accuracy                           0.98       298\n",
      "    macro avg       0.98      0.98      0.98       298\n",
      " weighted avg       0.98      0.98      0.98       298\n",
      "\n"
     ]
    }
   ],
   "source": [
    "from sklearn.metrics import classification_report, confusion_matrix\n",
    "\n",
    "classifier=mnb_classifier\n",
    "predictions = mnb_test_predictions\n",
    "\n",
    "print(classification_report(x_test.Category, predictions, target_names=target_names))"
   ]
  },
  {
   "cell_type": "code",
   "execution_count": null,
   "metadata": {},
   "outputs": [],
   "source": [
    "\"\"\" Analizar Naive:\n",
    "Podemos observar en la matriz de confusion que el predictor con naive ha funcionado muy satisfactoriamente,\n",
    "ha tenido una precision del 98%, con una exhaustividad y puntuacion f1 de 0.98\"\"\""
   ]
  },
  {
   "cell_type": "code",
   "execution_count": 57,
   "metadata": {},
   "outputs": [
    {
     "name": "stdout",
     "output_type": "stream",
     "text": [
      "k-NN, porcentaje de aciertos en entrenamiento: 0.6669463087248322\n",
      "k-NN, porcentaje de aciertos en test: 0.5838926174496645\n"
     ]
    }
   ],
   "source": [
    "from sklearn import neighbors\n",
    "\n",
    "knn_classifier = neighbors.KNeighborsClassifier()\n",
    "knn_classifier.fit(train_vector_data, x_train.Category)\n",
    "\n",
    "knn_train_predictions = knn_classifier.predict(train_vector_data)\n",
    "knn_test_predictions = knn_classifier.predict(test_vector_data)\n",
    "\n",
    "print(\"k-NN, porcentaje de aciertos en entrenamiento:\", np.mean(knn_train_predictions == x_train.Category))\n",
    "print(\"k-NN, porcentaje de aciertos en test:\", np.mean(knn_test_predictions == x_test.Category))"
   ]
  },
  {
   "cell_type": "code",
   "execution_count": 58,
   "metadata": {},
   "outputs": [
    {
     "name": "stdout",
     "output_type": "stream",
     "text": [
      "Confusion matrix, MultinomialNB\n",
      "[[30  0  2 29  0]\n",
      " [ 0 15  0 28  0]\n",
      " [ 0  0 44 25  0]\n",
      " [ 0  0  0 75  0]\n",
      " [ 3  5  1 31 10]]\n"
     ]
    },
    {
     "data": {
      "text/plain": [
       "<AxesSubplot:title={'center':'Confusion matrix, MultinomialNB'}, xlabel='Predicted label', ylabel='True label'>"
      ]
     },
     "execution_count": 58,
     "metadata": {},
     "output_type": "execute_result"
    },
    {
     "data": {
      "image/png": "[encoded data removed]",
      "text/plain": [
       "<Figure size 432x288 with 2 Axes>"
      ]
     },
     "metadata": {
      "needs_background": "light"
     },
     "output_type": "display_data"
    }
   ],
   "source": [
    "plot_confusion_matrix(x_test['Category'], knn_test_predictions,target_names, normalize=False)"
   ]
  },
  {
   "cell_type": "code",
   "execution_count": 59,
   "metadata": {},
   "outputs": [
    {
     "name": "stdout",
     "output_type": "stream",
     "text": [
      "               precision    recall  f1-score   support\n",
      "\n",
      "     business       0.91      0.49      0.64        61\n",
      "entertainment       0.75      0.35      0.48        43\n",
      "      politic       0.94      0.64      0.76        69\n",
      "        sport       0.40      1.00      0.57        75\n",
      "         tech       1.00      0.20      0.33        50\n",
      "\n",
      "     accuracy                           0.58       298\n",
      "    macro avg       0.80      0.54      0.56       298\n",
      " weighted avg       0.78      0.58      0.57       298\n",
      "\n"
     ]
    }
   ],
   "source": [
    "classifier=knn_classifier\n",
    "predictions = knn_test_predictions\n",
    "\n",
    "print(classification_report(x_test.Category, predictions, target_names=target_names))"
   ]
  },
  {
   "cell_type": "code",
   "execution_count": 34,
   "metadata": {},
   "outputs": [
    {
     "data": {
      "text/plain": [
       "' Analizar '"
      ]
     },
     "execution_count": 34,
     "metadata": {},
     "output_type": "execute_result"
    }
   ],
   "source": [
    "\"\"\" Analizar KNN \"\"\""
   ]
  },
  {
   "cell_type": "markdown",
   "metadata": {},
   "source": [
    "## 3) Representación basada en word-embeddings\n",
    "\n",
    "La segunda vectorización que vamos a usar representará los mensajes usando word-embeddings. Cada documento se representará como el vector que resulta de promediar los embeddings de cada una de sus palabras. Al igual que en el apartado anterior, usaremos monogramas y las _stop words_ que vienen configuradas por defecto para el inglés. Recuerda usar como vocabulario para vectorizar el vocabulario del fichero con las word-embeddings. \n",
    "\n",
    "Entrena un clasificador Naive Bayes Gaussiano (el Multinomial no admite valores negativos que sí aparecen en los embeddings). Analiza el error por clase y dibuja la matriz de confusión.\n",
    "\n",
    "Entrena otro clasificador kNN con la nueva vectorización y la configuración por defecto y analiza su error."
   ]
  },
  {
   "cell_type": "code",
   "execution_count": 61,
   "metadata": {},
   "outputs": [],
   "source": [
    "from gensim.scripts.glove2word2vec import glove2word2vec\n",
    "from gensim.models import KeyedVectors\n",
    "\n",
    "model = KeyedVectors.load_word2vec_format('words.txt', binary=False, no_header=True)"
   ]
  },
  {
   "cell_type": "code",
   "execution_count": 63,
   "metadata": {},
   "outputs": [],
   "source": [
    "we_vocabulary = list(model.key_to_index.keys())"
   ]
  },
  {
   "cell_type": "code",
   "execution_count": 68,
   "metadata": {},
   "outputs": [],
   "source": [
    "vectorizer2 = CountVectorizer(vocabulary = we_vocabulary, stop_words='english', binary=False,ngram_range=(1,1))"
   ]
  },
  {
   "cell_type": "code",
   "execution_count": 69,
   "metadata": {},
   "outputs": [],
   "source": [
    "train_data_vector2 = vectorizer2.fit_transform(x_train.Text)\n",
    "test_data_vector2 = vectorizer2.transform(x_test.Text)\n",
    "\n",
    "we_feature_names = vectorizer2.get_feature_names()"
   ]
  },
  {
   "cell_type": "code",
   "execution_count": 70,
   "metadata": {},
   "outputs": [],
   "source": [
    "from sklearn.naive_bayes import GaussianNB\n",
    "\n",
    "gnb_classifier = GaussianNB()\n",
    "\n",
    "chunk_size=149\n",
    "num_rows=len(x_train.Category)\n",
    "\n",
    "for i in range(0, (num_rows//chunk_size)):\n",
    "    train_chunk = train_data_vector2[i*chunk_size : (i+1)*chunk_size,:].toarray()\n",
    "    target_chunk = x_train.Category[i*chunk_size : (i+1)*chunk_size]\n",
    "    gnb_classifier.partial_fit(train_chunk, target_chunk, classes=np.unique(x_train.Category))"
   ]
  },
  {
   "cell_type": "code",
   "execution_count": 71,
   "metadata": {},
   "outputs": [
    {
     "name": "stdout",
     "output_type": "stream",
     "text": [
      "Gaussian Naive Bayes, porcentaje de aciertos en entrenamiento: 1.0\n",
      "Gaussian Naive Bayes, porcentaje de aciertos en test: 0.9026845637583892\n"
     ]
    }
   ],
   "source": [
    "gnb_train_predictions=np.zeros_like(x_train.Category)\n",
    "gnb_test_predictions=np.zeros_like(x_test.Category)\n",
    "\n",
    "for i in range(0, (num_rows//chunk_size)):\n",
    "    train_chunk = train_data_vector2[i*chunk_size : (i+1)*chunk_size,:].toarray()\n",
    "    gnb_train_predictions[i*chunk_size : (i+1)*chunk_size] = gnb_classifier.predict(train_chunk)\n",
    "    \n",
    "num_rows=len(x_test.Category)\n",
    "for i in range(0, (num_rows//chunk_size)):\n",
    "    test_chunk = test_data_vector2[i*chunk_size : (i+1)*chunk_size,:].toarray()\n",
    "    gnb_test_predictions[i*chunk_size : (i+1)*chunk_size] = gnb_classifier.predict(test_chunk)\n",
    "\n",
    "print(\"Gaussian Naive Bayes, porcentaje de aciertos en entrenamiento:\", np.mean(gnb_train_predictions == x_train.Category))\n",
    "print(\"Gaussian Naive Bayes, porcentaje de aciertos en test:\", np.mean(gnb_test_predictions == x_test.Category))"
   ]
  },
  {
   "cell_type": "code",
   "execution_count": 74,
   "metadata": {},
   "outputs": [
    {
     "name": "stdout",
     "output_type": "stream",
     "text": [
      "Confusion matrix, MultinomialNB\n",
      "[[54  1  2  0  4]\n",
      " [ 0 41  0  0  2]\n",
      " [ 5  3 59  0  2]\n",
      " [ 1  3  2 67  2]\n",
      " [ 0  1  1  0 48]]\n"
     ]
    },
    {
     "data": {
      "text/plain": [
       "<AxesSubplot:title={'center':'Confusion matrix, MultinomialNB'}, xlabel='Predicted label', ylabel='True label'>"
      ]
     },
     "execution_count": 74,
     "metadata": {},
     "output_type": "execute_result"
    },
    {
     "data": {
      "image/png": "[encoded data removed]",
      "text/plain": [
       "<Figure size 432x288 with 2 Axes>"
      ]
     },
     "metadata": {
      "needs_background": "light"
     },
     "output_type": "display_data"
    }
   ],
   "source": [
    "plot_confusion_matrix(x_test['Category'], gnb_test_predictions,target_names, normalize=False)"
   ]
  },
  {
   "cell_type": "code",
   "execution_count": 75,
   "metadata": {},
   "outputs": [
    {
     "name": "stdout",
     "output_type": "stream",
     "text": [
      "               precision    recall  f1-score   support\n",
      "\n",
      "     business       0.90      0.89      0.89        61\n",
      "entertainment       0.84      0.95      0.89        43\n",
      "      politic       0.92      0.86      0.89        69\n",
      "        sport       1.00      0.89      0.94        75\n",
      "         tech       0.83      0.96      0.89        50\n",
      "\n",
      "     accuracy                           0.90       298\n",
      "    macro avg       0.90      0.91      0.90       298\n",
      " weighted avg       0.91      0.90      0.90       298\n",
      "\n"
     ]
    }
   ],
   "source": [
    "classifier=gnb_classifier\n",
    "predictions = gnb_test_predictions\n",
    "\n",
    "print(classification_report(x_test.Category, predictions, target_names=target_names))"
   ]
  },
  {
   "cell_type": "code",
   "execution_count": 76,
   "metadata": {},
   "outputs": [
    {
     "data": {
      "text/plain": [
       "' Texto '"
      ]
     },
     "execution_count": 76,
     "metadata": {},
     "output_type": "execute_result"
    }
   ],
   "source": [
    "\"\"\" Texto \"\"\""
   ]
  },
  {
   "cell_type": "code",
   "execution_count": 77,
   "metadata": {},
   "outputs": [
    {
     "name": "stdout",
     "output_type": "stream",
     "text": [
      "k-NN, porcentaje de aciertos en entrenamiento: 0.6057046979865772\n",
      "k-NN, porcentaje de aciertos en test: 0.5335570469798657\n"
     ]
    }
   ],
   "source": [
    "from sklearn import neighbors\n",
    "\n",
    "knn_classifier2 = neighbors.KNeighborsClassifier()\n",
    "knn_classifier2.fit(train_data_vector2, x_train.Category)\n",
    "\n",
    "knn_train_predictions2 = knn_classifier2.predict(train_data_vector2)\n",
    "knn_test_predictions2 = knn_classifier2.predict(test_data_vector2)\n",
    "\n",
    "print(\"k-NN, porcentaje de aciertos en entrenamiento:\", np.mean(knn_train_predictions2 == x_train.Category))\n",
    "print(\"k-NN, porcentaje de aciertos en test:\", np.mean(knn_test_predictions2 == x_test.Category))"
   ]
  },
  {
   "cell_type": "code",
   "execution_count": 78,
   "metadata": {},
   "outputs": [
    {
     "name": "stdout",
     "output_type": "stream",
     "text": [
      "Confusion matrix, MultinomialNB\n",
      "[[24  0  0 37  0]\n",
      " [ 0 15  0 28  0]\n",
      " [ 0  0 36 33  0]\n",
      " [ 0  0  0 75  0]\n",
      " [ 3  8  0 30  9]]\n"
     ]
    },
    {
     "data": {
      "text/plain": [
       "<AxesSubplot:title={'center':'Confusion matrix, MultinomialNB'}, xlabel='Predicted label', ylabel='True label'>"
      ]
     },
     "execution_count": 78,
     "metadata": {},
     "output_type": "execute_result"
    },
    {
     "data": {
      "image/png": "[encoded data removed]",
      "text/plain": [
       "<Figure size 432x288 with 2 Axes>"
      ]
     },
     "metadata": {
      "needs_background": "light"
     },
     "output_type": "display_data"
    }
   ],
   "source": [
    "plot_confusion_matrix(x_test['Category'], knn_test_predictions2,target_names, normalize=False)"
   ]
  },
  {
   "cell_type": "code",
   "execution_count": 79,
   "metadata": {},
   "outputs": [
    {
     "name": "stdout",
     "output_type": "stream",
     "text": [
      "               precision    recall  f1-score   support\n",
      "\n",
      "     business       0.89      0.39      0.55        61\n",
      "entertainment       0.65      0.35      0.45        43\n",
      "      politic       1.00      0.52      0.69        69\n",
      "        sport       0.37      1.00      0.54        75\n",
      "         tech       1.00      0.18      0.31        50\n",
      "\n",
      "     accuracy                           0.53       298\n",
      "    macro avg       0.78      0.49      0.51       298\n",
      " weighted avg       0.77      0.53      0.52       298\n",
      "\n"
     ]
    }
   ],
   "source": [
    "classifier=knn_classifier2\n",
    "predictions = knn_test_predictions2\n",
    "\n",
    "print(classification_report(x_test.Category, predictions, target_names=target_names))"
   ]
  },
  {
   "cell_type": "markdown",
   "metadata": {},
   "source": [
    "## 4) Análisis comparativo final\n",
    "\n",
    "Hemos entrenado dos clasificadores usando dos vectorizaciones diferentes de los datos. Compara la tasa de acierto de todos ellos y explica a qué crees que se deben las diferencias.\n",
    "\n",
    "Busca un mensaje mal clasificado por el Naive Bayes con vectorización de frecuencias y otro mal clasificado por el k-NN con Word-embeddings. Analiza los vectores de términos de dichos mensajes e intenta razonar por qué ha sido clasificado erróneamente.\n",
    "\n",
    "Para el Naive Bayes con vectorización de frecuencias, elige dos clases donde el clasificador no haya funcionado bien y analiza las palabras más relevantes para clasificar una noticia como de dichas clases. Razona si lo que ves crees que influye en la posible confusión a la hora de clasificar entre dichas clases."
   ]
  },
  {
   "cell_type": "code",
   "execution_count": null,
   "metadata": {},
   "outputs": [],
   "source": [
    "\"\"\" Hablar de cosas y buscar articulo mal clasificado comparando texto a texto de la predicted y \n",
    "la que ya hay y parar cuando se encuentre \n",
    "\n",
    "Usar el write terminos\n",
    "\n",
    "NaiveBayes al final del notebook de clasificacion de texto\"\"\""
   ]
  }
 ],
 "metadata": {
  "kernelspec": {
   "display_name": "Python 3 (ipykernel)",
   "language": "python",
   "name": "python3"
  },
  "language_info": {
   "codemirror_mode": {
    "name": "ipython",
    "version": 3
   },
   "file_extension": ".py",
   "mimetype": "text/x-python",
   "name": "python",
   "nbconvert_exporter": "python",
   "pygments_lexer": "ipython3",
   "version": "3.9.7"
  }
 },
 "nbformat": 4,
 "nbformat_minor": 2
}
