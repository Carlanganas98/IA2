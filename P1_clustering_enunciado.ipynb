{
 "cells": [
  {
   "cell_type": "markdown",
   "id": "israeli-category",
   "metadata": {
    "id": "israeli-category"
   },
   "source": [
    "# Práctica 1: Aprendizaje automático\n",
    "\n",
    "__Fecha de entrega: 13 de marzo de 2022__\n",
    "\n",
    "El objetivo de esta práctica es aplicar los distintos algoritmos de aprendizaje automático disponibles en la scikit-learn [sklearn](https://scikit-learn.org/stable/) sobre varios conjuntos de datos y aprender a interpretar los resultados obtenidos. La práctica consta de 3 notebooks que se entregarán simultáneamente en la tarea de entrega habilitada en el Campus  Virtual.\n",
    "\n",
    "Lo más importante en esta práctica no es el código Python, sino el análisis de los datos y modelos que construyas y las explicaciones razonadas de cada una de las decisiones que tomes. __No se valorarán trozos de código o gráficas sin ningún tipo de contexto o explicación__.\n",
    "\n",
    "Finalmente, recuerda establecer el parámetro `random_state` en todas las funciones que tomen decisiones aleatorias para que los resultados sean reproducibles (los resultados no varíen entre ejecuciones)."
   ]
  },
  {
   "cell_type": "markdown",
   "id": "curious-samba",
   "metadata": {
    "id": "curious-samba"
   },
   "source": [
    "# Apartado 1: Clustering"
   ]
  },
  {
   "cell_type": "markdown",
   "id": "flexible-little",
   "metadata": {
    "id": "flexible-little"
   },
   "source": [
    "__Número de grupo: XX__\n",
    "\n",
    "__Nombres de los estudiantes: XXX y XXX__"
   ]
  },
  {
   "cell_type": "markdown",
   "id": "entertaining-roberts",
   "metadata": {
    "id": "entertaining-roberts"
   },
   "source": [
    "## 1) Carga del conjunto de datos\n",
    "\n",
    "Crea un dataframe a partir del fichero `prestamos.csv` que se proporciona junto con la práctica. \n",
    "\n",
    "El conjunto de datos contiene por cada fila los datos de un préstamo que fue concedido por una empresa de crédito p2p. Las variables que caracterizan el préstamo son las siguientes:\n",
    "  - `loan_amnt` es la cantidad de dinero solicitada en dólares\n",
    "  - `purpose` es el propósito para el que se solicitó el préstamo\n",
    "  - `revenue` son los ingresos anuales en dólares de la persona que solicitó el préstamos\n",
    "  - `dti_n` es el porcentaje de endeudamiento sobre los ingresos anuales de la persona que solicitó el préstamo\n",
    "  - `fico_n` se trata de un indicador de solvencia de la persona que solicitó el préstamo. A mayor puntuación, mayor solvencia, y además se cuenta con estos rangos orientativoss:\n",
    "    - 300-550: Pobre\n",
    "    - 550-620: Subprime (alto riesgo)\n",
    "    - 620-680: Crédito aceptable\n",
    "    - 680-740: Buen crédito\n",
    "    - 740-850: Excelente crédito\n",
    "\n",
    "  -`home_ownership_n` es una variable categórica que indica la situación de vivienda en la que vive la persona solicitante\n",
    "    - `OWN` es en propiedad\n",
    "    - `MORTAGAGE` indica que está hipotecada\n",
    "    - `RENT` indica que vive en alquiler\n",
    "    - `OTHER` es una categoría que agrega otras posibilidades\n",
    "\n",
    "- `emp_length` es una variable ordinal, no es estrictamente numérica, ya que el valor 0 denota que no consta información, los valores entre 1 y 10 indican una permanencia inferior a X años, y el valor 11 indica una permanencia superior a 10 años.\n",
    "- `Default` es la variable que usaremos como **variable objetivo** del conjunto de datos e indica si la persona incumplió (incurrió en *default*) o no el préstamo.\n",
    "\n",
    "\n",
    "Como pandas no tiene forma de saber que las variables `home_ownership_n`, `emp_length` y `Default` son en realidad categóricas, debes indicárselo tú."
   ]
  },
  {
   "cell_type": "code",
   "execution_count": 11,
   "id": "convinced-natural",
   "metadata": {
    "id": "convinced-natural"
   },
   "outputs": [
    {
     "data": {
      "text/html": [
       "<div>\n",
       "<style scoped>\n",
       "    .dataframe tbody tr th:only-of-type {\n",
       "        vertical-align: middle;\n",
       "    }\n",
       "\n",
       "    .dataframe tbody tr th {\n",
       "        vertical-align: top;\n",
       "    }\n",
       "\n",
       "    .dataframe thead th {\n",
       "        text-align: right;\n",
       "    }\n",
       "</style>\n",
       "<table border=\"1\" class=\"dataframe\">\n",
       "  <thead>\n",
       "    <tr style=\"text-align: right;\">\n",
       "      <th></th>\n",
       "      <th>loan_amnt</th>\n",
       "      <th>purpose</th>\n",
       "      <th>revenue</th>\n",
       "      <th>dti_n</th>\n",
       "      <th>fico_n</th>\n",
       "      <th>home_ownership_n</th>\n",
       "      <th>emp_length_n</th>\n",
       "      <th>Default</th>\n",
       "    </tr>\n",
       "  </thead>\n",
       "  <tbody>\n",
       "    <tr>\n",
       "      <th>0</th>\n",
       "      <td>32000</td>\n",
       "      <td>car</td>\n",
       "      <td>135000.0</td>\n",
       "      <td>18.93</td>\n",
       "      <td>687.0</td>\n",
       "      <td>MORTGAGE</td>\n",
       "      <td>1</td>\n",
       "      <td>0</td>\n",
       "    </tr>\n",
       "    <tr>\n",
       "      <th>1</th>\n",
       "      <td>32000</td>\n",
       "      <td>car</td>\n",
       "      <td>90000.0</td>\n",
       "      <td>9.29</td>\n",
       "      <td>822.0</td>\n",
       "      <td>MORTGAGE</td>\n",
       "      <td>10</td>\n",
       "      <td>1</td>\n",
       "    </tr>\n",
       "    <tr>\n",
       "      <th>2</th>\n",
       "      <td>30000</td>\n",
       "      <td>car</td>\n",
       "      <td>95000.0</td>\n",
       "      <td>1.34</td>\n",
       "      <td>722.0</td>\n",
       "      <td>RENT</td>\n",
       "      <td>11</td>\n",
       "      <td>0</td>\n",
       "    </tr>\n",
       "    <tr>\n",
       "      <th>3</th>\n",
       "      <td>25750</td>\n",
       "      <td>car</td>\n",
       "      <td>230000.0</td>\n",
       "      <td>6.42</td>\n",
       "      <td>747.0</td>\n",
       "      <td>MORTGAGE</td>\n",
       "      <td>11</td>\n",
       "      <td>0</td>\n",
       "    </tr>\n",
       "    <tr>\n",
       "      <th>4</th>\n",
       "      <td>25200</td>\n",
       "      <td>car</td>\n",
       "      <td>72000.0</td>\n",
       "      <td>30.95</td>\n",
       "      <td>692.0</td>\n",
       "      <td>OWN</td>\n",
       "      <td>11</td>\n",
       "      <td>0</td>\n",
       "    </tr>\n",
       "  </tbody>\n",
       "</table>\n",
       "</div>"
      ],
      "text/plain": [
       "   loan_amnt purpose   revenue  dti_n  fico_n home_ownership_n emp_length_n  \\\n",
       "0      32000     car  135000.0  18.93   687.0         MORTGAGE            1   \n",
       "1      32000     car   90000.0   9.29   822.0         MORTGAGE           10   \n",
       "2      30000     car   95000.0   1.34   722.0             RENT           11   \n",
       "3      25750     car  230000.0   6.42   747.0         MORTGAGE           11   \n",
       "4      25200     car   72000.0  30.95   692.0              OWN           11   \n",
       "\n",
       "  Default  \n",
       "0       0  \n",
       "1       1  \n",
       "2       0  \n",
       "3       0  \n",
       "4       0  "
      ]
     },
     "execution_count": 11,
     "metadata": {},
     "output_type": "execute_result"
    }
   ],
   "source": [
    "import pandas as pd\n",
    "\n",
    "df = pd.read_csv(\"prestamos.csv\")\n",
    "\n",
    "df[\"home_ownership_n\"] = df[\"home_ownership_n\"].astype(\"category\")\n",
    "df[\"emp_length_n\"] = df[\"emp_length_n\"].astype(\"category\")\n",
    "df[\"Default\"] = df[\"Default\"].astype(\"category\")\n",
    "\n",
    "df.head()"
   ]
  },
  {
   "cell_type": "markdown",
   "id": "gorgeous-basket",
   "metadata": {
    "id": "gorgeous-basket"
   },
   "source": [
    "## 2) Análisis de los datos\n",
    "\n",
    "### 2.1) Numéricos\n",
    "\n",
    "Analiza razonadamente las distribuciones de cada una de las variables numéricas (medias, desviaciones típicas, rangos, ...) y las principales relaciones entre pares de variables (diagrama de dispersión, coeficientes de correlación, ...)."
   ]
  },
  {
   "cell_type": "code",
   "execution_count": 12,
   "id": "compound-spanking",
   "metadata": {
    "id": "compound-spanking"
   },
   "outputs": [
    {
     "data": {
      "text/html": [
       "<div>\n",
       "<style scoped>\n",
       "    .dataframe tbody tr th:only-of-type {\n",
       "        vertical-align: middle;\n",
       "    }\n",
       "\n",
       "    .dataframe tbody tr th {\n",
       "        vertical-align: top;\n",
       "    }\n",
       "\n",
       "    .dataframe thead th {\n",
       "        text-align: right;\n",
       "    }\n",
       "</style>\n",
       "<table border=\"1\" class=\"dataframe\">\n",
       "  <thead>\n",
       "    <tr style=\"text-align: right;\">\n",
       "      <th></th>\n",
       "      <th>count</th>\n",
       "      <th>mean</th>\n",
       "      <th>std</th>\n",
       "      <th>min</th>\n",
       "      <th>25%</th>\n",
       "      <th>50%</th>\n",
       "      <th>75%</th>\n",
       "      <th>max</th>\n",
       "    </tr>\n",
       "  </thead>\n",
       "  <tbody>\n",
       "    <tr>\n",
       "      <th>loan_amnt</th>\n",
       "      <td>13794.0</td>\n",
       "      <td>14507.833116</td>\n",
       "      <td>9037.938271</td>\n",
       "      <td>1000.0</td>\n",
       "      <td>7300.0</td>\n",
       "      <td>12000.000</td>\n",
       "      <td>20000.0000</td>\n",
       "      <td>40000.00</td>\n",
       "    </tr>\n",
       "    <tr>\n",
       "      <th>revenue</th>\n",
       "      <td>13794.0</td>\n",
       "      <td>79737.299507</td>\n",
       "      <td>56463.579892</td>\n",
       "      <td>7000.0</td>\n",
       "      <td>48000.0</td>\n",
       "      <td>68000.000</td>\n",
       "      <td>97000.0000</td>\n",
       "      <td>1650000.00</td>\n",
       "    </tr>\n",
       "    <tr>\n",
       "      <th>dti_n</th>\n",
       "      <td>13794.0</td>\n",
       "      <td>18.825106</td>\n",
       "      <td>9.795986</td>\n",
       "      <td>0.0</td>\n",
       "      <td>12.2</td>\n",
       "      <td>18.085</td>\n",
       "      <td>24.7575</td>\n",
       "      <td>190.87</td>\n",
       "    </tr>\n",
       "    <tr>\n",
       "      <th>fico_n</th>\n",
       "      <td>13794.0</td>\n",
       "      <td>699.106822</td>\n",
       "      <td>32.825754</td>\n",
       "      <td>662.0</td>\n",
       "      <td>672.0</td>\n",
       "      <td>692.000</td>\n",
       "      <td>717.0000</td>\n",
       "      <td>847.50</td>\n",
       "    </tr>\n",
       "  </tbody>\n",
       "</table>\n",
       "</div>"
      ],
      "text/plain": [
       "             count          mean           std     min      25%        50%  \\\n",
       "loan_amnt  13794.0  14507.833116   9037.938271  1000.0   7300.0  12000.000   \n",
       "revenue    13794.0  79737.299507  56463.579892  7000.0  48000.0  68000.000   \n",
       "dti_n      13794.0     18.825106      9.795986     0.0     12.2     18.085   \n",
       "fico_n     13794.0    699.106822     32.825754   662.0    672.0    692.000   \n",
       "\n",
       "                  75%         max  \n",
       "loan_amnt  20000.0000    40000.00  \n",
       "revenue    97000.0000  1650000.00  \n",
       "dti_n         24.7575      190.87  \n",
       "fico_n       717.0000      847.50  "
      ]
     },
     "execution_count": 12,
     "metadata": {},
     "output_type": "execute_result"
    }
   ],
   "source": [
    "df.describe().transpose()"
   ]
  },
  {
   "cell_type": "code",
   "execution_count": null,
   "id": "8f1c44a6",
   "metadata": {},
   "outputs": [],
   "source": [
    "\"\"\" Los datos que observamos en el dataframe nos permiten ver que en cuanto a la cantidad de dinero solicitada en los\n",
    "prestamos tiene una considerable desviación tipica indicando que los datos está muy dispersos como también se observa en sus \n",
    "mínimos y máximos que difieren mucho (1.000 hasta 40.000) al igual nos pasa con los ingresos nuales de las personas que han \n",
    "solicitado los prestamos, además habiendo una gran diferencia desde el percentil 75 hasta el MAX (97.000 hasta 1.650.000)\n",
    "concluyendo en que hay unos pocos clientes que al tener grandes ingresos anuales influyen mucho en la media pese a ser menos\n",
    "ya que la media se encuentra entre los datos del percentil 50 y del 75.\n",
    "En cuanto al porcentaje de endeudamiento vemos que la desviación típica es considerable al suponer la mitad del valor de su\n",
    "media pero hay que considerar su máximo que se diferencia considerablemente del percentil 75 (24 hasta 190), lo cual nos\n",
    "indicaría que probablemente haya un muy pequeño grupo de personas que han pedido préstamos muy por encima de sus ingresos. \n",
    "Finalmente el indicador de solvencia nos muestra que de media los prestamos son \"Buen crédito\", y al no tener una desviación\n",
    "típica muy elevada nos indica que los datos no están muy dispersos en esta variable por lo que podemos afirmar que casi todos\n",
    "los prestamos dados serán \"Buen préstamo\", como mínimo \"Crédito aceptable\" o llegando a ser \"Excelente crédito\". \"\"\""
   ]
  },
  {
   "cell_type": "markdown",
   "id": "isW6NIbvhrOY",
   "metadata": {
    "id": "isW6NIbvhrOY"
   },
   "source": [
    "\n",
    "### 2.2) Categóricos\n",
    "\n",
    "Analiza razonadamente las distribuciones de los valores de las variables categóricas incluyendo un diagrama de frecuencias y comentando lo más destacable."
   ]
  },
  {
   "cell_type": "code",
   "execution_count": null,
   "id": "regional-pontiac",
   "metadata": {
    "id": "regional-pontiac"
   },
   "outputs": [],
   "source": []
  },
  {
   "cell_type": "markdown",
   "id": "ranking-mainstream",
   "metadata": {
    "id": "ranking-mainstream"
   },
   "source": [
    "## 3) Preprocesar los datos\n",
    "\n",
    "Para el clustering vamos a trabajar solamente con las variables verdaderamente numéricas. Crea un nuevo dataframe que sólo contenga las variables `loan_amnt`, `revenue`, `dti_n` y `fico_n`.\n",
    "\n",
    "Teniendo en cuenta que vamos a utilizar el algoritmo k-Means para encontrar grupos de préstamos similares, explica razonadamente si es necesario o no cambiar la escalas de los datos y si a priori es mejor reescalarlos (MinMaxScaler) o estandarizarlos (StandarScaler).\n",
    "\n",
    "Si decides preprocesarlos, accede al array interno del dataframe y crea un nuevo array con los datos escalados."
   ]
  },
  {
   "cell_type": "code",
   "execution_count": null,
   "id": "designing-baker",
   "metadata": {
    "id": "designing-baker"
   },
   "outputs": [],
   "source": []
  },
  {
   "cell_type": "markdown",
   "id": "appreciated-volume",
   "metadata": {
    "id": "appreciated-volume"
   },
   "source": [
    "## 4) Encontrar el número óptimo de clusters\n",
    "\n",
    "Decide razonadamente el número óptimo de clusters en el rango 2..10. Ten en cuenta que para interpretar los datos no nos interesa tampoco tener un número excesivo de clusters. Para hacerlo calcula y pinta el diagrama del codo, el índice davies_boulding y el coeficiente silhouette en función del número de clusters."
   ]
  },
  {
   "cell_type": "code",
   "execution_count": null,
   "id": "substantial-dispatch",
   "metadata": {
    "id": "substantial-dispatch"
   },
   "outputs": [],
   "source": []
  },
  {
   "cell_type": "markdown",
   "id": "limited-temple",
   "metadata": {
    "id": "limited-temple"
   },
   "source": [
    "## 5) Descripción de los clusters\n",
    "\n",
    "Describe los clusters que has obtenido en el apartado anterior. Si te han salido más de 3, elige 3 de ellos que sean bastante diferentes entre sí. \n",
    "\n",
    "Para hacerlo estudia sus descriptores estadísticos y dales un sentido dentro del contexto del problema. ¿Qué perfil de préstamos quedan en cada cluster? Según dicho perfil, ¿qué cluster te parece que tendrá una mayor tasa de \"default\"? Corrobóralo calculando para cada cluster la proporción de préstamos que acabaron en \"default\".\n",
    "\n",
    "Pinta el diagrama de dispersión en función de cada par de variables usando colores diferentes para cada cluster. ¿Qué clusters se separan mejor y en función de qué variables? ¿y cuáles se confunden más?\n",
    "\n",
    "__Cuidado__: para poder interpretar correctamente los datos necesitas que estén en su escala original. Si decidiste escalar los datos, deberás ejecutar k-Means con los datos escalados pero asignar las etiquetas de clusters al conjunto de datos inicial. En este caso es muy sencillo porque el algoritmo no cambia el orden de los datos así que puedes crear directamente una nueva columna en el dataframe original con esas etiquetas. Puede que aparezca un SettingWithCopyWarning por asignar una nueva columna en un dataframe que es una vista de otro dataframe. Puedes ignorar este aviso o puedes hacer una copia del dataframe con `copy` para que no comparta memoria con el otro."
   ]
  },
  {
   "cell_type": "code",
   "execution_count": null,
   "id": "grand-ambassador",
   "metadata": {
    "id": "grand-ambassador"
   },
   "outputs": [],
   "source": []
  }
 ],
 "metadata": {
  "colab": {
   "collapsed_sections": [],
   "name": "P1_clustering_enunciado.ipynb",
   "provenance": []
  },
  "kernelspec": {
   "display_name": "Python 3",
   "language": "python",
   "name": "python3"
  },
  "language_info": {
   "codemirror_mode": {
    "name": "ipython",
    "version": 3
   },
   "file_extension": ".py",
   "mimetype": "text/x-python",
   "name": "python",
   "nbconvert_exporter": "python",
   "pygments_lexer": "ipython3",
   "version": "3.8.8"
  }
 },
 "nbformat": 4,
 "nbformat_minor": 5
}
