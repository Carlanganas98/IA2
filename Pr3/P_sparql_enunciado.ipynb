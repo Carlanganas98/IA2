{
 "cells": [
  {
   "cell_type": "markdown",
   "metadata": {
    "id": "71I5krFqJpcc"
   },
   "source": [
    "# Práctica 3: Representación del conocimiento\n",
    "\n",
    "__Fecha de entrega: 5 de junio de 2022__\n",
    "\n",
    "El objetivo de esta práctica es aplicar los conceptos teóricos vistos en clase en el módulo de Representación de conocimiento. La práctica consta de un único notebook que se entregará en la tarea de entrega habilitada en el Campus  Virtual.\n",
    "\n",
    "Cada consulta debe contener breves comentarios que expliquen cada tripleta. __No se valorarán consultas sin explicaciones__."
   ]
  },
  {
   "cell_type": "markdown",
   "metadata": {
    "id": "cRisD8zH640r"
   },
   "source": [
    "__Número de grupo: XX__\n",
    "\n",
    "__Nombres de los estudiantes: XXX y XXX__"
   ]
  },
  {
   "cell_type": "markdown",
   "metadata": {
    "id": "cdP69_AXJpcg"
   },
   "source": [
    "## Consultas SPARQL sobre Wikidata.\n",
    "\n",
    "En esta práctica vamos a usar el [punto de acceso SPARQL](https://query.wikidata.org/) de Wikidata para contestar las preguntas que se formulan a continuación. Cada pregunta debe ser respondida realizando una única consulta SPARQL. Para cada una de las entidades recuperadas se mostrará __tanto su identificador como su etiqueta__ (nombre de la entidad en lenguaje natural). \n",
    "\n",
    "Para cada una de las preguntas debes mostrar tanto la consulta como la respuesta obtenida. Si lo consideras necesario, puedes añadir celdas adicionales en formato _Markdown_ para explicar decisiones que hayas tomado al crear la consulta o cualquier otro dato que consideres interesante.\n",
    " \n",
    "Para resolver estas consultas puedes usar __dos recursos que te recomendamos consultar__ son:\n",
    "\n",
    "- [Este tutorial de SPARQL](https://www.wikidata.org/wiki/Wikidata:SPARQL_tutorial).\n",
    "- [Esta recopilación de ejemplos](https://www.wikidata.org/wiki/Wikidata:SPARQL_query_service/queries/examples)"
   ]
  },
  {
   "cell_type": "code",
   "execution_count": 2,
   "metadata": {},
   "outputs": [
    {
     "name": "stdout",
     "output_type": "stream",
     "text": [
      "Defaulting to user installation because normal site-packages is not writeable\n",
      "Collecting wdsparql==0.0.3\n",
      "  Downloading wdsparql-0.0.3-py3-none-any.whl (5.0 kB)\n",
      "Requirement already satisfied: requests>=2.20 in s:\\software\\programacion\\python\\anaconda3\\lib\\site-packages (from wdsparql==0.0.3) (2.26.0)\n",
      "Requirement already satisfied: pandas>=1.1 in s:\\software\\programacion\\python\\anaconda3\\lib\\site-packages (from wdsparql==0.0.3) (1.3.0)\n",
      "Requirement already satisfied: ipython>=7.0.0 in s:\\software\\programacion\\python\\anaconda3\\lib\\site-packages (from wdsparql==0.0.3) (7.22.0)\n",
      "Requirement already satisfied: colorama in s:\\software\\programacion\\python\\anaconda3\\lib\\site-packages (from ipython>=7.0.0->wdsparql==0.0.3) (0.4.4)\n",
      "Requirement already satisfied: backcall in s:\\software\\programacion\\python\\anaconda3\\lib\\site-packages (from ipython>=7.0.0->wdsparql==0.0.3) (0.2.0)\n",
      "Requirement already satisfied: pygments in s:\\software\\programacion\\python\\anaconda3\\lib\\site-packages (from ipython>=7.0.0->wdsparql==0.0.3) (2.8.1)\n",
      "Requirement already satisfied: pickleshare in s:\\software\\programacion\\python\\anaconda3\\lib\\site-packages (from ipython>=7.0.0->wdsparql==0.0.3) (0.7.5)\n",
      "Requirement already satisfied: setuptools>=18.5 in s:\\software\\programacion\\python\\anaconda3\\lib\\site-packages (from ipython>=7.0.0->wdsparql==0.0.3) (52.0.0.post20210125)\n",
      "Requirement already satisfied: decorator in s:\\software\\programacion\\python\\anaconda3\\lib\\site-packages (from ipython>=7.0.0->wdsparql==0.0.3) (5.0.6)\n",
      "Requirement already satisfied: prompt-toolkit!=3.0.0,!=3.0.1,<3.1.0,>=2.0.0 in s:\\software\\programacion\\python\\anaconda3\\lib\\site-packages (from ipython>=7.0.0->wdsparql==0.0.3) (3.0.17)\n",
      "Requirement already satisfied: traitlets>=4.2 in s:\\software\\programacion\\python\\anaconda3\\lib\\site-packages (from ipython>=7.0.0->wdsparql==0.0.3) (5.0.5)\n",
      "Requirement already satisfied: jedi>=0.16 in s:\\software\\programacion\\python\\anaconda3\\lib\\site-packages (from ipython>=7.0.0->wdsparql==0.0.3) (0.17.2)\n",
      "Requirement already satisfied: parso<0.8.0,>=0.7.0 in s:\\software\\programacion\\python\\anaconda3\\lib\\site-packages (from jedi>=0.16->ipython>=7.0.0->wdsparql==0.0.3) (0.7.0)\n",
      "Requirement already satisfied: pytz>=2017.3 in s:\\software\\programacion\\python\\anaconda3\\lib\\site-packages (from pandas>=1.1->wdsparql==0.0.3) (2021.1)\n",
      "Requirement already satisfied: python-dateutil>=2.7.3 in s:\\software\\programacion\\python\\anaconda3\\lib\\site-packages (from pandas>=1.1->wdsparql==0.0.3) (2.8.1)\n",
      "Requirement already satisfied: numpy>=1.17.3 in s:\\software\\programacion\\python\\anaconda3\\lib\\site-packages (from pandas>=1.1->wdsparql==0.0.3) (1.20.1)\n",
      "Requirement already satisfied: wcwidth in s:\\software\\programacion\\python\\anaconda3\\lib\\site-packages (from prompt-toolkit!=3.0.0,!=3.0.1,<3.1.0,>=2.0.0->ipython>=7.0.0->wdsparql==0.0.3) (0.2.5)\n",
      "Requirement already satisfied: six>=1.5 in s:\\software\\programacion\\python\\anaconda3\\lib\\site-packages (from python-dateutil>=2.7.3->pandas>=1.1->wdsparql==0.0.3) (1.15.0)\n",
      "Requirement already satisfied: charset-normalizer~=2.0.0 in s:\\software\\programacion\\python\\anaconda3\\lib\\site-packages (from requests>=2.20->wdsparql==0.0.3) (2.0.3)\n",
      "Requirement already satisfied: urllib3<1.27,>=1.21.1 in s:\\software\\programacion\\python\\anaconda3\\lib\\site-packages (from requests>=2.20->wdsparql==0.0.3) (1.26.6)\n",
      "Requirement already satisfied: certifi>=2017.4.17 in s:\\software\\programacion\\python\\anaconda3\\lib\\site-packages (from requests>=2.20->wdsparql==0.0.3) (2020.12.5)\n",
      "Requirement already satisfied: idna<4,>=2.5 in s:\\software\\programacion\\python\\anaconda3\\lib\\site-packages (from requests>=2.20->wdsparql==0.0.3) (2.10)\n",
      "Requirement already satisfied: ipython-genutils in s:\\software\\programacion\\python\\anaconda3\\lib\\site-packages (from traitlets>=4.2->ipython>=7.0.0->wdsparql==0.0.3) (0.2.0)\n",
      "Installing collected packages: wdsparql\n",
      "Successfully installed wdsparql-0.0.3\n",
      "Note: you may need to restart the kernel to use updated packages.\n"
     ]
    }
   ],
   "source": [
    "pip install wdsparql==0.0.3"
   ]
  },
  {
   "cell_type": "code",
   "execution_count": 1,
   "metadata": {},
   "outputs": [],
   "source": [
    "# Asumismos instalado wdsparql\n",
    "%load_ext autoreload\n",
    "%load_ext wdsparql\n",
    "%autoreload 2"
   ]
  },
  {
   "cell_type": "markdown",
   "metadata": {
    "id": "-BaEde9j6405"
   },
   "source": [
    "### Ejemplo\n",
    "\n",
    "Recuperar todas las instancias directas de la clase [Cabra (Q2934)](https://www.wikidata.org/wiki/Q2934) que aparecen en la base de conocimiento."
   ]
  },
  {
   "cell_type": "code",
   "execution_count": 2,
   "metadata": {
    "id": "Oo7OLo3I6409"
   },
   "outputs": [
    {
     "data": {
      "text/html": [
       "<div>\n",
       "<style scoped>\n",
       "    .dataframe tbody tr th:only-of-type {\n",
       "        vertical-align: middle;\n",
       "    }\n",
       "\n",
       "    .dataframe tbody tr th {\n",
       "        vertical-align: top;\n",
       "    }\n",
       "\n",
       "    .dataframe thead th {\n",
       "        text-align: right;\n",
       "    }\n",
       "</style>\n",
       "<table border=\"1\" class=\"dataframe\">\n",
       "  <thead>\n",
       "    <tr style=\"text-align: right;\">\n",
       "      <th></th>\n",
       "      <th>item</th>\n",
       "      <th>itemLabel</th>\n",
       "    </tr>\n",
       "  </thead>\n",
       "  <tbody>\n",
       "    <tr>\n",
       "      <th>0</th>\n",
       "      <td><a href=\"http://www.wikidata.org/entity/Q151345\" target=\"_blank\">http://www.wikidata.org/entity/Q151345</a></td>\n",
       "      <td>Billygoat Hennes</td>\n",
       "    </tr>\n",
       "    <tr>\n",
       "      <th>1</th>\n",
       "      <td><a href=\"http://www.wikidata.org/entity/Q3569037\" target=\"_blank\">http://www.wikidata.org/entity/Q3569037</a></td>\n",
       "      <td>William Windsor</td>\n",
       "    </tr>\n",
       "    <tr>\n",
       "      <th>2</th>\n",
       "      <td><a href=\"http://www.wikidata.org/entity/Q23003932\" target=\"_blank\">http://www.wikidata.org/entity/Q23003932</a></td>\n",
       "      <td>His Whiskers</td>\n",
       "    </tr>\n",
       "    <tr>\n",
       "      <th>3</th>\n",
       "      <td><a href=\"http://www.wikidata.org/entity/Q24287064\" target=\"_blank\">http://www.wikidata.org/entity/Q24287064</a></td>\n",
       "      <td>Taffy</td>\n",
       "    </tr>\n",
       "    <tr>\n",
       "      <th>4</th>\n",
       "      <td><a href=\"http://www.wikidata.org/entity/Q41239734\" target=\"_blank\">http://www.wikidata.org/entity/Q41239734</a></td>\n",
       "      <td>Lance Corporal Shenkin III</td>\n",
       "    </tr>\n",
       "    <tr>\n",
       "      <th>5</th>\n",
       "      <td><a href=\"http://www.wikidata.org/entity/Q41240892\" target=\"_blank\">http://www.wikidata.org/entity/Q41240892</a></td>\n",
       "      <td>Lance Corporal Shenkin II</td>\n",
       "    </tr>\n",
       "    <tr>\n",
       "      <th>6</th>\n",
       "      <td><a href=\"http://www.wikidata.org/entity/Q41241416\" target=\"_blank\">http://www.wikidata.org/entity/Q41241416</a></td>\n",
       "      <td>Lance Corporal Shenkin I</td>\n",
       "    </tr>\n",
       "  </tbody>\n",
       "</table>\n",
       "</div>"
      ],
      "text/plain": [
       "<IPython.core.display.HTML object>"
      ]
     },
     "execution_count": 2,
     "metadata": {},
     "output_type": "execute_result"
    }
   ],
   "source": [
    "%%wdsparql\n",
    "SELECT ?item ?itemLabel \n",
    "WHERE \n",
    "{\n",
    "  ?item wdt:P31 wd:Q2934.  # instancias directas de la clase Cabra\n",
    "  SERVICE wikibase:label { bd:serviceParam wikibase:language \"en\". }\n",
    "}"
   ]
  },
  {
   "cell_type": "markdown",
   "metadata": {
    "id": "RUIC5ukV641D"
   },
   "source": [
    "### Consulta 1\n",
    "\n",
    "[Isaac Asimov (Q34981)](https://www.wikidata.org/wiki/Q34981) fue un escritor y profesor de bioquímica en la Universidad de Boston conocido por ser un prolífico autor de obras de ciencia ficción, historia y divulgación científica. \n",
    "\n",
    "Vamos a comenzar por averiguar su fecha y lugar de nacimiento (localidad y país al que pertenece la localidad en la actualidad)."
   ]
  },
  {
   "cell_type": "code",
   "execution_count": 6,
   "metadata": {},
   "outputs": [
    {
     "data": {
      "text/html": [
       "<div>\n",
       "<style scoped>\n",
       "    .dataframe tbody tr th:only-of-type {\n",
       "        vertical-align: middle;\n",
       "    }\n",
       "\n",
       "    .dataframe tbody tr th {\n",
       "        vertical-align: top;\n",
       "    }\n",
       "\n",
       "    .dataframe thead th {\n",
       "        text-align: right;\n",
       "    }\n",
       "</style>\n",
       "<table border=\"1\" class=\"dataframe\">\n",
       "  <thead>\n",
       "    <tr style=\"text-align: right;\">\n",
       "      <th></th>\n",
       "      <th>fecha</th>\n",
       "      <th>fechaLabel</th>\n",
       "      <th>lugar</th>\n",
       "      <th>lugarLabel</th>\n",
       "      <th>pais</th>\n",
       "      <th>paisLabel</th>\n",
       "    </tr>\n",
       "  </thead>\n",
       "  <tbody>\n",
       "    <tr>\n",
       "      <th>0</th>\n",
       "      <td>1920-01-02T00:00:00Z</td>\n",
       "      <td>1920-01-02T00:00:00Z</td>\n",
       "      <td><a href=\"http://www.wikidata.org/entity/Q1010621\" target=\"_blank\">http://www.wikidata.org/entity/Q1010621</a></td>\n",
       "      <td>Petrovichi</td>\n",
       "      <td><a href=\"http://www.wikidata.org/entity/Q159\" target=\"_blank\">http://www.wikidata.org/entity/Q159</a></td>\n",
       "      <td>Russia</td>\n",
       "    </tr>\n",
       "  </tbody>\n",
       "</table>\n",
       "</div>"
      ],
      "text/plain": [
       "<IPython.core.display.HTML object>"
      ]
     },
     "execution_count": 6,
     "metadata": {},
     "output_type": "execute_result"
    }
   ],
   "source": [
    "%%wdsparql\n",
    "SELECT ?fecha ?fechaLabel ?lugar ?lugarLabel ?pais ?paisLabel\n",
    "WHERE \n",
    "{\n",
    "  wd:Q34981 wdt:P569 ?fecha.\n",
    "  wd:Q34981 wdt:P19 ?lugar.\n",
    "  ?lugar wdt:P17 ?pais\n",
    "  SERVICE wikibase:label { bd:serviceParam wikibase:language \"en\". }\n",
    "}"
   ]
  },
  {
   "cell_type": "markdown",
   "metadata": {
    "id": "ABNbLcIn641N"
   },
   "source": [
    "### Consulta 2\n",
    "\n",
    "A continuación vamos a averiguar todas las distintas profesiones (ocupaciones) que se le reconocen en la base de conocimiento. Queremos obtener los resultados ordenados alfabéticamente por el nombre de la profesión."
   ]
  },
  {
   "cell_type": "code",
   "execution_count": 9,
   "metadata": {},
   "outputs": [
    {
     "data": {
      "text/html": [
       "<div>\n",
       "<style scoped>\n",
       "    .dataframe tbody tr th:only-of-type {\n",
       "        vertical-align: middle;\n",
       "    }\n",
       "\n",
       "    .dataframe tbody tr th {\n",
       "        vertical-align: top;\n",
       "    }\n",
       "\n",
       "    .dataframe thead th {\n",
       "        text-align: right;\n",
       "    }\n",
       "</style>\n",
       "<table border=\"1\" class=\"dataframe\">\n",
       "  <thead>\n",
       "    <tr style=\"text-align: right;\">\n",
       "      <th></th>\n",
       "      <th>trabajo</th>\n",
       "      <th>trabajoLabel</th>\n",
       "    </tr>\n",
       "  </thead>\n",
       "  <tbody>\n",
       "    <tr>\n",
       "      <th>0</th>\n",
       "      <td><a href=\"http://www.wikidata.org/entity/Q18814623\" target=\"_blank\">http://www.wikidata.org/entity/Q18814623</a></td>\n",
       "      <td>autobiographer</td>\n",
       "    </tr>\n",
       "    <tr>\n",
       "      <th>1</th>\n",
       "      <td><a href=\"http://www.wikidata.org/entity/Q2919046\" target=\"_blank\">http://www.wikidata.org/entity/Q2919046</a></td>\n",
       "      <td>biochemist</td>\n",
       "    </tr>\n",
       "    <tr>\n",
       "      <th>2</th>\n",
       "      <td><a href=\"http://www.wikidata.org/entity/Q1930187\" target=\"_blank\">http://www.wikidata.org/entity/Q1930187</a></td>\n",
       "      <td>journalist</td>\n",
       "    </tr>\n",
       "    <tr>\n",
       "      <th>3</th>\n",
       "      <td><a href=\"http://www.wikidata.org/entity/Q15980158\" target=\"_blank\">http://www.wikidata.org/entity/Q15980158</a></td>\n",
       "      <td>non-fiction writer</td>\n",
       "    </tr>\n",
       "    <tr>\n",
       "      <th>4</th>\n",
       "      <td><a href=\"http://www.wikidata.org/entity/Q6625963\" target=\"_blank\">http://www.wikidata.org/entity/Q6625963</a></td>\n",
       "      <td>novelist</td>\n",
       "    </tr>\n",
       "    <tr>\n",
       "      <th>5</th>\n",
       "      <td><a href=\"http://www.wikidata.org/entity/Q12144794\" target=\"_blank\">http://www.wikidata.org/entity/Q12144794</a></td>\n",
       "      <td>prosaist</td>\n",
       "    </tr>\n",
       "    <tr>\n",
       "      <th>6</th>\n",
       "      <td><a href=\"http://www.wikidata.org/entity/Q18844224\" target=\"_blank\">http://www.wikidata.org/entity/Q18844224</a></td>\n",
       "      <td>science fiction writer</td>\n",
       "    </tr>\n",
       "    <tr>\n",
       "      <th>7</th>\n",
       "      <td><a href=\"http://www.wikidata.org/entity/Q3745071\" target=\"_blank\">http://www.wikidata.org/entity/Q3745071</a></td>\n",
       "      <td>science writer</td>\n",
       "    </tr>\n",
       "    <tr>\n",
       "      <th>8</th>\n",
       "      <td><a href=\"http://www.wikidata.org/entity/Q901\" target=\"_blank\">http://www.wikidata.org/entity/Q901</a></td>\n",
       "      <td>scientist</td>\n",
       "    </tr>\n",
       "    <tr>\n",
       "      <th>9</th>\n",
       "      <td><a href=\"http://www.wikidata.org/entity/Q28389\" target=\"_blank\">http://www.wikidata.org/entity/Q28389</a></td>\n",
       "      <td>screenwriter</td>\n",
       "    </tr>\n",
       "    <tr>\n",
       "      <th>10</th>\n",
       "      <td><a href=\"http://www.wikidata.org/entity/Q1622272\" target=\"_blank\">http://www.wikidata.org/entity/Q1622272</a></td>\n",
       "      <td>university teacher</td>\n",
       "    </tr>\n",
       "    <tr>\n",
       "      <th>11</th>\n",
       "      <td><a href=\"http://www.wikidata.org/entity/Q36180\" target=\"_blank\">http://www.wikidata.org/entity/Q36180</a></td>\n",
       "      <td>writer</td>\n",
       "    </tr>\n",
       "  </tbody>\n",
       "</table>\n",
       "</div>"
      ],
      "text/plain": [
       "<IPython.core.display.HTML object>"
      ]
     },
     "execution_count": 9,
     "metadata": {},
     "output_type": "execute_result"
    }
   ],
   "source": [
    "%%wdsparql\n",
    "SELECT ?trabajo ?trabajoLabel\n",
    "WHERE \n",
    "{\n",
    "  wd:Q34981 wdt:P106 ?trabajo.\n",
    "  SERVICE wikibase:label { bd:serviceParam wikibase:language \"en\". }\n",
    "}\n",
    "ORDER BY ?trabajoLabel"
   ]
  },
  {
   "cell_type": "markdown",
   "metadata": {
    "id": "2aXlt0c0641U"
   },
   "source": [
    "### Consulta 3\n",
    "\n",
    "De todas esas profesiones, ¿cuáles corresponden con subtipos de [Escritor (Q36180)](https://www.wikidata.org/wiki/Q36180)? Ten en cuenta que la jerarquía de tipos de escritores puede ser muy sofisticada.\n",
    "\n",
    "Puede que [esto](https://www.wikidata.org/wiki/Wikidata:SPARQL_tutorial#Property_paths) te resulte útil."
   ]
  },
  {
   "cell_type": "code",
   "execution_count": 30,
   "metadata": {},
   "outputs": [
    {
     "data": {
      "text/html": [
       "<div>\n",
       "<style scoped>\n",
       "    .dataframe tbody tr th:only-of-type {\n",
       "        vertical-align: middle;\n",
       "    }\n",
       "\n",
       "    .dataframe tbody tr th {\n",
       "        vertical-align: top;\n",
       "    }\n",
       "\n",
       "    .dataframe thead th {\n",
       "        text-align: right;\n",
       "    }\n",
       "</style>\n",
       "<table border=\"1\" class=\"dataframe\">\n",
       "  <thead>\n",
       "    <tr style=\"text-align: right;\">\n",
       "      <th></th>\n",
       "      <th>trabajo</th>\n",
       "      <th>trabajoLabel</th>\n",
       "    </tr>\n",
       "  </thead>\n",
       "  <tbody>\n",
       "    <tr>\n",
       "      <th>0</th>\n",
       "      <td><a href=\"http://www.wikidata.org/entity/Q1930187\" target=\"_blank\">http://www.wikidata.org/entity/Q1930187</a></td>\n",
       "      <td>journalist</td>\n",
       "    </tr>\n",
       "    <tr>\n",
       "      <th>1</th>\n",
       "      <td><a href=\"http://www.wikidata.org/entity/Q15980158\" target=\"_blank\">http://www.wikidata.org/entity/Q15980158</a></td>\n",
       "      <td>non-fiction writer</td>\n",
       "    </tr>\n",
       "    <tr>\n",
       "      <th>2</th>\n",
       "      <td><a href=\"http://www.wikidata.org/entity/Q6625963\" target=\"_blank\">http://www.wikidata.org/entity/Q6625963</a></td>\n",
       "      <td>novelist</td>\n",
       "    </tr>\n",
       "    <tr>\n",
       "      <th>3</th>\n",
       "      <td><a href=\"http://www.wikidata.org/entity/Q12144794\" target=\"_blank\">http://www.wikidata.org/entity/Q12144794</a></td>\n",
       "      <td>prosaist</td>\n",
       "    </tr>\n",
       "    <tr>\n",
       "      <th>4</th>\n",
       "      <td><a href=\"http://www.wikidata.org/entity/Q3745071\" target=\"_blank\">http://www.wikidata.org/entity/Q3745071</a></td>\n",
       "      <td>science writer</td>\n",
       "    </tr>\n",
       "    <tr>\n",
       "      <th>5</th>\n",
       "      <td><a href=\"http://www.wikidata.org/entity/Q28389\" target=\"_blank\">http://www.wikidata.org/entity/Q28389</a></td>\n",
       "      <td>screenwriter</td>\n",
       "    </tr>\n",
       "  </tbody>\n",
       "</table>\n",
       "</div>"
      ],
      "text/plain": [
       "<IPython.core.display.HTML object>"
      ]
     },
     "execution_count": 30,
     "metadata": {},
     "output_type": "execute_result"
    }
   ],
   "source": [
    "%%wdsparql\n",
    "SELECT ?trabajo ?trabajoLabel\n",
    "WHERE \n",
    "{\n",
    "  wd:Q34981 wdt:P106 ?trabajo.\n",
    "  ?trabajo wdt:P279 wd:Q36180. \n",
    "  SERVICE wikibase:label { bd:serviceParam wikibase:language \"en\". }\n",
    "}\n",
    "ORDER BY ?trabajoLabel"
   ]
  },
  {
   "cell_type": "markdown",
   "metadata": {
    "id": "9ncKC-pD641d"
   },
   "source": [
    "### Consulta 4\n",
    "\n",
    "Asimov se casó más de una vez. Para cada uno de los matrimonios queremos conocer el nombre de la esposa y las fechas de inicio y finalización. Los resultados deben aparecer ordenados cronológicamente.\n",
    "\n",
    "Para resolver esta consulta necesitarás acceder a los cualificadores de nodos sentencia y necesitarás entender los prefijos que usa Wikidata. Puede que [esto](https://www.wikidata.org/wiki/Wikidata:SPARQL_tutorial#Qualifiers) te resulte útil."
   ]
  },
  {
   "cell_type": "markdown",
   "metadata": {
    "id": "H4hEfr0q641j"
   },
   "source": [
    "### Consulta 5\n",
    "\n",
    "Asimov recibió muchos premios a lo largo de su carrera. Queremos obtener la lista de premios y, para cada uno de ellos, la fecha y la obra por la que fue premiado (si están disponibles). Los resultados se deben mostrar ordenador por fecha.\n",
    "\n",
    "Puede que [esto](https://www.wikidata.org/wiki/Wikidata:SPARQL_tutorial#OPTIONAL) te resulte útil."
   ]
  },
  {
   "cell_type": "markdown",
   "metadata": {
    "id": "L-dCbyzs641o"
   },
   "source": [
    "### Consulta 6\n",
    "\n",
    "Ahora queremos conocer todas las obras escritas por Asimov del tipo [obras literarias de ciencia ficción (Q3238422)](https://www.wikidata.org/wiki/Q3238422) y cualquiera de sus subgéneros. Los resultados se deben mostrar ordenados por nombre.\n",
    "\n",
    "No pasa nada si en el resultado aparecen mezclados novelas, relatos, colecciones..."
   ]
  },
  {
   "cell_type": "markdown",
   "metadata": {
    "id": "fGRoLkcY641q"
   },
   "source": [
    "### Consulta 7\n",
    "\n",
    "Vamos a volver a recuperar las mismas obras de la consulta anterior pero mostrando también la fecha de publicación de cada una. Las obras deben aparece aunque no tengan fecha de publicación asociada. En caso de que una obra tenga varias fechas de publicación, se mostrará sólo la más antigua. Los resultados deben aparecer en orden cronológico.\n",
    "\n",
    "Para calcular la fecha correcta tendrás que agrupar las respuestas por obra y aplicar una función de agregación sobre las fechas de publicación. Puede que [esto](https://www.wikidata.org/wiki/Wikidata:SPARQL_tutorial#Grouping) te resulte útil."
   ]
  },
  {
   "cell_type": "markdown",
   "metadata": {
    "id": "Ns1O-tVx641t"
   },
   "source": [
    "### Consulta 8\n",
    "\n",
    "Asimov es sin duda un autor prolífico. ¿Cuántas obras escribió a lo largo de su vida? Vamos a considerar sólo instancias directas de [literary work (Q7725634)](https://www.wikidata.org/wiki/Q7725634)."
   ]
  },
  {
   "cell_type": "markdown",
   "metadata": {
    "id": "1vZp0M0p641v"
   },
   "source": [
    "### Consulta 9\n",
    "\n",
    "De todas las obras que escribió a lo largo de su vida, queremos recuperar los nombres y fechas de publicación de aquellas escritas entre 1970 y 1980. Si alguna obra tiene varias fechas de publicación, se mostrará si alguna de ellas está dentro de ese periodo.\n",
    "\n",
    "Puede que [esto](https://www.wikidata.org/wiki/Wikidata:SPARQL_tutorial#FILTER) te resulte útil."
   ]
  },
  {
   "cell_type": "markdown",
   "metadata": {
    "id": "OEmfnG85641y"
   },
   "source": [
    "### Consulta 10\n",
    "\n",
    "¿Qué otros escritores de ciencia ficción estudiaron en algún centro donde también estudió Asimov? Para cada uno de ellos muestra su nombre y fechas de nacimiento y defunción (si están disponibles) y el centro donde estudió. Muestra los resultados ordenados alfabéticamente por centro y luego por autor."
   ]
  },
  {
   "cell_type": "markdown",
   "metadata": {
    "id": "cN4i-x3p6411"
   },
   "source": [
    "### Consulta 11\n",
    "\n",
    "¿Cuántos asertos hay sobre Asimov en Wikidata? Ten en cuenta que Asimov puede aparece tanto como sujeto como objeto de cada tripleta."
   ]
  },
  {
   "cell_type": "markdown",
   "metadata": {
    "id": "Z9rexjoF6414"
   },
   "source": [
    "__Fecha de las consultas: 21 de abril de 2022__"
   ]
  }
 ],
 "metadata": {
  "colab": {
   "name": "P1_sparql_solucion.ipynb",
   "provenance": []
  },
  "kernelspec": {
   "display_name": "Python 3",
   "language": "python",
   "name": "python3"
  },
  "language_info": {
   "codemirror_mode": {
    "name": "ipython",
    "version": 3
   },
   "file_extension": ".py",
   "mimetype": "text/x-python",
   "name": "python",
   "nbconvert_exporter": "python",
   "pygments_lexer": "ipython3",
   "version": "3.8.8"
  }
 },
 "nbformat": 4,
 "nbformat_minor": 1
}
